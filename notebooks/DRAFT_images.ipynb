{
 "cells": [
  {
   "cell_type": "code",
   "execution_count": 22,
   "id": "2550ac25",
   "metadata": {},
   "outputs": [],
   "source": [
    "from etl.extract.extract_inkipedia import extract_inkipedia\n",
    "\n",
    "df_weapons = extract_inkipedia()\n"
   ]
  },
  {
   "cell_type": "code",
   "execution_count": null,
   "id": "4b0ad353",
   "metadata": {},
   "outputs": [
    {
     "name": "stdout",
     "output_type": "stream",
     "text": [
      "0              Sploosh-o-matic\n",
      "1          Neo Sploosh-o-matic\n",
      "2             Splattershot Jr.\n",
      "3      Custom Splattershot Jr.\n",
      "4               Splash-o-matic\n",
      "                ...           \n",
      "138     Order Splatana Replica\n",
      "139             Splatana Wiper\n",
      "140        Splatana Wiper Deco\n",
      "141           Mint Decavitator\n",
      "142       Charcoal Decavitator\n",
      "Name: Name, Length: 143, dtype: object\n"
     ]
    }
   ],
   "source": [
    "from bs4 import BeautifulSoup\n",
    "# import requests\n",
    "import time\n",
    "import pandas as pd\n",
    "from etl.extract.url_request import make_request\n",
    "\n",
    "ALL_WEAPONS_SITE = 'https://splatoonwiki.org/wiki/List_of_main_weapons_in_Splatoon_3'\n",
    "\n",
    "BASE_PATHS = 'https://splatoonwiki.org' ## Base URL for the Splatoon wiki\n",
    "\n",
    "# make a request to the website\n",
    "soup = BeautifulSoup(make_request(ALL_WEAPONS_SITE).text, \"html.parser\")\n",
    "\n",
    "# --------------------------------------------------------------------------------\n",
    "w_names = df_weapons['Name'] # IMPORTANT TO CHANGE IN REAL TO RECEIVE THE WEAPONS DF\n",
    "print(w_names)\n",
    "# --------------------------------------------------------------------------------\n",
    "\n",
    "path_list = []\n",
    "weapons = soup.find_all('td')\n",
    "\n",
    "for w in weapons:\n",
    "    if w.find('a') is not None:\n",
    "        w_href =  w.find('a')['href']\n",
    "        w_href_edit = w_href.split('/')[-1] # Split the URL to get the last part, which is the weapon name\n",
    "        w_href_edit = w_href_edit.replace('_', ' ') # Replace underscores with spaces to match the original weapon names\n",
    "        w_href_edit = w_href_edit.replace('Z%2BF', 'Z+F') # Making changes to certain names to be in the right format\n",
    "        w_href_edit = w_href_edit.replace('%2785', \"'85\")\n",
    "        w_href_edit = w_href_edit.replace('%2789', \"'89\")\n",
    "        w_href_edit = w_href_edit.replace('%2792', \"'92\")\n",
    "        w_href_edit = w_href_edit.replace('%2791', \"'91\")\n",
    "        \n",
    "        # check if w_href_edit is in the weapon list\n",
    "        if w_href_edit in w_names.values:\n",
    "            # make a list of the tds that contain the weapon name\n",
    "            path_list.append(BASE_PATHS + w_href)\n",
    "            \n",
    "path_list = list(dict.fromkeys(path_list))\n",
    "# print(path_list)\n",
    "# print(len(path_list)) ## Print the number of unique weapon URLs found\n",
    "path_list.sort()\n"
   ]
  },
  {
   "cell_type": "code",
   "execution_count": 24,
   "id": "d612a9c0",
   "metadata": {},
   "outputs": [
    {
     "name": "stdout",
     "output_type": "stream",
     "text": [
      ".52 Gal\n",
      "https://cdn.wikimg.net/en/splatoonwiki/images/thumb/e/ed/S3_Weapon_Main_.52_Gal.png/256px-S3_Weapon_Main_.52_Gal.png\n"
     ]
    },
    {
     "data": {
      "text/html": [
       "<img src=\"https://cdn.wikimg.net/en/splatoonwiki/images/thumb/e/ed/S3_Weapon_Main_.52_Gal.png/256px-S3_Weapon_Main_.52_Gal.png\"/>"
      ],
      "text/plain": [
       "<IPython.core.display.Image object>"
      ]
     },
     "metadata": {},
     "output_type": "display_data"
    },
    {
     "name": "stdout",
     "output_type": "stream",
     "text": [
      ".52 Gal Deco\n",
      "https://cdn.wikimg.net/en/splatoonwiki/images/thumb/2/26/S3_Weapon_Main_.52_Gal_Deco.png/256px-S3_Weapon_Main_.52_Gal_Deco.png\n"
     ]
    },
    {
     "data": {
      "text/html": [
       "<img src=\"https://cdn.wikimg.net/en/splatoonwiki/images/thumb/2/26/S3_Weapon_Main_.52_Gal_Deco.png/256px-S3_Weapon_Main_.52_Gal_Deco.png\"/>"
      ],
      "text/plain": [
       "<IPython.core.display.Image object>"
      ]
     },
     "metadata": {},
     "output_type": "display_data"
    },
    {
     "name": "stdout",
     "output_type": "stream",
     "text": [
      ".96 Gal\n",
      "https://cdn.wikimg.net/en/splatoonwiki/images/thumb/5/55/S3_Weapon_Main_.96_Gal.png/256px-S3_Weapon_Main_.96_Gal.png\n"
     ]
    },
    {
     "data": {
      "text/html": [
       "<img src=\"https://cdn.wikimg.net/en/splatoonwiki/images/thumb/5/55/S3_Weapon_Main_.96_Gal.png/256px-S3_Weapon_Main_.96_Gal.png\"/>"
      ],
      "text/plain": [
       "<IPython.core.display.Image object>"
      ]
     },
     "metadata": {},
     "output_type": "display_data"
    },
    {
     "name": "stdout",
     "output_type": "stream",
     "text": [
      ".96 Gal Deco\n",
      "https://cdn.wikimg.net/en/splatoonwiki/images/thumb/8/8b/S3_Weapon_Main_.96_Gal_Deco.png/256px-S3_Weapon_Main_.96_Gal_Deco.png\n"
     ]
    },
    {
     "data": {
      "text/html": [
       "<img src=\"https://cdn.wikimg.net/en/splatoonwiki/images/thumb/8/8b/S3_Weapon_Main_.96_Gal_Deco.png/256px-S3_Weapon_Main_.96_Gal_Deco.png\"/>"
      ],
      "text/plain": [
       "<IPython.core.display.Image object>"
      ]
     },
     "metadata": {},
     "output_type": "display_data"
    },
    {
     "name": "stdout",
     "output_type": "stream",
     "text": [
      "Aerospray MG\n",
      "https://cdn.wikimg.net/en/splatoonwiki/images/thumb/c/c5/S3_Weapon_Main_Aerospray_MG.png/256px-S3_Weapon_Main_Aerospray_MG.png\n"
     ]
    },
    {
     "data": {
      "text/html": [
       "<img src=\"https://cdn.wikimg.net/en/splatoonwiki/images/thumb/c/c5/S3_Weapon_Main_Aerospray_MG.png/256px-S3_Weapon_Main_Aerospray_MG.png\"/>"
      ],
      "text/plain": [
       "<IPython.core.display.Image object>"
      ]
     },
     "metadata": {},
     "output_type": "display_data"
    },
    {
     "name": "stdout",
     "output_type": "stream",
     "text": [
      "Aerospray RG\n",
      "https://cdn.wikimg.net/en/splatoonwiki/images/thumb/2/2b/S3_Weapon_Main_Aerospray_RG.png/256px-S3_Weapon_Main_Aerospray_RG.png\n"
     ]
    },
    {
     "data": {
      "text/html": [
       "<img src=\"https://cdn.wikimg.net/en/splatoonwiki/images/thumb/2/2b/S3_Weapon_Main_Aerospray_RG.png/256px-S3_Weapon_Main_Aerospray_RG.png\"/>"
      ],
      "text/plain": [
       "<IPython.core.display.Image object>"
      ]
     },
     "metadata": {},
     "output_type": "display_data"
    },
    {
     "name": "stdout",
     "output_type": "stream",
     "text": [
      "Annaki Splattershot Nova\n",
      "https://cdn.wikimg.net/en/splatoonwiki/images/thumb/c/c5/S3_Weapon_Main_Annaki_Splattershot_Nova.png/256px-S3_Weapon_Main_Annaki_Splattershot_Nova.png\n"
     ]
    },
    {
     "data": {
      "text/html": [
       "<img src=\"https://cdn.wikimg.net/en/splatoonwiki/images/thumb/c/c5/S3_Weapon_Main_Annaki_Splattershot_Nova.png/256px-S3_Weapon_Main_Annaki_Splattershot_Nova.png\"/>"
      ],
      "text/plain": [
       "<IPython.core.display.Image object>"
      ]
     },
     "metadata": {},
     "output_type": "display_data"
    },
    {
     "name": "stdout",
     "output_type": "stream",
     "text": [
      "Ballpoint Splatling\n",
      "https://cdn.wikimg.net/en/splatoonwiki/images/thumb/f/f9/S3_Weapon_Main_Ballpoint_Splatling.png/256px-S3_Weapon_Main_Ballpoint_Splatling.png\n"
     ]
    },
    {
     "data": {
      "text/html": [
       "<img src=\"https://cdn.wikimg.net/en/splatoonwiki/images/thumb/f/f9/S3_Weapon_Main_Ballpoint_Splatling.png/256px-S3_Weapon_Main_Ballpoint_Splatling.png\"/>"
      ],
      "text/plain": [
       "<IPython.core.display.Image object>"
      ]
     },
     "metadata": {},
     "output_type": "display_data"
    },
    {
     "name": "stdout",
     "output_type": "stream",
     "text": [
      "Ballpoint Splatling Nouveau\n",
      "https://cdn.wikimg.net/en/splatoonwiki/images/thumb/b/b1/S3_Weapon_Main_Ballpoint_Splatling_Nouveau.png/256px-S3_Weapon_Main_Ballpoint_Splatling_Nouveau.png\n"
     ]
    },
    {
     "data": {
      "text/html": [
       "<img src=\"https://cdn.wikimg.net/en/splatoonwiki/images/thumb/b/b1/S3_Weapon_Main_Ballpoint_Splatling_Nouveau.png/256px-S3_Weapon_Main_Ballpoint_Splatling_Nouveau.png\"/>"
      ],
      "text/plain": [
       "<IPython.core.display.Image object>"
      ]
     },
     "metadata": {},
     "output_type": "display_data"
    },
    {
     "name": "stdout",
     "output_type": "stream",
     "text": [
      "Bamboozler 14 Mk I\n",
      "https://cdn.wikimg.net/en/splatoonwiki/images/thumb/6/6d/S3_Weapon_Main_Bamboozler_14_Mk_I.png/256px-S3_Weapon_Main_Bamboozler_14_Mk_I.png\n"
     ]
    },
    {
     "data": {
      "text/html": [
       "<img src=\"https://cdn.wikimg.net/en/splatoonwiki/images/thumb/6/6d/S3_Weapon_Main_Bamboozler_14_Mk_I.png/256px-S3_Weapon_Main_Bamboozler_14_Mk_I.png\"/>"
      ],
      "text/plain": [
       "<IPython.core.display.Image object>"
      ]
     },
     "metadata": {},
     "output_type": "display_data"
    },
    {
     "name": "stdout",
     "output_type": "stream",
     "text": [
      "Bamboozler 14 Mk II\n",
      "https://cdn.wikimg.net/en/splatoonwiki/images/thumb/9/9f/S3_Weapon_Main_Bamboozler_14_Mk_II.png/256px-S3_Weapon_Main_Bamboozler_14_Mk_II.png\n"
     ]
    },
    {
     "data": {
      "text/html": [
       "<img src=\"https://cdn.wikimg.net/en/splatoonwiki/images/thumb/9/9f/S3_Weapon_Main_Bamboozler_14_Mk_II.png/256px-S3_Weapon_Main_Bamboozler_14_Mk_II.png\"/>"
      ],
      "text/plain": [
       "<IPython.core.display.Image object>"
      ]
     },
     "metadata": {},
     "output_type": "display_data"
    },
    {
     "name": "stdout",
     "output_type": "stream",
     "text": [
      "Big Swig Roller\n",
      "https://cdn.wikimg.net/en/splatoonwiki/images/thumb/8/8e/S3_Weapon_Main_Big_Swig_Roller.png/256px-S3_Weapon_Main_Big_Swig_Roller.png\n"
     ]
    },
    {
     "data": {
      "text/html": [
       "<img src=\"https://cdn.wikimg.net/en/splatoonwiki/images/thumb/8/8e/S3_Weapon_Main_Big_Swig_Roller.png/256px-S3_Weapon_Main_Big_Swig_Roller.png\"/>"
      ],
      "text/plain": [
       "<IPython.core.display.Image object>"
      ]
     },
     "metadata": {},
     "output_type": "display_data"
    },
    {
     "name": "stdout",
     "output_type": "stream",
     "text": [
      "Big Swig Roller Express\n",
      "https://cdn.wikimg.net/en/splatoonwiki/images/thumb/f/f7/S3_Weapon_Main_Big_Swig_Roller_Express.png/256px-S3_Weapon_Main_Big_Swig_Roller_Express.png\n"
     ]
    },
    {
     "data": {
      "text/html": [
       "<img src=\"https://cdn.wikimg.net/en/splatoonwiki/images/thumb/f/f7/S3_Weapon_Main_Big_Swig_Roller_Express.png/256px-S3_Weapon_Main_Big_Swig_Roller_Express.png\"/>"
      ],
      "text/plain": [
       "<IPython.core.display.Image object>"
      ]
     },
     "metadata": {},
     "output_type": "display_data"
    },
    {
     "name": "stdout",
     "output_type": "stream",
     "text": [
      "Blaster\n",
      "https://cdn.wikimg.net/en/splatoonwiki/images/thumb/a/a7/S3_Weapon_Main_Blaster.png/256px-S3_Weapon_Main_Blaster.png\n"
     ]
    },
    {
     "data": {
      "text/html": [
       "<img src=\"https://cdn.wikimg.net/en/splatoonwiki/images/thumb/a/a7/S3_Weapon_Main_Blaster.png/256px-S3_Weapon_Main_Blaster.png\"/>"
      ],
      "text/plain": [
       "<IPython.core.display.Image object>"
      ]
     },
     "metadata": {},
     "output_type": "display_data"
    },
    {
     "name": "stdout",
     "output_type": "stream",
     "text": [
      "Bloblobber\n",
      "https://cdn.wikimg.net/en/splatoonwiki/images/thumb/4/41/S3_Weapon_Main_Bloblobber.png/256px-S3_Weapon_Main_Bloblobber.png\n"
     ]
    },
    {
     "data": {
      "text/html": [
       "<img src=\"https://cdn.wikimg.net/en/splatoonwiki/images/thumb/4/41/S3_Weapon_Main_Bloblobber.png/256px-S3_Weapon_Main_Bloblobber.png\"/>"
      ],
      "text/plain": [
       "<IPython.core.display.Image object>"
      ]
     },
     "metadata": {},
     "output_type": "display_data"
    },
    {
     "name": "stdout",
     "output_type": "stream",
     "text": [
      "Bloblobber Deco\n",
      "https://cdn.wikimg.net/en/splatoonwiki/images/thumb/9/93/S3_Weapon_Main_Bloblobber_Deco.png/256px-S3_Weapon_Main_Bloblobber_Deco.png\n"
     ]
    },
    {
     "data": {
      "text/html": [
       "<img src=\"https://cdn.wikimg.net/en/splatoonwiki/images/thumb/9/93/S3_Weapon_Main_Bloblobber_Deco.png/256px-S3_Weapon_Main_Bloblobber_Deco.png\"/>"
      ],
      "text/plain": [
       "<IPython.core.display.Image object>"
      ]
     },
     "metadata": {},
     "output_type": "display_data"
    },
    {
     "name": "stdout",
     "output_type": "stream",
     "text": [
      "Carbon Roller\n",
      "https://cdn.wikimg.net/en/splatoonwiki/images/thumb/2/21/S3_Weapon_Main_Carbon_Roller.png/256px-S3_Weapon_Main_Carbon_Roller.png\n"
     ]
    },
    {
     "data": {
      "text/html": [
       "<img src=\"https://cdn.wikimg.net/en/splatoonwiki/images/thumb/2/21/S3_Weapon_Main_Carbon_Roller.png/256px-S3_Weapon_Main_Carbon_Roller.png\"/>"
      ],
      "text/plain": [
       "<IPython.core.display.Image object>"
      ]
     },
     "metadata": {},
     "output_type": "display_data"
    },
    {
     "name": "stdout",
     "output_type": "stream",
     "text": [
      "Carbon Roller Deco\n",
      "https://cdn.wikimg.net/en/splatoonwiki/images/thumb/7/72/S3_Weapon_Main_Carbon_Roller_Deco.png/256px-S3_Weapon_Main_Carbon_Roller_Deco.png\n"
     ]
    },
    {
     "data": {
      "text/html": [
       "<img src=\"https://cdn.wikimg.net/en/splatoonwiki/images/thumb/7/72/S3_Weapon_Main_Carbon_Roller_Deco.png/256px-S3_Weapon_Main_Carbon_Roller_Deco.png\"/>"
      ],
      "text/plain": [
       "<IPython.core.display.Image object>"
      ]
     },
     "metadata": {},
     "output_type": "display_data"
    },
    {
     "name": "stdout",
     "output_type": "stream",
     "text": [
      "Charcoal Decavitator\n",
      "https://cdn.wikimg.net/en/splatoonwiki/images/thumb/5/52/S3_Weapon_Main_Charcoal_Decavitator.png/256px-S3_Weapon_Main_Charcoal_Decavitator.png\n"
     ]
    },
    {
     "data": {
      "text/html": [
       "<img src=\"https://cdn.wikimg.net/en/splatoonwiki/images/thumb/5/52/S3_Weapon_Main_Charcoal_Decavitator.png/256px-S3_Weapon_Main_Charcoal_Decavitator.png\"/>"
      ],
      "text/plain": [
       "<IPython.core.display.Image object>"
      ]
     },
     "metadata": {},
     "output_type": "display_data"
    },
    {
     "name": "stdout",
     "output_type": "stream",
     "text": [
      "Clash Blaster\n",
      "https://cdn.wikimg.net/en/splatoonwiki/images/thumb/2/2f/S3_Weapon_Main_Clash_Blaster.png/256px-S3_Weapon_Main_Clash_Blaster.png\n"
     ]
    },
    {
     "data": {
      "text/html": [
       "<img src=\"https://cdn.wikimg.net/en/splatoonwiki/images/thumb/2/2f/S3_Weapon_Main_Clash_Blaster.png/256px-S3_Weapon_Main_Clash_Blaster.png\"/>"
      ],
      "text/plain": [
       "<IPython.core.display.Image object>"
      ]
     },
     "metadata": {},
     "output_type": "display_data"
    },
    {
     "name": "stdout",
     "output_type": "stream",
     "text": [
      "Clash Blaster Neo\n",
      "https://cdn.wikimg.net/en/splatoonwiki/images/thumb/1/10/S3_Weapon_Main_Clash_Blaster_Neo.png/256px-S3_Weapon_Main_Clash_Blaster_Neo.png\n"
     ]
    },
    {
     "data": {
      "text/html": [
       "<img src=\"https://cdn.wikimg.net/en/splatoonwiki/images/thumb/1/10/S3_Weapon_Main_Clash_Blaster_Neo.png/256px-S3_Weapon_Main_Clash_Blaster_Neo.png\"/>"
      ],
      "text/plain": [
       "<IPython.core.display.Image object>"
      ]
     },
     "metadata": {},
     "output_type": "display_data"
    },
    {
     "name": "stdout",
     "output_type": "stream",
     "text": [
      "Classic Squiffer\n",
      "https://cdn.wikimg.net/en/splatoonwiki/images/thumb/3/3c/S3_Weapon_Main_Classic_Squiffer.png/256px-S3_Weapon_Main_Classic_Squiffer.png\n"
     ]
    },
    {
     "data": {
      "text/html": [
       "<img src=\"https://cdn.wikimg.net/en/splatoonwiki/images/thumb/3/3c/S3_Weapon_Main_Classic_Squiffer.png/256px-S3_Weapon_Main_Classic_Squiffer.png\"/>"
      ],
      "text/plain": [
       "<IPython.core.display.Image object>"
      ]
     },
     "metadata": {},
     "output_type": "display_data"
    },
    {
     "name": "stdout",
     "output_type": "stream",
     "text": [
      "Custom Blaster\n",
      "https://cdn.wikimg.net/en/splatoonwiki/images/thumb/4/44/S3_Weapon_Main_Custom_Blaster.png/256px-S3_Weapon_Main_Custom_Blaster.png\n"
     ]
    },
    {
     "data": {
      "text/html": [
       "<img src=\"https://cdn.wikimg.net/en/splatoonwiki/images/thumb/4/44/S3_Weapon_Main_Custom_Blaster.png/256px-S3_Weapon_Main_Custom_Blaster.png\"/>"
      ],
      "text/plain": [
       "<IPython.core.display.Image object>"
      ]
     },
     "metadata": {},
     "output_type": "display_data"
    },
    {
     "name": "stdout",
     "output_type": "stream",
     "text": [
      "Custom Douser Dualies FF\n",
      "https://cdn.wikimg.net/en/splatoonwiki/images/thumb/f/f6/S3_Weapon_Main_Custom_Douser_Dualies_FF.png/256px-S3_Weapon_Main_Custom_Douser_Dualies_FF.png\n"
     ]
    },
    {
     "data": {
      "text/html": [
       "<img src=\"https://cdn.wikimg.net/en/splatoonwiki/images/thumb/f/f6/S3_Weapon_Main_Custom_Douser_Dualies_FF.png/256px-S3_Weapon_Main_Custom_Douser_Dualies_FF.png\"/>"
      ],
      "text/plain": [
       "<IPython.core.display.Image object>"
      ]
     },
     "metadata": {},
     "output_type": "display_data"
    },
    {
     "name": "stdout",
     "output_type": "stream",
     "text": [
      "Custom Dualie Squelchers\n",
      "https://cdn.wikimg.net/en/splatoonwiki/images/thumb/9/9d/S3_Weapon_Main_Custom_Dualie_Squelchers.png/256px-S3_Weapon_Main_Custom_Dualie_Squelchers.png\n"
     ]
    },
    {
     "data": {
      "text/html": [
       "<img src=\"https://cdn.wikimg.net/en/splatoonwiki/images/thumb/9/9d/S3_Weapon_Main_Custom_Dualie_Squelchers.png/256px-S3_Weapon_Main_Custom_Dualie_Squelchers.png\"/>"
      ],
      "text/plain": [
       "<IPython.core.display.Image object>"
      ]
     },
     "metadata": {},
     "output_type": "display_data"
    },
    {
     "name": "stdout",
     "output_type": "stream",
     "text": [
      "Custom E-liter 4K\n",
      "https://cdn.wikimg.net/en/splatoonwiki/images/thumb/e/e6/S3_Weapon_Main_Custom_E-liter_4K.png/256px-S3_Weapon_Main_Custom_E-liter_4K.png\n"
     ]
    },
    {
     "data": {
      "text/html": [
       "<img src=\"https://cdn.wikimg.net/en/splatoonwiki/images/thumb/e/e6/S3_Weapon_Main_Custom_E-liter_4K.png/256px-S3_Weapon_Main_Custom_E-liter_4K.png\"/>"
      ],
      "text/plain": [
       "<IPython.core.display.Image object>"
      ]
     },
     "metadata": {},
     "output_type": "display_data"
    },
    {
     "name": "stdout",
     "output_type": "stream",
     "text": [
      "Custom E-liter 4K Scope\n",
      "https://cdn.wikimg.net/en/splatoonwiki/images/thumb/7/7c/S3_Weapon_Main_Custom_E-liter_4K_Scope.png/256px-S3_Weapon_Main_Custom_E-liter_4K_Scope.png\n"
     ]
    },
    {
     "data": {
      "text/html": [
       "<img src=\"https://cdn.wikimg.net/en/splatoonwiki/images/thumb/7/7c/S3_Weapon_Main_Custom_E-liter_4K_Scope.png/256px-S3_Weapon_Main_Custom_E-liter_4K_Scope.png\"/>"
      ],
      "text/plain": [
       "<IPython.core.display.Image object>"
      ]
     },
     "metadata": {},
     "output_type": "display_data"
    },
    {
     "name": "stdout",
     "output_type": "stream",
     "text": [
      "Custom Explosher\n",
      "https://cdn.wikimg.net/en/splatoonwiki/images/thumb/6/6e/S3_Weapon_Main_Custom_Explosher.png/256px-S3_Weapon_Main_Custom_Explosher.png\n"
     ]
    },
    {
     "data": {
      "text/html": [
       "<img src=\"https://cdn.wikimg.net/en/splatoonwiki/images/thumb/6/6e/S3_Weapon_Main_Custom_Explosher.png/256px-S3_Weapon_Main_Custom_Explosher.png\"/>"
      ],
      "text/plain": [
       "<IPython.core.display.Image object>"
      ]
     },
     "metadata": {},
     "output_type": "display_data"
    },
    {
     "name": "stdout",
     "output_type": "stream",
     "text": [
      "Custom Goo Tuber\n",
      "https://cdn.wikimg.net/en/splatoonwiki/images/thumb/9/91/S3_Weapon_Main_Custom_Goo_Tuber.png/256px-S3_Weapon_Main_Custom_Goo_Tuber.png\n"
     ]
    },
    {
     "data": {
      "text/html": [
       "<img src=\"https://cdn.wikimg.net/en/splatoonwiki/images/thumb/9/91/S3_Weapon_Main_Custom_Goo_Tuber.png/256px-S3_Weapon_Main_Custom_Goo_Tuber.png\"/>"
      ],
      "text/plain": [
       "<IPython.core.display.Image object>"
      ]
     },
     "metadata": {},
     "output_type": "display_data"
    },
    {
     "name": "stdout",
     "output_type": "stream",
     "text": [
      "Custom Hydra Splatling\n",
      "https://cdn.wikimg.net/en/splatoonwiki/images/thumb/f/f6/S3_Weapon_Main_Custom_Hydra_Splatling.png/256px-S3_Weapon_Main_Custom_Hydra_Splatling.png\n"
     ]
    },
    {
     "data": {
      "text/html": [
       "<img src=\"https://cdn.wikimg.net/en/splatoonwiki/images/thumb/f/f6/S3_Weapon_Main_Custom_Hydra_Splatling.png/256px-S3_Weapon_Main_Custom_Hydra_Splatling.png\"/>"
      ],
      "text/plain": [
       "<IPython.core.display.Image object>"
      ]
     },
     "metadata": {},
     "output_type": "display_data"
    },
    {
     "name": "stdout",
     "output_type": "stream",
     "text": [
      "Custom Jet Squelcher\n",
      "https://cdn.wikimg.net/en/splatoonwiki/images/thumb/e/ed/S3_Weapon_Main_Custom_Jet_Squelcher.png/256px-S3_Weapon_Main_Custom_Jet_Squelcher.png\n"
     ]
    },
    {
     "data": {
      "text/html": [
       "<img src=\"https://cdn.wikimg.net/en/splatoonwiki/images/thumb/e/ed/S3_Weapon_Main_Custom_Jet_Squelcher.png/256px-S3_Weapon_Main_Custom_Jet_Squelcher.png\"/>"
      ],
      "text/plain": [
       "<IPython.core.display.Image object>"
      ]
     },
     "metadata": {},
     "output_type": "display_data"
    },
    {
     "name": "stdout",
     "output_type": "stream",
     "text": [
      "Custom Range Blaster\n",
      "https://cdn.wikimg.net/en/splatoonwiki/images/thumb/c/ce/S3_Weapon_Main_Custom_Range_Blaster.png/256px-S3_Weapon_Main_Custom_Range_Blaster.png\n"
     ]
    },
    {
     "data": {
      "text/html": [
       "<img src=\"https://cdn.wikimg.net/en/splatoonwiki/images/thumb/c/ce/S3_Weapon_Main_Custom_Range_Blaster.png/256px-S3_Weapon_Main_Custom_Range_Blaster.png\"/>"
      ],
      "text/plain": [
       "<IPython.core.display.Image object>"
      ]
     },
     "metadata": {},
     "output_type": "display_data"
    },
    {
     "name": "stdout",
     "output_type": "stream",
     "text": [
      "Custom Splattershot Jr.\n",
      "https://cdn.wikimg.net/en/splatoonwiki/images/thumb/d/df/S3_Weapon_Main_Custom_Splattershot_Jr..png/256px-S3_Weapon_Main_Custom_Splattershot_Jr..png\n"
     ]
    },
    {
     "data": {
      "text/html": [
       "<img src=\"https://cdn.wikimg.net/en/splatoonwiki/images/thumb/d/df/S3_Weapon_Main_Custom_Splattershot_Jr..png/256px-S3_Weapon_Main_Custom_Splattershot_Jr..png\"/>"
      ],
      "text/plain": [
       "<IPython.core.display.Image object>"
      ]
     },
     "metadata": {},
     "output_type": "display_data"
    },
    {
     "name": "stdout",
     "output_type": "stream",
     "text": [
      "\n",
      "https://cdn.wikimg.net/en/splatoonwiki/images/thumb/4/40/S3_Weapon_Main_Custom_Wellstring_V.png/256px-S3_Weapon_Main_Custom_Wellstring_V.png\n"
     ]
    },
    {
     "data": {
      "text/html": [
       "<img src=\"https://cdn.wikimg.net/en/splatoonwiki/images/thumb/4/40/S3_Weapon_Main_Custom_Wellstring_V.png/256px-S3_Weapon_Main_Custom_Wellstring_V.png\"/>"
      ],
      "text/plain": [
       "<IPython.core.display.Image object>"
      ]
     },
     "metadata": {},
     "output_type": "display_data"
    },
    {
     "name": "stdout",
     "output_type": "stream",
     "text": [
      "Dapple Dualies\n",
      "https://cdn.wikimg.net/en/splatoonwiki/images/thumb/5/54/S3_Weapon_Main_Dapple_Dualies.png/256px-S3_Weapon_Main_Dapple_Dualies.png\n"
     ]
    },
    {
     "data": {
      "text/html": [
       "<img src=\"https://cdn.wikimg.net/en/splatoonwiki/images/thumb/5/54/S3_Weapon_Main_Dapple_Dualies.png/256px-S3_Weapon_Main_Dapple_Dualies.png\"/>"
      ],
      "text/plain": [
       "<IPython.core.display.Image object>"
      ]
     },
     "metadata": {},
     "output_type": "display_data"
    },
    {
     "name": "stdout",
     "output_type": "stream",
     "text": [
      "Dapple Dualies Nouveau\n",
      "https://cdn.wikimg.net/en/splatoonwiki/images/thumb/e/e1/S3_Weapon_Main_Dapple_Dualies_Nouveau.png/256px-S3_Weapon_Main_Dapple_Dualies_Nouveau.png\n"
     ]
    },
    {
     "data": {
      "text/html": [
       "<img src=\"https://cdn.wikimg.net/en/splatoonwiki/images/thumb/e/e1/S3_Weapon_Main_Dapple_Dualies_Nouveau.png/256px-S3_Weapon_Main_Dapple_Dualies_Nouveau.png\"/>"
      ],
      "text/plain": [
       "<IPython.core.display.Image object>"
      ]
     },
     "metadata": {},
     "output_type": "display_data"
    },
    {
     "name": "stdout",
     "output_type": "stream",
     "text": [
      "Dark Tetra Dualies\n",
      "https://cdn.wikimg.net/en/splatoonwiki/images/thumb/c/c9/S3_Weapon_Main_Dark_Tetra_Dualies.png/256px-S3_Weapon_Main_Dark_Tetra_Dualies.png\n"
     ]
    },
    {
     "data": {
      "text/html": [
       "<img src=\"https://cdn.wikimg.net/en/splatoonwiki/images/thumb/c/c9/S3_Weapon_Main_Dark_Tetra_Dualies.png/256px-S3_Weapon_Main_Dark_Tetra_Dualies.png\"/>"
      ],
      "text/plain": [
       "<IPython.core.display.Image object>"
      ]
     },
     "metadata": {},
     "output_type": "display_data"
    },
    {
     "name": "stdout",
     "output_type": "stream",
     "text": [
      "Douser Dualies FF\n",
      "https://cdn.wikimg.net/en/splatoonwiki/images/thumb/2/2c/S3_Weapon_Main_Douser_Dualies_FF.png/256px-S3_Weapon_Main_Douser_Dualies_FF.png\n"
     ]
    },
    {
     "data": {
      "text/html": [
       "<img src=\"https://cdn.wikimg.net/en/splatoonwiki/images/thumb/2/2c/S3_Weapon_Main_Douser_Dualies_FF.png/256px-S3_Weapon_Main_Douser_Dualies_FF.png\"/>"
      ],
      "text/plain": [
       "<IPython.core.display.Image object>"
      ]
     },
     "metadata": {},
     "output_type": "display_data"
    },
    {
     "name": "stdout",
     "output_type": "stream",
     "text": [
      "Dread Wringer\n",
      "https://cdn.wikimg.net/en/splatoonwiki/images/thumb/6/6c/S3_Weapon_Main_Dread_Wringer.png/256px-S3_Weapon_Main_Dread_Wringer.png\n"
     ]
    },
    {
     "data": {
      "text/html": [
       "<img src=\"https://cdn.wikimg.net/en/splatoonwiki/images/thumb/6/6c/S3_Weapon_Main_Dread_Wringer.png/256px-S3_Weapon_Main_Dread_Wringer.png\"/>"
      ],
      "text/plain": [
       "<IPython.core.display.Image object>"
      ]
     },
     "metadata": {},
     "output_type": "display_data"
    },
    {
     "name": "stdout",
     "output_type": "stream",
     "text": [
      "Dread Wringer D\n",
      "https://cdn.wikimg.net/en/splatoonwiki/images/thumb/d/d2/S3_Weapon_Main_Dread_Wringer_D.png/256px-S3_Weapon_Main_Dread_Wringer_D.png\n"
     ]
    },
    {
     "data": {
      "text/html": [
       "<img src=\"https://cdn.wikimg.net/en/splatoonwiki/images/thumb/d/d2/S3_Weapon_Main_Dread_Wringer_D.png/256px-S3_Weapon_Main_Dread_Wringer_D.png\"/>"
      ],
      "text/plain": [
       "<IPython.core.display.Image object>"
      ]
     },
     "metadata": {},
     "output_type": "display_data"
    },
    {
     "name": "stdout",
     "output_type": "stream",
     "text": [
      "Dualie Squelchers\n",
      "https://cdn.wikimg.net/en/splatoonwiki/images/thumb/5/5a/S3_Weapon_Main_Dualie_Squelchers.png/256px-S3_Weapon_Main_Dualie_Squelchers.png\n"
     ]
    },
    {
     "data": {
      "text/html": [
       "<img src=\"https://cdn.wikimg.net/en/splatoonwiki/images/thumb/5/5a/S3_Weapon_Main_Dualie_Squelchers.png/256px-S3_Weapon_Main_Dualie_Squelchers.png\"/>"
      ],
      "text/plain": [
       "<IPython.core.display.Image object>"
      ]
     },
     "metadata": {},
     "output_type": "display_data"
    },
    {
     "name": "stdout",
     "output_type": "stream",
     "text": [
      "Dynamo Roller\n",
      "https://cdn.wikimg.net/en/splatoonwiki/images/thumb/5/5e/S3_Weapon_Main_Dynamo_Roller.png/256px-S3_Weapon_Main_Dynamo_Roller.png\n"
     ]
    },
    {
     "data": {
      "text/html": [
       "<img src=\"https://cdn.wikimg.net/en/splatoonwiki/images/thumb/5/5e/S3_Weapon_Main_Dynamo_Roller.png/256px-S3_Weapon_Main_Dynamo_Roller.png\"/>"
      ],
      "text/plain": [
       "<IPython.core.display.Image object>"
      ]
     },
     "metadata": {},
     "output_type": "display_data"
    },
    {
     "name": "stdout",
     "output_type": "stream",
     "text": [
      "E-liter 4K\n",
      "https://cdn.wikimg.net/en/splatoonwiki/images/thumb/1/10/S3_Weapon_Main_E-liter_4K.png/256px-S3_Weapon_Main_E-liter_4K.png\n"
     ]
    },
    {
     "data": {
      "text/html": [
       "<img src=\"https://cdn.wikimg.net/en/splatoonwiki/images/thumb/1/10/S3_Weapon_Main_E-liter_4K.png/256px-S3_Weapon_Main_E-liter_4K.png\"/>"
      ],
      "text/plain": [
       "<IPython.core.display.Image object>"
      ]
     },
     "metadata": {},
     "output_type": "display_data"
    },
    {
     "name": "stdout",
     "output_type": "stream",
     "text": [
      "E-liter 4K Scope\n",
      "https://cdn.wikimg.net/en/splatoonwiki/images/thumb/e/eb/S3_Weapon_Main_E-liter_4K_Scope.png/256px-S3_Weapon_Main_E-liter_4K_Scope.png\n"
     ]
    },
    {
     "data": {
      "text/html": [
       "<img src=\"https://cdn.wikimg.net/en/splatoonwiki/images/thumb/e/eb/S3_Weapon_Main_E-liter_4K_Scope.png/256px-S3_Weapon_Main_E-liter_4K_Scope.png\"/>"
      ],
      "text/plain": [
       "<IPython.core.display.Image object>"
      ]
     },
     "metadata": {},
     "output_type": "display_data"
    },
    {
     "name": "stdout",
     "output_type": "stream",
     "text": [
      "Enperry Splat Dualies\n",
      "https://cdn.wikimg.net/en/splatoonwiki/images/thumb/4/46/S3_Weapon_Main_Enperry_Splat_Dualies.png/256px-S3_Weapon_Main_Enperry_Splat_Dualies.png\n"
     ]
    },
    {
     "data": {
      "text/html": [
       "<img src=\"https://cdn.wikimg.net/en/splatoonwiki/images/thumb/4/46/S3_Weapon_Main_Enperry_Splat_Dualies.png/256px-S3_Weapon_Main_Enperry_Splat_Dualies.png\"/>"
      ],
      "text/plain": [
       "<IPython.core.display.Image object>"
      ]
     },
     "metadata": {},
     "output_type": "display_data"
    },
    {
     "name": "stdout",
     "output_type": "stream",
     "text": [
      "Explosher\n",
      "https://cdn.wikimg.net/en/splatoonwiki/images/thumb/d/de/S3_Weapon_Main_Explosher.png/256px-S3_Weapon_Main_Explosher.png\n"
     ]
    },
    {
     "data": {
      "text/html": [
       "<img src=\"https://cdn.wikimg.net/en/splatoonwiki/images/thumb/d/de/S3_Weapon_Main_Explosher.png/256px-S3_Weapon_Main_Explosher.png\"/>"
      ],
      "text/plain": [
       "<IPython.core.display.Image object>"
      ]
     },
     "metadata": {},
     "output_type": "display_data"
    },
    {
     "name": "stdout",
     "output_type": "stream",
     "text": [
      "Flingza Roller\n",
      "https://cdn.wikimg.net/en/splatoonwiki/images/thumb/d/d2/S3_Weapon_Main_Flingza_Roller.png/256px-S3_Weapon_Main_Flingza_Roller.png\n"
     ]
    },
    {
     "data": {
      "text/html": [
       "<img src=\"https://cdn.wikimg.net/en/splatoonwiki/images/thumb/d/d2/S3_Weapon_Main_Flingza_Roller.png/256px-S3_Weapon_Main_Flingza_Roller.png\"/>"
      ],
      "text/plain": [
       "<IPython.core.display.Image object>"
      ]
     },
     "metadata": {},
     "output_type": "display_data"
    },
    {
     "name": "stdout",
     "output_type": "stream",
     "text": [
      "Foil Flingza Roller\n",
      "https://cdn.wikimg.net/en/splatoonwiki/images/thumb/8/8c/S3_Weapon_Main_Foil_Flingza_Roller.png/256px-S3_Weapon_Main_Foil_Flingza_Roller.png\n"
     ]
    },
    {
     "data": {
      "text/html": [
       "<img src=\"https://cdn.wikimg.net/en/splatoonwiki/images/thumb/8/8c/S3_Weapon_Main_Foil_Flingza_Roller.png/256px-S3_Weapon_Main_Foil_Flingza_Roller.png\"/>"
      ],
      "text/plain": [
       "<IPython.core.display.Image object>"
      ]
     },
     "metadata": {},
     "output_type": "display_data"
    },
    {
     "name": "stdout",
     "output_type": "stream",
     "text": [
      "Foil Squeezer\n",
      "https://cdn.wikimg.net/en/splatoonwiki/images/thumb/4/49/S3_Weapon_Main_Foil_Squeezer.png/256px-S3_Weapon_Main_Foil_Squeezer.png\n"
     ]
    },
    {
     "data": {
      "text/html": [
       "<img src=\"https://cdn.wikimg.net/en/splatoonwiki/images/thumb/4/49/S3_Weapon_Main_Foil_Squeezer.png/256px-S3_Weapon_Main_Foil_Squeezer.png\"/>"
      ],
      "text/plain": [
       "<IPython.core.display.Image object>"
      ]
     },
     "metadata": {},
     "output_type": "display_data"
    },
    {
     "name": "stdout",
     "output_type": "stream",
     "text": [
      "Forge Splattershot Pro\n",
      "https://cdn.wikimg.net/en/splatoonwiki/images/thumb/d/d8/S3_Weapon_Main_Forge_Splattershot_Pro.png/256px-S3_Weapon_Main_Forge_Splattershot_Pro.png\n"
     ]
    },
    {
     "data": {
      "text/html": [
       "<img src=\"https://cdn.wikimg.net/en/splatoonwiki/images/thumb/d/d8/S3_Weapon_Main_Forge_Splattershot_Pro.png/256px-S3_Weapon_Main_Forge_Splattershot_Pro.png\"/>"
      ],
      "text/plain": [
       "<IPython.core.display.Image object>"
      ]
     },
     "metadata": {},
     "output_type": "display_data"
    },
    {
     "name": "stdout",
     "output_type": "stream",
     "text": [
      "Glooga Dualies\n",
      "https://cdn.wikimg.net/en/splatoonwiki/images/thumb/9/99/S3_Weapon_Main_Glooga_Dualies.png/256px-S3_Weapon_Main_Glooga_Dualies.png\n"
     ]
    },
    {
     "data": {
      "text/html": [
       "<img src=\"https://cdn.wikimg.net/en/splatoonwiki/images/thumb/9/99/S3_Weapon_Main_Glooga_Dualies.png/256px-S3_Weapon_Main_Glooga_Dualies.png\"/>"
      ],
      "text/plain": [
       "<IPython.core.display.Image object>"
      ]
     },
     "metadata": {},
     "output_type": "display_data"
    },
    {
     "name": "stdout",
     "output_type": "stream",
     "text": [
      "Glooga Dualies Deco\n",
      "https://cdn.wikimg.net/en/splatoonwiki/images/thumb/5/56/S3_Weapon_Main_Glooga_Dualies_Deco.png/256px-S3_Weapon_Main_Glooga_Dualies_Deco.png\n"
     ]
    },
    {
     "data": {
      "text/html": [
       "<img src=\"https://cdn.wikimg.net/en/splatoonwiki/images/thumb/5/56/S3_Weapon_Main_Glooga_Dualies_Deco.png/256px-S3_Weapon_Main_Glooga_Dualies_Deco.png\"/>"
      ],
      "text/plain": [
       "<IPython.core.display.Image object>"
      ]
     },
     "metadata": {},
     "output_type": "display_data"
    },
    {
     "name": "stdout",
     "output_type": "stream",
     "text": [
      "Gold Dynamo Roller\n",
      "https://cdn.wikimg.net/en/splatoonwiki/images/thumb/f/f8/S3_Weapon_Main_Gold_Dynamo_Roller.png/256px-S3_Weapon_Main_Gold_Dynamo_Roller.png\n"
     ]
    },
    {
     "data": {
      "text/html": [
       "<img src=\"https://cdn.wikimg.net/en/splatoonwiki/images/thumb/f/f8/S3_Weapon_Main_Gold_Dynamo_Roller.png/256px-S3_Weapon_Main_Gold_Dynamo_Roller.png\"/>"
      ],
      "text/plain": [
       "<IPython.core.display.Image object>"
      ]
     },
     "metadata": {},
     "output_type": "display_data"
    },
    {
     "name": "stdout",
     "output_type": "stream",
     "text": [
      "Goo Tuber\n",
      "https://cdn.wikimg.net/en/splatoonwiki/images/thumb/8/8a/S3_Weapon_Main_Goo_Tuber.png/256px-S3_Weapon_Main_Goo_Tuber.png\n"
     ]
    },
    {
     "data": {
      "text/html": [
       "<img src=\"https://cdn.wikimg.net/en/splatoonwiki/images/thumb/8/8a/S3_Weapon_Main_Goo_Tuber.png/256px-S3_Weapon_Main_Goo_Tuber.png\"/>"
      ],
      "text/plain": [
       "<IPython.core.display.Image object>"
      ]
     },
     "metadata": {},
     "output_type": "display_data"
    },
    {
     "name": "stdout",
     "output_type": "stream",
     "text": [
      "H-3 Nozzlenose\n",
      "https://cdn.wikimg.net/en/splatoonwiki/images/thumb/5/5a/S3_Weapon_Main_H-3_Nozzlenose.png/256px-S3_Weapon_Main_H-3_Nozzlenose.png\n"
     ]
    },
    {
     "data": {
      "text/html": [
       "<img src=\"https://cdn.wikimg.net/en/splatoonwiki/images/thumb/5/5a/S3_Weapon_Main_H-3_Nozzlenose.png/256px-S3_Weapon_Main_H-3_Nozzlenose.png\"/>"
      ],
      "text/plain": [
       "<IPython.core.display.Image object>"
      ]
     },
     "metadata": {},
     "output_type": "display_data"
    },
    {
     "name": "stdout",
     "output_type": "stream",
     "text": [
      "H-3 Nozzlenose D\n",
      "https://cdn.wikimg.net/en/splatoonwiki/images/thumb/3/31/S3_Weapon_Main_H-3_Nozzlenose_D.png/256px-S3_Weapon_Main_H-3_Nozzlenose_D.png\n"
     ]
    },
    {
     "data": {
      "text/html": [
       "<img src=\"https://cdn.wikimg.net/en/splatoonwiki/images/thumb/3/31/S3_Weapon_Main_H-3_Nozzlenose_D.png/256px-S3_Weapon_Main_H-3_Nozzlenose_D.png\"/>"
      ],
      "text/plain": [
       "<IPython.core.display.Image object>"
      ]
     },
     "metadata": {},
     "output_type": "display_data"
    },
    {
     "name": "stdout",
     "output_type": "stream",
     "text": [
      "Heavy Edit Splatling\n",
      "https://cdn.wikimg.net/en/splatoonwiki/images/thumb/2/24/S3_Weapon_Main_Heavy_Edit_Splatling.png/256px-S3_Weapon_Main_Heavy_Edit_Splatling.png\n"
     ]
    },
    {
     "data": {
      "text/html": [
       "<img src=\"https://cdn.wikimg.net/en/splatoonwiki/images/thumb/2/24/S3_Weapon_Main_Heavy_Edit_Splatling.png/256px-S3_Weapon_Main_Heavy_Edit_Splatling.png\"/>"
      ],
      "text/plain": [
       "<IPython.core.display.Image object>"
      ]
     },
     "metadata": {},
     "output_type": "display_data"
    },
    {
     "name": "stdout",
     "output_type": "stream",
     "text": [
      "Heavy Edit Splatling Nouveau\n",
      "https://cdn.wikimg.net/en/splatoonwiki/images/thumb/a/aa/S3_Weapon_Main_Heavy_Edit_Splatling_Nouveau.png/256px-S3_Weapon_Main_Heavy_Edit_Splatling_Nouveau.png\n"
     ]
    },
    {
     "data": {
      "text/html": [
       "<img src=\"https://cdn.wikimg.net/en/splatoonwiki/images/thumb/a/aa/S3_Weapon_Main_Heavy_Edit_Splatling_Nouveau.png/256px-S3_Weapon_Main_Heavy_Edit_Splatling_Nouveau.png\"/>"
      ],
      "text/plain": [
       "<IPython.core.display.Image object>"
      ]
     },
     "metadata": {},
     "output_type": "display_data"
    },
    {
     "name": "stdout",
     "output_type": "stream",
     "text": [
      "Heavy Splatling\n",
      "https://cdn.wikimg.net/en/splatoonwiki/images/thumb/5/5e/S3_Weapon_Main_Heavy_Splatling.png/256px-S3_Weapon_Main_Heavy_Splatling.png\n"
     ]
    },
    {
     "data": {
      "text/html": [
       "<img src=\"https://cdn.wikimg.net/en/splatoonwiki/images/thumb/5/5e/S3_Weapon_Main_Heavy_Splatling.png/256px-S3_Weapon_Main_Heavy_Splatling.png\"/>"
      ],
      "text/plain": [
       "<IPython.core.display.Image object>"
      ]
     },
     "metadata": {},
     "output_type": "display_data"
    },
    {
     "name": "stdout",
     "output_type": "stream",
     "text": [
      "Heavy Splatling Deco\n",
      "https://cdn.wikimg.net/en/splatoonwiki/images/thumb/f/fc/S3_Weapon_Main_Heavy_Splatling_Deco.png/256px-S3_Weapon_Main_Heavy_Splatling_Deco.png\n"
     ]
    },
    {
     "data": {
      "text/html": [
       "<img src=\"https://cdn.wikimg.net/en/splatoonwiki/images/thumb/f/fc/S3_Weapon_Main_Heavy_Splatling_Deco.png/256px-S3_Weapon_Main_Heavy_Splatling_Deco.png\"/>"
      ],
      "text/plain": [
       "<IPython.core.display.Image object>"
      ]
     },
     "metadata": {},
     "output_type": "display_data"
    },
    {
     "name": "stdout",
     "output_type": "stream",
     "text": [
      "Hero Shot Replica\n",
      "https://cdn.wikimg.net/en/splatoonwiki/images/thumb/2/24/S3_Weapon_Main_Hero_Shot_Replica.png/256px-S3_Weapon_Main_Hero_Shot_Replica.png\n"
     ]
    },
    {
     "data": {
      "text/html": [
       "<img src=\"https://cdn.wikimg.net/en/splatoonwiki/images/thumb/2/24/S3_Weapon_Main_Hero_Shot_Replica.png/256px-S3_Weapon_Main_Hero_Shot_Replica.png\"/>"
      ],
      "text/plain": [
       "<IPython.core.display.Image object>"
      ]
     },
     "metadata": {},
     "output_type": "display_data"
    },
    {
     "name": "stdout",
     "output_type": "stream",
     "text": [
      "Hydra Splatling\n",
      "https://cdn.wikimg.net/en/splatoonwiki/images/thumb/d/d1/S3_Weapon_Main_Hydra_Splatling.png/256px-S3_Weapon_Main_Hydra_Splatling.png\n"
     ]
    },
    {
     "data": {
      "text/html": [
       "<img src=\"https://cdn.wikimg.net/en/splatoonwiki/images/thumb/d/d1/S3_Weapon_Main_Hydra_Splatling.png/256px-S3_Weapon_Main_Hydra_Splatling.png\"/>"
      ],
      "text/plain": [
       "<IPython.core.display.Image object>"
      ]
     },
     "metadata": {},
     "output_type": "display_data"
    },
    {
     "name": "stdout",
     "output_type": "stream",
     "text": [
      "Inkbrush\n",
      "https://cdn.wikimg.net/en/splatoonwiki/images/thumb/4/4a/S3_Weapon_Main_Inkbrush.png/256px-S3_Weapon_Main_Inkbrush.png\n"
     ]
    },
    {
     "data": {
      "text/html": [
       "<img src=\"https://cdn.wikimg.net/en/splatoonwiki/images/thumb/4/4a/S3_Weapon_Main_Inkbrush.png/256px-S3_Weapon_Main_Inkbrush.png\"/>"
      ],
      "text/plain": [
       "<IPython.core.display.Image object>"
      ]
     },
     "metadata": {},
     "output_type": "display_data"
    },
    {
     "name": "stdout",
     "output_type": "stream",
     "text": [
      "Inkbrush Nouveau\n",
      "https://cdn.wikimg.net/en/splatoonwiki/images/thumb/2/2e/S3_Weapon_Main_Inkbrush_Nouveau.png/256px-S3_Weapon_Main_Inkbrush_Nouveau.png\n"
     ]
    },
    {
     "data": {
      "text/html": [
       "<img src=\"https://cdn.wikimg.net/en/splatoonwiki/images/thumb/2/2e/S3_Weapon_Main_Inkbrush_Nouveau.png/256px-S3_Weapon_Main_Inkbrush_Nouveau.png\"/>"
      ],
      "text/plain": [
       "<IPython.core.display.Image object>"
      ]
     },
     "metadata": {},
     "output_type": "display_data"
    },
    {
     "name": "stdout",
     "output_type": "stream",
     "text": [
      "Inkline Tri-Stringer\n",
      "https://cdn.wikimg.net/en/splatoonwiki/images/thumb/f/f4/S3_Weapon_Main_Inkline_Tri-Stringer.png/256px-S3_Weapon_Main_Inkline_Tri-Stringer.png\n"
     ]
    },
    {
     "data": {
      "text/html": [
       "<img src=\"https://cdn.wikimg.net/en/splatoonwiki/images/thumb/f/f4/S3_Weapon_Main_Inkline_Tri-Stringer.png/256px-S3_Weapon_Main_Inkline_Tri-Stringer.png\"/>"
      ],
      "text/plain": [
       "<IPython.core.display.Image object>"
      ]
     },
     "metadata": {},
     "output_type": "display_data"
    },
    {
     "name": "stdout",
     "output_type": "stream",
     "text": [
      "Jet Squelcher\n",
      "https://cdn.wikimg.net/en/splatoonwiki/images/thumb/6/69/S3_Weapon_Main_Jet_Squelcher.png/256px-S3_Weapon_Main_Jet_Squelcher.png\n"
     ]
    },
    {
     "data": {
      "text/html": [
       "<img src=\"https://cdn.wikimg.net/en/splatoonwiki/images/thumb/6/69/S3_Weapon_Main_Jet_Squelcher.png/256px-S3_Weapon_Main_Jet_Squelcher.png\"/>"
      ],
      "text/plain": [
       "<IPython.core.display.Image object>"
      ]
     },
     "metadata": {},
     "output_type": "display_data"
    },
    {
     "name": "stdout",
     "output_type": "stream",
     "text": [
      "Krak-On Splat Roller\n",
      "https://cdn.wikimg.net/en/splatoonwiki/images/thumb/6/60/S3_Weapon_Main_Krak-On_Splat_Roller.png/256px-S3_Weapon_Main_Krak-On_Splat_Roller.png\n"
     ]
    },
    {
     "data": {
      "text/html": [
       "<img src=\"https://cdn.wikimg.net/en/splatoonwiki/images/thumb/6/60/S3_Weapon_Main_Krak-On_Splat_Roller.png/256px-S3_Weapon_Main_Krak-On_Splat_Roller.png\"/>"
      ],
      "text/plain": [
       "<IPython.core.display.Image object>"
      ]
     },
     "metadata": {},
     "output_type": "display_data"
    },
    {
     "name": "stdout",
     "output_type": "stream",
     "text": [
      "L-3 Nozzlenose\n",
      "https://cdn.wikimg.net/en/splatoonwiki/images/thumb/2/2c/S3_Weapon_Main_L-3_Nozzlenose.png/256px-S3_Weapon_Main_L-3_Nozzlenose.png\n"
     ]
    },
    {
     "data": {
      "text/html": [
       "<img src=\"https://cdn.wikimg.net/en/splatoonwiki/images/thumb/2/2c/S3_Weapon_Main_L-3_Nozzlenose.png/256px-S3_Weapon_Main_L-3_Nozzlenose.png\"/>"
      ],
      "text/plain": [
       "<IPython.core.display.Image object>"
      ]
     },
     "metadata": {},
     "output_type": "display_data"
    },
    {
     "name": "stdout",
     "output_type": "stream",
     "text": [
      "L-3 Nozzlenose D\n",
      "https://cdn.wikimg.net/en/splatoonwiki/images/thumb/f/ff/S3_Weapon_Main_L-3_Nozzlenose_D.png/256px-S3_Weapon_Main_L-3_Nozzlenose_D.png\n"
     ]
    },
    {
     "data": {
      "text/html": [
       "<img src=\"https://cdn.wikimg.net/en/splatoonwiki/images/thumb/f/ff/S3_Weapon_Main_L-3_Nozzlenose_D.png/256px-S3_Weapon_Main_L-3_Nozzlenose_D.png\"/>"
      ],
      "text/plain": [
       "<IPython.core.display.Image object>"
      ]
     },
     "metadata": {},
     "output_type": "display_data"
    },
    {
     "name": "stdout",
     "output_type": "stream",
     "text": [
      "Light Tetra Dualies\n",
      "https://cdn.wikimg.net/en/splatoonwiki/images/thumb/8/86/S3_Weapon_Main_Light_Tetra_Dualies.png/256px-S3_Weapon_Main_Light_Tetra_Dualies.png\n"
     ]
    },
    {
     "data": {
      "text/html": [
       "<img src=\"https://cdn.wikimg.net/en/splatoonwiki/images/thumb/8/86/S3_Weapon_Main_Light_Tetra_Dualies.png/256px-S3_Weapon_Main_Light_Tetra_Dualies.png\"/>"
      ],
      "text/plain": [
       "<IPython.core.display.Image object>"
      ]
     },
     "metadata": {},
     "output_type": "display_data"
    },
    {
     "name": "stdout",
     "output_type": "stream",
     "text": [
      "Luna Blaster\n",
      "https://cdn.wikimg.net/en/splatoonwiki/images/thumb/5/59/S3_Weapon_Main_Luna_Blaster.png/256px-S3_Weapon_Main_Luna_Blaster.png\n"
     ]
    },
    {
     "data": {
      "text/html": [
       "<img src=\"https://cdn.wikimg.net/en/splatoonwiki/images/thumb/5/59/S3_Weapon_Main_Luna_Blaster.png/256px-S3_Weapon_Main_Luna_Blaster.png\"/>"
      ],
      "text/plain": [
       "<IPython.core.display.Image object>"
      ]
     },
     "metadata": {},
     "output_type": "display_data"
    },
    {
     "name": "stdout",
     "output_type": "stream",
     "text": [
      "Luna Blaster Neo\n",
      "https://cdn.wikimg.net/en/splatoonwiki/images/thumb/1/11/S3_Weapon_Main_Luna_Blaster_Neo.png/256px-S3_Weapon_Main_Luna_Blaster_Neo.png\n"
     ]
    },
    {
     "data": {
      "text/html": [
       "<img src=\"https://cdn.wikimg.net/en/splatoonwiki/images/thumb/1/11/S3_Weapon_Main_Luna_Blaster_Neo.png/256px-S3_Weapon_Main_Luna_Blaster_Neo.png\"/>"
      ],
      "text/plain": [
       "<IPython.core.display.Image object>"
      ]
     },
     "metadata": {},
     "output_type": "display_data"
    },
    {
     "name": "stdout",
     "output_type": "stream",
     "text": [
      "Mini Splatling\n",
      "https://cdn.wikimg.net/en/splatoonwiki/images/thumb/8/86/S3_Weapon_Main_Mini_Splatling.png/256px-S3_Weapon_Main_Mini_Splatling.png\n"
     ]
    },
    {
     "data": {
      "text/html": [
       "<img src=\"https://cdn.wikimg.net/en/splatoonwiki/images/thumb/8/86/S3_Weapon_Main_Mini_Splatling.png/256px-S3_Weapon_Main_Mini_Splatling.png\"/>"
      ],
      "text/plain": [
       "<IPython.core.display.Image object>"
      ]
     },
     "metadata": {},
     "output_type": "display_data"
    },
    {
     "name": "stdout",
     "output_type": "stream",
     "text": [
      "Mint Decavitator\n",
      "https://cdn.wikimg.net/en/splatoonwiki/images/thumb/c/c9/S3_Weapon_Main_Mint_Decavitator.png/256px-S3_Weapon_Main_Mint_Decavitator.png\n"
     ]
    },
    {
     "data": {
      "text/html": [
       "<img src=\"https://cdn.wikimg.net/en/splatoonwiki/images/thumb/c/c9/S3_Weapon_Main_Mint_Decavitator.png/256px-S3_Weapon_Main_Mint_Decavitator.png\"/>"
      ],
      "text/plain": [
       "<IPython.core.display.Image object>"
      ]
     },
     "metadata": {},
     "output_type": "display_data"
    },
    {
     "name": "stdout",
     "output_type": "stream",
     "text": [
      "N-ZAP '85\n",
      "https://cdn.wikimg.net/en/splatoonwiki/images/thumb/f/f6/S3_Weapon_Main_N-ZAP_%2785.png/256px-S3_Weapon_Main_N-ZAP_%2785.png\n"
     ]
    },
    {
     "data": {
      "text/html": [
       "<img src=\"https://cdn.wikimg.net/en/splatoonwiki/images/thumb/f/f6/S3_Weapon_Main_N-ZAP_%2785.png/256px-S3_Weapon_Main_N-ZAP_%2785.png\"/>"
      ],
      "text/plain": [
       "<IPython.core.display.Image object>"
      ]
     },
     "metadata": {},
     "output_type": "display_data"
    },
    {
     "name": "stdout",
     "output_type": "stream",
     "text": [
      "N-ZAP '89\n",
      "https://cdn.wikimg.net/en/splatoonwiki/images/thumb/9/98/S3_Weapon_Main_N-ZAP_%2789.png/256px-S3_Weapon_Main_N-ZAP_%2789.png\n"
     ]
    },
    {
     "data": {
      "text/html": [
       "<img src=\"https://cdn.wikimg.net/en/splatoonwiki/images/thumb/9/98/S3_Weapon_Main_N-ZAP_%2789.png/256px-S3_Weapon_Main_N-ZAP_%2789.png\"/>"
      ],
      "text/plain": [
       "<IPython.core.display.Image object>"
      ]
     },
     "metadata": {},
     "output_type": "display_data"
    },
    {
     "name": "stdout",
     "output_type": "stream",
     "text": [
      "Nautilus 47\n",
      "https://cdn.wikimg.net/en/splatoonwiki/images/thumb/8/81/S3_Weapon_Main_Nautilus_47.png/256px-S3_Weapon_Main_Nautilus_47.png\n"
     ]
    },
    {
     "data": {
      "text/html": [
       "<img src=\"https://cdn.wikimg.net/en/splatoonwiki/images/thumb/8/81/S3_Weapon_Main_Nautilus_47.png/256px-S3_Weapon_Main_Nautilus_47.png\"/>"
      ],
      "text/plain": [
       "<IPython.core.display.Image object>"
      ]
     },
     "metadata": {},
     "output_type": "display_data"
    },
    {
     "name": "stdout",
     "output_type": "stream",
     "text": [
      "Nautilus 79\n",
      "https://cdn.wikimg.net/en/splatoonwiki/images/thumb/8/81/S3_Weapon_Main_Nautilus_79.png/256px-S3_Weapon_Main_Nautilus_79.png\n"
     ]
    },
    {
     "data": {
      "text/html": [
       "<img src=\"https://cdn.wikimg.net/en/splatoonwiki/images/thumb/8/81/S3_Weapon_Main_Nautilus_79.png/256px-S3_Weapon_Main_Nautilus_79.png\"/>"
      ],
      "text/plain": [
       "<IPython.core.display.Image object>"
      ]
     },
     "metadata": {},
     "output_type": "display_data"
    },
    {
     "name": "stdout",
     "output_type": "stream",
     "text": [
      "Neo Splash-o-matic\n",
      "https://cdn.wikimg.net/en/splatoonwiki/images/thumb/b/b8/S3_Weapon_Main_Neo_Splash-o-matic.png/256px-S3_Weapon_Main_Neo_Splash-o-matic.png\n"
     ]
    },
    {
     "data": {
      "text/html": [
       "<img src=\"https://cdn.wikimg.net/en/splatoonwiki/images/thumb/b/b8/S3_Weapon_Main_Neo_Splash-o-matic.png/256px-S3_Weapon_Main_Neo_Splash-o-matic.png\"/>"
      ],
      "text/plain": [
       "<IPython.core.display.Image object>"
      ]
     },
     "metadata": {},
     "output_type": "display_data"
    },
    {
     "name": "stdout",
     "output_type": "stream",
     "text": [
      "Neo Sploosh-o-matic\n",
      "https://cdn.wikimg.net/en/splatoonwiki/images/thumb/c/c3/S3_Weapon_Main_Neo_Sploosh-o-matic.png/256px-S3_Weapon_Main_Neo_Sploosh-o-matic.png\n"
     ]
    },
    {
     "data": {
      "text/html": [
       "<img src=\"https://cdn.wikimg.net/en/splatoonwiki/images/thumb/c/c3/S3_Weapon_Main_Neo_Sploosh-o-matic.png/256px-S3_Weapon_Main_Neo_Sploosh-o-matic.png\"/>"
      ],
      "text/plain": [
       "<IPython.core.display.Image object>"
      ]
     },
     "metadata": {},
     "output_type": "display_data"
    },
    {
     "name": "stdout",
     "output_type": "stream",
     "text": [
      "New Squiffer\n",
      "https://cdn.wikimg.net/en/splatoonwiki/images/thumb/8/80/S3_Weapon_Main_New_Squiffer.png/256px-S3_Weapon_Main_New_Squiffer.png\n"
     ]
    },
    {
     "data": {
      "text/html": [
       "<img src=\"https://cdn.wikimg.net/en/splatoonwiki/images/thumb/8/80/S3_Weapon_Main_New_Squiffer.png/256px-S3_Weapon_Main_New_Squiffer.png\"/>"
      ],
      "text/plain": [
       "<IPython.core.display.Image object>"
      ]
     },
     "metadata": {},
     "output_type": "display_data"
    },
    {
     "name": "stdout",
     "output_type": "stream",
     "text": [
      "Octo Shot Replica\n",
      "https://cdn.wikimg.net/en/splatoonwiki/images/thumb/2/2c/S3_Weapon_Main_Octo_Shot_Replica.png/256px-S3_Weapon_Main_Octo_Shot_Replica.png\n"
     ]
    },
    {
     "data": {
      "text/html": [
       "<img src=\"https://cdn.wikimg.net/en/splatoonwiki/images/thumb/2/2c/S3_Weapon_Main_Octo_Shot_Replica.png/256px-S3_Weapon_Main_Octo_Shot_Replica.png\"/>"
      ],
      "text/plain": [
       "<IPython.core.display.Image object>"
      ]
     },
     "metadata": {},
     "output_type": "display_data"
    },
    {
     "name": "stdout",
     "output_type": "stream",
     "text": [
      "Octobrush\n",
      "https://cdn.wikimg.net/en/splatoonwiki/images/thumb/3/3d/S3_Weapon_Main_Octobrush.png/256px-S3_Weapon_Main_Octobrush.png\n"
     ]
    },
    {
     "data": {
      "text/html": [
       "<img src=\"https://cdn.wikimg.net/en/splatoonwiki/images/thumb/3/3d/S3_Weapon_Main_Octobrush.png/256px-S3_Weapon_Main_Octobrush.png\"/>"
      ],
      "text/plain": [
       "<IPython.core.display.Image object>"
      ]
     },
     "metadata": {},
     "output_type": "display_data"
    },
    {
     "name": "stdout",
     "output_type": "stream",
     "text": [
      "Octobrush Nouveau\n",
      "https://cdn.wikimg.net/en/splatoonwiki/images/thumb/4/45/S3_Weapon_Main_Octobrush_Nouveau.png/256px-S3_Weapon_Main_Octobrush_Nouveau.png\n"
     ]
    },
    {
     "data": {
      "text/html": [
       "<img src=\"https://cdn.wikimg.net/en/splatoonwiki/images/thumb/4/45/S3_Weapon_Main_Octobrush_Nouveau.png/256px-S3_Weapon_Main_Octobrush_Nouveau.png\"/>"
      ],
      "text/plain": [
       "<IPython.core.display.Image object>"
      ]
     },
     "metadata": {},
     "output_type": "display_data"
    },
    {
     "name": "stdout",
     "output_type": "stream",
     "text": [
      "Order Blaster Replica\n",
      "https://cdn.wikimg.net/en/splatoonwiki/images/thumb/7/7b/S3_Weapon_Main_Order_Blaster_Replica.png/256px-S3_Weapon_Main_Order_Blaster_Replica.png\n"
     ]
    },
    {
     "data": {
      "text/html": [
       "<img src=\"https://cdn.wikimg.net/en/splatoonwiki/images/thumb/7/7b/S3_Weapon_Main_Order_Blaster_Replica.png/256px-S3_Weapon_Main_Order_Blaster_Replica.png\"/>"
      ],
      "text/plain": [
       "<IPython.core.display.Image object>"
      ]
     },
     "metadata": {},
     "output_type": "display_data"
    },
    {
     "name": "stdout",
     "output_type": "stream",
     "text": [
      "Order Brella Replica\n",
      "https://cdn.wikimg.net/en/splatoonwiki/images/thumb/6/61/S3_Weapon_Main_Order_Brella_Replica.png/256px-S3_Weapon_Main_Order_Brella_Replica.png\n"
     ]
    },
    {
     "data": {
      "text/html": [
       "<img src=\"https://cdn.wikimg.net/en/splatoonwiki/images/thumb/6/61/S3_Weapon_Main_Order_Brella_Replica.png/256px-S3_Weapon_Main_Order_Brella_Replica.png\"/>"
      ],
      "text/plain": [
       "<IPython.core.display.Image object>"
      ]
     },
     "metadata": {},
     "output_type": "display_data"
    },
    {
     "name": "stdout",
     "output_type": "stream",
     "text": [
      "Order Charger Replica\n",
      "https://cdn.wikimg.net/en/splatoonwiki/images/thumb/0/00/S3_Weapon_Main_Order_Charger_Replica.png/256px-S3_Weapon_Main_Order_Charger_Replica.png\n"
     ]
    },
    {
     "data": {
      "text/html": [
       "<img src=\"https://cdn.wikimg.net/en/splatoonwiki/images/thumb/0/00/S3_Weapon_Main_Order_Charger_Replica.png/256px-S3_Weapon_Main_Order_Charger_Replica.png\"/>"
      ],
      "text/plain": [
       "<IPython.core.display.Image object>"
      ]
     },
     "metadata": {},
     "output_type": "display_data"
    },
    {
     "name": "stdout",
     "output_type": "stream",
     "text": [
      "Order Dualie Replicas\n",
      "https://cdn.wikimg.net/en/splatoonwiki/images/thumb/5/50/S3_Weapon_Main_Order_Dualie_Replicas.png/256px-S3_Weapon_Main_Order_Dualie_Replicas.png\n"
     ]
    },
    {
     "data": {
      "text/html": [
       "<img src=\"https://cdn.wikimg.net/en/splatoonwiki/images/thumb/5/50/S3_Weapon_Main_Order_Dualie_Replicas.png/256px-S3_Weapon_Main_Order_Dualie_Replicas.png\"/>"
      ],
      "text/plain": [
       "<IPython.core.display.Image object>"
      ]
     },
     "metadata": {},
     "output_type": "display_data"
    },
    {
     "name": "stdout",
     "output_type": "stream",
     "text": [
      "Order Roller Replica\n",
      "https://cdn.wikimg.net/en/splatoonwiki/images/thumb/4/47/S3_Weapon_Main_Order_Roller_Replica.png/256px-S3_Weapon_Main_Order_Roller_Replica.png\n"
     ]
    },
    {
     "data": {
      "text/html": [
       "<img src=\"https://cdn.wikimg.net/en/splatoonwiki/images/thumb/4/47/S3_Weapon_Main_Order_Roller_Replica.png/256px-S3_Weapon_Main_Order_Roller_Replica.png\"/>"
      ],
      "text/plain": [
       "<IPython.core.display.Image object>"
      ]
     },
     "metadata": {},
     "output_type": "display_data"
    },
    {
     "name": "stdout",
     "output_type": "stream",
     "text": [
      "Order Shot Replica\n",
      "https://cdn.wikimg.net/en/splatoonwiki/images/thumb/e/e6/S3_Weapon_Main_Order_Shot_Replica.png/256px-S3_Weapon_Main_Order_Shot_Replica.png\n"
     ]
    },
    {
     "data": {
      "text/html": [
       "<img src=\"https://cdn.wikimg.net/en/splatoonwiki/images/thumb/e/e6/S3_Weapon_Main_Order_Shot_Replica.png/256px-S3_Weapon_Main_Order_Shot_Replica.png\"/>"
      ],
      "text/plain": [
       "<IPython.core.display.Image object>"
      ]
     },
     "metadata": {},
     "output_type": "display_data"
    },
    {
     "name": "stdout",
     "output_type": "stream",
     "text": [
      "Order Slosher Replica\n",
      "https://cdn.wikimg.net/en/splatoonwiki/images/thumb/a/aa/S3_Weapon_Main_Order_Slosher_Replica.png/256px-S3_Weapon_Main_Order_Slosher_Replica.png\n"
     ]
    },
    {
     "data": {
      "text/html": [
       "<img src=\"https://cdn.wikimg.net/en/splatoonwiki/images/thumb/a/aa/S3_Weapon_Main_Order_Slosher_Replica.png/256px-S3_Weapon_Main_Order_Slosher_Replica.png\"/>"
      ],
      "text/plain": [
       "<IPython.core.display.Image object>"
      ]
     },
     "metadata": {},
     "output_type": "display_data"
    },
    {
     "name": "stdout",
     "output_type": "stream",
     "text": [
      "\n",
      "https://cdn.wikimg.net/en/splatoonwiki/images/thumb/b/b9/S3_Weapon_Main_Order_Splatana_Replica.png/256px-S3_Weapon_Main_Order_Splatana_Replica.png\n"
     ]
    },
    {
     "data": {
      "text/html": [
       "<img src=\"https://cdn.wikimg.net/en/splatoonwiki/images/thumb/b/b9/S3_Weapon_Main_Order_Splatana_Replica.png/256px-S3_Weapon_Main_Order_Splatana_Replica.png\"/>"
      ],
      "text/plain": [
       "<IPython.core.display.Image object>"
      ]
     },
     "metadata": {},
     "output_type": "display_data"
    },
    {
     "name": "stdout",
     "output_type": "stream",
     "text": [
      "Order Splatling Replica\n",
      "https://cdn.wikimg.net/en/splatoonwiki/images/thumb/c/ce/S3_Weapon_Main_Order_Splatling_Replica.png/256px-S3_Weapon_Main_Order_Splatling_Replica.png\n"
     ]
    },
    {
     "data": {
      "text/html": [
       "<img src=\"https://cdn.wikimg.net/en/splatoonwiki/images/thumb/c/ce/S3_Weapon_Main_Order_Splatling_Replica.png/256px-S3_Weapon_Main_Order_Splatling_Replica.png\"/>"
      ],
      "text/plain": [
       "<IPython.core.display.Image object>"
      ]
     },
     "metadata": {},
     "output_type": "display_data"
    },
    {
     "name": "stdout",
     "output_type": "stream",
     "text": [
      "Order Stringer Replica\n",
      "https://cdn.wikimg.net/en/splatoonwiki/images/thumb/2/24/S3_Weapon_Main_Order_Stringer_Replica.png/256px-S3_Weapon_Main_Order_Stringer_Replica.png\n"
     ]
    },
    {
     "data": {
      "text/html": [
       "<img src=\"https://cdn.wikimg.net/en/splatoonwiki/images/thumb/2/24/S3_Weapon_Main_Order_Stringer_Replica.png/256px-S3_Weapon_Main_Order_Stringer_Replica.png\"/>"
      ],
      "text/plain": [
       "<IPython.core.display.Image object>"
      ]
     },
     "metadata": {},
     "output_type": "display_data"
    },
    {
     "name": "stdout",
     "output_type": "stream",
     "text": [
      "Orderbrush Replica\n",
      "https://cdn.wikimg.net/en/splatoonwiki/images/thumb/0/0a/S3_Weapon_Main_Orderbrush_Replica.png/256px-S3_Weapon_Main_Orderbrush_Replica.png\n"
     ]
    },
    {
     "data": {
      "text/html": [
       "<img src=\"https://cdn.wikimg.net/en/splatoonwiki/images/thumb/0/0a/S3_Weapon_Main_Orderbrush_Replica.png/256px-S3_Weapon_Main_Orderbrush_Replica.png\"/>"
      ],
      "text/plain": [
       "<IPython.core.display.Image object>"
      ]
     },
     "metadata": {},
     "output_type": "display_data"
    },
    {
     "name": "stdout",
     "output_type": "stream",
     "text": [
      "Painbrush\n",
      "https://cdn.wikimg.net/en/splatoonwiki/images/thumb/7/79/S3_Weapon_Main_Painbrush.png/256px-S3_Weapon_Main_Painbrush.png\n"
     ]
    },
    {
     "data": {
      "text/html": [
       "<img src=\"https://cdn.wikimg.net/en/splatoonwiki/images/thumb/7/79/S3_Weapon_Main_Painbrush.png/256px-S3_Weapon_Main_Painbrush.png\"/>"
      ],
      "text/plain": [
       "<IPython.core.display.Image object>"
      ]
     },
     "metadata": {},
     "output_type": "display_data"
    },
    {
     "name": "stdout",
     "output_type": "stream",
     "text": [
      "Painbrush Nouveau\n",
      "https://cdn.wikimg.net/en/splatoonwiki/images/thumb/0/09/S3_Weapon_Main_Painbrush_Nouveau.png/256px-S3_Weapon_Main_Painbrush_Nouveau.png\n"
     ]
    },
    {
     "data": {
      "text/html": [
       "<img src=\"https://cdn.wikimg.net/en/splatoonwiki/images/thumb/0/09/S3_Weapon_Main_Painbrush_Nouveau.png/256px-S3_Weapon_Main_Painbrush_Nouveau.png\"/>"
      ],
      "text/plain": [
       "<IPython.core.display.Image object>"
      ]
     },
     "metadata": {},
     "output_type": "display_data"
    },
    {
     "name": "stdout",
     "output_type": "stream",
     "text": [
      "\n",
      "https://cdn.wikimg.net/en/splatoonwiki/images/thumb/6/66/S3_Weapon_Main_REEF-LUX_450.png/256px-S3_Weapon_Main_REEF-LUX_450.png\n"
     ]
    },
    {
     "data": {
      "text/html": [
       "<img src=\"https://cdn.wikimg.net/en/splatoonwiki/images/thumb/6/66/S3_Weapon_Main_REEF-LUX_450.png/256px-S3_Weapon_Main_REEF-LUX_450.png\"/>"
      ],
      "text/plain": [
       "<IPython.core.display.Image object>"
      ]
     },
     "metadata": {},
     "output_type": "display_data"
    },
    {
     "name": "stdout",
     "output_type": "stream",
     "text": [
      "REEF-LUX 450 Deco\n",
      "https://cdn.wikimg.net/en/splatoonwiki/images/thumb/a/ab/S3_Weapon_Main_REEF-LUX_450_Deco.png/256px-S3_Weapon_Main_REEF-LUX_450_Deco.png\n"
     ]
    },
    {
     "data": {
      "text/html": [
       "<img src=\"https://cdn.wikimg.net/en/splatoonwiki/images/thumb/a/ab/S3_Weapon_Main_REEF-LUX_450_Deco.png/256px-S3_Weapon_Main_REEF-LUX_450_Deco.png\"/>"
      ],
      "text/plain": [
       "<IPython.core.display.Image object>"
      ]
     },
     "metadata": {},
     "output_type": "display_data"
    },
    {
     "name": "stdout",
     "output_type": "stream",
     "text": [
      "Range Blaster\n",
      "https://cdn.wikimg.net/en/splatoonwiki/images/thumb/1/1d/S3_Weapon_Main_Range_Blaster.png/256px-S3_Weapon_Main_Range_Blaster.png\n"
     ]
    },
    {
     "data": {
      "text/html": [
       "<img src=\"https://cdn.wikimg.net/en/splatoonwiki/images/thumb/1/1d/S3_Weapon_Main_Range_Blaster.png/256px-S3_Weapon_Main_Range_Blaster.png\"/>"
      ],
      "text/plain": [
       "<IPython.core.display.Image object>"
      ]
     },
     "metadata": {},
     "output_type": "display_data"
    },
    {
     "name": "stdout",
     "output_type": "stream",
     "text": [
      "Rapid Blaster\n",
      "https://cdn.wikimg.net/en/splatoonwiki/images/thumb/6/6a/S3_Weapon_Main_Rapid_Blaster.png/256px-S3_Weapon_Main_Rapid_Blaster.png\n"
     ]
    },
    {
     "data": {
      "text/html": [
       "<img src=\"https://cdn.wikimg.net/en/splatoonwiki/images/thumb/6/6a/S3_Weapon_Main_Rapid_Blaster.png/256px-S3_Weapon_Main_Rapid_Blaster.png\"/>"
      ],
      "text/plain": [
       "<IPython.core.display.Image object>"
      ]
     },
     "metadata": {},
     "output_type": "display_data"
    },
    {
     "name": "stdout",
     "output_type": "stream",
     "text": [
      "Rapid Blaster Deco\n",
      "https://cdn.wikimg.net/en/splatoonwiki/images/thumb/c/cb/S3_Weapon_Main_Rapid_Blaster_Deco.png/256px-S3_Weapon_Main_Rapid_Blaster_Deco.png\n"
     ]
    },
    {
     "data": {
      "text/html": [
       "<img src=\"https://cdn.wikimg.net/en/splatoonwiki/images/thumb/c/cb/S3_Weapon_Main_Rapid_Blaster_Deco.png/256px-S3_Weapon_Main_Rapid_Blaster_Deco.png\"/>"
      ],
      "text/plain": [
       "<IPython.core.display.Image object>"
      ]
     },
     "metadata": {},
     "output_type": "display_data"
    },
    {
     "name": "stdout",
     "output_type": "stream",
     "text": [
      "Rapid Blaster Pro\n",
      "https://cdn.wikimg.net/en/splatoonwiki/images/thumb/c/c6/S3_Weapon_Main_Rapid_Blaster_Pro.png/256px-S3_Weapon_Main_Rapid_Blaster_Pro.png\n"
     ]
    },
    {
     "data": {
      "text/html": [
       "<img src=\"https://cdn.wikimg.net/en/splatoonwiki/images/thumb/c/c6/S3_Weapon_Main_Rapid_Blaster_Pro.png/256px-S3_Weapon_Main_Rapid_Blaster_Pro.png\"/>"
      ],
      "text/plain": [
       "<IPython.core.display.Image object>"
      ]
     },
     "metadata": {},
     "output_type": "display_data"
    },
    {
     "name": "stdout",
     "output_type": "stream",
     "text": [
      "Rapid Blaster Pro Deco\n",
      "https://cdn.wikimg.net/en/splatoonwiki/images/thumb/e/e4/S3_Weapon_Main_Rapid_Blaster_Pro_Deco.png/256px-S3_Weapon_Main_Rapid_Blaster_Pro_Deco.png\n"
     ]
    },
    {
     "data": {
      "text/html": [
       "<img src=\"https://cdn.wikimg.net/en/splatoonwiki/images/thumb/e/e4/S3_Weapon_Main_Rapid_Blaster_Pro_Deco.png/256px-S3_Weapon_Main_Rapid_Blaster_Pro_Deco.png\"/>"
      ],
      "text/plain": [
       "<IPython.core.display.Image object>"
      ]
     },
     "metadata": {},
     "output_type": "display_data"
    },
    {
     "name": "stdout",
     "output_type": "stream",
     "text": [
      "Recycled Brella 24 Mk I\n",
      "https://cdn.wikimg.net/en/splatoonwiki/images/thumb/d/d0/S3_Weapon_Main_Recycled_Brella_24_Mk_I.png/256px-S3_Weapon_Main_Recycled_Brella_24_Mk_I.png\n"
     ]
    },
    {
     "data": {
      "text/html": [
       "<img src=\"https://cdn.wikimg.net/en/splatoonwiki/images/thumb/d/d0/S3_Weapon_Main_Recycled_Brella_24_Mk_I.png/256px-S3_Weapon_Main_Recycled_Brella_24_Mk_I.png\"/>"
      ],
      "text/plain": [
       "<IPython.core.display.Image object>"
      ]
     },
     "metadata": {},
     "output_type": "display_data"
    },
    {
     "name": "stdout",
     "output_type": "stream",
     "text": [
      "Recycled Brella 24 Mk II\n",
      "https://cdn.wikimg.net/en/splatoonwiki/images/thumb/9/94/S3_Weapon_Main_Recycled_Brella_24_Mk_II.png/256px-S3_Weapon_Main_Recycled_Brella_24_Mk_II.png\n"
     ]
    },
    {
     "data": {
      "text/html": [
       "<img src=\"https://cdn.wikimg.net/en/splatoonwiki/images/thumb/9/94/S3_Weapon_Main_Recycled_Brella_24_Mk_II.png/256px-S3_Weapon_Main_Recycled_Brella_24_Mk_II.png\"/>"
      ],
      "text/plain": [
       "<IPython.core.display.Image object>"
      ]
     },
     "metadata": {},
     "output_type": "display_data"
    },
    {
     "name": "stdout",
     "output_type": "stream",
     "text": [
      "S-BLAST '91\n",
      "https://cdn.wikimg.net/en/splatoonwiki/images/thumb/2/2f/S3_Weapon_Main_S-BLAST_%2791.png/256px-S3_Weapon_Main_S-BLAST_%2791.png\n"
     ]
    },
    {
     "data": {
      "text/html": [
       "<img src=\"https://cdn.wikimg.net/en/splatoonwiki/images/thumb/2/2f/S3_Weapon_Main_S-BLAST_%2791.png/256px-S3_Weapon_Main_S-BLAST_%2791.png\"/>"
      ],
      "text/plain": [
       "<IPython.core.display.Image object>"
      ]
     },
     "metadata": {},
     "output_type": "display_data"
    },
    {
     "name": "stdout",
     "output_type": "stream",
     "text": [
      "\n",
      "https://cdn.wikimg.net/en/splatoonwiki/images/thumb/2/2d/S3_Weapon_Main_S-BLAST_%2792.png/256px-S3_Weapon_Main_S-BLAST_%2792.png\n"
     ]
    },
    {
     "data": {
      "text/html": [
       "<img src=\"https://cdn.wikimg.net/en/splatoonwiki/images/thumb/2/2d/S3_Weapon_Main_S-BLAST_%2792.png/256px-S3_Weapon_Main_S-BLAST_%2792.png\"/>"
      ],
      "text/plain": [
       "<IPython.core.display.Image object>"
      ]
     },
     "metadata": {},
     "output_type": "display_data"
    },
    {
     "name": "stdout",
     "output_type": "stream",
     "text": [
      "Slosher\n",
      "https://cdn.wikimg.net/en/splatoonwiki/images/thumb/4/42/S3_Weapon_Main_Slosher.png/256px-S3_Weapon_Main_Slosher.png\n"
     ]
    },
    {
     "data": {
      "text/html": [
       "<img src=\"https://cdn.wikimg.net/en/splatoonwiki/images/thumb/4/42/S3_Weapon_Main_Slosher.png/256px-S3_Weapon_Main_Slosher.png\"/>"
      ],
      "text/plain": [
       "<IPython.core.display.Image object>"
      ]
     },
     "metadata": {},
     "output_type": "display_data"
    },
    {
     "name": "stdout",
     "output_type": "stream",
     "text": [
      "Slosher Deco\n",
      "https://cdn.wikimg.net/en/splatoonwiki/images/thumb/a/a5/S3_Weapon_Main_Slosher_Deco.png/256px-S3_Weapon_Main_Slosher_Deco.png\n"
     ]
    },
    {
     "data": {
      "text/html": [
       "<img src=\"https://cdn.wikimg.net/en/splatoonwiki/images/thumb/a/a5/S3_Weapon_Main_Slosher_Deco.png/256px-S3_Weapon_Main_Slosher_Deco.png\"/>"
      ],
      "text/plain": [
       "<IPython.core.display.Image object>"
      ]
     },
     "metadata": {},
     "output_type": "display_data"
    },
    {
     "name": "stdout",
     "output_type": "stream",
     "text": [
      "Sloshing Machine\n",
      "https://cdn.wikimg.net/en/splatoonwiki/images/thumb/3/38/S3_Weapon_Main_Sloshing_Machine.png/256px-S3_Weapon_Main_Sloshing_Machine.png\n"
     ]
    },
    {
     "data": {
      "text/html": [
       "<img src=\"https://cdn.wikimg.net/en/splatoonwiki/images/thumb/3/38/S3_Weapon_Main_Sloshing_Machine.png/256px-S3_Weapon_Main_Sloshing_Machine.png\"/>"
      ],
      "text/plain": [
       "<IPython.core.display.Image object>"
      ]
     },
     "metadata": {},
     "output_type": "display_data"
    },
    {
     "name": "stdout",
     "output_type": "stream",
     "text": [
      "Sloshing Machine Neo\n",
      "https://cdn.wikimg.net/en/splatoonwiki/images/thumb/d/d5/S3_Weapon_Main_Sloshing_Machine_Neo.png/256px-S3_Weapon_Main_Sloshing_Machine_Neo.png\n"
     ]
    },
    {
     "data": {
      "text/html": [
       "<img src=\"https://cdn.wikimg.net/en/splatoonwiki/images/thumb/d/d5/S3_Weapon_Main_Sloshing_Machine_Neo.png/256px-S3_Weapon_Main_Sloshing_Machine_Neo.png\"/>"
      ],
      "text/plain": [
       "<IPython.core.display.Image object>"
      ]
     },
     "metadata": {},
     "output_type": "display_data"
    },
    {
     "name": "stdout",
     "output_type": "stream",
     "text": [
      "Snipewriter 5B\n",
      "https://cdn.wikimg.net/en/splatoonwiki/images/thumb/0/0a/S3_Weapon_Main_Snipewriter_5B.png/256px-S3_Weapon_Main_Snipewriter_5B.png\n"
     ]
    },
    {
     "data": {
      "text/html": [
       "<img src=\"https://cdn.wikimg.net/en/splatoonwiki/images/thumb/0/0a/S3_Weapon_Main_Snipewriter_5B.png/256px-S3_Weapon_Main_Snipewriter_5B.png\"/>"
      ],
      "text/plain": [
       "<IPython.core.display.Image object>"
      ]
     },
     "metadata": {},
     "output_type": "display_data"
    },
    {
     "name": "stdout",
     "output_type": "stream",
     "text": [
      "Snipewriter 5H\n",
      "https://cdn.wikimg.net/en/splatoonwiki/images/thumb/3/34/S3_Weapon_Main_Snipewriter_5H.png/256px-S3_Weapon_Main_Snipewriter_5H.png\n"
     ]
    },
    {
     "data": {
      "text/html": [
       "<img src=\"https://cdn.wikimg.net/en/splatoonwiki/images/thumb/3/34/S3_Weapon_Main_Snipewriter_5H.png/256px-S3_Weapon_Main_Snipewriter_5H.png\"/>"
      ],
      "text/plain": [
       "<IPython.core.display.Image object>"
      ]
     },
     "metadata": {},
     "output_type": "display_data"
    },
    {
     "name": "stdout",
     "output_type": "stream",
     "text": [
      "Sorella Brella\n",
      "https://cdn.wikimg.net/en/splatoonwiki/images/thumb/8/8b/S3_Weapon_Main_Sorella_Brella.png/256px-S3_Weapon_Main_Sorella_Brella.png\n"
     ]
    },
    {
     "data": {
      "text/html": [
       "<img src=\"https://cdn.wikimg.net/en/splatoonwiki/images/thumb/8/8b/S3_Weapon_Main_Sorella_Brella.png/256px-S3_Weapon_Main_Sorella_Brella.png\"/>"
      ],
      "text/plain": [
       "<IPython.core.display.Image object>"
      ]
     },
     "metadata": {},
     "output_type": "display_data"
    },
    {
     "name": "stdout",
     "output_type": "stream",
     "text": [
      "Splash-o-matic\n",
      "https://cdn.wikimg.net/en/splatoonwiki/images/thumb/7/7b/S3_Weapon_Main_Splash-o-matic.png/256px-S3_Weapon_Main_Splash-o-matic.png\n"
     ]
    },
    {
     "data": {
      "text/html": [
       "<img src=\"https://cdn.wikimg.net/en/splatoonwiki/images/thumb/7/7b/S3_Weapon_Main_Splash-o-matic.png/256px-S3_Weapon_Main_Splash-o-matic.png\"/>"
      ],
      "text/plain": [
       "<IPython.core.display.Image object>"
      ]
     },
     "metadata": {},
     "output_type": "display_data"
    },
    {
     "name": "stdout",
     "output_type": "stream",
     "text": [
      "Splat Brella\n",
      "https://cdn.wikimg.net/en/splatoonwiki/images/thumb/2/27/S3_Weapon_Main_Splat_Brella.png/256px-S3_Weapon_Main_Splat_Brella.png\n"
     ]
    },
    {
     "data": {
      "text/html": [
       "<img src=\"https://cdn.wikimg.net/en/splatoonwiki/images/thumb/2/27/S3_Weapon_Main_Splat_Brella.png/256px-S3_Weapon_Main_Splat_Brella.png\"/>"
      ],
      "text/plain": [
       "<IPython.core.display.Image object>"
      ]
     },
     "metadata": {},
     "output_type": "display_data"
    },
    {
     "name": "stdout",
     "output_type": "stream",
     "text": [
      "Splat Charger\n",
      "https://cdn.wikimg.net/en/splatoonwiki/images/thumb/4/41/S3_Weapon_Main_Splat_Charger.png/256px-S3_Weapon_Main_Splat_Charger.png\n"
     ]
    },
    {
     "data": {
      "text/html": [
       "<img src=\"https://cdn.wikimg.net/en/splatoonwiki/images/thumb/4/41/S3_Weapon_Main_Splat_Charger.png/256px-S3_Weapon_Main_Splat_Charger.png\"/>"
      ],
      "text/plain": [
       "<IPython.core.display.Image object>"
      ]
     },
     "metadata": {},
     "output_type": "display_data"
    },
    {
     "name": "stdout",
     "output_type": "stream",
     "text": [
      "Splat Dualies\n",
      "https://cdn.wikimg.net/en/splatoonwiki/images/thumb/e/e8/S3_Weapon_Main_Splat_Dualies.png/256px-S3_Weapon_Main_Splat_Dualies.png\n"
     ]
    },
    {
     "data": {
      "text/html": [
       "<img src=\"https://cdn.wikimg.net/en/splatoonwiki/images/thumb/e/e8/S3_Weapon_Main_Splat_Dualies.png/256px-S3_Weapon_Main_Splat_Dualies.png\"/>"
      ],
      "text/plain": [
       "<IPython.core.display.Image object>"
      ]
     },
     "metadata": {},
     "output_type": "display_data"
    },
    {
     "name": "stdout",
     "output_type": "stream",
     "text": [
      "Splat Roller\n",
      "https://cdn.wikimg.net/en/splatoonwiki/images/thumb/c/c7/S3_Weapon_Main_Splat_Roller.png/256px-S3_Weapon_Main_Splat_Roller.png\n"
     ]
    },
    {
     "data": {
      "text/html": [
       "<img src=\"https://cdn.wikimg.net/en/splatoonwiki/images/thumb/c/c7/S3_Weapon_Main_Splat_Roller.png/256px-S3_Weapon_Main_Splat_Roller.png\"/>"
      ],
      "text/plain": [
       "<IPython.core.display.Image object>"
      ]
     },
     "metadata": {},
     "output_type": "display_data"
    },
    {
     "name": "stdout",
     "output_type": "stream",
     "text": [
      "\n",
      "https://cdn.wikimg.net/en/splatoonwiki/images/thumb/4/4d/S3_Weapon_Main_Splatana_Stamper.png/256px-S3_Weapon_Main_Splatana_Stamper.png\n"
     ]
    },
    {
     "data": {
      "text/html": [
       "<img src=\"https://cdn.wikimg.net/en/splatoonwiki/images/thumb/4/4d/S3_Weapon_Main_Splatana_Stamper.png/256px-S3_Weapon_Main_Splatana_Stamper.png\"/>"
      ],
      "text/plain": [
       "<IPython.core.display.Image object>"
      ]
     },
     "metadata": {},
     "output_type": "display_data"
    },
    {
     "name": "stdout",
     "output_type": "stream",
     "text": [
      "Splatana Stamper Nouveau\n",
      "https://cdn.wikimg.net/en/splatoonwiki/images/thumb/7/71/S3_Weapon_Main_Splatana_Stamper_Nouveau.png/256px-S3_Weapon_Main_Splatana_Stamper_Nouveau.png\n"
     ]
    },
    {
     "data": {
      "text/html": [
       "<img src=\"https://cdn.wikimg.net/en/splatoonwiki/images/thumb/7/71/S3_Weapon_Main_Splatana_Stamper_Nouveau.png/256px-S3_Weapon_Main_Splatana_Stamper_Nouveau.png\"/>"
      ],
      "text/plain": [
       "<IPython.core.display.Image object>"
      ]
     },
     "metadata": {},
     "output_type": "display_data"
    },
    {
     "name": "stdout",
     "output_type": "stream",
     "text": [
      "\n",
      "https://cdn.wikimg.net/en/splatoonwiki/images/thumb/e/e5/S3_Weapon_Main_Splatana_Wiper.png/256px-S3_Weapon_Main_Splatana_Wiper.png\n"
     ]
    },
    {
     "data": {
      "text/html": [
       "<img src=\"https://cdn.wikimg.net/en/splatoonwiki/images/thumb/e/e5/S3_Weapon_Main_Splatana_Wiper.png/256px-S3_Weapon_Main_Splatana_Wiper.png\"/>"
      ],
      "text/plain": [
       "<IPython.core.display.Image object>"
      ]
     },
     "metadata": {},
     "output_type": "display_data"
    },
    {
     "name": "stdout",
     "output_type": "stream",
     "text": [
      "Splatana Wiper Deco\n",
      "https://cdn.wikimg.net/en/splatoonwiki/images/thumb/4/4a/S3_Weapon_Main_Splatana_Wiper_Deco.png/256px-S3_Weapon_Main_Splatana_Wiper_Deco.png\n"
     ]
    },
    {
     "data": {
      "text/html": [
       "<img src=\"https://cdn.wikimg.net/en/splatoonwiki/images/thumb/4/4a/S3_Weapon_Main_Splatana_Wiper_Deco.png/256px-S3_Weapon_Main_Splatana_Wiper_Deco.png\"/>"
      ],
      "text/plain": [
       "<IPython.core.display.Image object>"
      ]
     },
     "metadata": {},
     "output_type": "display_data"
    },
    {
     "name": "stdout",
     "output_type": "stream",
     "text": [
      "Splatterscope\n",
      "https://cdn.wikimg.net/en/splatoonwiki/images/thumb/b/b2/S3_Weapon_Main_Splatterscope.png/256px-S3_Weapon_Main_Splatterscope.png\n"
     ]
    },
    {
     "data": {
      "text/html": [
       "<img src=\"https://cdn.wikimg.net/en/splatoonwiki/images/thumb/b/b2/S3_Weapon_Main_Splatterscope.png/256px-S3_Weapon_Main_Splatterscope.png\"/>"
      ],
      "text/plain": [
       "<IPython.core.display.Image object>"
      ]
     },
     "metadata": {},
     "output_type": "display_data"
    },
    {
     "name": "stdout",
     "output_type": "stream",
     "text": [
      "Splattershot\n",
      "https://cdn.wikimg.net/en/splatoonwiki/images/thumb/b/bf/S3_Weapon_Main_Splattershot.png/256px-S3_Weapon_Main_Splattershot.png\n"
     ]
    },
    {
     "data": {
      "text/html": [
       "<img src=\"https://cdn.wikimg.net/en/splatoonwiki/images/thumb/b/bf/S3_Weapon_Main_Splattershot.png/256px-S3_Weapon_Main_Splattershot.png\"/>"
      ],
      "text/plain": [
       "<IPython.core.display.Image object>"
      ]
     },
     "metadata": {},
     "output_type": "display_data"
    },
    {
     "name": "stdout",
     "output_type": "stream",
     "text": [
      "Splattershot Jr.\n",
      "https://cdn.wikimg.net/en/splatoonwiki/images/thumb/1/1e/S3_Weapon_Main_Splattershot_Jr..png/256px-S3_Weapon_Main_Splattershot_Jr..png\n"
     ]
    },
    {
     "data": {
      "text/html": [
       "<img src=\"https://cdn.wikimg.net/en/splatoonwiki/images/thumb/1/1e/S3_Weapon_Main_Splattershot_Jr..png/256px-S3_Weapon_Main_Splattershot_Jr..png\"/>"
      ],
      "text/plain": [
       "<IPython.core.display.Image object>"
      ]
     },
     "metadata": {},
     "output_type": "display_data"
    },
    {
     "name": "stdout",
     "output_type": "stream",
     "text": [
      "Splattershot Nova\n",
      "https://cdn.wikimg.net/en/splatoonwiki/images/thumb/1/10/S3_Weapon_Main_Splattershot_Nova.png/256px-S3_Weapon_Main_Splattershot_Nova.png\n"
     ]
    },
    {
     "data": {
      "text/html": [
       "<img src=\"https://cdn.wikimg.net/en/splatoonwiki/images/thumb/1/10/S3_Weapon_Main_Splattershot_Nova.png/256px-S3_Weapon_Main_Splattershot_Nova.png\"/>"
      ],
      "text/plain": [
       "<IPython.core.display.Image object>"
      ]
     },
     "metadata": {},
     "output_type": "display_data"
    },
    {
     "name": "stdout",
     "output_type": "stream",
     "text": [
      "Splattershot Pro\n",
      "https://cdn.wikimg.net/en/splatoonwiki/images/thumb/7/77/S3_Weapon_Main_Splattershot_Pro.png/256px-S3_Weapon_Main_Splattershot_Pro.png\n"
     ]
    },
    {
     "data": {
      "text/html": [
       "<img src=\"https://cdn.wikimg.net/en/splatoonwiki/images/thumb/7/77/S3_Weapon_Main_Splattershot_Pro.png/256px-S3_Weapon_Main_Splattershot_Pro.png\"/>"
      ],
      "text/plain": [
       "<IPython.core.display.Image object>"
      ]
     },
     "metadata": {},
     "output_type": "display_data"
    },
    {
     "name": "stdout",
     "output_type": "stream",
     "text": [
      "Sploosh-o-matic\n",
      "https://cdn.wikimg.net/en/splatoonwiki/images/thumb/5/59/S3_Weapon_Main_Sploosh-o-matic.png/256px-S3_Weapon_Main_Sploosh-o-matic.png\n"
     ]
    },
    {
     "data": {
      "text/html": [
       "<img src=\"https://cdn.wikimg.net/en/splatoonwiki/images/thumb/5/59/S3_Weapon_Main_Sploosh-o-matic.png/256px-S3_Weapon_Main_Sploosh-o-matic.png\"/>"
      ],
      "text/plain": [
       "<IPython.core.display.Image object>"
      ]
     },
     "metadata": {},
     "output_type": "display_data"
    },
    {
     "name": "stdout",
     "output_type": "stream",
     "text": [
      "Squeezer\n",
      "https://cdn.wikimg.net/en/splatoonwiki/images/thumb/c/cb/S3_Weapon_Main_Squeezer.png/256px-S3_Weapon_Main_Squeezer.png\n"
     ]
    },
    {
     "data": {
      "text/html": [
       "<img src=\"https://cdn.wikimg.net/en/splatoonwiki/images/thumb/c/cb/S3_Weapon_Main_Squeezer.png/256px-S3_Weapon_Main_Squeezer.png\"/>"
      ],
      "text/plain": [
       "<IPython.core.display.Image object>"
      ]
     },
     "metadata": {},
     "output_type": "display_data"
    },
    {
     "name": "stdout",
     "output_type": "stream",
     "text": [
      "Tenta Brella\n",
      "https://cdn.wikimg.net/en/splatoonwiki/images/thumb/1/1e/S3_Weapon_Main_Tenta_Brella.png/256px-S3_Weapon_Main_Tenta_Brella.png\n"
     ]
    },
    {
     "data": {
      "text/html": [
       "<img src=\"https://cdn.wikimg.net/en/splatoonwiki/images/thumb/1/1e/S3_Weapon_Main_Tenta_Brella.png/256px-S3_Weapon_Main_Tenta_Brella.png\"/>"
      ],
      "text/plain": [
       "<IPython.core.display.Image object>"
      ]
     },
     "metadata": {},
     "output_type": "display_data"
    },
    {
     "name": "stdout",
     "output_type": "stream",
     "text": [
      "Tenta Sorella Brella\n",
      "https://cdn.wikimg.net/en/splatoonwiki/images/thumb/3/3f/S3_Weapon_Main_Tenta_Sorella_Brella.png/256px-S3_Weapon_Main_Tenta_Sorella_Brella.png\n"
     ]
    },
    {
     "data": {
      "text/html": [
       "<img src=\"https://cdn.wikimg.net/en/splatoonwiki/images/thumb/3/3f/S3_Weapon_Main_Tenta_Sorella_Brella.png/256px-S3_Weapon_Main_Tenta_Sorella_Brella.png\"/>"
      ],
      "text/plain": [
       "<IPython.core.display.Image object>"
      ]
     },
     "metadata": {},
     "output_type": "display_data"
    },
    {
     "name": "stdout",
     "output_type": "stream",
     "text": [
      "Tentatek Splattershot\n",
      "https://cdn.wikimg.net/en/splatoonwiki/images/thumb/f/f1/S3_Weapon_Main_Tentatek_Splattershot.png/256px-S3_Weapon_Main_Tentatek_Splattershot.png\n"
     ]
    },
    {
     "data": {
      "text/html": [
       "<img src=\"https://cdn.wikimg.net/en/splatoonwiki/images/thumb/f/f1/S3_Weapon_Main_Tentatek_Splattershot.png/256px-S3_Weapon_Main_Tentatek_Splattershot.png\"/>"
      ],
      "text/plain": [
       "<IPython.core.display.Image object>"
      ]
     },
     "metadata": {},
     "output_type": "display_data"
    },
    {
     "name": "stdout",
     "output_type": "stream",
     "text": [
      "Tri-Slosher\n",
      "https://cdn.wikimg.net/en/splatoonwiki/images/thumb/d/dc/S3_Weapon_Main_Tri-Slosher.png/256px-S3_Weapon_Main_Tri-Slosher.png\n"
     ]
    },
    {
     "data": {
      "text/html": [
       "<img src=\"https://cdn.wikimg.net/en/splatoonwiki/images/thumb/d/dc/S3_Weapon_Main_Tri-Slosher.png/256px-S3_Weapon_Main_Tri-Slosher.png\"/>"
      ],
      "text/plain": [
       "<IPython.core.display.Image object>"
      ]
     },
     "metadata": {},
     "output_type": "display_data"
    },
    {
     "name": "stdout",
     "output_type": "stream",
     "text": [
      "Tri-Slosher Nouveau\n",
      "https://cdn.wikimg.net/en/splatoonwiki/images/thumb/7/74/S3_Weapon_Main_Tri-Slosher_Nouveau.png/256px-S3_Weapon_Main_Tri-Slosher_Nouveau.png\n"
     ]
    },
    {
     "data": {
      "text/html": [
       "<img src=\"https://cdn.wikimg.net/en/splatoonwiki/images/thumb/7/74/S3_Weapon_Main_Tri-Slosher_Nouveau.png/256px-S3_Weapon_Main_Tri-Slosher_Nouveau.png\"/>"
      ],
      "text/plain": [
       "<IPython.core.display.Image object>"
      ]
     },
     "metadata": {},
     "output_type": "display_data"
    },
    {
     "name": "stdout",
     "output_type": "stream",
     "text": [
      "\n",
      "https://cdn.wikimg.net/en/splatoonwiki/images/thumb/4/49/S3_Weapon_Main_Tri-Stringer.png/256px-S3_Weapon_Main_Tri-Stringer.png\n"
     ]
    },
    {
     "data": {
      "text/html": [
       "<img src=\"https://cdn.wikimg.net/en/splatoonwiki/images/thumb/4/49/S3_Weapon_Main_Tri-Stringer.png/256px-S3_Weapon_Main_Tri-Stringer.png\"/>"
      ],
      "text/plain": [
       "<IPython.core.display.Image object>"
      ]
     },
     "metadata": {},
     "output_type": "display_data"
    },
    {
     "name": "stdout",
     "output_type": "stream",
     "text": [
      "Undercover Brella\n",
      "https://cdn.wikimg.net/en/splatoonwiki/images/thumb/5/5d/S3_Weapon_Main_Undercover_Brella.png/256px-S3_Weapon_Main_Undercover_Brella.png\n"
     ]
    },
    {
     "data": {
      "text/html": [
       "<img src=\"https://cdn.wikimg.net/en/splatoonwiki/images/thumb/5/5d/S3_Weapon_Main_Undercover_Brella.png/256px-S3_Weapon_Main_Undercover_Brella.png\"/>"
      ],
      "text/plain": [
       "<IPython.core.display.Image object>"
      ]
     },
     "metadata": {},
     "output_type": "display_data"
    },
    {
     "name": "stdout",
     "output_type": "stream",
     "text": [
      "Undercover Sorella Brella\n",
      "https://cdn.wikimg.net/en/splatoonwiki/images/thumb/9/95/S3_Weapon_Main_Undercover_Sorella_Brella.png/256px-S3_Weapon_Main_Undercover_Sorella_Brella.png\n"
     ]
    },
    {
     "data": {
      "text/html": [
       "<img src=\"https://cdn.wikimg.net/en/splatoonwiki/images/thumb/9/95/S3_Weapon_Main_Undercover_Sorella_Brella.png/256px-S3_Weapon_Main_Undercover_Sorella_Brella.png\"/>"
      ],
      "text/plain": [
       "<IPython.core.display.Image object>"
      ]
     },
     "metadata": {},
     "output_type": "display_data"
    },
    {
     "name": "stdout",
     "output_type": "stream",
     "text": [
      "\n",
      "https://cdn.wikimg.net/en/splatoonwiki/images/thumb/3/37/S3_Weapon_Main_Wellstring_V.png/256px-S3_Weapon_Main_Wellstring_V.png\n"
     ]
    },
    {
     "data": {
      "text/html": [
       "<img src=\"https://cdn.wikimg.net/en/splatoonwiki/images/thumb/3/37/S3_Weapon_Main_Wellstring_V.png/256px-S3_Weapon_Main_Wellstring_V.png\"/>"
      ],
      "text/plain": [
       "<IPython.core.display.Image object>"
      ]
     },
     "metadata": {},
     "output_type": "display_data"
    },
    {
     "name": "stdout",
     "output_type": "stream",
     "text": [
      "Z+F Splat Charger\n",
      "https://cdn.wikimg.net/en/splatoonwiki/images/thumb/a/a6/S3_Weapon_Main_Z%2BF_Splat_Charger.png/256px-S3_Weapon_Main_Z%2BF_Splat_Charger.png\n"
     ]
    },
    {
     "data": {
      "text/html": [
       "<img src=\"https://cdn.wikimg.net/en/splatoonwiki/images/thumb/a/a6/S3_Weapon_Main_Z%2BF_Splat_Charger.png/256px-S3_Weapon_Main_Z%2BF_Splat_Charger.png\"/>"
      ],
      "text/plain": [
       "<IPython.core.display.Image object>"
      ]
     },
     "metadata": {},
     "output_type": "display_data"
    },
    {
     "name": "stdout",
     "output_type": "stream",
     "text": [
      "Z+F Splatterscope\n",
      "https://cdn.wikimg.net/en/splatoonwiki/images/thumb/8/86/S3_Weapon_Main_Z%2BF_Splatterscope.png/256px-S3_Weapon_Main_Z%2BF_Splatterscope.png\n"
     ]
    },
    {
     "data": {
      "text/html": [
       "<img src=\"https://cdn.wikimg.net/en/splatoonwiki/images/thumb/8/86/S3_Weapon_Main_Z%2BF_Splatterscope.png/256px-S3_Weapon_Main_Z%2BF_Splatterscope.png\"/>"
      ],
      "text/plain": [
       "<IPython.core.display.Image object>"
      ]
     },
     "metadata": {},
     "output_type": "display_data"
    },
    {
     "name": "stdout",
     "output_type": "stream",
     "text": [
      "Zink Mini Splatling\n",
      "https://cdn.wikimg.net/en/splatoonwiki/images/thumb/0/05/S3_Weapon_Main_Zink_Mini_Splatling.png/256px-S3_Weapon_Main_Zink_Mini_Splatling.png\n"
     ]
    },
    {
     "data": {
      "text/html": [
       "<img src=\"https://cdn.wikimg.net/en/splatoonwiki/images/thumb/0/05/S3_Weapon_Main_Zink_Mini_Splatling.png/256px-S3_Weapon_Main_Zink_Mini_Splatling.png\"/>"
      ],
      "text/plain": [
       "<IPython.core.display.Image object>"
      ]
     },
     "metadata": {},
     "output_type": "display_data"
    },
    {
     "name": "stdout",
     "output_type": "stream",
     "text": [
      "143\n",
      "143\n"
     ]
    }
   ],
   "source": [
    "from bs4 import BeautifulSoup\n",
    "import requests\n",
    "import time\n",
    "import pandas as pd\n",
    "from etl.extract.url_request import make_request\n",
    "from IPython.display import Image, display\n",
    "\n",
    "headers = {'User-Agent': 'Mozilla/5.0'}\n",
    "\n",
    "ALL_WEAPONS_SITE = 'https://splatoonwiki.org/wiki/List_of_main_weapons_in_Splatoon_3'\n",
    "\n",
    "BASE_PATHS = 'https://splatoonwiki.org' ## Base URL for the Splatoon wiki\n",
    "\n",
    "session = requests.Session()\n",
    "session.headers.update(headers)\n",
    "\n",
    "\n",
    "response = session.get(ALL_WEAPONS_SITE, timeout=10)\n",
    "    \n",
    "soup = BeautifulSoup(response.text, 'html.parser')\n",
    "\n",
    "\n",
    "\n",
    "# --------------------------------------------------------------------------------\n",
    "w_names = df_weapons['Name'] # IMPORTANT TO CHANGE IN REAL TO RECEIVE THE WEAPONS DF\n",
    "#print(w_names)\n",
    "# --------------------------------------------------------------------------------\n",
    "\n",
    "path_list = []\n",
    "weapons = soup.find_all('td')\n",
    "\n",
    "for w in weapons:\n",
    "    time.sleep(0.02)\n",
    "    if w.find('a') is not None:\n",
    "        w_href =  w.find('a')['href']\n",
    "        w_href_edit = w_href.split('/')[-1] # Split the URL to get the last part, which is the weapon name\n",
    "        w_href_edit = w_href_edit.replace('_', ' ') # Replace underscores with spaces to match the original weapon names\n",
    "        w_href_edit = w_href_edit.replace('Z%2BF', 'Z+F') # Making changes to certain names to be in the right format\n",
    "        w_href_edit = w_href_edit.replace('%2785', \"'85\")\n",
    "        w_href_edit = w_href_edit.replace('%2789', \"'89\")\n",
    "        w_href_edit = w_href_edit.replace('%2792', \"'92\")\n",
    "        w_href_edit = w_href_edit.replace('%2791', \"'91\")\n",
    "        \n",
    "        # check if w_href_edit is in the weapon list\n",
    "        if w_href_edit in w_names.values:\n",
    "            # make a list of the tds that contain the weapon name\n",
    "            path_list.append(BASE_PATHS + w_href)\n",
    "            \n",
    "path_list = list(dict.fromkeys(path_list))\n",
    "# print(path_list)\n",
    "# print(len(path_list)) ## Print the number of unique weapon URLs found\n",
    "path_list.sort()\n",
    "\n",
    "image_path_list = []\n",
    "\n",
    "time.sleep(2)\n",
    "\n",
    "count = 0\n",
    "\n",
    "for weapon_path in path_list:\n",
    "    time.sleep(1)\n",
    "    image_path = ''\n",
    "    \n",
    "    response = session.get(weapon_path, timeout=30)\n",
    "    \n",
    "    soup = BeautifulSoup(response.text, 'html.parser')\n",
    "    images = soup.find_all('img')\n",
    "\n",
    "    for img in images:\n",
    "        src = img.get('src', '')\n",
    "        alt = img.get('alt', '')\n",
    "        \n",
    "        if '256px-S3' in src:\n",
    "            image_url = 'https:' + src\n",
    "            print(alt)\n",
    "            print(image_url)\n",
    "            display(Image(url=image_url))\n",
    "            image_path_list.append(image_url)\n",
    "            image_path = image_url\n",
    "            break\n",
    "    count += 1\n",
    "print(len(w_names))\n",
    "print(len(image_path_list))"
   ]
  },
  {
   "cell_type": "code",
   "execution_count": null,
   "id": "bd646f8f",
   "metadata": {},
   "outputs": [],
   "source": []
  },
  {
   "cell_type": "code",
   "execution_count": 61,
   "id": "81a098a2",
   "metadata": {},
   "outputs": [
    {
     "name": "stdout",
     "output_type": "stream",
     "text": [
      "1430\n",
      "Aerospray MG\n",
      "https://cdn.wikimg.net/en/splatoonwiki/images/thumb/c/c5/S3_Weapon_Main_Aerospray_MG.png/256px-S3_Weapon_Main_Aerospray_MG.png\n"
     ]
    },
    {
     "data": {
      "text/html": [
       "<img src=\"https://cdn.wikimg.net/en/splatoonwiki/images/thumb/c/c5/S3_Weapon_Main_Aerospray_MG.png/256px-S3_Weapon_Main_Aerospray_MG.png\"/>"
      ],
      "text/plain": [
       "<IPython.core.display.Image object>"
      ]
     },
     "metadata": {},
     "output_type": "display_data"
    },
    {
     "name": "stdout",
     "output_type": "stream",
     "text": [
      "Aerospray RG\n",
      "https://cdn.wikimg.net/en/splatoonwiki/images/thumb/2/2b/S3_Weapon_Main_Aerospray_RG.png/256px-S3_Weapon_Main_Aerospray_RG.png\n"
     ]
    },
    {
     "data": {
      "text/html": [
       "<img src=\"https://cdn.wikimg.net/en/splatoonwiki/images/thumb/2/2b/S3_Weapon_Main_Aerospray_RG.png/256px-S3_Weapon_Main_Aerospray_RG.png\"/>"
      ],
      "text/plain": [
       "<IPython.core.display.Image object>"
      ]
     },
     "metadata": {},
     "output_type": "display_data"
    },
    {
     "name": "stdout",
     "output_type": "stream",
     "text": [
      "Custom Splattershot Jr.\n",
      "https://cdn.wikimg.net/en/splatoonwiki/images/thumb/d/df/S3_Weapon_Main_Custom_Splattershot_Jr..png/256px-S3_Weapon_Main_Custom_Splattershot_Jr..png\n"
     ]
    },
    {
     "data": {
      "text/html": [
       "<img src=\"https://cdn.wikimg.net/en/splatoonwiki/images/thumb/d/df/S3_Weapon_Main_Custom_Splattershot_Jr..png/256px-S3_Weapon_Main_Custom_Splattershot_Jr..png\"/>"
      ],
      "text/plain": [
       "<IPython.core.display.Image object>"
      ]
     },
     "metadata": {},
     "output_type": "display_data"
    },
    {
     "name": "stdout",
     "output_type": "stream",
     "text": [
      "Neo Splash-o-matic\n",
      "https://cdn.wikimg.net/en/splatoonwiki/images/thumb/b/b8/S3_Weapon_Main_Neo_Splash-o-matic.png/256px-S3_Weapon_Main_Neo_Splash-o-matic.png\n"
     ]
    },
    {
     "data": {
      "text/html": [
       "<img src=\"https://cdn.wikimg.net/en/splatoonwiki/images/thumb/b/b8/S3_Weapon_Main_Neo_Splash-o-matic.png/256px-S3_Weapon_Main_Neo_Splash-o-matic.png\"/>"
      ],
      "text/plain": [
       "<IPython.core.display.Image object>"
      ]
     },
     "metadata": {},
     "output_type": "display_data"
    },
    {
     "name": "stdout",
     "output_type": "stream",
     "text": [
      "Neo Sploosh-o-matic\n",
      "https://cdn.wikimg.net/en/splatoonwiki/images/thumb/c/c3/S3_Weapon_Main_Neo_Sploosh-o-matic.png/256px-S3_Weapon_Main_Neo_Sploosh-o-matic.png\n"
     ]
    },
    {
     "data": {
      "text/html": [
       "<img src=\"https://cdn.wikimg.net/en/splatoonwiki/images/thumb/c/c3/S3_Weapon_Main_Neo_Sploosh-o-matic.png/256px-S3_Weapon_Main_Neo_Sploosh-o-matic.png\"/>"
      ],
      "text/plain": [
       "<IPython.core.display.Image object>"
      ]
     },
     "metadata": {},
     "output_type": "display_data"
    },
    {
     "name": "stdout",
     "output_type": "stream",
     "text": [
      "Splash-o-matic\n",
      "https://cdn.wikimg.net/en/splatoonwiki/images/thumb/7/7b/S3_Weapon_Main_Splash-o-matic.png/256px-S3_Weapon_Main_Splash-o-matic.png\n"
     ]
    },
    {
     "data": {
      "text/html": [
       "<img src=\"https://cdn.wikimg.net/en/splatoonwiki/images/thumb/7/7b/S3_Weapon_Main_Splash-o-matic.png/256px-S3_Weapon_Main_Splash-o-matic.png\"/>"
      ],
      "text/plain": [
       "<IPython.core.display.Image object>"
      ]
     },
     "metadata": {},
     "output_type": "display_data"
    },
    {
     "name": "stdout",
     "output_type": "stream",
     "text": [
      "Splattershot\n",
      "https://cdn.wikimg.net/en/splatoonwiki/images/thumb/b/bf/S3_Weapon_Main_Splattershot.png/256px-S3_Weapon_Main_Splattershot.png\n"
     ]
    },
    {
     "data": {
      "text/html": [
       "<img src=\"https://cdn.wikimg.net/en/splatoonwiki/images/thumb/b/bf/S3_Weapon_Main_Splattershot.png/256px-S3_Weapon_Main_Splattershot.png\"/>"
      ],
      "text/plain": [
       "<IPython.core.display.Image object>"
      ]
     },
     "metadata": {},
     "output_type": "display_data"
    },
    {
     "name": "stdout",
     "output_type": "stream",
     "text": [
      "Splattershot Jr.\n",
      "https://cdn.wikimg.net/en/splatoonwiki/images/thumb/1/1e/S3_Weapon_Main_Splattershot_Jr..png/256px-S3_Weapon_Main_Splattershot_Jr..png\n"
     ]
    },
    {
     "data": {
      "text/html": [
       "<img src=\"https://cdn.wikimg.net/en/splatoonwiki/images/thumb/1/1e/S3_Weapon_Main_Splattershot_Jr..png/256px-S3_Weapon_Main_Splattershot_Jr..png\"/>"
      ],
      "text/plain": [
       "<IPython.core.display.Image object>"
      ]
     },
     "metadata": {},
     "output_type": "display_data"
    },
    {
     "name": "stdout",
     "output_type": "stream",
     "text": [
      "Sploosh-o-matic\n",
      "https://cdn.wikimg.net/en/splatoonwiki/images/thumb/5/59/S3_Weapon_Main_Sploosh-o-matic.png/256px-S3_Weapon_Main_Sploosh-o-matic.png\n"
     ]
    },
    {
     "data": {
      "text/html": [
       "<img src=\"https://cdn.wikimg.net/en/splatoonwiki/images/thumb/5/59/S3_Weapon_Main_Sploosh-o-matic.png/256px-S3_Weapon_Main_Sploosh-o-matic.png\"/>"
      ],
      "text/plain": [
       "<IPython.core.display.Image object>"
      ]
     },
     "metadata": {},
     "output_type": "display_data"
    },
    {
     "name": "stdout",
     "output_type": "stream",
     "text": [
      "Tentatek Splattershot\n",
      "https://cdn.wikimg.net/en/splatoonwiki/images/thumb/f/f1/S3_Weapon_Main_Tentatek_Splattershot.png/256px-S3_Weapon_Main_Tentatek_Splattershot.png\n"
     ]
    },
    {
     "data": {
      "text/html": [
       "<img src=\"https://cdn.wikimg.net/en/splatoonwiki/images/thumb/f/f1/S3_Weapon_Main_Tentatek_Splattershot.png/256px-S3_Weapon_Main_Tentatek_Splattershot.png\"/>"
      ],
      "text/plain": [
       "<IPython.core.display.Image object>"
      ]
     },
     "metadata": {},
     "output_type": "display_data"
    },
    {
     "name": "stdout",
     "output_type": "stream",
     "text": [
      "143\n",
      "10\n"
     ]
    }
   ],
   "source": [
    "from bs4 import BeautifulSoup\n",
    "import requests\n",
    "import time\n",
    "import pandas as pd\n",
    "from etl.extract.url_request import make_request\n",
    "from IPython.display import Image, display\n",
    "\n",
    "headers = {'User-Agent': 'Mozilla/5.0'}\n",
    "\n",
    "ALL_WEAPONS_SITE = 'https://splatoonwiki.org/wiki/List_of_main_weapons_in_Splatoon_3'\n",
    "\n",
    "BASE_PATHS = 'https://splatoonwiki.org' ## Base URL for the Splatoon wiki\n",
    "\n",
    "TEST_MODE = True\n",
    "\n",
    "session = requests.Session()\n",
    "session.headers.update(headers)\n",
    "\n",
    "\n",
    "response = session.get(ALL_WEAPONS_SITE, timeout=10)\n",
    "    \n",
    "soup = BeautifulSoup(response.text, 'html.parser')\n",
    "\n",
    "\n",
    "\n",
    "# --------------------------------------------------------------------------------\n",
    "w_names = df_weapons['Name'] # IMPORTANT TO CHANGE IN REAL TO RECEIVE THE WEAPONS DF\n",
    "#print(w_names)\n",
    "# --------------------------------------------------------------------------------\n",
    "\n",
    "path_list = []\n",
    "weapons = soup.find_all('td')\n",
    "\n",
    "if TEST_MODE is True:\n",
    "    print(len(weapons))\n",
    "    weapons = weapons[:100]\n",
    "\n",
    "from itertools import dropwhile\n",
    "\n",
    "\n",
    "weapons = list(dict.fromkeys(weapons))\n",
    "for w in weapons:\n",
    "    if w.find('a') is not None:\n",
    "        if w.find('a')['href'] is not None:\n",
    "            w_href =  w.find('a')['href']\n",
    "            w_href_edit = w_href.split('/')[-1] # Split the URL to get the last part, which is the weapon name\n",
    "            w_href_edit = w_href_edit.replace('_', ' ') # Replace underscores with spaces to match the original weapon names\n",
    "            w_href_edit = w_href_edit.replace('Z%2BF', 'Z+F') # Making changes to certain names to be in the right format\n",
    "            w_href_edit = w_href_edit.replace('%2785', \"'85\")\n",
    "            w_href_edit = w_href_edit.replace('%2789', \"'89\")\n",
    "            w_href_edit = w_href_edit.replace('%2792', \"'92\")\n",
    "            w_href_edit = w_href_edit.replace('%2791', \"'91\")          \n",
    "            # check if w_href_edit is in the weapon list\n",
    "            if w_href_edit in w_names.values:\n",
    "                time.sleep(0.02)\n",
    "                # make a list of the tds that contain the weapon name\n",
    "                path_list.append(BASE_PATHS + w_href)           \n",
    "path_list = list(dict.fromkeys(path_list))\n",
    "path_list.sort()\n",
    "\n",
    "image_path_list = []\n",
    "\n",
    "time.sleep(2)\n",
    "\n",
    "count = 0\n",
    "\n",
    "for weapon_path in path_list:\n",
    "    time.sleep(1)\n",
    "    image_path = ''\n",
    "    \n",
    "    response = session.get(weapon_path, timeout=30)\n",
    "    \n",
    "    soup = BeautifulSoup(response.text, 'html.parser')\n",
    "    images = soup.find_all('img')\n",
    "\n",
    "    for img in images:\n",
    "        src = img.get('src', '')\n",
    "        alt = img.get('alt', '')\n",
    "        \n",
    "        if '256px-S3' in src:\n",
    "            image_url = 'https:' + src\n",
    "            print(alt)\n",
    "            print(image_url)\n",
    "            display(Image(url=image_url))\n",
    "            image_path_list.append(image_url)\n",
    "            image_path = image_url\n",
    "            break\n",
    "    count += 1\n",
    "print(len(w_names))\n",
    "print(len(image_path_list))"
   ]
  },
  {
   "cell_type": "markdown",
   "id": "c0546031",
   "metadata": {},
   "source": [
    "# BREAKING DOWN INTO FUNCTIONS:"
   ]
  },
  {
   "cell_type": "code",
   "execution_count": 101,
   "id": "4be25d3c",
   "metadata": {},
   "outputs": [],
   "source": [
    "from bs4 import BeautifulSoup\n",
    "import requests\n",
    "import time\n",
    "import pandas as pd\n",
    "from etl.extract.url_request import make_request\n",
    "from IPython.display import Image, display\n",
    "\n",
    "HEADERS = {'User-Agent': 'Mozilla/5.0'}\n",
    "\n",
    "ALL_WEAPONS_SITE = 'https://splatoonwiki.org/wiki/List_of_main_weapons_in_Splatoon_3'\n",
    "\n",
    "BASE_PATHS = 'https://splatoonwiki.org' ## Base URL for the Splatoon wiki\n",
    "\n",
    "TEST_MODE = False\n",
    "\n",
    "\n",
    "# function to extract all main wain weapon images as\n",
    "# a list of paths to URLs\n",
    "def extract_main_weapon_images(w_names):\n",
    "    session = start_session()\n",
    "    path_list = find_all_weapon_pages(session,w_names)\n",
    "    image_path_list = find_all_weapon_urls(session,path_list, w_names)\n",
    "\n",
    "    return None\n",
    "\n",
    "\n",
    "# function to find paths to each weapon page\n",
    "def find_all_weapon_pages(session, w_names): \n",
    "    response = session.get(ALL_WEAPONS_SITE, timeout=10)  \n",
    "    soup = BeautifulSoup(response.text, 'html.parser')\n",
    "    \n",
    "    path_list = []\n",
    "    weapons = soup.find_all('td')\n",
    "    print(len(weapons))\n",
    "\n",
    "    weapons = list(dict.fromkeys(weapons))\n",
    "\n",
    "    print(len(weapons))\n",
    "\n",
    "    if TEST_MODE is True:\n",
    "        weapons = weapons[:100]\n",
    "\n",
    "    for w in weapons:\n",
    "        if w.find('a') is not None:\n",
    "            if w.find('a')['href'] is not None:\n",
    "                path_list = find_weapon_path(w, path_list)\n",
    "    path_list = list(dict.fromkeys(path_list))\n",
    "    path_list.sort()\n",
    "    time.sleep(2)\n",
    "    return path_list\n",
    "\n",
    "\n",
    "# function to find the path for each weapon and add to the list\n",
    "def find_weapon_path(w, path_list):\n",
    "    w_href =  w.find('a')['href']\n",
    "    w_href_edit = w_href.split('/')[-1] # Split the URL to get the last part, which is the weapon name\n",
    "    w_href_edit = fix_names(w_href_edit)\n",
    "    # check if w_href_edit matches a weapon in the weapon list\n",
    "    if w_href_edit in w_names.values:\n",
    "        time.sleep(0.02)\n",
    "        # make a list of the urls with a weapon name\n",
    "        path_list.append(BASE_PATHS + w_href)     \n",
    "    return path_list\n",
    "\n",
    "\n",
    "# fix weapon names to match the format with the ones if the dataframe\n",
    "def fix_names(name):\n",
    "    # Replace underscores with spaces to match the original weapon names\n",
    "    name = name.replace('_', ' ') \n",
    "    # Making changes to certain names to be in the right format:\n",
    "    name = name.replace('Z%2BF', 'Z+F') \n",
    "    name = name.replace('%2785', \"'85\")\n",
    "    name = name.replace('%2789', \"'89\")\n",
    "    name = name.replace('%2792', \"'92\")\n",
    "    name = name.replace('%2791', \"'91\")   \n",
    "    return name  \n",
    "\n",
    "\n",
    "\n",
    "# function to find the weapon image from each weapon page\n",
    "def find_all_weapon_urls(session,path_list, w_names):\n",
    "    image_path_list = []\n",
    "\n",
    "    count = 0\n",
    "\n",
    "    for weapon_path in path_list:\n",
    "        time.sleep(1)\n",
    "        \n",
    "        response = session.get(weapon_path, timeout=30)\n",
    "        \n",
    "        soup = BeautifulSoup(response.text, 'html.parser')\n",
    "        image_path_list = find_all_images(soup,image_path_list)\n",
    "        count += 1\n",
    "    print(len(w_names))\n",
    "    print(len(image_path_list))\n",
    "    print(image_path_list)\n",
    "    return image_path_list\n",
    "\n",
    "\n",
    "# function to find all the images on the page\n",
    "# then return the correct image of the weapon\n",
    "def find_all_images(soup,image_path_list):\n",
    "    images = soup.find_all('img')\n",
    "    \n",
    "    for img in images:\n",
    "         image_url = find_image(img)\n",
    "         if image_url is not None:\n",
    "            image_path_list.append(image_url) \n",
    "            break\n",
    "    return image_path_list\n",
    "\n",
    "\n",
    "# function to find and return the correct image\n",
    "def find_image(img):\n",
    "    src = img.get('src', '')\n",
    "    alt = img.get('alt', '')\n",
    "    \n",
    "    if '256px-S3' in src:\n",
    "        image_url = 'https:' + src\n",
    "        print(alt)\n",
    "        print(image_url)\n",
    "        display(Image(url=image_url))\n",
    "        #image_path_list.append(image_url) \n",
    "        return image_url\n",
    "    else:\n",
    "        return None \n",
    "\n",
    "# function to create the session object\n",
    "def start_session():\n",
    "    session = requests.Session()\n",
    "    session.headers.update(HEADERS)\n",
    "    return session\n",
    "\n",
    "\n",
    "\n",
    "\n",
    "\n",
    "\n",
    "\n"
   ]
  },
  {
   "cell_type": "code",
   "execution_count": null,
   "id": "62f886b9",
   "metadata": {},
   "outputs": [
    {
     "name": "stdout",
     "output_type": "stream",
     "text": [
      "1430\n",
      "516\n",
      ".52 Gal\n",
      "https://cdn.wikimg.net/en/splatoonwiki/images/thumb/e/ed/S3_Weapon_Main_.52_Gal.png/256px-S3_Weapon_Main_.52_Gal.png\n"
     ]
    },
    {
     "data": {
      "text/html": [
       "<img src=\"https://cdn.wikimg.net/en/splatoonwiki/images/thumb/e/ed/S3_Weapon_Main_.52_Gal.png/256px-S3_Weapon_Main_.52_Gal.png\"/>"
      ],
      "text/plain": [
       "<IPython.core.display.Image object>"
      ]
     },
     "metadata": {},
     "output_type": "display_data"
    },
    {
     "name": "stdout",
     "output_type": "stream",
     "text": [
      ".52 Gal Deco\n",
      "https://cdn.wikimg.net/en/splatoonwiki/images/thumb/2/26/S3_Weapon_Main_.52_Gal_Deco.png/256px-S3_Weapon_Main_.52_Gal_Deco.png\n"
     ]
    },
    {
     "data": {
      "text/html": [
       "<img src=\"https://cdn.wikimg.net/en/splatoonwiki/images/thumb/2/26/S3_Weapon_Main_.52_Gal_Deco.png/256px-S3_Weapon_Main_.52_Gal_Deco.png\"/>"
      ],
      "text/plain": [
       "<IPython.core.display.Image object>"
      ]
     },
     "metadata": {},
     "output_type": "display_data"
    },
    {
     "name": "stdout",
     "output_type": "stream",
     "text": [
      ".96 Gal\n",
      "https://cdn.wikimg.net/en/splatoonwiki/images/thumb/5/55/S3_Weapon_Main_.96_Gal.png/256px-S3_Weapon_Main_.96_Gal.png\n"
     ]
    },
    {
     "data": {
      "text/html": [
       "<img src=\"https://cdn.wikimg.net/en/splatoonwiki/images/thumb/5/55/S3_Weapon_Main_.96_Gal.png/256px-S3_Weapon_Main_.96_Gal.png\"/>"
      ],
      "text/plain": [
       "<IPython.core.display.Image object>"
      ]
     },
     "metadata": {},
     "output_type": "display_data"
    },
    {
     "name": "stdout",
     "output_type": "stream",
     "text": [
      ".96 Gal Deco\n",
      "https://cdn.wikimg.net/en/splatoonwiki/images/thumb/8/8b/S3_Weapon_Main_.96_Gal_Deco.png/256px-S3_Weapon_Main_.96_Gal_Deco.png\n"
     ]
    },
    {
     "data": {
      "text/html": [
       "<img src=\"https://cdn.wikimg.net/en/splatoonwiki/images/thumb/8/8b/S3_Weapon_Main_.96_Gal_Deco.png/256px-S3_Weapon_Main_.96_Gal_Deco.png\"/>"
      ],
      "text/plain": [
       "<IPython.core.display.Image object>"
      ]
     },
     "metadata": {},
     "output_type": "display_data"
    },
    {
     "name": "stdout",
     "output_type": "stream",
     "text": [
      "Aerospray MG\n",
      "https://cdn.wikimg.net/en/splatoonwiki/images/thumb/c/c5/S3_Weapon_Main_Aerospray_MG.png/256px-S3_Weapon_Main_Aerospray_MG.png\n"
     ]
    },
    {
     "data": {
      "text/html": [
       "<img src=\"https://cdn.wikimg.net/en/splatoonwiki/images/thumb/c/c5/S3_Weapon_Main_Aerospray_MG.png/256px-S3_Weapon_Main_Aerospray_MG.png\"/>"
      ],
      "text/plain": [
       "<IPython.core.display.Image object>"
      ]
     },
     "metadata": {},
     "output_type": "display_data"
    },
    {
     "name": "stdout",
     "output_type": "stream",
     "text": [
      "Aerospray RG\n",
      "https://cdn.wikimg.net/en/splatoonwiki/images/thumb/2/2b/S3_Weapon_Main_Aerospray_RG.png/256px-S3_Weapon_Main_Aerospray_RG.png\n"
     ]
    },
    {
     "data": {
      "text/html": [
       "<img src=\"https://cdn.wikimg.net/en/splatoonwiki/images/thumb/2/2b/S3_Weapon_Main_Aerospray_RG.png/256px-S3_Weapon_Main_Aerospray_RG.png\"/>"
      ],
      "text/plain": [
       "<IPython.core.display.Image object>"
      ]
     },
     "metadata": {},
     "output_type": "display_data"
    },
    {
     "name": "stdout",
     "output_type": "stream",
     "text": [
      "Annaki Splattershot Nova\n",
      "https://cdn.wikimg.net/en/splatoonwiki/images/thumb/c/c5/S3_Weapon_Main_Annaki_Splattershot_Nova.png/256px-S3_Weapon_Main_Annaki_Splattershot_Nova.png\n"
     ]
    },
    {
     "data": {
      "text/html": [
       "<img src=\"https://cdn.wikimg.net/en/splatoonwiki/images/thumb/c/c5/S3_Weapon_Main_Annaki_Splattershot_Nova.png/256px-S3_Weapon_Main_Annaki_Splattershot_Nova.png\"/>"
      ],
      "text/plain": [
       "<IPython.core.display.Image object>"
      ]
     },
     "metadata": {},
     "output_type": "display_data"
    },
    {
     "name": "stdout",
     "output_type": "stream",
     "text": [
      "Ballpoint Splatling\n",
      "https://cdn.wikimg.net/en/splatoonwiki/images/thumb/f/f9/S3_Weapon_Main_Ballpoint_Splatling.png/256px-S3_Weapon_Main_Ballpoint_Splatling.png\n"
     ]
    },
    {
     "data": {
      "text/html": [
       "<img src=\"https://cdn.wikimg.net/en/splatoonwiki/images/thumb/f/f9/S3_Weapon_Main_Ballpoint_Splatling.png/256px-S3_Weapon_Main_Ballpoint_Splatling.png\"/>"
      ],
      "text/plain": [
       "<IPython.core.display.Image object>"
      ]
     },
     "metadata": {},
     "output_type": "display_data"
    },
    {
     "name": "stdout",
     "output_type": "stream",
     "text": [
      "Ballpoint Splatling Nouveau\n",
      "https://cdn.wikimg.net/en/splatoonwiki/images/thumb/b/b1/S3_Weapon_Main_Ballpoint_Splatling_Nouveau.png/256px-S3_Weapon_Main_Ballpoint_Splatling_Nouveau.png\n"
     ]
    },
    {
     "data": {
      "text/html": [
       "<img src=\"https://cdn.wikimg.net/en/splatoonwiki/images/thumb/b/b1/S3_Weapon_Main_Ballpoint_Splatling_Nouveau.png/256px-S3_Weapon_Main_Ballpoint_Splatling_Nouveau.png\"/>"
      ],
      "text/plain": [
       "<IPython.core.display.Image object>"
      ]
     },
     "metadata": {},
     "output_type": "display_data"
    },
    {
     "name": "stdout",
     "output_type": "stream",
     "text": [
      "Bamboozler 14 Mk I\n",
      "https://cdn.wikimg.net/en/splatoonwiki/images/thumb/6/6d/S3_Weapon_Main_Bamboozler_14_Mk_I.png/256px-S3_Weapon_Main_Bamboozler_14_Mk_I.png\n"
     ]
    },
    {
     "data": {
      "text/html": [
       "<img src=\"https://cdn.wikimg.net/en/splatoonwiki/images/thumb/6/6d/S3_Weapon_Main_Bamboozler_14_Mk_I.png/256px-S3_Weapon_Main_Bamboozler_14_Mk_I.png\"/>"
      ],
      "text/plain": [
       "<IPython.core.display.Image object>"
      ]
     },
     "metadata": {},
     "output_type": "display_data"
    },
    {
     "name": "stdout",
     "output_type": "stream",
     "text": [
      "Bamboozler 14 Mk II\n",
      "https://cdn.wikimg.net/en/splatoonwiki/images/thumb/9/9f/S3_Weapon_Main_Bamboozler_14_Mk_II.png/256px-S3_Weapon_Main_Bamboozler_14_Mk_II.png\n"
     ]
    },
    {
     "data": {
      "text/html": [
       "<img src=\"https://cdn.wikimg.net/en/splatoonwiki/images/thumb/9/9f/S3_Weapon_Main_Bamboozler_14_Mk_II.png/256px-S3_Weapon_Main_Bamboozler_14_Mk_II.png\"/>"
      ],
      "text/plain": [
       "<IPython.core.display.Image object>"
      ]
     },
     "metadata": {},
     "output_type": "display_data"
    },
    {
     "name": "stdout",
     "output_type": "stream",
     "text": [
      "Big Swig Roller\n",
      "https://cdn.wikimg.net/en/splatoonwiki/images/thumb/8/8e/S3_Weapon_Main_Big_Swig_Roller.png/256px-S3_Weapon_Main_Big_Swig_Roller.png\n"
     ]
    },
    {
     "data": {
      "text/html": [
       "<img src=\"https://cdn.wikimg.net/en/splatoonwiki/images/thumb/8/8e/S3_Weapon_Main_Big_Swig_Roller.png/256px-S3_Weapon_Main_Big_Swig_Roller.png\"/>"
      ],
      "text/plain": [
       "<IPython.core.display.Image object>"
      ]
     },
     "metadata": {},
     "output_type": "display_data"
    },
    {
     "name": "stdout",
     "output_type": "stream",
     "text": [
      "Big Swig Roller Express\n",
      "https://cdn.wikimg.net/en/splatoonwiki/images/thumb/f/f7/S3_Weapon_Main_Big_Swig_Roller_Express.png/256px-S3_Weapon_Main_Big_Swig_Roller_Express.png\n"
     ]
    },
    {
     "data": {
      "text/html": [
       "<img src=\"https://cdn.wikimg.net/en/splatoonwiki/images/thumb/f/f7/S3_Weapon_Main_Big_Swig_Roller_Express.png/256px-S3_Weapon_Main_Big_Swig_Roller_Express.png\"/>"
      ],
      "text/plain": [
       "<IPython.core.display.Image object>"
      ]
     },
     "metadata": {},
     "output_type": "display_data"
    },
    {
     "name": "stdout",
     "output_type": "stream",
     "text": [
      "Blaster\n",
      "https://cdn.wikimg.net/en/splatoonwiki/images/thumb/a/a7/S3_Weapon_Main_Blaster.png/256px-S3_Weapon_Main_Blaster.png\n"
     ]
    },
    {
     "data": {
      "text/html": [
       "<img src=\"https://cdn.wikimg.net/en/splatoonwiki/images/thumb/a/a7/S3_Weapon_Main_Blaster.png/256px-S3_Weapon_Main_Blaster.png\"/>"
      ],
      "text/plain": [
       "<IPython.core.display.Image object>"
      ]
     },
     "metadata": {},
     "output_type": "display_data"
    },
    {
     "name": "stdout",
     "output_type": "stream",
     "text": [
      "Bloblobber\n",
      "https://cdn.wikimg.net/en/splatoonwiki/images/thumb/4/41/S3_Weapon_Main_Bloblobber.png/256px-S3_Weapon_Main_Bloblobber.png\n"
     ]
    },
    {
     "data": {
      "text/html": [
       "<img src=\"https://cdn.wikimg.net/en/splatoonwiki/images/thumb/4/41/S3_Weapon_Main_Bloblobber.png/256px-S3_Weapon_Main_Bloblobber.png\"/>"
      ],
      "text/plain": [
       "<IPython.core.display.Image object>"
      ]
     },
     "metadata": {},
     "output_type": "display_data"
    },
    {
     "name": "stdout",
     "output_type": "stream",
     "text": [
      "Bloblobber Deco\n",
      "https://cdn.wikimg.net/en/splatoonwiki/images/thumb/9/93/S3_Weapon_Main_Bloblobber_Deco.png/256px-S3_Weapon_Main_Bloblobber_Deco.png\n"
     ]
    },
    {
     "data": {
      "text/html": [
       "<img src=\"https://cdn.wikimg.net/en/splatoonwiki/images/thumb/9/93/S3_Weapon_Main_Bloblobber_Deco.png/256px-S3_Weapon_Main_Bloblobber_Deco.png\"/>"
      ],
      "text/plain": [
       "<IPython.core.display.Image object>"
      ]
     },
     "metadata": {},
     "output_type": "display_data"
    },
    {
     "name": "stdout",
     "output_type": "stream",
     "text": [
      "Carbon Roller\n",
      "https://cdn.wikimg.net/en/splatoonwiki/images/thumb/2/21/S3_Weapon_Main_Carbon_Roller.png/256px-S3_Weapon_Main_Carbon_Roller.png\n"
     ]
    },
    {
     "data": {
      "text/html": [
       "<img src=\"https://cdn.wikimg.net/en/splatoonwiki/images/thumb/2/21/S3_Weapon_Main_Carbon_Roller.png/256px-S3_Weapon_Main_Carbon_Roller.png\"/>"
      ],
      "text/plain": [
       "<IPython.core.display.Image object>"
      ]
     },
     "metadata": {},
     "output_type": "display_data"
    },
    {
     "name": "stdout",
     "output_type": "stream",
     "text": [
      "Carbon Roller Deco\n",
      "https://cdn.wikimg.net/en/splatoonwiki/images/thumb/7/72/S3_Weapon_Main_Carbon_Roller_Deco.png/256px-S3_Weapon_Main_Carbon_Roller_Deco.png\n"
     ]
    },
    {
     "data": {
      "text/html": [
       "<img src=\"https://cdn.wikimg.net/en/splatoonwiki/images/thumb/7/72/S3_Weapon_Main_Carbon_Roller_Deco.png/256px-S3_Weapon_Main_Carbon_Roller_Deco.png\"/>"
      ],
      "text/plain": [
       "<IPython.core.display.Image object>"
      ]
     },
     "metadata": {},
     "output_type": "display_data"
    },
    {
     "name": "stdout",
     "output_type": "stream",
     "text": [
      "Charcoal Decavitator\n",
      "https://cdn.wikimg.net/en/splatoonwiki/images/thumb/5/52/S3_Weapon_Main_Charcoal_Decavitator.png/256px-S3_Weapon_Main_Charcoal_Decavitator.png\n"
     ]
    },
    {
     "data": {
      "text/html": [
       "<img src=\"https://cdn.wikimg.net/en/splatoonwiki/images/thumb/5/52/S3_Weapon_Main_Charcoal_Decavitator.png/256px-S3_Weapon_Main_Charcoal_Decavitator.png\"/>"
      ],
      "text/plain": [
       "<IPython.core.display.Image object>"
      ]
     },
     "metadata": {},
     "output_type": "display_data"
    },
    {
     "name": "stdout",
     "output_type": "stream",
     "text": [
      "Clash Blaster\n",
      "https://cdn.wikimg.net/en/splatoonwiki/images/thumb/2/2f/S3_Weapon_Main_Clash_Blaster.png/256px-S3_Weapon_Main_Clash_Blaster.png\n"
     ]
    },
    {
     "data": {
      "text/html": [
       "<img src=\"https://cdn.wikimg.net/en/splatoonwiki/images/thumb/2/2f/S3_Weapon_Main_Clash_Blaster.png/256px-S3_Weapon_Main_Clash_Blaster.png\"/>"
      ],
      "text/plain": [
       "<IPython.core.display.Image object>"
      ]
     },
     "metadata": {},
     "output_type": "display_data"
    },
    {
     "name": "stdout",
     "output_type": "stream",
     "text": [
      "Clash Blaster Neo\n",
      "https://cdn.wikimg.net/en/splatoonwiki/images/thumb/1/10/S3_Weapon_Main_Clash_Blaster_Neo.png/256px-S3_Weapon_Main_Clash_Blaster_Neo.png\n"
     ]
    },
    {
     "data": {
      "text/html": [
       "<img src=\"https://cdn.wikimg.net/en/splatoonwiki/images/thumb/1/10/S3_Weapon_Main_Clash_Blaster_Neo.png/256px-S3_Weapon_Main_Clash_Blaster_Neo.png\"/>"
      ],
      "text/plain": [
       "<IPython.core.display.Image object>"
      ]
     },
     "metadata": {},
     "output_type": "display_data"
    },
    {
     "name": "stdout",
     "output_type": "stream",
     "text": [
      "Classic Squiffer\n",
      "https://cdn.wikimg.net/en/splatoonwiki/images/thumb/3/3c/S3_Weapon_Main_Classic_Squiffer.png/256px-S3_Weapon_Main_Classic_Squiffer.png\n"
     ]
    },
    {
     "data": {
      "text/html": [
       "<img src=\"https://cdn.wikimg.net/en/splatoonwiki/images/thumb/3/3c/S3_Weapon_Main_Classic_Squiffer.png/256px-S3_Weapon_Main_Classic_Squiffer.png\"/>"
      ],
      "text/plain": [
       "<IPython.core.display.Image object>"
      ]
     },
     "metadata": {},
     "output_type": "display_data"
    },
    {
     "name": "stdout",
     "output_type": "stream",
     "text": [
      "Custom Blaster\n",
      "https://cdn.wikimg.net/en/splatoonwiki/images/thumb/4/44/S3_Weapon_Main_Custom_Blaster.png/256px-S3_Weapon_Main_Custom_Blaster.png\n"
     ]
    },
    {
     "data": {
      "text/html": [
       "<img src=\"https://cdn.wikimg.net/en/splatoonwiki/images/thumb/4/44/S3_Weapon_Main_Custom_Blaster.png/256px-S3_Weapon_Main_Custom_Blaster.png\"/>"
      ],
      "text/plain": [
       "<IPython.core.display.Image object>"
      ]
     },
     "metadata": {},
     "output_type": "display_data"
    },
    {
     "name": "stdout",
     "output_type": "stream",
     "text": [
      "Custom Douser Dualies FF\n",
      "https://cdn.wikimg.net/en/splatoonwiki/images/thumb/f/f6/S3_Weapon_Main_Custom_Douser_Dualies_FF.png/256px-S3_Weapon_Main_Custom_Douser_Dualies_FF.png\n"
     ]
    },
    {
     "data": {
      "text/html": [
       "<img src=\"https://cdn.wikimg.net/en/splatoonwiki/images/thumb/f/f6/S3_Weapon_Main_Custom_Douser_Dualies_FF.png/256px-S3_Weapon_Main_Custom_Douser_Dualies_FF.png\"/>"
      ],
      "text/plain": [
       "<IPython.core.display.Image object>"
      ]
     },
     "metadata": {},
     "output_type": "display_data"
    },
    {
     "name": "stdout",
     "output_type": "stream",
     "text": [
      "Custom Dualie Squelchers\n",
      "https://cdn.wikimg.net/en/splatoonwiki/images/thumb/9/9d/S3_Weapon_Main_Custom_Dualie_Squelchers.png/256px-S3_Weapon_Main_Custom_Dualie_Squelchers.png\n"
     ]
    },
    {
     "data": {
      "text/html": [
       "<img src=\"https://cdn.wikimg.net/en/splatoonwiki/images/thumb/9/9d/S3_Weapon_Main_Custom_Dualie_Squelchers.png/256px-S3_Weapon_Main_Custom_Dualie_Squelchers.png\"/>"
      ],
      "text/plain": [
       "<IPython.core.display.Image object>"
      ]
     },
     "metadata": {},
     "output_type": "display_data"
    },
    {
     "name": "stdout",
     "output_type": "stream",
     "text": [
      "Custom E-liter 4K\n",
      "https://cdn.wikimg.net/en/splatoonwiki/images/thumb/e/e6/S3_Weapon_Main_Custom_E-liter_4K.png/256px-S3_Weapon_Main_Custom_E-liter_4K.png\n"
     ]
    },
    {
     "data": {
      "text/html": [
       "<img src=\"https://cdn.wikimg.net/en/splatoonwiki/images/thumb/e/e6/S3_Weapon_Main_Custom_E-liter_4K.png/256px-S3_Weapon_Main_Custom_E-liter_4K.png\"/>"
      ],
      "text/plain": [
       "<IPython.core.display.Image object>"
      ]
     },
     "metadata": {},
     "output_type": "display_data"
    },
    {
     "name": "stdout",
     "output_type": "stream",
     "text": [
      "Custom E-liter 4K Scope\n",
      "https://cdn.wikimg.net/en/splatoonwiki/images/thumb/7/7c/S3_Weapon_Main_Custom_E-liter_4K_Scope.png/256px-S3_Weapon_Main_Custom_E-liter_4K_Scope.png\n"
     ]
    },
    {
     "data": {
      "text/html": [
       "<img src=\"https://cdn.wikimg.net/en/splatoonwiki/images/thumb/7/7c/S3_Weapon_Main_Custom_E-liter_4K_Scope.png/256px-S3_Weapon_Main_Custom_E-liter_4K_Scope.png\"/>"
      ],
      "text/plain": [
       "<IPython.core.display.Image object>"
      ]
     },
     "metadata": {},
     "output_type": "display_data"
    },
    {
     "name": "stdout",
     "output_type": "stream",
     "text": [
      "Custom Explosher\n",
      "https://cdn.wikimg.net/en/splatoonwiki/images/thumb/6/6e/S3_Weapon_Main_Custom_Explosher.png/256px-S3_Weapon_Main_Custom_Explosher.png\n"
     ]
    },
    {
     "data": {
      "text/html": [
       "<img src=\"https://cdn.wikimg.net/en/splatoonwiki/images/thumb/6/6e/S3_Weapon_Main_Custom_Explosher.png/256px-S3_Weapon_Main_Custom_Explosher.png\"/>"
      ],
      "text/plain": [
       "<IPython.core.display.Image object>"
      ]
     },
     "metadata": {},
     "output_type": "display_data"
    },
    {
     "name": "stdout",
     "output_type": "stream",
     "text": [
      "Custom Goo Tuber\n",
      "https://cdn.wikimg.net/en/splatoonwiki/images/thumb/9/91/S3_Weapon_Main_Custom_Goo_Tuber.png/256px-S3_Weapon_Main_Custom_Goo_Tuber.png\n"
     ]
    },
    {
     "data": {
      "text/html": [
       "<img src=\"https://cdn.wikimg.net/en/splatoonwiki/images/thumb/9/91/S3_Weapon_Main_Custom_Goo_Tuber.png/256px-S3_Weapon_Main_Custom_Goo_Tuber.png\"/>"
      ],
      "text/plain": [
       "<IPython.core.display.Image object>"
      ]
     },
     "metadata": {},
     "output_type": "display_data"
    },
    {
     "name": "stdout",
     "output_type": "stream",
     "text": [
      "Custom Hydra Splatling\n",
      "https://cdn.wikimg.net/en/splatoonwiki/images/thumb/f/f6/S3_Weapon_Main_Custom_Hydra_Splatling.png/256px-S3_Weapon_Main_Custom_Hydra_Splatling.png\n"
     ]
    },
    {
     "data": {
      "text/html": [
       "<img src=\"https://cdn.wikimg.net/en/splatoonwiki/images/thumb/f/f6/S3_Weapon_Main_Custom_Hydra_Splatling.png/256px-S3_Weapon_Main_Custom_Hydra_Splatling.png\"/>"
      ],
      "text/plain": [
       "<IPython.core.display.Image object>"
      ]
     },
     "metadata": {},
     "output_type": "display_data"
    },
    {
     "name": "stdout",
     "output_type": "stream",
     "text": [
      "Custom Jet Squelcher\n",
      "https://cdn.wikimg.net/en/splatoonwiki/images/thumb/e/ed/S3_Weapon_Main_Custom_Jet_Squelcher.png/256px-S3_Weapon_Main_Custom_Jet_Squelcher.png\n"
     ]
    },
    {
     "data": {
      "text/html": [
       "<img src=\"https://cdn.wikimg.net/en/splatoonwiki/images/thumb/e/ed/S3_Weapon_Main_Custom_Jet_Squelcher.png/256px-S3_Weapon_Main_Custom_Jet_Squelcher.png\"/>"
      ],
      "text/plain": [
       "<IPython.core.display.Image object>"
      ]
     },
     "metadata": {},
     "output_type": "display_data"
    },
    {
     "name": "stdout",
     "output_type": "stream",
     "text": [
      "Custom Range Blaster\n",
      "https://cdn.wikimg.net/en/splatoonwiki/images/thumb/c/ce/S3_Weapon_Main_Custom_Range_Blaster.png/256px-S3_Weapon_Main_Custom_Range_Blaster.png\n"
     ]
    },
    {
     "data": {
      "text/html": [
       "<img src=\"https://cdn.wikimg.net/en/splatoonwiki/images/thumb/c/ce/S3_Weapon_Main_Custom_Range_Blaster.png/256px-S3_Weapon_Main_Custom_Range_Blaster.png\"/>"
      ],
      "text/plain": [
       "<IPython.core.display.Image object>"
      ]
     },
     "metadata": {},
     "output_type": "display_data"
    },
    {
     "name": "stdout",
     "output_type": "stream",
     "text": [
      "Custom Splattershot Jr.\n",
      "https://cdn.wikimg.net/en/splatoonwiki/images/thumb/d/df/S3_Weapon_Main_Custom_Splattershot_Jr..png/256px-S3_Weapon_Main_Custom_Splattershot_Jr..png\n"
     ]
    },
    {
     "data": {
      "text/html": [
       "<img src=\"https://cdn.wikimg.net/en/splatoonwiki/images/thumb/d/df/S3_Weapon_Main_Custom_Splattershot_Jr..png/256px-S3_Weapon_Main_Custom_Splattershot_Jr..png\"/>"
      ],
      "text/plain": [
       "<IPython.core.display.Image object>"
      ]
     },
     "metadata": {},
     "output_type": "display_data"
    },
    {
     "name": "stdout",
     "output_type": "stream",
     "text": [
      "\n",
      "https://cdn.wikimg.net/en/splatoonwiki/images/thumb/4/40/S3_Weapon_Main_Custom_Wellstring_V.png/256px-S3_Weapon_Main_Custom_Wellstring_V.png\n"
     ]
    },
    {
     "data": {
      "text/html": [
       "<img src=\"https://cdn.wikimg.net/en/splatoonwiki/images/thumb/4/40/S3_Weapon_Main_Custom_Wellstring_V.png/256px-S3_Weapon_Main_Custom_Wellstring_V.png\"/>"
      ],
      "text/plain": [
       "<IPython.core.display.Image object>"
      ]
     },
     "metadata": {},
     "output_type": "display_data"
    },
    {
     "name": "stdout",
     "output_type": "stream",
     "text": [
      "Dapple Dualies\n",
      "https://cdn.wikimg.net/en/splatoonwiki/images/thumb/5/54/S3_Weapon_Main_Dapple_Dualies.png/256px-S3_Weapon_Main_Dapple_Dualies.png\n"
     ]
    },
    {
     "data": {
      "text/html": [
       "<img src=\"https://cdn.wikimg.net/en/splatoonwiki/images/thumb/5/54/S3_Weapon_Main_Dapple_Dualies.png/256px-S3_Weapon_Main_Dapple_Dualies.png\"/>"
      ],
      "text/plain": [
       "<IPython.core.display.Image object>"
      ]
     },
     "metadata": {},
     "output_type": "display_data"
    },
    {
     "name": "stdout",
     "output_type": "stream",
     "text": [
      "Dapple Dualies Nouveau\n",
      "https://cdn.wikimg.net/en/splatoonwiki/images/thumb/e/e1/S3_Weapon_Main_Dapple_Dualies_Nouveau.png/256px-S3_Weapon_Main_Dapple_Dualies_Nouveau.png\n"
     ]
    },
    {
     "data": {
      "text/html": [
       "<img src=\"https://cdn.wikimg.net/en/splatoonwiki/images/thumb/e/e1/S3_Weapon_Main_Dapple_Dualies_Nouveau.png/256px-S3_Weapon_Main_Dapple_Dualies_Nouveau.png\"/>"
      ],
      "text/plain": [
       "<IPython.core.display.Image object>"
      ]
     },
     "metadata": {},
     "output_type": "display_data"
    },
    {
     "name": "stdout",
     "output_type": "stream",
     "text": [
      "Dark Tetra Dualies\n",
      "https://cdn.wikimg.net/en/splatoonwiki/images/thumb/c/c9/S3_Weapon_Main_Dark_Tetra_Dualies.png/256px-S3_Weapon_Main_Dark_Tetra_Dualies.png\n"
     ]
    },
    {
     "data": {
      "text/html": [
       "<img src=\"https://cdn.wikimg.net/en/splatoonwiki/images/thumb/c/c9/S3_Weapon_Main_Dark_Tetra_Dualies.png/256px-S3_Weapon_Main_Dark_Tetra_Dualies.png\"/>"
      ],
      "text/plain": [
       "<IPython.core.display.Image object>"
      ]
     },
     "metadata": {},
     "output_type": "display_data"
    },
    {
     "name": "stdout",
     "output_type": "stream",
     "text": [
      "Douser Dualies FF\n",
      "https://cdn.wikimg.net/en/splatoonwiki/images/thumb/2/2c/S3_Weapon_Main_Douser_Dualies_FF.png/256px-S3_Weapon_Main_Douser_Dualies_FF.png\n"
     ]
    },
    {
     "data": {
      "text/html": [
       "<img src=\"https://cdn.wikimg.net/en/splatoonwiki/images/thumb/2/2c/S3_Weapon_Main_Douser_Dualies_FF.png/256px-S3_Weapon_Main_Douser_Dualies_FF.png\"/>"
      ],
      "text/plain": [
       "<IPython.core.display.Image object>"
      ]
     },
     "metadata": {},
     "output_type": "display_data"
    },
    {
     "name": "stdout",
     "output_type": "stream",
     "text": [
      "Dread Wringer\n",
      "https://cdn.wikimg.net/en/splatoonwiki/images/thumb/6/6c/S3_Weapon_Main_Dread_Wringer.png/256px-S3_Weapon_Main_Dread_Wringer.png\n"
     ]
    },
    {
     "data": {
      "text/html": [
       "<img src=\"https://cdn.wikimg.net/en/splatoonwiki/images/thumb/6/6c/S3_Weapon_Main_Dread_Wringer.png/256px-S3_Weapon_Main_Dread_Wringer.png\"/>"
      ],
      "text/plain": [
       "<IPython.core.display.Image object>"
      ]
     },
     "metadata": {},
     "output_type": "display_data"
    },
    {
     "name": "stdout",
     "output_type": "stream",
     "text": [
      "Dread Wringer D\n",
      "https://cdn.wikimg.net/en/splatoonwiki/images/thumb/d/d2/S3_Weapon_Main_Dread_Wringer_D.png/256px-S3_Weapon_Main_Dread_Wringer_D.png\n"
     ]
    },
    {
     "data": {
      "text/html": [
       "<img src=\"https://cdn.wikimg.net/en/splatoonwiki/images/thumb/d/d2/S3_Weapon_Main_Dread_Wringer_D.png/256px-S3_Weapon_Main_Dread_Wringer_D.png\"/>"
      ],
      "text/plain": [
       "<IPython.core.display.Image object>"
      ]
     },
     "metadata": {},
     "output_type": "display_data"
    },
    {
     "name": "stdout",
     "output_type": "stream",
     "text": [
      "Dualie Squelchers\n",
      "https://cdn.wikimg.net/en/splatoonwiki/images/thumb/5/5a/S3_Weapon_Main_Dualie_Squelchers.png/256px-S3_Weapon_Main_Dualie_Squelchers.png\n"
     ]
    },
    {
     "data": {
      "text/html": [
       "<img src=\"https://cdn.wikimg.net/en/splatoonwiki/images/thumb/5/5a/S3_Weapon_Main_Dualie_Squelchers.png/256px-S3_Weapon_Main_Dualie_Squelchers.png\"/>"
      ],
      "text/plain": [
       "<IPython.core.display.Image object>"
      ]
     },
     "metadata": {},
     "output_type": "display_data"
    },
    {
     "name": "stdout",
     "output_type": "stream",
     "text": [
      "Dynamo Roller\n",
      "https://cdn.wikimg.net/en/splatoonwiki/images/thumb/5/5e/S3_Weapon_Main_Dynamo_Roller.png/256px-S3_Weapon_Main_Dynamo_Roller.png\n"
     ]
    },
    {
     "data": {
      "text/html": [
       "<img src=\"https://cdn.wikimg.net/en/splatoonwiki/images/thumb/5/5e/S3_Weapon_Main_Dynamo_Roller.png/256px-S3_Weapon_Main_Dynamo_Roller.png\"/>"
      ],
      "text/plain": [
       "<IPython.core.display.Image object>"
      ]
     },
     "metadata": {},
     "output_type": "display_data"
    },
    {
     "name": "stdout",
     "output_type": "stream",
     "text": [
      "E-liter 4K\n",
      "https://cdn.wikimg.net/en/splatoonwiki/images/thumb/1/10/S3_Weapon_Main_E-liter_4K.png/256px-S3_Weapon_Main_E-liter_4K.png\n"
     ]
    },
    {
     "data": {
      "text/html": [
       "<img src=\"https://cdn.wikimg.net/en/splatoonwiki/images/thumb/1/10/S3_Weapon_Main_E-liter_4K.png/256px-S3_Weapon_Main_E-liter_4K.png\"/>"
      ],
      "text/plain": [
       "<IPython.core.display.Image object>"
      ]
     },
     "metadata": {},
     "output_type": "display_data"
    },
    {
     "name": "stdout",
     "output_type": "stream",
     "text": [
      "E-liter 4K Scope\n",
      "https://cdn.wikimg.net/en/splatoonwiki/images/thumb/e/eb/S3_Weapon_Main_E-liter_4K_Scope.png/256px-S3_Weapon_Main_E-liter_4K_Scope.png\n"
     ]
    },
    {
     "data": {
      "text/html": [
       "<img src=\"https://cdn.wikimg.net/en/splatoonwiki/images/thumb/e/eb/S3_Weapon_Main_E-liter_4K_Scope.png/256px-S3_Weapon_Main_E-liter_4K_Scope.png\"/>"
      ],
      "text/plain": [
       "<IPython.core.display.Image object>"
      ]
     },
     "metadata": {},
     "output_type": "display_data"
    },
    {
     "name": "stdout",
     "output_type": "stream",
     "text": [
      "Enperry Splat Dualies\n",
      "https://cdn.wikimg.net/en/splatoonwiki/images/thumb/4/46/S3_Weapon_Main_Enperry_Splat_Dualies.png/256px-S3_Weapon_Main_Enperry_Splat_Dualies.png\n"
     ]
    },
    {
     "data": {
      "text/html": [
       "<img src=\"https://cdn.wikimg.net/en/splatoonwiki/images/thumb/4/46/S3_Weapon_Main_Enperry_Splat_Dualies.png/256px-S3_Weapon_Main_Enperry_Splat_Dualies.png\"/>"
      ],
      "text/plain": [
       "<IPython.core.display.Image object>"
      ]
     },
     "metadata": {},
     "output_type": "display_data"
    },
    {
     "name": "stdout",
     "output_type": "stream",
     "text": [
      "Explosher\n",
      "https://cdn.wikimg.net/en/splatoonwiki/images/thumb/d/de/S3_Weapon_Main_Explosher.png/256px-S3_Weapon_Main_Explosher.png\n"
     ]
    },
    {
     "data": {
      "text/html": [
       "<img src=\"https://cdn.wikimg.net/en/splatoonwiki/images/thumb/d/de/S3_Weapon_Main_Explosher.png/256px-S3_Weapon_Main_Explosher.png\"/>"
      ],
      "text/plain": [
       "<IPython.core.display.Image object>"
      ]
     },
     "metadata": {},
     "output_type": "display_data"
    },
    {
     "name": "stdout",
     "output_type": "stream",
     "text": [
      "Flingza Roller\n",
      "https://cdn.wikimg.net/en/splatoonwiki/images/thumb/d/d2/S3_Weapon_Main_Flingza_Roller.png/256px-S3_Weapon_Main_Flingza_Roller.png\n"
     ]
    },
    {
     "data": {
      "text/html": [
       "<img src=\"https://cdn.wikimg.net/en/splatoonwiki/images/thumb/d/d2/S3_Weapon_Main_Flingza_Roller.png/256px-S3_Weapon_Main_Flingza_Roller.png\"/>"
      ],
      "text/plain": [
       "<IPython.core.display.Image object>"
      ]
     },
     "metadata": {},
     "output_type": "display_data"
    },
    {
     "name": "stdout",
     "output_type": "stream",
     "text": [
      "Foil Flingza Roller\n",
      "https://cdn.wikimg.net/en/splatoonwiki/images/thumb/8/8c/S3_Weapon_Main_Foil_Flingza_Roller.png/256px-S3_Weapon_Main_Foil_Flingza_Roller.png\n"
     ]
    },
    {
     "data": {
      "text/html": [
       "<img src=\"https://cdn.wikimg.net/en/splatoonwiki/images/thumb/8/8c/S3_Weapon_Main_Foil_Flingza_Roller.png/256px-S3_Weapon_Main_Foil_Flingza_Roller.png\"/>"
      ],
      "text/plain": [
       "<IPython.core.display.Image object>"
      ]
     },
     "metadata": {},
     "output_type": "display_data"
    },
    {
     "name": "stdout",
     "output_type": "stream",
     "text": [
      "Foil Squeezer\n",
      "https://cdn.wikimg.net/en/splatoonwiki/images/thumb/4/49/S3_Weapon_Main_Foil_Squeezer.png/256px-S3_Weapon_Main_Foil_Squeezer.png\n"
     ]
    },
    {
     "data": {
      "text/html": [
       "<img src=\"https://cdn.wikimg.net/en/splatoonwiki/images/thumb/4/49/S3_Weapon_Main_Foil_Squeezer.png/256px-S3_Weapon_Main_Foil_Squeezer.png\"/>"
      ],
      "text/plain": [
       "<IPython.core.display.Image object>"
      ]
     },
     "metadata": {},
     "output_type": "display_data"
    },
    {
     "name": "stdout",
     "output_type": "stream",
     "text": [
      "Forge Splattershot Pro\n",
      "https://cdn.wikimg.net/en/splatoonwiki/images/thumb/d/d8/S3_Weapon_Main_Forge_Splattershot_Pro.png/256px-S3_Weapon_Main_Forge_Splattershot_Pro.png\n"
     ]
    },
    {
     "data": {
      "text/html": [
       "<img src=\"https://cdn.wikimg.net/en/splatoonwiki/images/thumb/d/d8/S3_Weapon_Main_Forge_Splattershot_Pro.png/256px-S3_Weapon_Main_Forge_Splattershot_Pro.png\"/>"
      ],
      "text/plain": [
       "<IPython.core.display.Image object>"
      ]
     },
     "metadata": {},
     "output_type": "display_data"
    },
    {
     "name": "stdout",
     "output_type": "stream",
     "text": [
      "Glooga Dualies\n",
      "https://cdn.wikimg.net/en/splatoonwiki/images/thumb/9/99/S3_Weapon_Main_Glooga_Dualies.png/256px-S3_Weapon_Main_Glooga_Dualies.png\n"
     ]
    },
    {
     "data": {
      "text/html": [
       "<img src=\"https://cdn.wikimg.net/en/splatoonwiki/images/thumb/9/99/S3_Weapon_Main_Glooga_Dualies.png/256px-S3_Weapon_Main_Glooga_Dualies.png\"/>"
      ],
      "text/plain": [
       "<IPython.core.display.Image object>"
      ]
     },
     "metadata": {},
     "output_type": "display_data"
    },
    {
     "name": "stdout",
     "output_type": "stream",
     "text": [
      "Glooga Dualies Deco\n",
      "https://cdn.wikimg.net/en/splatoonwiki/images/thumb/5/56/S3_Weapon_Main_Glooga_Dualies_Deco.png/256px-S3_Weapon_Main_Glooga_Dualies_Deco.png\n"
     ]
    },
    {
     "data": {
      "text/html": [
       "<img src=\"https://cdn.wikimg.net/en/splatoonwiki/images/thumb/5/56/S3_Weapon_Main_Glooga_Dualies_Deco.png/256px-S3_Weapon_Main_Glooga_Dualies_Deco.png\"/>"
      ],
      "text/plain": [
       "<IPython.core.display.Image object>"
      ]
     },
     "metadata": {},
     "output_type": "display_data"
    },
    {
     "name": "stdout",
     "output_type": "stream",
     "text": [
      "Gold Dynamo Roller\n",
      "https://cdn.wikimg.net/en/splatoonwiki/images/thumb/f/f8/S3_Weapon_Main_Gold_Dynamo_Roller.png/256px-S3_Weapon_Main_Gold_Dynamo_Roller.png\n"
     ]
    },
    {
     "data": {
      "text/html": [
       "<img src=\"https://cdn.wikimg.net/en/splatoonwiki/images/thumb/f/f8/S3_Weapon_Main_Gold_Dynamo_Roller.png/256px-S3_Weapon_Main_Gold_Dynamo_Roller.png\"/>"
      ],
      "text/plain": [
       "<IPython.core.display.Image object>"
      ]
     },
     "metadata": {},
     "output_type": "display_data"
    },
    {
     "name": "stdout",
     "output_type": "stream",
     "text": [
      "Goo Tuber\n",
      "https://cdn.wikimg.net/en/splatoonwiki/images/thumb/8/8a/S3_Weapon_Main_Goo_Tuber.png/256px-S3_Weapon_Main_Goo_Tuber.png\n"
     ]
    },
    {
     "data": {
      "text/html": [
       "<img src=\"https://cdn.wikimg.net/en/splatoonwiki/images/thumb/8/8a/S3_Weapon_Main_Goo_Tuber.png/256px-S3_Weapon_Main_Goo_Tuber.png\"/>"
      ],
      "text/plain": [
       "<IPython.core.display.Image object>"
      ]
     },
     "metadata": {},
     "output_type": "display_data"
    },
    {
     "name": "stdout",
     "output_type": "stream",
     "text": [
      "H-3 Nozzlenose\n",
      "https://cdn.wikimg.net/en/splatoonwiki/images/thumb/5/5a/S3_Weapon_Main_H-3_Nozzlenose.png/256px-S3_Weapon_Main_H-3_Nozzlenose.png\n"
     ]
    },
    {
     "data": {
      "text/html": [
       "<img src=\"https://cdn.wikimg.net/en/splatoonwiki/images/thumb/5/5a/S3_Weapon_Main_H-3_Nozzlenose.png/256px-S3_Weapon_Main_H-3_Nozzlenose.png\"/>"
      ],
      "text/plain": [
       "<IPython.core.display.Image object>"
      ]
     },
     "metadata": {},
     "output_type": "display_data"
    },
    {
     "name": "stdout",
     "output_type": "stream",
     "text": [
      "H-3 Nozzlenose D\n",
      "https://cdn.wikimg.net/en/splatoonwiki/images/thumb/3/31/S3_Weapon_Main_H-3_Nozzlenose_D.png/256px-S3_Weapon_Main_H-3_Nozzlenose_D.png\n"
     ]
    },
    {
     "data": {
      "text/html": [
       "<img src=\"https://cdn.wikimg.net/en/splatoonwiki/images/thumb/3/31/S3_Weapon_Main_H-3_Nozzlenose_D.png/256px-S3_Weapon_Main_H-3_Nozzlenose_D.png\"/>"
      ],
      "text/plain": [
       "<IPython.core.display.Image object>"
      ]
     },
     "metadata": {},
     "output_type": "display_data"
    },
    {
     "name": "stdout",
     "output_type": "stream",
     "text": [
      "Heavy Edit Splatling\n",
      "https://cdn.wikimg.net/en/splatoonwiki/images/thumb/2/24/S3_Weapon_Main_Heavy_Edit_Splatling.png/256px-S3_Weapon_Main_Heavy_Edit_Splatling.png\n"
     ]
    },
    {
     "data": {
      "text/html": [
       "<img src=\"https://cdn.wikimg.net/en/splatoonwiki/images/thumb/2/24/S3_Weapon_Main_Heavy_Edit_Splatling.png/256px-S3_Weapon_Main_Heavy_Edit_Splatling.png\"/>"
      ],
      "text/plain": [
       "<IPython.core.display.Image object>"
      ]
     },
     "metadata": {},
     "output_type": "display_data"
    },
    {
     "name": "stdout",
     "output_type": "stream",
     "text": [
      "Heavy Edit Splatling Nouveau\n",
      "https://cdn.wikimg.net/en/splatoonwiki/images/thumb/a/aa/S3_Weapon_Main_Heavy_Edit_Splatling_Nouveau.png/256px-S3_Weapon_Main_Heavy_Edit_Splatling_Nouveau.png\n"
     ]
    },
    {
     "data": {
      "text/html": [
       "<img src=\"https://cdn.wikimg.net/en/splatoonwiki/images/thumb/a/aa/S3_Weapon_Main_Heavy_Edit_Splatling_Nouveau.png/256px-S3_Weapon_Main_Heavy_Edit_Splatling_Nouveau.png\"/>"
      ],
      "text/plain": [
       "<IPython.core.display.Image object>"
      ]
     },
     "metadata": {},
     "output_type": "display_data"
    },
    {
     "name": "stdout",
     "output_type": "stream",
     "text": [
      "Heavy Splatling\n",
      "https://cdn.wikimg.net/en/splatoonwiki/images/thumb/5/5e/S3_Weapon_Main_Heavy_Splatling.png/256px-S3_Weapon_Main_Heavy_Splatling.png\n"
     ]
    },
    {
     "data": {
      "text/html": [
       "<img src=\"https://cdn.wikimg.net/en/splatoonwiki/images/thumb/5/5e/S3_Weapon_Main_Heavy_Splatling.png/256px-S3_Weapon_Main_Heavy_Splatling.png\"/>"
      ],
      "text/plain": [
       "<IPython.core.display.Image object>"
      ]
     },
     "metadata": {},
     "output_type": "display_data"
    },
    {
     "name": "stdout",
     "output_type": "stream",
     "text": [
      "Heavy Splatling Deco\n",
      "https://cdn.wikimg.net/en/splatoonwiki/images/thumb/f/fc/S3_Weapon_Main_Heavy_Splatling_Deco.png/256px-S3_Weapon_Main_Heavy_Splatling_Deco.png\n"
     ]
    },
    {
     "data": {
      "text/html": [
       "<img src=\"https://cdn.wikimg.net/en/splatoonwiki/images/thumb/f/fc/S3_Weapon_Main_Heavy_Splatling_Deco.png/256px-S3_Weapon_Main_Heavy_Splatling_Deco.png\"/>"
      ],
      "text/plain": [
       "<IPython.core.display.Image object>"
      ]
     },
     "metadata": {},
     "output_type": "display_data"
    },
    {
     "name": "stdout",
     "output_type": "stream",
     "text": [
      "Hero Shot Replica\n",
      "https://cdn.wikimg.net/en/splatoonwiki/images/thumb/2/24/S3_Weapon_Main_Hero_Shot_Replica.png/256px-S3_Weapon_Main_Hero_Shot_Replica.png\n"
     ]
    },
    {
     "data": {
      "text/html": [
       "<img src=\"https://cdn.wikimg.net/en/splatoonwiki/images/thumb/2/24/S3_Weapon_Main_Hero_Shot_Replica.png/256px-S3_Weapon_Main_Hero_Shot_Replica.png\"/>"
      ],
      "text/plain": [
       "<IPython.core.display.Image object>"
      ]
     },
     "metadata": {},
     "output_type": "display_data"
    },
    {
     "name": "stdout",
     "output_type": "stream",
     "text": [
      "Hydra Splatling\n",
      "https://cdn.wikimg.net/en/splatoonwiki/images/thumb/d/d1/S3_Weapon_Main_Hydra_Splatling.png/256px-S3_Weapon_Main_Hydra_Splatling.png\n"
     ]
    },
    {
     "data": {
      "text/html": [
       "<img src=\"https://cdn.wikimg.net/en/splatoonwiki/images/thumb/d/d1/S3_Weapon_Main_Hydra_Splatling.png/256px-S3_Weapon_Main_Hydra_Splatling.png\"/>"
      ],
      "text/plain": [
       "<IPython.core.display.Image object>"
      ]
     },
     "metadata": {},
     "output_type": "display_data"
    },
    {
     "name": "stdout",
     "output_type": "stream",
     "text": [
      "Inkbrush\n",
      "https://cdn.wikimg.net/en/splatoonwiki/images/thumb/4/4a/S3_Weapon_Main_Inkbrush.png/256px-S3_Weapon_Main_Inkbrush.png\n"
     ]
    },
    {
     "data": {
      "text/html": [
       "<img src=\"https://cdn.wikimg.net/en/splatoonwiki/images/thumb/4/4a/S3_Weapon_Main_Inkbrush.png/256px-S3_Weapon_Main_Inkbrush.png\"/>"
      ],
      "text/plain": [
       "<IPython.core.display.Image object>"
      ]
     },
     "metadata": {},
     "output_type": "display_data"
    },
    {
     "name": "stdout",
     "output_type": "stream",
     "text": [
      "Inkbrush Nouveau\n",
      "https://cdn.wikimg.net/en/splatoonwiki/images/thumb/2/2e/S3_Weapon_Main_Inkbrush_Nouveau.png/256px-S3_Weapon_Main_Inkbrush_Nouveau.png\n"
     ]
    },
    {
     "data": {
      "text/html": [
       "<img src=\"https://cdn.wikimg.net/en/splatoonwiki/images/thumb/2/2e/S3_Weapon_Main_Inkbrush_Nouveau.png/256px-S3_Weapon_Main_Inkbrush_Nouveau.png\"/>"
      ],
      "text/plain": [
       "<IPython.core.display.Image object>"
      ]
     },
     "metadata": {},
     "output_type": "display_data"
    },
    {
     "name": "stdout",
     "output_type": "stream",
     "text": [
      "Inkline Tri-Stringer\n",
      "https://cdn.wikimg.net/en/splatoonwiki/images/thumb/f/f4/S3_Weapon_Main_Inkline_Tri-Stringer.png/256px-S3_Weapon_Main_Inkline_Tri-Stringer.png\n"
     ]
    },
    {
     "data": {
      "text/html": [
       "<img src=\"https://cdn.wikimg.net/en/splatoonwiki/images/thumb/f/f4/S3_Weapon_Main_Inkline_Tri-Stringer.png/256px-S3_Weapon_Main_Inkline_Tri-Stringer.png\"/>"
      ],
      "text/plain": [
       "<IPython.core.display.Image object>"
      ]
     },
     "metadata": {},
     "output_type": "display_data"
    },
    {
     "name": "stdout",
     "output_type": "stream",
     "text": [
      "Jet Squelcher\n",
      "https://cdn.wikimg.net/en/splatoonwiki/images/thumb/6/69/S3_Weapon_Main_Jet_Squelcher.png/256px-S3_Weapon_Main_Jet_Squelcher.png\n"
     ]
    },
    {
     "data": {
      "text/html": [
       "<img src=\"https://cdn.wikimg.net/en/splatoonwiki/images/thumb/6/69/S3_Weapon_Main_Jet_Squelcher.png/256px-S3_Weapon_Main_Jet_Squelcher.png\"/>"
      ],
      "text/plain": [
       "<IPython.core.display.Image object>"
      ]
     },
     "metadata": {},
     "output_type": "display_data"
    },
    {
     "name": "stdout",
     "output_type": "stream",
     "text": [
      "Krak-On Splat Roller\n",
      "https://cdn.wikimg.net/en/splatoonwiki/images/thumb/6/60/S3_Weapon_Main_Krak-On_Splat_Roller.png/256px-S3_Weapon_Main_Krak-On_Splat_Roller.png\n"
     ]
    },
    {
     "data": {
      "text/html": [
       "<img src=\"https://cdn.wikimg.net/en/splatoonwiki/images/thumb/6/60/S3_Weapon_Main_Krak-On_Splat_Roller.png/256px-S3_Weapon_Main_Krak-On_Splat_Roller.png\"/>"
      ],
      "text/plain": [
       "<IPython.core.display.Image object>"
      ]
     },
     "metadata": {},
     "output_type": "display_data"
    },
    {
     "name": "stdout",
     "output_type": "stream",
     "text": [
      "L-3 Nozzlenose\n",
      "https://cdn.wikimg.net/en/splatoonwiki/images/thumb/2/2c/S3_Weapon_Main_L-3_Nozzlenose.png/256px-S3_Weapon_Main_L-3_Nozzlenose.png\n"
     ]
    },
    {
     "data": {
      "text/html": [
       "<img src=\"https://cdn.wikimg.net/en/splatoonwiki/images/thumb/2/2c/S3_Weapon_Main_L-3_Nozzlenose.png/256px-S3_Weapon_Main_L-3_Nozzlenose.png\"/>"
      ],
      "text/plain": [
       "<IPython.core.display.Image object>"
      ]
     },
     "metadata": {},
     "output_type": "display_data"
    },
    {
     "name": "stdout",
     "output_type": "stream",
     "text": [
      "L-3 Nozzlenose D\n",
      "https://cdn.wikimg.net/en/splatoonwiki/images/thumb/f/ff/S3_Weapon_Main_L-3_Nozzlenose_D.png/256px-S3_Weapon_Main_L-3_Nozzlenose_D.png\n"
     ]
    },
    {
     "data": {
      "text/html": [
       "<img src=\"https://cdn.wikimg.net/en/splatoonwiki/images/thumb/f/ff/S3_Weapon_Main_L-3_Nozzlenose_D.png/256px-S3_Weapon_Main_L-3_Nozzlenose_D.png\"/>"
      ],
      "text/plain": [
       "<IPython.core.display.Image object>"
      ]
     },
     "metadata": {},
     "output_type": "display_data"
    },
    {
     "name": "stdout",
     "output_type": "stream",
     "text": [
      "Light Tetra Dualies\n",
      "https://cdn.wikimg.net/en/splatoonwiki/images/thumb/8/86/S3_Weapon_Main_Light_Tetra_Dualies.png/256px-S3_Weapon_Main_Light_Tetra_Dualies.png\n"
     ]
    },
    {
     "data": {
      "text/html": [
       "<img src=\"https://cdn.wikimg.net/en/splatoonwiki/images/thumb/8/86/S3_Weapon_Main_Light_Tetra_Dualies.png/256px-S3_Weapon_Main_Light_Tetra_Dualies.png\"/>"
      ],
      "text/plain": [
       "<IPython.core.display.Image object>"
      ]
     },
     "metadata": {},
     "output_type": "display_data"
    },
    {
     "name": "stdout",
     "output_type": "stream",
     "text": [
      "Luna Blaster\n",
      "https://cdn.wikimg.net/en/splatoonwiki/images/thumb/5/59/S3_Weapon_Main_Luna_Blaster.png/256px-S3_Weapon_Main_Luna_Blaster.png\n"
     ]
    },
    {
     "data": {
      "text/html": [
       "<img src=\"https://cdn.wikimg.net/en/splatoonwiki/images/thumb/5/59/S3_Weapon_Main_Luna_Blaster.png/256px-S3_Weapon_Main_Luna_Blaster.png\"/>"
      ],
      "text/plain": [
       "<IPython.core.display.Image object>"
      ]
     },
     "metadata": {},
     "output_type": "display_data"
    },
    {
     "name": "stdout",
     "output_type": "stream",
     "text": [
      "Luna Blaster Neo\n",
      "https://cdn.wikimg.net/en/splatoonwiki/images/thumb/1/11/S3_Weapon_Main_Luna_Blaster_Neo.png/256px-S3_Weapon_Main_Luna_Blaster_Neo.png\n"
     ]
    },
    {
     "data": {
      "text/html": [
       "<img src=\"https://cdn.wikimg.net/en/splatoonwiki/images/thumb/1/11/S3_Weapon_Main_Luna_Blaster_Neo.png/256px-S3_Weapon_Main_Luna_Blaster_Neo.png\"/>"
      ],
      "text/plain": [
       "<IPython.core.display.Image object>"
      ]
     },
     "metadata": {},
     "output_type": "display_data"
    },
    {
     "name": "stdout",
     "output_type": "stream",
     "text": [
      "Mini Splatling\n",
      "https://cdn.wikimg.net/en/splatoonwiki/images/thumb/8/86/S3_Weapon_Main_Mini_Splatling.png/256px-S3_Weapon_Main_Mini_Splatling.png\n"
     ]
    },
    {
     "data": {
      "text/html": [
       "<img src=\"https://cdn.wikimg.net/en/splatoonwiki/images/thumb/8/86/S3_Weapon_Main_Mini_Splatling.png/256px-S3_Weapon_Main_Mini_Splatling.png\"/>"
      ],
      "text/plain": [
       "<IPython.core.display.Image object>"
      ]
     },
     "metadata": {},
     "output_type": "display_data"
    },
    {
     "name": "stdout",
     "output_type": "stream",
     "text": [
      "Mint Decavitator\n",
      "https://cdn.wikimg.net/en/splatoonwiki/images/thumb/c/c9/S3_Weapon_Main_Mint_Decavitator.png/256px-S3_Weapon_Main_Mint_Decavitator.png\n"
     ]
    },
    {
     "data": {
      "text/html": [
       "<img src=\"https://cdn.wikimg.net/en/splatoonwiki/images/thumb/c/c9/S3_Weapon_Main_Mint_Decavitator.png/256px-S3_Weapon_Main_Mint_Decavitator.png\"/>"
      ],
      "text/plain": [
       "<IPython.core.display.Image object>"
      ]
     },
     "metadata": {},
     "output_type": "display_data"
    },
    {
     "name": "stdout",
     "output_type": "stream",
     "text": [
      "N-ZAP '85\n",
      "https://cdn.wikimg.net/en/splatoonwiki/images/thumb/f/f6/S3_Weapon_Main_N-ZAP_%2785.png/256px-S3_Weapon_Main_N-ZAP_%2785.png\n"
     ]
    },
    {
     "data": {
      "text/html": [
       "<img src=\"https://cdn.wikimg.net/en/splatoonwiki/images/thumb/f/f6/S3_Weapon_Main_N-ZAP_%2785.png/256px-S3_Weapon_Main_N-ZAP_%2785.png\"/>"
      ],
      "text/plain": [
       "<IPython.core.display.Image object>"
      ]
     },
     "metadata": {},
     "output_type": "display_data"
    },
    {
     "name": "stdout",
     "output_type": "stream",
     "text": [
      "N-ZAP '89\n",
      "https://cdn.wikimg.net/en/splatoonwiki/images/thumb/9/98/S3_Weapon_Main_N-ZAP_%2789.png/256px-S3_Weapon_Main_N-ZAP_%2789.png\n"
     ]
    },
    {
     "data": {
      "text/html": [
       "<img src=\"https://cdn.wikimg.net/en/splatoonwiki/images/thumb/9/98/S3_Weapon_Main_N-ZAP_%2789.png/256px-S3_Weapon_Main_N-ZAP_%2789.png\"/>"
      ],
      "text/plain": [
       "<IPython.core.display.Image object>"
      ]
     },
     "metadata": {},
     "output_type": "display_data"
    },
    {
     "name": "stdout",
     "output_type": "stream",
     "text": [
      "Nautilus 47\n",
      "https://cdn.wikimg.net/en/splatoonwiki/images/thumb/8/81/S3_Weapon_Main_Nautilus_47.png/256px-S3_Weapon_Main_Nautilus_47.png\n"
     ]
    },
    {
     "data": {
      "text/html": [
       "<img src=\"https://cdn.wikimg.net/en/splatoonwiki/images/thumb/8/81/S3_Weapon_Main_Nautilus_47.png/256px-S3_Weapon_Main_Nautilus_47.png\"/>"
      ],
      "text/plain": [
       "<IPython.core.display.Image object>"
      ]
     },
     "metadata": {},
     "output_type": "display_data"
    },
    {
     "name": "stdout",
     "output_type": "stream",
     "text": [
      "Nautilus 79\n",
      "https://cdn.wikimg.net/en/splatoonwiki/images/thumb/8/81/S3_Weapon_Main_Nautilus_79.png/256px-S3_Weapon_Main_Nautilus_79.png\n"
     ]
    },
    {
     "data": {
      "text/html": [
       "<img src=\"https://cdn.wikimg.net/en/splatoonwiki/images/thumb/8/81/S3_Weapon_Main_Nautilus_79.png/256px-S3_Weapon_Main_Nautilus_79.png\"/>"
      ],
      "text/plain": [
       "<IPython.core.display.Image object>"
      ]
     },
     "metadata": {},
     "output_type": "display_data"
    },
    {
     "name": "stdout",
     "output_type": "stream",
     "text": [
      "Neo Splash-o-matic\n",
      "https://cdn.wikimg.net/en/splatoonwiki/images/thumb/b/b8/S3_Weapon_Main_Neo_Splash-o-matic.png/256px-S3_Weapon_Main_Neo_Splash-o-matic.png\n"
     ]
    },
    {
     "data": {
      "text/html": [
       "<img src=\"https://cdn.wikimg.net/en/splatoonwiki/images/thumb/b/b8/S3_Weapon_Main_Neo_Splash-o-matic.png/256px-S3_Weapon_Main_Neo_Splash-o-matic.png\"/>"
      ],
      "text/plain": [
       "<IPython.core.display.Image object>"
      ]
     },
     "metadata": {},
     "output_type": "display_data"
    },
    {
     "name": "stdout",
     "output_type": "stream",
     "text": [
      "Neo Sploosh-o-matic\n",
      "https://cdn.wikimg.net/en/splatoonwiki/images/thumb/c/c3/S3_Weapon_Main_Neo_Sploosh-o-matic.png/256px-S3_Weapon_Main_Neo_Sploosh-o-matic.png\n"
     ]
    },
    {
     "data": {
      "text/html": [
       "<img src=\"https://cdn.wikimg.net/en/splatoonwiki/images/thumb/c/c3/S3_Weapon_Main_Neo_Sploosh-o-matic.png/256px-S3_Weapon_Main_Neo_Sploosh-o-matic.png\"/>"
      ],
      "text/plain": [
       "<IPython.core.display.Image object>"
      ]
     },
     "metadata": {},
     "output_type": "display_data"
    },
    {
     "name": "stdout",
     "output_type": "stream",
     "text": [
      "New Squiffer\n",
      "https://cdn.wikimg.net/en/splatoonwiki/images/thumb/8/80/S3_Weapon_Main_New_Squiffer.png/256px-S3_Weapon_Main_New_Squiffer.png\n"
     ]
    },
    {
     "data": {
      "text/html": [
       "<img src=\"https://cdn.wikimg.net/en/splatoonwiki/images/thumb/8/80/S3_Weapon_Main_New_Squiffer.png/256px-S3_Weapon_Main_New_Squiffer.png\"/>"
      ],
      "text/plain": [
       "<IPython.core.display.Image object>"
      ]
     },
     "metadata": {},
     "output_type": "display_data"
    },
    {
     "name": "stdout",
     "output_type": "stream",
     "text": [
      "Octo Shot Replica\n",
      "https://cdn.wikimg.net/en/splatoonwiki/images/thumb/2/2c/S3_Weapon_Main_Octo_Shot_Replica.png/256px-S3_Weapon_Main_Octo_Shot_Replica.png\n"
     ]
    },
    {
     "data": {
      "text/html": [
       "<img src=\"https://cdn.wikimg.net/en/splatoonwiki/images/thumb/2/2c/S3_Weapon_Main_Octo_Shot_Replica.png/256px-S3_Weapon_Main_Octo_Shot_Replica.png\"/>"
      ],
      "text/plain": [
       "<IPython.core.display.Image object>"
      ]
     },
     "metadata": {},
     "output_type": "display_data"
    },
    {
     "name": "stdout",
     "output_type": "stream",
     "text": [
      "Octobrush\n",
      "https://cdn.wikimg.net/en/splatoonwiki/images/thumb/3/3d/S3_Weapon_Main_Octobrush.png/256px-S3_Weapon_Main_Octobrush.png\n"
     ]
    },
    {
     "data": {
      "text/html": [
       "<img src=\"https://cdn.wikimg.net/en/splatoonwiki/images/thumb/3/3d/S3_Weapon_Main_Octobrush.png/256px-S3_Weapon_Main_Octobrush.png\"/>"
      ],
      "text/plain": [
       "<IPython.core.display.Image object>"
      ]
     },
     "metadata": {},
     "output_type": "display_data"
    },
    {
     "name": "stdout",
     "output_type": "stream",
     "text": [
      "Octobrush Nouveau\n",
      "https://cdn.wikimg.net/en/splatoonwiki/images/thumb/4/45/S3_Weapon_Main_Octobrush_Nouveau.png/256px-S3_Weapon_Main_Octobrush_Nouveau.png\n"
     ]
    },
    {
     "data": {
      "text/html": [
       "<img src=\"https://cdn.wikimg.net/en/splatoonwiki/images/thumb/4/45/S3_Weapon_Main_Octobrush_Nouveau.png/256px-S3_Weapon_Main_Octobrush_Nouveau.png\"/>"
      ],
      "text/plain": [
       "<IPython.core.display.Image object>"
      ]
     },
     "metadata": {},
     "output_type": "display_data"
    },
    {
     "name": "stdout",
     "output_type": "stream",
     "text": [
      "Order Blaster Replica\n",
      "https://cdn.wikimg.net/en/splatoonwiki/images/thumb/7/7b/S3_Weapon_Main_Order_Blaster_Replica.png/256px-S3_Weapon_Main_Order_Blaster_Replica.png\n"
     ]
    },
    {
     "data": {
      "text/html": [
       "<img src=\"https://cdn.wikimg.net/en/splatoonwiki/images/thumb/7/7b/S3_Weapon_Main_Order_Blaster_Replica.png/256px-S3_Weapon_Main_Order_Blaster_Replica.png\"/>"
      ],
      "text/plain": [
       "<IPython.core.display.Image object>"
      ]
     },
     "metadata": {},
     "output_type": "display_data"
    },
    {
     "name": "stdout",
     "output_type": "stream",
     "text": [
      "Order Brella Replica\n",
      "https://cdn.wikimg.net/en/splatoonwiki/images/thumb/6/61/S3_Weapon_Main_Order_Brella_Replica.png/256px-S3_Weapon_Main_Order_Brella_Replica.png\n"
     ]
    },
    {
     "data": {
      "text/html": [
       "<img src=\"https://cdn.wikimg.net/en/splatoonwiki/images/thumb/6/61/S3_Weapon_Main_Order_Brella_Replica.png/256px-S3_Weapon_Main_Order_Brella_Replica.png\"/>"
      ],
      "text/plain": [
       "<IPython.core.display.Image object>"
      ]
     },
     "metadata": {},
     "output_type": "display_data"
    },
    {
     "name": "stdout",
     "output_type": "stream",
     "text": [
      "Order Charger Replica\n",
      "https://cdn.wikimg.net/en/splatoonwiki/images/thumb/0/00/S3_Weapon_Main_Order_Charger_Replica.png/256px-S3_Weapon_Main_Order_Charger_Replica.png\n"
     ]
    },
    {
     "data": {
      "text/html": [
       "<img src=\"https://cdn.wikimg.net/en/splatoonwiki/images/thumb/0/00/S3_Weapon_Main_Order_Charger_Replica.png/256px-S3_Weapon_Main_Order_Charger_Replica.png\"/>"
      ],
      "text/plain": [
       "<IPython.core.display.Image object>"
      ]
     },
     "metadata": {},
     "output_type": "display_data"
    },
    {
     "name": "stdout",
     "output_type": "stream",
     "text": [
      "Order Dualie Replicas\n",
      "https://cdn.wikimg.net/en/splatoonwiki/images/thumb/5/50/S3_Weapon_Main_Order_Dualie_Replicas.png/256px-S3_Weapon_Main_Order_Dualie_Replicas.png\n"
     ]
    },
    {
     "data": {
      "text/html": [
       "<img src=\"https://cdn.wikimg.net/en/splatoonwiki/images/thumb/5/50/S3_Weapon_Main_Order_Dualie_Replicas.png/256px-S3_Weapon_Main_Order_Dualie_Replicas.png\"/>"
      ],
      "text/plain": [
       "<IPython.core.display.Image object>"
      ]
     },
     "metadata": {},
     "output_type": "display_data"
    },
    {
     "name": "stdout",
     "output_type": "stream",
     "text": [
      "Order Roller Replica\n",
      "https://cdn.wikimg.net/en/splatoonwiki/images/thumb/4/47/S3_Weapon_Main_Order_Roller_Replica.png/256px-S3_Weapon_Main_Order_Roller_Replica.png\n"
     ]
    },
    {
     "data": {
      "text/html": [
       "<img src=\"https://cdn.wikimg.net/en/splatoonwiki/images/thumb/4/47/S3_Weapon_Main_Order_Roller_Replica.png/256px-S3_Weapon_Main_Order_Roller_Replica.png\"/>"
      ],
      "text/plain": [
       "<IPython.core.display.Image object>"
      ]
     },
     "metadata": {},
     "output_type": "display_data"
    },
    {
     "name": "stdout",
     "output_type": "stream",
     "text": [
      "Order Shot Replica\n",
      "https://cdn.wikimg.net/en/splatoonwiki/images/thumb/e/e6/S3_Weapon_Main_Order_Shot_Replica.png/256px-S3_Weapon_Main_Order_Shot_Replica.png\n"
     ]
    },
    {
     "data": {
      "text/html": [
       "<img src=\"https://cdn.wikimg.net/en/splatoonwiki/images/thumb/e/e6/S3_Weapon_Main_Order_Shot_Replica.png/256px-S3_Weapon_Main_Order_Shot_Replica.png\"/>"
      ],
      "text/plain": [
       "<IPython.core.display.Image object>"
      ]
     },
     "metadata": {},
     "output_type": "display_data"
    },
    {
     "name": "stdout",
     "output_type": "stream",
     "text": [
      "Order Slosher Replica\n",
      "https://cdn.wikimg.net/en/splatoonwiki/images/thumb/a/aa/S3_Weapon_Main_Order_Slosher_Replica.png/256px-S3_Weapon_Main_Order_Slosher_Replica.png\n"
     ]
    },
    {
     "data": {
      "text/html": [
       "<img src=\"https://cdn.wikimg.net/en/splatoonwiki/images/thumb/a/aa/S3_Weapon_Main_Order_Slosher_Replica.png/256px-S3_Weapon_Main_Order_Slosher_Replica.png\"/>"
      ],
      "text/plain": [
       "<IPython.core.display.Image object>"
      ]
     },
     "metadata": {},
     "output_type": "display_data"
    },
    {
     "name": "stdout",
     "output_type": "stream",
     "text": [
      "\n",
      "https://cdn.wikimg.net/en/splatoonwiki/images/thumb/b/b9/S3_Weapon_Main_Order_Splatana_Replica.png/256px-S3_Weapon_Main_Order_Splatana_Replica.png\n"
     ]
    },
    {
     "data": {
      "text/html": [
       "<img src=\"https://cdn.wikimg.net/en/splatoonwiki/images/thumb/b/b9/S3_Weapon_Main_Order_Splatana_Replica.png/256px-S3_Weapon_Main_Order_Splatana_Replica.png\"/>"
      ],
      "text/plain": [
       "<IPython.core.display.Image object>"
      ]
     },
     "metadata": {},
     "output_type": "display_data"
    },
    {
     "name": "stdout",
     "output_type": "stream",
     "text": [
      "Order Splatling Replica\n",
      "https://cdn.wikimg.net/en/splatoonwiki/images/thumb/c/ce/S3_Weapon_Main_Order_Splatling_Replica.png/256px-S3_Weapon_Main_Order_Splatling_Replica.png\n"
     ]
    },
    {
     "data": {
      "text/html": [
       "<img src=\"https://cdn.wikimg.net/en/splatoonwiki/images/thumb/c/ce/S3_Weapon_Main_Order_Splatling_Replica.png/256px-S3_Weapon_Main_Order_Splatling_Replica.png\"/>"
      ],
      "text/plain": [
       "<IPython.core.display.Image object>"
      ]
     },
     "metadata": {},
     "output_type": "display_data"
    },
    {
     "name": "stdout",
     "output_type": "stream",
     "text": [
      "Order Stringer Replica\n",
      "https://cdn.wikimg.net/en/splatoonwiki/images/thumb/2/24/S3_Weapon_Main_Order_Stringer_Replica.png/256px-S3_Weapon_Main_Order_Stringer_Replica.png\n"
     ]
    },
    {
     "data": {
      "text/html": [
       "<img src=\"https://cdn.wikimg.net/en/splatoonwiki/images/thumb/2/24/S3_Weapon_Main_Order_Stringer_Replica.png/256px-S3_Weapon_Main_Order_Stringer_Replica.png\"/>"
      ],
      "text/plain": [
       "<IPython.core.display.Image object>"
      ]
     },
     "metadata": {},
     "output_type": "display_data"
    },
    {
     "name": "stdout",
     "output_type": "stream",
     "text": [
      "Orderbrush Replica\n",
      "https://cdn.wikimg.net/en/splatoonwiki/images/thumb/0/0a/S3_Weapon_Main_Orderbrush_Replica.png/256px-S3_Weapon_Main_Orderbrush_Replica.png\n"
     ]
    },
    {
     "data": {
      "text/html": [
       "<img src=\"https://cdn.wikimg.net/en/splatoonwiki/images/thumb/0/0a/S3_Weapon_Main_Orderbrush_Replica.png/256px-S3_Weapon_Main_Orderbrush_Replica.png\"/>"
      ],
      "text/plain": [
       "<IPython.core.display.Image object>"
      ]
     },
     "metadata": {},
     "output_type": "display_data"
    },
    {
     "name": "stdout",
     "output_type": "stream",
     "text": [
      "Painbrush\n",
      "https://cdn.wikimg.net/en/splatoonwiki/images/thumb/7/79/S3_Weapon_Main_Painbrush.png/256px-S3_Weapon_Main_Painbrush.png\n"
     ]
    },
    {
     "data": {
      "text/html": [
       "<img src=\"https://cdn.wikimg.net/en/splatoonwiki/images/thumb/7/79/S3_Weapon_Main_Painbrush.png/256px-S3_Weapon_Main_Painbrush.png\"/>"
      ],
      "text/plain": [
       "<IPython.core.display.Image object>"
      ]
     },
     "metadata": {},
     "output_type": "display_data"
    },
    {
     "name": "stdout",
     "output_type": "stream",
     "text": [
      "Painbrush Nouveau\n",
      "https://cdn.wikimg.net/en/splatoonwiki/images/thumb/0/09/S3_Weapon_Main_Painbrush_Nouveau.png/256px-S3_Weapon_Main_Painbrush_Nouveau.png\n"
     ]
    },
    {
     "data": {
      "text/html": [
       "<img src=\"https://cdn.wikimg.net/en/splatoonwiki/images/thumb/0/09/S3_Weapon_Main_Painbrush_Nouveau.png/256px-S3_Weapon_Main_Painbrush_Nouveau.png\"/>"
      ],
      "text/plain": [
       "<IPython.core.display.Image object>"
      ]
     },
     "metadata": {},
     "output_type": "display_data"
    },
    {
     "name": "stdout",
     "output_type": "stream",
     "text": [
      "\n",
      "https://cdn.wikimg.net/en/splatoonwiki/images/thumb/6/66/S3_Weapon_Main_REEF-LUX_450.png/256px-S3_Weapon_Main_REEF-LUX_450.png\n"
     ]
    },
    {
     "data": {
      "text/html": [
       "<img src=\"https://cdn.wikimg.net/en/splatoonwiki/images/thumb/6/66/S3_Weapon_Main_REEF-LUX_450.png/256px-S3_Weapon_Main_REEF-LUX_450.png\"/>"
      ],
      "text/plain": [
       "<IPython.core.display.Image object>"
      ]
     },
     "metadata": {},
     "output_type": "display_data"
    },
    {
     "name": "stdout",
     "output_type": "stream",
     "text": [
      "REEF-LUX 450 Deco\n",
      "https://cdn.wikimg.net/en/splatoonwiki/images/thumb/a/ab/S3_Weapon_Main_REEF-LUX_450_Deco.png/256px-S3_Weapon_Main_REEF-LUX_450_Deco.png\n"
     ]
    },
    {
     "data": {
      "text/html": [
       "<img src=\"https://cdn.wikimg.net/en/splatoonwiki/images/thumb/a/ab/S3_Weapon_Main_REEF-LUX_450_Deco.png/256px-S3_Weapon_Main_REEF-LUX_450_Deco.png\"/>"
      ],
      "text/plain": [
       "<IPython.core.display.Image object>"
      ]
     },
     "metadata": {},
     "output_type": "display_data"
    },
    {
     "name": "stdout",
     "output_type": "stream",
     "text": [
      "Range Blaster\n",
      "https://cdn.wikimg.net/en/splatoonwiki/images/thumb/1/1d/S3_Weapon_Main_Range_Blaster.png/256px-S3_Weapon_Main_Range_Blaster.png\n"
     ]
    },
    {
     "data": {
      "text/html": [
       "<img src=\"https://cdn.wikimg.net/en/splatoonwiki/images/thumb/1/1d/S3_Weapon_Main_Range_Blaster.png/256px-S3_Weapon_Main_Range_Blaster.png\"/>"
      ],
      "text/plain": [
       "<IPython.core.display.Image object>"
      ]
     },
     "metadata": {},
     "output_type": "display_data"
    },
    {
     "name": "stdout",
     "output_type": "stream",
     "text": [
      "Rapid Blaster\n",
      "https://cdn.wikimg.net/en/splatoonwiki/images/thumb/6/6a/S3_Weapon_Main_Rapid_Blaster.png/256px-S3_Weapon_Main_Rapid_Blaster.png\n"
     ]
    },
    {
     "data": {
      "text/html": [
       "<img src=\"https://cdn.wikimg.net/en/splatoonwiki/images/thumb/6/6a/S3_Weapon_Main_Rapid_Blaster.png/256px-S3_Weapon_Main_Rapid_Blaster.png\"/>"
      ],
      "text/plain": [
       "<IPython.core.display.Image object>"
      ]
     },
     "metadata": {},
     "output_type": "display_data"
    },
    {
     "name": "stdout",
     "output_type": "stream",
     "text": [
      "Rapid Blaster Deco\n",
      "https://cdn.wikimg.net/en/splatoonwiki/images/thumb/c/cb/S3_Weapon_Main_Rapid_Blaster_Deco.png/256px-S3_Weapon_Main_Rapid_Blaster_Deco.png\n"
     ]
    },
    {
     "data": {
      "text/html": [
       "<img src=\"https://cdn.wikimg.net/en/splatoonwiki/images/thumb/c/cb/S3_Weapon_Main_Rapid_Blaster_Deco.png/256px-S3_Weapon_Main_Rapid_Blaster_Deco.png\"/>"
      ],
      "text/plain": [
       "<IPython.core.display.Image object>"
      ]
     },
     "metadata": {},
     "output_type": "display_data"
    },
    {
     "name": "stdout",
     "output_type": "stream",
     "text": [
      "Rapid Blaster Pro\n",
      "https://cdn.wikimg.net/en/splatoonwiki/images/thumb/c/c6/S3_Weapon_Main_Rapid_Blaster_Pro.png/256px-S3_Weapon_Main_Rapid_Blaster_Pro.png\n"
     ]
    },
    {
     "data": {
      "text/html": [
       "<img src=\"https://cdn.wikimg.net/en/splatoonwiki/images/thumb/c/c6/S3_Weapon_Main_Rapid_Blaster_Pro.png/256px-S3_Weapon_Main_Rapid_Blaster_Pro.png\"/>"
      ],
      "text/plain": [
       "<IPython.core.display.Image object>"
      ]
     },
     "metadata": {},
     "output_type": "display_data"
    },
    {
     "name": "stdout",
     "output_type": "stream",
     "text": [
      "Rapid Blaster Pro Deco\n",
      "https://cdn.wikimg.net/en/splatoonwiki/images/thumb/e/e4/S3_Weapon_Main_Rapid_Blaster_Pro_Deco.png/256px-S3_Weapon_Main_Rapid_Blaster_Pro_Deco.png\n"
     ]
    },
    {
     "data": {
      "text/html": [
       "<img src=\"https://cdn.wikimg.net/en/splatoonwiki/images/thumb/e/e4/S3_Weapon_Main_Rapid_Blaster_Pro_Deco.png/256px-S3_Weapon_Main_Rapid_Blaster_Pro_Deco.png\"/>"
      ],
      "text/plain": [
       "<IPython.core.display.Image object>"
      ]
     },
     "metadata": {},
     "output_type": "display_data"
    },
    {
     "name": "stdout",
     "output_type": "stream",
     "text": [
      "Recycled Brella 24 Mk I\n",
      "https://cdn.wikimg.net/en/splatoonwiki/images/thumb/d/d0/S3_Weapon_Main_Recycled_Brella_24_Mk_I.png/256px-S3_Weapon_Main_Recycled_Brella_24_Mk_I.png\n"
     ]
    },
    {
     "data": {
      "text/html": [
       "<img src=\"https://cdn.wikimg.net/en/splatoonwiki/images/thumb/d/d0/S3_Weapon_Main_Recycled_Brella_24_Mk_I.png/256px-S3_Weapon_Main_Recycled_Brella_24_Mk_I.png\"/>"
      ],
      "text/plain": [
       "<IPython.core.display.Image object>"
      ]
     },
     "metadata": {},
     "output_type": "display_data"
    },
    {
     "name": "stdout",
     "output_type": "stream",
     "text": [
      "Recycled Brella 24 Mk II\n",
      "https://cdn.wikimg.net/en/splatoonwiki/images/thumb/9/94/S3_Weapon_Main_Recycled_Brella_24_Mk_II.png/256px-S3_Weapon_Main_Recycled_Brella_24_Mk_II.png\n"
     ]
    },
    {
     "data": {
      "text/html": [
       "<img src=\"https://cdn.wikimg.net/en/splatoonwiki/images/thumb/9/94/S3_Weapon_Main_Recycled_Brella_24_Mk_II.png/256px-S3_Weapon_Main_Recycled_Brella_24_Mk_II.png\"/>"
      ],
      "text/plain": [
       "<IPython.core.display.Image object>"
      ]
     },
     "metadata": {},
     "output_type": "display_data"
    },
    {
     "name": "stdout",
     "output_type": "stream",
     "text": [
      "S-BLAST '91\n",
      "https://cdn.wikimg.net/en/splatoonwiki/images/thumb/2/2f/S3_Weapon_Main_S-BLAST_%2791.png/256px-S3_Weapon_Main_S-BLAST_%2791.png\n"
     ]
    },
    {
     "data": {
      "text/html": [
       "<img src=\"https://cdn.wikimg.net/en/splatoonwiki/images/thumb/2/2f/S3_Weapon_Main_S-BLAST_%2791.png/256px-S3_Weapon_Main_S-BLAST_%2791.png\"/>"
      ],
      "text/plain": [
       "<IPython.core.display.Image object>"
      ]
     },
     "metadata": {},
     "output_type": "display_data"
    },
    {
     "name": "stdout",
     "output_type": "stream",
     "text": [
      "\n",
      "https://cdn.wikimg.net/en/splatoonwiki/images/thumb/2/2d/S3_Weapon_Main_S-BLAST_%2792.png/256px-S3_Weapon_Main_S-BLAST_%2792.png\n"
     ]
    },
    {
     "data": {
      "text/html": [
       "<img src=\"https://cdn.wikimg.net/en/splatoonwiki/images/thumb/2/2d/S3_Weapon_Main_S-BLAST_%2792.png/256px-S3_Weapon_Main_S-BLAST_%2792.png\"/>"
      ],
      "text/plain": [
       "<IPython.core.display.Image object>"
      ]
     },
     "metadata": {},
     "output_type": "display_data"
    },
    {
     "name": "stdout",
     "output_type": "stream",
     "text": [
      "Slosher\n",
      "https://cdn.wikimg.net/en/splatoonwiki/images/thumb/4/42/S3_Weapon_Main_Slosher.png/256px-S3_Weapon_Main_Slosher.png\n"
     ]
    },
    {
     "data": {
      "text/html": [
       "<img src=\"https://cdn.wikimg.net/en/splatoonwiki/images/thumb/4/42/S3_Weapon_Main_Slosher.png/256px-S3_Weapon_Main_Slosher.png\"/>"
      ],
      "text/plain": [
       "<IPython.core.display.Image object>"
      ]
     },
     "metadata": {},
     "output_type": "display_data"
    },
    {
     "name": "stdout",
     "output_type": "stream",
     "text": [
      "Slosher Deco\n",
      "https://cdn.wikimg.net/en/splatoonwiki/images/thumb/a/a5/S3_Weapon_Main_Slosher_Deco.png/256px-S3_Weapon_Main_Slosher_Deco.png\n"
     ]
    },
    {
     "data": {
      "text/html": [
       "<img src=\"https://cdn.wikimg.net/en/splatoonwiki/images/thumb/a/a5/S3_Weapon_Main_Slosher_Deco.png/256px-S3_Weapon_Main_Slosher_Deco.png\"/>"
      ],
      "text/plain": [
       "<IPython.core.display.Image object>"
      ]
     },
     "metadata": {},
     "output_type": "display_data"
    },
    {
     "name": "stdout",
     "output_type": "stream",
     "text": [
      "Sloshing Machine\n",
      "https://cdn.wikimg.net/en/splatoonwiki/images/thumb/3/38/S3_Weapon_Main_Sloshing_Machine.png/256px-S3_Weapon_Main_Sloshing_Machine.png\n"
     ]
    },
    {
     "data": {
      "text/html": [
       "<img src=\"https://cdn.wikimg.net/en/splatoonwiki/images/thumb/3/38/S3_Weapon_Main_Sloshing_Machine.png/256px-S3_Weapon_Main_Sloshing_Machine.png\"/>"
      ],
      "text/plain": [
       "<IPython.core.display.Image object>"
      ]
     },
     "metadata": {},
     "output_type": "display_data"
    },
    {
     "name": "stdout",
     "output_type": "stream",
     "text": [
      "Sloshing Machine Neo\n",
      "https://cdn.wikimg.net/en/splatoonwiki/images/thumb/d/d5/S3_Weapon_Main_Sloshing_Machine_Neo.png/256px-S3_Weapon_Main_Sloshing_Machine_Neo.png\n"
     ]
    },
    {
     "data": {
      "text/html": [
       "<img src=\"https://cdn.wikimg.net/en/splatoonwiki/images/thumb/d/d5/S3_Weapon_Main_Sloshing_Machine_Neo.png/256px-S3_Weapon_Main_Sloshing_Machine_Neo.png\"/>"
      ],
      "text/plain": [
       "<IPython.core.display.Image object>"
      ]
     },
     "metadata": {},
     "output_type": "display_data"
    },
    {
     "name": "stdout",
     "output_type": "stream",
     "text": [
      "Snipewriter 5B\n",
      "https://cdn.wikimg.net/en/splatoonwiki/images/thumb/0/0a/S3_Weapon_Main_Snipewriter_5B.png/256px-S3_Weapon_Main_Snipewriter_5B.png\n"
     ]
    },
    {
     "data": {
      "text/html": [
       "<img src=\"https://cdn.wikimg.net/en/splatoonwiki/images/thumb/0/0a/S3_Weapon_Main_Snipewriter_5B.png/256px-S3_Weapon_Main_Snipewriter_5B.png\"/>"
      ],
      "text/plain": [
       "<IPython.core.display.Image object>"
      ]
     },
     "metadata": {},
     "output_type": "display_data"
    },
    {
     "name": "stdout",
     "output_type": "stream",
     "text": [
      "Snipewriter 5H\n",
      "https://cdn.wikimg.net/en/splatoonwiki/images/thumb/3/34/S3_Weapon_Main_Snipewriter_5H.png/256px-S3_Weapon_Main_Snipewriter_5H.png\n"
     ]
    },
    {
     "data": {
      "text/html": [
       "<img src=\"https://cdn.wikimg.net/en/splatoonwiki/images/thumb/3/34/S3_Weapon_Main_Snipewriter_5H.png/256px-S3_Weapon_Main_Snipewriter_5H.png\"/>"
      ],
      "text/plain": [
       "<IPython.core.display.Image object>"
      ]
     },
     "metadata": {},
     "output_type": "display_data"
    },
    {
     "name": "stdout",
     "output_type": "stream",
     "text": [
      "Sorella Brella\n",
      "https://cdn.wikimg.net/en/splatoonwiki/images/thumb/8/8b/S3_Weapon_Main_Sorella_Brella.png/256px-S3_Weapon_Main_Sorella_Brella.png\n"
     ]
    },
    {
     "data": {
      "text/html": [
       "<img src=\"https://cdn.wikimg.net/en/splatoonwiki/images/thumb/8/8b/S3_Weapon_Main_Sorella_Brella.png/256px-S3_Weapon_Main_Sorella_Brella.png\"/>"
      ],
      "text/plain": [
       "<IPython.core.display.Image object>"
      ]
     },
     "metadata": {},
     "output_type": "display_data"
    },
    {
     "name": "stdout",
     "output_type": "stream",
     "text": [
      "Splash-o-matic\n",
      "https://cdn.wikimg.net/en/splatoonwiki/images/thumb/7/7b/S3_Weapon_Main_Splash-o-matic.png/256px-S3_Weapon_Main_Splash-o-matic.png\n"
     ]
    },
    {
     "data": {
      "text/html": [
       "<img src=\"https://cdn.wikimg.net/en/splatoonwiki/images/thumb/7/7b/S3_Weapon_Main_Splash-o-matic.png/256px-S3_Weapon_Main_Splash-o-matic.png\"/>"
      ],
      "text/plain": [
       "<IPython.core.display.Image object>"
      ]
     },
     "metadata": {},
     "output_type": "display_data"
    },
    {
     "name": "stdout",
     "output_type": "stream",
     "text": [
      "Splat Brella\n",
      "https://cdn.wikimg.net/en/splatoonwiki/images/thumb/2/27/S3_Weapon_Main_Splat_Brella.png/256px-S3_Weapon_Main_Splat_Brella.png\n"
     ]
    },
    {
     "data": {
      "text/html": [
       "<img src=\"https://cdn.wikimg.net/en/splatoonwiki/images/thumb/2/27/S3_Weapon_Main_Splat_Brella.png/256px-S3_Weapon_Main_Splat_Brella.png\"/>"
      ],
      "text/plain": [
       "<IPython.core.display.Image object>"
      ]
     },
     "metadata": {},
     "output_type": "display_data"
    },
    {
     "name": "stdout",
     "output_type": "stream",
     "text": [
      "Splat Charger\n",
      "https://cdn.wikimg.net/en/splatoonwiki/images/thumb/4/41/S3_Weapon_Main_Splat_Charger.png/256px-S3_Weapon_Main_Splat_Charger.png\n"
     ]
    },
    {
     "data": {
      "text/html": [
       "<img src=\"https://cdn.wikimg.net/en/splatoonwiki/images/thumb/4/41/S3_Weapon_Main_Splat_Charger.png/256px-S3_Weapon_Main_Splat_Charger.png\"/>"
      ],
      "text/plain": [
       "<IPython.core.display.Image object>"
      ]
     },
     "metadata": {},
     "output_type": "display_data"
    },
    {
     "name": "stdout",
     "output_type": "stream",
     "text": [
      "Splat Dualies\n",
      "https://cdn.wikimg.net/en/splatoonwiki/images/thumb/e/e8/S3_Weapon_Main_Splat_Dualies.png/256px-S3_Weapon_Main_Splat_Dualies.png\n"
     ]
    },
    {
     "data": {
      "text/html": [
       "<img src=\"https://cdn.wikimg.net/en/splatoonwiki/images/thumb/e/e8/S3_Weapon_Main_Splat_Dualies.png/256px-S3_Weapon_Main_Splat_Dualies.png\"/>"
      ],
      "text/plain": [
       "<IPython.core.display.Image object>"
      ]
     },
     "metadata": {},
     "output_type": "display_data"
    },
    {
     "name": "stdout",
     "output_type": "stream",
     "text": [
      "Splat Roller\n",
      "https://cdn.wikimg.net/en/splatoonwiki/images/thumb/c/c7/S3_Weapon_Main_Splat_Roller.png/256px-S3_Weapon_Main_Splat_Roller.png\n"
     ]
    },
    {
     "data": {
      "text/html": [
       "<img src=\"https://cdn.wikimg.net/en/splatoonwiki/images/thumb/c/c7/S3_Weapon_Main_Splat_Roller.png/256px-S3_Weapon_Main_Splat_Roller.png\"/>"
      ],
      "text/plain": [
       "<IPython.core.display.Image object>"
      ]
     },
     "metadata": {},
     "output_type": "display_data"
    },
    {
     "name": "stdout",
     "output_type": "stream",
     "text": [
      "\n",
      "https://cdn.wikimg.net/en/splatoonwiki/images/thumb/4/4d/S3_Weapon_Main_Splatana_Stamper.png/256px-S3_Weapon_Main_Splatana_Stamper.png\n"
     ]
    },
    {
     "data": {
      "text/html": [
       "<img src=\"https://cdn.wikimg.net/en/splatoonwiki/images/thumb/4/4d/S3_Weapon_Main_Splatana_Stamper.png/256px-S3_Weapon_Main_Splatana_Stamper.png\"/>"
      ],
      "text/plain": [
       "<IPython.core.display.Image object>"
      ]
     },
     "metadata": {},
     "output_type": "display_data"
    },
    {
     "name": "stdout",
     "output_type": "stream",
     "text": [
      "Splatana Stamper Nouveau\n",
      "https://cdn.wikimg.net/en/splatoonwiki/images/thumb/7/71/S3_Weapon_Main_Splatana_Stamper_Nouveau.png/256px-S3_Weapon_Main_Splatana_Stamper_Nouveau.png\n"
     ]
    },
    {
     "data": {
      "text/html": [
       "<img src=\"https://cdn.wikimg.net/en/splatoonwiki/images/thumb/7/71/S3_Weapon_Main_Splatana_Stamper_Nouveau.png/256px-S3_Weapon_Main_Splatana_Stamper_Nouveau.png\"/>"
      ],
      "text/plain": [
       "<IPython.core.display.Image object>"
      ]
     },
     "metadata": {},
     "output_type": "display_data"
    },
    {
     "name": "stdout",
     "output_type": "stream",
     "text": [
      "\n",
      "https://cdn.wikimg.net/en/splatoonwiki/images/thumb/e/e5/S3_Weapon_Main_Splatana_Wiper.png/256px-S3_Weapon_Main_Splatana_Wiper.png\n"
     ]
    },
    {
     "data": {
      "text/html": [
       "<img src=\"https://cdn.wikimg.net/en/splatoonwiki/images/thumb/e/e5/S3_Weapon_Main_Splatana_Wiper.png/256px-S3_Weapon_Main_Splatana_Wiper.png\"/>"
      ],
      "text/plain": [
       "<IPython.core.display.Image object>"
      ]
     },
     "metadata": {},
     "output_type": "display_data"
    },
    {
     "name": "stdout",
     "output_type": "stream",
     "text": [
      "Splatana Wiper Deco\n",
      "https://cdn.wikimg.net/en/splatoonwiki/images/thumb/4/4a/S3_Weapon_Main_Splatana_Wiper_Deco.png/256px-S3_Weapon_Main_Splatana_Wiper_Deco.png\n"
     ]
    },
    {
     "data": {
      "text/html": [
       "<img src=\"https://cdn.wikimg.net/en/splatoonwiki/images/thumb/4/4a/S3_Weapon_Main_Splatana_Wiper_Deco.png/256px-S3_Weapon_Main_Splatana_Wiper_Deco.png\"/>"
      ],
      "text/plain": [
       "<IPython.core.display.Image object>"
      ]
     },
     "metadata": {},
     "output_type": "display_data"
    },
    {
     "name": "stdout",
     "output_type": "stream",
     "text": [
      "Splatterscope\n",
      "https://cdn.wikimg.net/en/splatoonwiki/images/thumb/b/b2/S3_Weapon_Main_Splatterscope.png/256px-S3_Weapon_Main_Splatterscope.png\n"
     ]
    },
    {
     "data": {
      "text/html": [
       "<img src=\"https://cdn.wikimg.net/en/splatoonwiki/images/thumb/b/b2/S3_Weapon_Main_Splatterscope.png/256px-S3_Weapon_Main_Splatterscope.png\"/>"
      ],
      "text/plain": [
       "<IPython.core.display.Image object>"
      ]
     },
     "metadata": {},
     "output_type": "display_data"
    },
    {
     "name": "stdout",
     "output_type": "stream",
     "text": [
      "Splattershot\n",
      "https://cdn.wikimg.net/en/splatoonwiki/images/thumb/b/bf/S3_Weapon_Main_Splattershot.png/256px-S3_Weapon_Main_Splattershot.png\n"
     ]
    },
    {
     "data": {
      "text/html": [
       "<img src=\"https://cdn.wikimg.net/en/splatoonwiki/images/thumb/b/bf/S3_Weapon_Main_Splattershot.png/256px-S3_Weapon_Main_Splattershot.png\"/>"
      ],
      "text/plain": [
       "<IPython.core.display.Image object>"
      ]
     },
     "metadata": {},
     "output_type": "display_data"
    },
    {
     "name": "stdout",
     "output_type": "stream",
     "text": [
      "Splattershot Jr.\n",
      "https://cdn.wikimg.net/en/splatoonwiki/images/thumb/1/1e/S3_Weapon_Main_Splattershot_Jr..png/256px-S3_Weapon_Main_Splattershot_Jr..png\n"
     ]
    },
    {
     "data": {
      "text/html": [
       "<img src=\"https://cdn.wikimg.net/en/splatoonwiki/images/thumb/1/1e/S3_Weapon_Main_Splattershot_Jr..png/256px-S3_Weapon_Main_Splattershot_Jr..png\"/>"
      ],
      "text/plain": [
       "<IPython.core.display.Image object>"
      ]
     },
     "metadata": {},
     "output_type": "display_data"
    },
    {
     "name": "stdout",
     "output_type": "stream",
     "text": [
      "Splattershot Nova\n",
      "https://cdn.wikimg.net/en/splatoonwiki/images/thumb/1/10/S3_Weapon_Main_Splattershot_Nova.png/256px-S3_Weapon_Main_Splattershot_Nova.png\n"
     ]
    },
    {
     "data": {
      "text/html": [
       "<img src=\"https://cdn.wikimg.net/en/splatoonwiki/images/thumb/1/10/S3_Weapon_Main_Splattershot_Nova.png/256px-S3_Weapon_Main_Splattershot_Nova.png\"/>"
      ],
      "text/plain": [
       "<IPython.core.display.Image object>"
      ]
     },
     "metadata": {},
     "output_type": "display_data"
    },
    {
     "name": "stdout",
     "output_type": "stream",
     "text": [
      "Splattershot Pro\n",
      "https://cdn.wikimg.net/en/splatoonwiki/images/thumb/7/77/S3_Weapon_Main_Splattershot_Pro.png/256px-S3_Weapon_Main_Splattershot_Pro.png\n"
     ]
    },
    {
     "data": {
      "text/html": [
       "<img src=\"https://cdn.wikimg.net/en/splatoonwiki/images/thumb/7/77/S3_Weapon_Main_Splattershot_Pro.png/256px-S3_Weapon_Main_Splattershot_Pro.png\"/>"
      ],
      "text/plain": [
       "<IPython.core.display.Image object>"
      ]
     },
     "metadata": {},
     "output_type": "display_data"
    },
    {
     "name": "stdout",
     "output_type": "stream",
     "text": [
      "Sploosh-o-matic\n",
      "https://cdn.wikimg.net/en/splatoonwiki/images/thumb/5/59/S3_Weapon_Main_Sploosh-o-matic.png/256px-S3_Weapon_Main_Sploosh-o-matic.png\n"
     ]
    },
    {
     "data": {
      "text/html": [
       "<img src=\"https://cdn.wikimg.net/en/splatoonwiki/images/thumb/5/59/S3_Weapon_Main_Sploosh-o-matic.png/256px-S3_Weapon_Main_Sploosh-o-matic.png\"/>"
      ],
      "text/plain": [
       "<IPython.core.display.Image object>"
      ]
     },
     "metadata": {},
     "output_type": "display_data"
    },
    {
     "name": "stdout",
     "output_type": "stream",
     "text": [
      "Squeezer\n",
      "https://cdn.wikimg.net/en/splatoonwiki/images/thumb/c/cb/S3_Weapon_Main_Squeezer.png/256px-S3_Weapon_Main_Squeezer.png\n"
     ]
    },
    {
     "data": {
      "text/html": [
       "<img src=\"https://cdn.wikimg.net/en/splatoonwiki/images/thumb/c/cb/S3_Weapon_Main_Squeezer.png/256px-S3_Weapon_Main_Squeezer.png\"/>"
      ],
      "text/plain": [
       "<IPython.core.display.Image object>"
      ]
     },
     "metadata": {},
     "output_type": "display_data"
    },
    {
     "name": "stdout",
     "output_type": "stream",
     "text": [
      "Tenta Brella\n",
      "https://cdn.wikimg.net/en/splatoonwiki/images/thumb/1/1e/S3_Weapon_Main_Tenta_Brella.png/256px-S3_Weapon_Main_Tenta_Brella.png\n"
     ]
    },
    {
     "data": {
      "text/html": [
       "<img src=\"https://cdn.wikimg.net/en/splatoonwiki/images/thumb/1/1e/S3_Weapon_Main_Tenta_Brella.png/256px-S3_Weapon_Main_Tenta_Brella.png\"/>"
      ],
      "text/plain": [
       "<IPython.core.display.Image object>"
      ]
     },
     "metadata": {},
     "output_type": "display_data"
    },
    {
     "name": "stdout",
     "output_type": "stream",
     "text": [
      "Tenta Sorella Brella\n",
      "https://cdn.wikimg.net/en/splatoonwiki/images/thumb/3/3f/S3_Weapon_Main_Tenta_Sorella_Brella.png/256px-S3_Weapon_Main_Tenta_Sorella_Brella.png\n"
     ]
    },
    {
     "data": {
      "text/html": [
       "<img src=\"https://cdn.wikimg.net/en/splatoonwiki/images/thumb/3/3f/S3_Weapon_Main_Tenta_Sorella_Brella.png/256px-S3_Weapon_Main_Tenta_Sorella_Brella.png\"/>"
      ],
      "text/plain": [
       "<IPython.core.display.Image object>"
      ]
     },
     "metadata": {},
     "output_type": "display_data"
    },
    {
     "name": "stdout",
     "output_type": "stream",
     "text": [
      "Tentatek Splattershot\n",
      "https://cdn.wikimg.net/en/splatoonwiki/images/thumb/f/f1/S3_Weapon_Main_Tentatek_Splattershot.png/256px-S3_Weapon_Main_Tentatek_Splattershot.png\n"
     ]
    },
    {
     "data": {
      "text/html": [
       "<img src=\"https://cdn.wikimg.net/en/splatoonwiki/images/thumb/f/f1/S3_Weapon_Main_Tentatek_Splattershot.png/256px-S3_Weapon_Main_Tentatek_Splattershot.png\"/>"
      ],
      "text/plain": [
       "<IPython.core.display.Image object>"
      ]
     },
     "metadata": {},
     "output_type": "display_data"
    },
    {
     "name": "stdout",
     "output_type": "stream",
     "text": [
      "Tri-Slosher\n",
      "https://cdn.wikimg.net/en/splatoonwiki/images/thumb/d/dc/S3_Weapon_Main_Tri-Slosher.png/256px-S3_Weapon_Main_Tri-Slosher.png\n"
     ]
    },
    {
     "data": {
      "text/html": [
       "<img src=\"https://cdn.wikimg.net/en/splatoonwiki/images/thumb/d/dc/S3_Weapon_Main_Tri-Slosher.png/256px-S3_Weapon_Main_Tri-Slosher.png\"/>"
      ],
      "text/plain": [
       "<IPython.core.display.Image object>"
      ]
     },
     "metadata": {},
     "output_type": "display_data"
    },
    {
     "name": "stdout",
     "output_type": "stream",
     "text": [
      "Tri-Slosher Nouveau\n",
      "https://cdn.wikimg.net/en/splatoonwiki/images/thumb/7/74/S3_Weapon_Main_Tri-Slosher_Nouveau.png/256px-S3_Weapon_Main_Tri-Slosher_Nouveau.png\n"
     ]
    },
    {
     "data": {
      "text/html": [
       "<img src=\"https://cdn.wikimg.net/en/splatoonwiki/images/thumb/7/74/S3_Weapon_Main_Tri-Slosher_Nouveau.png/256px-S3_Weapon_Main_Tri-Slosher_Nouveau.png\"/>"
      ],
      "text/plain": [
       "<IPython.core.display.Image object>"
      ]
     },
     "metadata": {},
     "output_type": "display_data"
    },
    {
     "name": "stdout",
     "output_type": "stream",
     "text": [
      "\n",
      "https://cdn.wikimg.net/en/splatoonwiki/images/thumb/4/49/S3_Weapon_Main_Tri-Stringer.png/256px-S3_Weapon_Main_Tri-Stringer.png\n"
     ]
    },
    {
     "data": {
      "text/html": [
       "<img src=\"https://cdn.wikimg.net/en/splatoonwiki/images/thumb/4/49/S3_Weapon_Main_Tri-Stringer.png/256px-S3_Weapon_Main_Tri-Stringer.png\"/>"
      ],
      "text/plain": [
       "<IPython.core.display.Image object>"
      ]
     },
     "metadata": {},
     "output_type": "display_data"
    },
    {
     "name": "stdout",
     "output_type": "stream",
     "text": [
      "Undercover Brella\n",
      "https://cdn.wikimg.net/en/splatoonwiki/images/thumb/5/5d/S3_Weapon_Main_Undercover_Brella.png/256px-S3_Weapon_Main_Undercover_Brella.png\n"
     ]
    },
    {
     "data": {
      "text/html": [
       "<img src=\"https://cdn.wikimg.net/en/splatoonwiki/images/thumb/5/5d/S3_Weapon_Main_Undercover_Brella.png/256px-S3_Weapon_Main_Undercover_Brella.png\"/>"
      ],
      "text/plain": [
       "<IPython.core.display.Image object>"
      ]
     },
     "metadata": {},
     "output_type": "display_data"
    },
    {
     "name": "stdout",
     "output_type": "stream",
     "text": [
      "Undercover Sorella Brella\n",
      "https://cdn.wikimg.net/en/splatoonwiki/images/thumb/9/95/S3_Weapon_Main_Undercover_Sorella_Brella.png/256px-S3_Weapon_Main_Undercover_Sorella_Brella.png\n"
     ]
    },
    {
     "data": {
      "text/html": [
       "<img src=\"https://cdn.wikimg.net/en/splatoonwiki/images/thumb/9/95/S3_Weapon_Main_Undercover_Sorella_Brella.png/256px-S3_Weapon_Main_Undercover_Sorella_Brella.png\"/>"
      ],
      "text/plain": [
       "<IPython.core.display.Image object>"
      ]
     },
     "metadata": {},
     "output_type": "display_data"
    },
    {
     "name": "stdout",
     "output_type": "stream",
     "text": [
      "\n",
      "https://cdn.wikimg.net/en/splatoonwiki/images/thumb/3/37/S3_Weapon_Main_Wellstring_V.png/256px-S3_Weapon_Main_Wellstring_V.png\n"
     ]
    },
    {
     "data": {
      "text/html": [
       "<img src=\"https://cdn.wikimg.net/en/splatoonwiki/images/thumb/3/37/S3_Weapon_Main_Wellstring_V.png/256px-S3_Weapon_Main_Wellstring_V.png\"/>"
      ],
      "text/plain": [
       "<IPython.core.display.Image object>"
      ]
     },
     "metadata": {},
     "output_type": "display_data"
    },
    {
     "name": "stdout",
     "output_type": "stream",
     "text": [
      "Z+F Splat Charger\n",
      "https://cdn.wikimg.net/en/splatoonwiki/images/thumb/a/a6/S3_Weapon_Main_Z%2BF_Splat_Charger.png/256px-S3_Weapon_Main_Z%2BF_Splat_Charger.png\n"
     ]
    },
    {
     "data": {
      "text/html": [
       "<img src=\"https://cdn.wikimg.net/en/splatoonwiki/images/thumb/a/a6/S3_Weapon_Main_Z%2BF_Splat_Charger.png/256px-S3_Weapon_Main_Z%2BF_Splat_Charger.png\"/>"
      ],
      "text/plain": [
       "<IPython.core.display.Image object>"
      ]
     },
     "metadata": {},
     "output_type": "display_data"
    },
    {
     "name": "stdout",
     "output_type": "stream",
     "text": [
      "Z+F Splatterscope\n",
      "https://cdn.wikimg.net/en/splatoonwiki/images/thumb/8/86/S3_Weapon_Main_Z%2BF_Splatterscope.png/256px-S3_Weapon_Main_Z%2BF_Splatterscope.png\n"
     ]
    },
    {
     "data": {
      "text/html": [
       "<img src=\"https://cdn.wikimg.net/en/splatoonwiki/images/thumb/8/86/S3_Weapon_Main_Z%2BF_Splatterscope.png/256px-S3_Weapon_Main_Z%2BF_Splatterscope.png\"/>"
      ],
      "text/plain": [
       "<IPython.core.display.Image object>"
      ]
     },
     "metadata": {},
     "output_type": "display_data"
    },
    {
     "name": "stdout",
     "output_type": "stream",
     "text": [
      "Zink Mini Splatling\n",
      "https://cdn.wikimg.net/en/splatoonwiki/images/thumb/0/05/S3_Weapon_Main_Zink_Mini_Splatling.png/256px-S3_Weapon_Main_Zink_Mini_Splatling.png\n"
     ]
    },
    {
     "data": {
      "text/html": [
       "<img src=\"https://cdn.wikimg.net/en/splatoonwiki/images/thumb/0/05/S3_Weapon_Main_Zink_Mini_Splatling.png/256px-S3_Weapon_Main_Zink_Mini_Splatling.png\"/>"
      ],
      "text/plain": [
       "<IPython.core.display.Image object>"
      ]
     },
     "metadata": {},
     "output_type": "display_data"
    },
    {
     "name": "stdout",
     "output_type": "stream",
     "text": [
      "143\n",
      "143\n",
      "['https://cdn.wikimg.net/en/splatoonwiki/images/thumb/e/ed/S3_Weapon_Main_.52_Gal.png/256px-S3_Weapon_Main_.52_Gal.png', 'https://cdn.wikimg.net/en/splatoonwiki/images/thumb/2/26/S3_Weapon_Main_.52_Gal_Deco.png/256px-S3_Weapon_Main_.52_Gal_Deco.png', 'https://cdn.wikimg.net/en/splatoonwiki/images/thumb/5/55/S3_Weapon_Main_.96_Gal.png/256px-S3_Weapon_Main_.96_Gal.png', 'https://cdn.wikimg.net/en/splatoonwiki/images/thumb/8/8b/S3_Weapon_Main_.96_Gal_Deco.png/256px-S3_Weapon_Main_.96_Gal_Deco.png', 'https://cdn.wikimg.net/en/splatoonwiki/images/thumb/c/c5/S3_Weapon_Main_Aerospray_MG.png/256px-S3_Weapon_Main_Aerospray_MG.png', 'https://cdn.wikimg.net/en/splatoonwiki/images/thumb/2/2b/S3_Weapon_Main_Aerospray_RG.png/256px-S3_Weapon_Main_Aerospray_RG.png', 'https://cdn.wikimg.net/en/splatoonwiki/images/thumb/c/c5/S3_Weapon_Main_Annaki_Splattershot_Nova.png/256px-S3_Weapon_Main_Annaki_Splattershot_Nova.png', 'https://cdn.wikimg.net/en/splatoonwiki/images/thumb/f/f9/S3_Weapon_Main_Ballpoint_Splatling.png/256px-S3_Weapon_Main_Ballpoint_Splatling.png', 'https://cdn.wikimg.net/en/splatoonwiki/images/thumb/b/b1/S3_Weapon_Main_Ballpoint_Splatling_Nouveau.png/256px-S3_Weapon_Main_Ballpoint_Splatling_Nouveau.png', 'https://cdn.wikimg.net/en/splatoonwiki/images/thumb/6/6d/S3_Weapon_Main_Bamboozler_14_Mk_I.png/256px-S3_Weapon_Main_Bamboozler_14_Mk_I.png', 'https://cdn.wikimg.net/en/splatoonwiki/images/thumb/9/9f/S3_Weapon_Main_Bamboozler_14_Mk_II.png/256px-S3_Weapon_Main_Bamboozler_14_Mk_II.png', 'https://cdn.wikimg.net/en/splatoonwiki/images/thumb/8/8e/S3_Weapon_Main_Big_Swig_Roller.png/256px-S3_Weapon_Main_Big_Swig_Roller.png', 'https://cdn.wikimg.net/en/splatoonwiki/images/thumb/f/f7/S3_Weapon_Main_Big_Swig_Roller_Express.png/256px-S3_Weapon_Main_Big_Swig_Roller_Express.png', 'https://cdn.wikimg.net/en/splatoonwiki/images/thumb/a/a7/S3_Weapon_Main_Blaster.png/256px-S3_Weapon_Main_Blaster.png', 'https://cdn.wikimg.net/en/splatoonwiki/images/thumb/4/41/S3_Weapon_Main_Bloblobber.png/256px-S3_Weapon_Main_Bloblobber.png', 'https://cdn.wikimg.net/en/splatoonwiki/images/thumb/9/93/S3_Weapon_Main_Bloblobber_Deco.png/256px-S3_Weapon_Main_Bloblobber_Deco.png', 'https://cdn.wikimg.net/en/splatoonwiki/images/thumb/2/21/S3_Weapon_Main_Carbon_Roller.png/256px-S3_Weapon_Main_Carbon_Roller.png', 'https://cdn.wikimg.net/en/splatoonwiki/images/thumb/7/72/S3_Weapon_Main_Carbon_Roller_Deco.png/256px-S3_Weapon_Main_Carbon_Roller_Deco.png', 'https://cdn.wikimg.net/en/splatoonwiki/images/thumb/5/52/S3_Weapon_Main_Charcoal_Decavitator.png/256px-S3_Weapon_Main_Charcoal_Decavitator.png', 'https://cdn.wikimg.net/en/splatoonwiki/images/thumb/2/2f/S3_Weapon_Main_Clash_Blaster.png/256px-S3_Weapon_Main_Clash_Blaster.png', 'https://cdn.wikimg.net/en/splatoonwiki/images/thumb/1/10/S3_Weapon_Main_Clash_Blaster_Neo.png/256px-S3_Weapon_Main_Clash_Blaster_Neo.png', 'https://cdn.wikimg.net/en/splatoonwiki/images/thumb/3/3c/S3_Weapon_Main_Classic_Squiffer.png/256px-S3_Weapon_Main_Classic_Squiffer.png', 'https://cdn.wikimg.net/en/splatoonwiki/images/thumb/4/44/S3_Weapon_Main_Custom_Blaster.png/256px-S3_Weapon_Main_Custom_Blaster.png', 'https://cdn.wikimg.net/en/splatoonwiki/images/thumb/f/f6/S3_Weapon_Main_Custom_Douser_Dualies_FF.png/256px-S3_Weapon_Main_Custom_Douser_Dualies_FF.png', 'https://cdn.wikimg.net/en/splatoonwiki/images/thumb/9/9d/S3_Weapon_Main_Custom_Dualie_Squelchers.png/256px-S3_Weapon_Main_Custom_Dualie_Squelchers.png', 'https://cdn.wikimg.net/en/splatoonwiki/images/thumb/e/e6/S3_Weapon_Main_Custom_E-liter_4K.png/256px-S3_Weapon_Main_Custom_E-liter_4K.png', 'https://cdn.wikimg.net/en/splatoonwiki/images/thumb/7/7c/S3_Weapon_Main_Custom_E-liter_4K_Scope.png/256px-S3_Weapon_Main_Custom_E-liter_4K_Scope.png', 'https://cdn.wikimg.net/en/splatoonwiki/images/thumb/6/6e/S3_Weapon_Main_Custom_Explosher.png/256px-S3_Weapon_Main_Custom_Explosher.png', 'https://cdn.wikimg.net/en/splatoonwiki/images/thumb/9/91/S3_Weapon_Main_Custom_Goo_Tuber.png/256px-S3_Weapon_Main_Custom_Goo_Tuber.png', 'https://cdn.wikimg.net/en/splatoonwiki/images/thumb/f/f6/S3_Weapon_Main_Custom_Hydra_Splatling.png/256px-S3_Weapon_Main_Custom_Hydra_Splatling.png', 'https://cdn.wikimg.net/en/splatoonwiki/images/thumb/e/ed/S3_Weapon_Main_Custom_Jet_Squelcher.png/256px-S3_Weapon_Main_Custom_Jet_Squelcher.png', 'https://cdn.wikimg.net/en/splatoonwiki/images/thumb/c/ce/S3_Weapon_Main_Custom_Range_Blaster.png/256px-S3_Weapon_Main_Custom_Range_Blaster.png', 'https://cdn.wikimg.net/en/splatoonwiki/images/thumb/d/df/S3_Weapon_Main_Custom_Splattershot_Jr..png/256px-S3_Weapon_Main_Custom_Splattershot_Jr..png', 'https://cdn.wikimg.net/en/splatoonwiki/images/thumb/4/40/S3_Weapon_Main_Custom_Wellstring_V.png/256px-S3_Weapon_Main_Custom_Wellstring_V.png', 'https://cdn.wikimg.net/en/splatoonwiki/images/thumb/5/54/S3_Weapon_Main_Dapple_Dualies.png/256px-S3_Weapon_Main_Dapple_Dualies.png', 'https://cdn.wikimg.net/en/splatoonwiki/images/thumb/e/e1/S3_Weapon_Main_Dapple_Dualies_Nouveau.png/256px-S3_Weapon_Main_Dapple_Dualies_Nouveau.png', 'https://cdn.wikimg.net/en/splatoonwiki/images/thumb/c/c9/S3_Weapon_Main_Dark_Tetra_Dualies.png/256px-S3_Weapon_Main_Dark_Tetra_Dualies.png', 'https://cdn.wikimg.net/en/splatoonwiki/images/thumb/2/2c/S3_Weapon_Main_Douser_Dualies_FF.png/256px-S3_Weapon_Main_Douser_Dualies_FF.png', 'https://cdn.wikimg.net/en/splatoonwiki/images/thumb/6/6c/S3_Weapon_Main_Dread_Wringer.png/256px-S3_Weapon_Main_Dread_Wringer.png', 'https://cdn.wikimg.net/en/splatoonwiki/images/thumb/d/d2/S3_Weapon_Main_Dread_Wringer_D.png/256px-S3_Weapon_Main_Dread_Wringer_D.png', 'https://cdn.wikimg.net/en/splatoonwiki/images/thumb/5/5a/S3_Weapon_Main_Dualie_Squelchers.png/256px-S3_Weapon_Main_Dualie_Squelchers.png', 'https://cdn.wikimg.net/en/splatoonwiki/images/thumb/5/5e/S3_Weapon_Main_Dynamo_Roller.png/256px-S3_Weapon_Main_Dynamo_Roller.png', 'https://cdn.wikimg.net/en/splatoonwiki/images/thumb/1/10/S3_Weapon_Main_E-liter_4K.png/256px-S3_Weapon_Main_E-liter_4K.png', 'https://cdn.wikimg.net/en/splatoonwiki/images/thumb/e/eb/S3_Weapon_Main_E-liter_4K_Scope.png/256px-S3_Weapon_Main_E-liter_4K_Scope.png', 'https://cdn.wikimg.net/en/splatoonwiki/images/thumb/4/46/S3_Weapon_Main_Enperry_Splat_Dualies.png/256px-S3_Weapon_Main_Enperry_Splat_Dualies.png', 'https://cdn.wikimg.net/en/splatoonwiki/images/thumb/d/de/S3_Weapon_Main_Explosher.png/256px-S3_Weapon_Main_Explosher.png', 'https://cdn.wikimg.net/en/splatoonwiki/images/thumb/d/d2/S3_Weapon_Main_Flingza_Roller.png/256px-S3_Weapon_Main_Flingza_Roller.png', 'https://cdn.wikimg.net/en/splatoonwiki/images/thumb/8/8c/S3_Weapon_Main_Foil_Flingza_Roller.png/256px-S3_Weapon_Main_Foil_Flingza_Roller.png', 'https://cdn.wikimg.net/en/splatoonwiki/images/thumb/4/49/S3_Weapon_Main_Foil_Squeezer.png/256px-S3_Weapon_Main_Foil_Squeezer.png', 'https://cdn.wikimg.net/en/splatoonwiki/images/thumb/d/d8/S3_Weapon_Main_Forge_Splattershot_Pro.png/256px-S3_Weapon_Main_Forge_Splattershot_Pro.png', 'https://cdn.wikimg.net/en/splatoonwiki/images/thumb/9/99/S3_Weapon_Main_Glooga_Dualies.png/256px-S3_Weapon_Main_Glooga_Dualies.png', 'https://cdn.wikimg.net/en/splatoonwiki/images/thumb/5/56/S3_Weapon_Main_Glooga_Dualies_Deco.png/256px-S3_Weapon_Main_Glooga_Dualies_Deco.png', 'https://cdn.wikimg.net/en/splatoonwiki/images/thumb/f/f8/S3_Weapon_Main_Gold_Dynamo_Roller.png/256px-S3_Weapon_Main_Gold_Dynamo_Roller.png', 'https://cdn.wikimg.net/en/splatoonwiki/images/thumb/8/8a/S3_Weapon_Main_Goo_Tuber.png/256px-S3_Weapon_Main_Goo_Tuber.png', 'https://cdn.wikimg.net/en/splatoonwiki/images/thumb/5/5a/S3_Weapon_Main_H-3_Nozzlenose.png/256px-S3_Weapon_Main_H-3_Nozzlenose.png', 'https://cdn.wikimg.net/en/splatoonwiki/images/thumb/3/31/S3_Weapon_Main_H-3_Nozzlenose_D.png/256px-S3_Weapon_Main_H-3_Nozzlenose_D.png', 'https://cdn.wikimg.net/en/splatoonwiki/images/thumb/2/24/S3_Weapon_Main_Heavy_Edit_Splatling.png/256px-S3_Weapon_Main_Heavy_Edit_Splatling.png', 'https://cdn.wikimg.net/en/splatoonwiki/images/thumb/a/aa/S3_Weapon_Main_Heavy_Edit_Splatling_Nouveau.png/256px-S3_Weapon_Main_Heavy_Edit_Splatling_Nouveau.png', 'https://cdn.wikimg.net/en/splatoonwiki/images/thumb/5/5e/S3_Weapon_Main_Heavy_Splatling.png/256px-S3_Weapon_Main_Heavy_Splatling.png', 'https://cdn.wikimg.net/en/splatoonwiki/images/thumb/f/fc/S3_Weapon_Main_Heavy_Splatling_Deco.png/256px-S3_Weapon_Main_Heavy_Splatling_Deco.png', 'https://cdn.wikimg.net/en/splatoonwiki/images/thumb/2/24/S3_Weapon_Main_Hero_Shot_Replica.png/256px-S3_Weapon_Main_Hero_Shot_Replica.png', 'https://cdn.wikimg.net/en/splatoonwiki/images/thumb/d/d1/S3_Weapon_Main_Hydra_Splatling.png/256px-S3_Weapon_Main_Hydra_Splatling.png', 'https://cdn.wikimg.net/en/splatoonwiki/images/thumb/4/4a/S3_Weapon_Main_Inkbrush.png/256px-S3_Weapon_Main_Inkbrush.png', 'https://cdn.wikimg.net/en/splatoonwiki/images/thumb/2/2e/S3_Weapon_Main_Inkbrush_Nouveau.png/256px-S3_Weapon_Main_Inkbrush_Nouveau.png', 'https://cdn.wikimg.net/en/splatoonwiki/images/thumb/f/f4/S3_Weapon_Main_Inkline_Tri-Stringer.png/256px-S3_Weapon_Main_Inkline_Tri-Stringer.png', 'https://cdn.wikimg.net/en/splatoonwiki/images/thumb/6/69/S3_Weapon_Main_Jet_Squelcher.png/256px-S3_Weapon_Main_Jet_Squelcher.png', 'https://cdn.wikimg.net/en/splatoonwiki/images/thumb/6/60/S3_Weapon_Main_Krak-On_Splat_Roller.png/256px-S3_Weapon_Main_Krak-On_Splat_Roller.png', 'https://cdn.wikimg.net/en/splatoonwiki/images/thumb/2/2c/S3_Weapon_Main_L-3_Nozzlenose.png/256px-S3_Weapon_Main_L-3_Nozzlenose.png', 'https://cdn.wikimg.net/en/splatoonwiki/images/thumb/f/ff/S3_Weapon_Main_L-3_Nozzlenose_D.png/256px-S3_Weapon_Main_L-3_Nozzlenose_D.png', 'https://cdn.wikimg.net/en/splatoonwiki/images/thumb/8/86/S3_Weapon_Main_Light_Tetra_Dualies.png/256px-S3_Weapon_Main_Light_Tetra_Dualies.png', 'https://cdn.wikimg.net/en/splatoonwiki/images/thumb/5/59/S3_Weapon_Main_Luna_Blaster.png/256px-S3_Weapon_Main_Luna_Blaster.png', 'https://cdn.wikimg.net/en/splatoonwiki/images/thumb/1/11/S3_Weapon_Main_Luna_Blaster_Neo.png/256px-S3_Weapon_Main_Luna_Blaster_Neo.png', 'https://cdn.wikimg.net/en/splatoonwiki/images/thumb/8/86/S3_Weapon_Main_Mini_Splatling.png/256px-S3_Weapon_Main_Mini_Splatling.png', 'https://cdn.wikimg.net/en/splatoonwiki/images/thumb/c/c9/S3_Weapon_Main_Mint_Decavitator.png/256px-S3_Weapon_Main_Mint_Decavitator.png', 'https://cdn.wikimg.net/en/splatoonwiki/images/thumb/f/f6/S3_Weapon_Main_N-ZAP_%2785.png/256px-S3_Weapon_Main_N-ZAP_%2785.png', 'https://cdn.wikimg.net/en/splatoonwiki/images/thumb/9/98/S3_Weapon_Main_N-ZAP_%2789.png/256px-S3_Weapon_Main_N-ZAP_%2789.png', 'https://cdn.wikimg.net/en/splatoonwiki/images/thumb/8/81/S3_Weapon_Main_Nautilus_47.png/256px-S3_Weapon_Main_Nautilus_47.png', 'https://cdn.wikimg.net/en/splatoonwiki/images/thumb/8/81/S3_Weapon_Main_Nautilus_79.png/256px-S3_Weapon_Main_Nautilus_79.png', 'https://cdn.wikimg.net/en/splatoonwiki/images/thumb/b/b8/S3_Weapon_Main_Neo_Splash-o-matic.png/256px-S3_Weapon_Main_Neo_Splash-o-matic.png', 'https://cdn.wikimg.net/en/splatoonwiki/images/thumb/c/c3/S3_Weapon_Main_Neo_Sploosh-o-matic.png/256px-S3_Weapon_Main_Neo_Sploosh-o-matic.png', 'https://cdn.wikimg.net/en/splatoonwiki/images/thumb/8/80/S3_Weapon_Main_New_Squiffer.png/256px-S3_Weapon_Main_New_Squiffer.png', 'https://cdn.wikimg.net/en/splatoonwiki/images/thumb/2/2c/S3_Weapon_Main_Octo_Shot_Replica.png/256px-S3_Weapon_Main_Octo_Shot_Replica.png', 'https://cdn.wikimg.net/en/splatoonwiki/images/thumb/3/3d/S3_Weapon_Main_Octobrush.png/256px-S3_Weapon_Main_Octobrush.png', 'https://cdn.wikimg.net/en/splatoonwiki/images/thumb/4/45/S3_Weapon_Main_Octobrush_Nouveau.png/256px-S3_Weapon_Main_Octobrush_Nouveau.png', 'https://cdn.wikimg.net/en/splatoonwiki/images/thumb/7/7b/S3_Weapon_Main_Order_Blaster_Replica.png/256px-S3_Weapon_Main_Order_Blaster_Replica.png', 'https://cdn.wikimg.net/en/splatoonwiki/images/thumb/6/61/S3_Weapon_Main_Order_Brella_Replica.png/256px-S3_Weapon_Main_Order_Brella_Replica.png', 'https://cdn.wikimg.net/en/splatoonwiki/images/thumb/0/00/S3_Weapon_Main_Order_Charger_Replica.png/256px-S3_Weapon_Main_Order_Charger_Replica.png', 'https://cdn.wikimg.net/en/splatoonwiki/images/thumb/5/50/S3_Weapon_Main_Order_Dualie_Replicas.png/256px-S3_Weapon_Main_Order_Dualie_Replicas.png', 'https://cdn.wikimg.net/en/splatoonwiki/images/thumb/4/47/S3_Weapon_Main_Order_Roller_Replica.png/256px-S3_Weapon_Main_Order_Roller_Replica.png', 'https://cdn.wikimg.net/en/splatoonwiki/images/thumb/e/e6/S3_Weapon_Main_Order_Shot_Replica.png/256px-S3_Weapon_Main_Order_Shot_Replica.png', 'https://cdn.wikimg.net/en/splatoonwiki/images/thumb/a/aa/S3_Weapon_Main_Order_Slosher_Replica.png/256px-S3_Weapon_Main_Order_Slosher_Replica.png', 'https://cdn.wikimg.net/en/splatoonwiki/images/thumb/b/b9/S3_Weapon_Main_Order_Splatana_Replica.png/256px-S3_Weapon_Main_Order_Splatana_Replica.png', 'https://cdn.wikimg.net/en/splatoonwiki/images/thumb/c/ce/S3_Weapon_Main_Order_Splatling_Replica.png/256px-S3_Weapon_Main_Order_Splatling_Replica.png', 'https://cdn.wikimg.net/en/splatoonwiki/images/thumb/2/24/S3_Weapon_Main_Order_Stringer_Replica.png/256px-S3_Weapon_Main_Order_Stringer_Replica.png', 'https://cdn.wikimg.net/en/splatoonwiki/images/thumb/0/0a/S3_Weapon_Main_Orderbrush_Replica.png/256px-S3_Weapon_Main_Orderbrush_Replica.png', 'https://cdn.wikimg.net/en/splatoonwiki/images/thumb/7/79/S3_Weapon_Main_Painbrush.png/256px-S3_Weapon_Main_Painbrush.png', 'https://cdn.wikimg.net/en/splatoonwiki/images/thumb/0/09/S3_Weapon_Main_Painbrush_Nouveau.png/256px-S3_Weapon_Main_Painbrush_Nouveau.png', 'https://cdn.wikimg.net/en/splatoonwiki/images/thumb/6/66/S3_Weapon_Main_REEF-LUX_450.png/256px-S3_Weapon_Main_REEF-LUX_450.png', 'https://cdn.wikimg.net/en/splatoonwiki/images/thumb/a/ab/S3_Weapon_Main_REEF-LUX_450_Deco.png/256px-S3_Weapon_Main_REEF-LUX_450_Deco.png', 'https://cdn.wikimg.net/en/splatoonwiki/images/thumb/1/1d/S3_Weapon_Main_Range_Blaster.png/256px-S3_Weapon_Main_Range_Blaster.png', 'https://cdn.wikimg.net/en/splatoonwiki/images/thumb/6/6a/S3_Weapon_Main_Rapid_Blaster.png/256px-S3_Weapon_Main_Rapid_Blaster.png', 'https://cdn.wikimg.net/en/splatoonwiki/images/thumb/c/cb/S3_Weapon_Main_Rapid_Blaster_Deco.png/256px-S3_Weapon_Main_Rapid_Blaster_Deco.png', 'https://cdn.wikimg.net/en/splatoonwiki/images/thumb/c/c6/S3_Weapon_Main_Rapid_Blaster_Pro.png/256px-S3_Weapon_Main_Rapid_Blaster_Pro.png', 'https://cdn.wikimg.net/en/splatoonwiki/images/thumb/e/e4/S3_Weapon_Main_Rapid_Blaster_Pro_Deco.png/256px-S3_Weapon_Main_Rapid_Blaster_Pro_Deco.png', 'https://cdn.wikimg.net/en/splatoonwiki/images/thumb/d/d0/S3_Weapon_Main_Recycled_Brella_24_Mk_I.png/256px-S3_Weapon_Main_Recycled_Brella_24_Mk_I.png', 'https://cdn.wikimg.net/en/splatoonwiki/images/thumb/9/94/S3_Weapon_Main_Recycled_Brella_24_Mk_II.png/256px-S3_Weapon_Main_Recycled_Brella_24_Mk_II.png', 'https://cdn.wikimg.net/en/splatoonwiki/images/thumb/2/2f/S3_Weapon_Main_S-BLAST_%2791.png/256px-S3_Weapon_Main_S-BLAST_%2791.png', 'https://cdn.wikimg.net/en/splatoonwiki/images/thumb/2/2d/S3_Weapon_Main_S-BLAST_%2792.png/256px-S3_Weapon_Main_S-BLAST_%2792.png', 'https://cdn.wikimg.net/en/splatoonwiki/images/thumb/4/42/S3_Weapon_Main_Slosher.png/256px-S3_Weapon_Main_Slosher.png', 'https://cdn.wikimg.net/en/splatoonwiki/images/thumb/a/a5/S3_Weapon_Main_Slosher_Deco.png/256px-S3_Weapon_Main_Slosher_Deco.png', 'https://cdn.wikimg.net/en/splatoonwiki/images/thumb/3/38/S3_Weapon_Main_Sloshing_Machine.png/256px-S3_Weapon_Main_Sloshing_Machine.png', 'https://cdn.wikimg.net/en/splatoonwiki/images/thumb/d/d5/S3_Weapon_Main_Sloshing_Machine_Neo.png/256px-S3_Weapon_Main_Sloshing_Machine_Neo.png', 'https://cdn.wikimg.net/en/splatoonwiki/images/thumb/0/0a/S3_Weapon_Main_Snipewriter_5B.png/256px-S3_Weapon_Main_Snipewriter_5B.png', 'https://cdn.wikimg.net/en/splatoonwiki/images/thumb/3/34/S3_Weapon_Main_Snipewriter_5H.png/256px-S3_Weapon_Main_Snipewriter_5H.png', 'https://cdn.wikimg.net/en/splatoonwiki/images/thumb/8/8b/S3_Weapon_Main_Sorella_Brella.png/256px-S3_Weapon_Main_Sorella_Brella.png', 'https://cdn.wikimg.net/en/splatoonwiki/images/thumb/7/7b/S3_Weapon_Main_Splash-o-matic.png/256px-S3_Weapon_Main_Splash-o-matic.png', 'https://cdn.wikimg.net/en/splatoonwiki/images/thumb/2/27/S3_Weapon_Main_Splat_Brella.png/256px-S3_Weapon_Main_Splat_Brella.png', 'https://cdn.wikimg.net/en/splatoonwiki/images/thumb/4/41/S3_Weapon_Main_Splat_Charger.png/256px-S3_Weapon_Main_Splat_Charger.png', 'https://cdn.wikimg.net/en/splatoonwiki/images/thumb/e/e8/S3_Weapon_Main_Splat_Dualies.png/256px-S3_Weapon_Main_Splat_Dualies.png', 'https://cdn.wikimg.net/en/splatoonwiki/images/thumb/c/c7/S3_Weapon_Main_Splat_Roller.png/256px-S3_Weapon_Main_Splat_Roller.png', 'https://cdn.wikimg.net/en/splatoonwiki/images/thumb/4/4d/S3_Weapon_Main_Splatana_Stamper.png/256px-S3_Weapon_Main_Splatana_Stamper.png', 'https://cdn.wikimg.net/en/splatoonwiki/images/thumb/7/71/S3_Weapon_Main_Splatana_Stamper_Nouveau.png/256px-S3_Weapon_Main_Splatana_Stamper_Nouveau.png', 'https://cdn.wikimg.net/en/splatoonwiki/images/thumb/e/e5/S3_Weapon_Main_Splatana_Wiper.png/256px-S3_Weapon_Main_Splatana_Wiper.png', 'https://cdn.wikimg.net/en/splatoonwiki/images/thumb/4/4a/S3_Weapon_Main_Splatana_Wiper_Deco.png/256px-S3_Weapon_Main_Splatana_Wiper_Deco.png', 'https://cdn.wikimg.net/en/splatoonwiki/images/thumb/b/b2/S3_Weapon_Main_Splatterscope.png/256px-S3_Weapon_Main_Splatterscope.png', 'https://cdn.wikimg.net/en/splatoonwiki/images/thumb/b/bf/S3_Weapon_Main_Splattershot.png/256px-S3_Weapon_Main_Splattershot.png', 'https://cdn.wikimg.net/en/splatoonwiki/images/thumb/1/1e/S3_Weapon_Main_Splattershot_Jr..png/256px-S3_Weapon_Main_Splattershot_Jr..png', 'https://cdn.wikimg.net/en/splatoonwiki/images/thumb/1/10/S3_Weapon_Main_Splattershot_Nova.png/256px-S3_Weapon_Main_Splattershot_Nova.png', 'https://cdn.wikimg.net/en/splatoonwiki/images/thumb/7/77/S3_Weapon_Main_Splattershot_Pro.png/256px-S3_Weapon_Main_Splattershot_Pro.png', 'https://cdn.wikimg.net/en/splatoonwiki/images/thumb/5/59/S3_Weapon_Main_Sploosh-o-matic.png/256px-S3_Weapon_Main_Sploosh-o-matic.png', 'https://cdn.wikimg.net/en/splatoonwiki/images/thumb/c/cb/S3_Weapon_Main_Squeezer.png/256px-S3_Weapon_Main_Squeezer.png', 'https://cdn.wikimg.net/en/splatoonwiki/images/thumb/1/1e/S3_Weapon_Main_Tenta_Brella.png/256px-S3_Weapon_Main_Tenta_Brella.png', 'https://cdn.wikimg.net/en/splatoonwiki/images/thumb/3/3f/S3_Weapon_Main_Tenta_Sorella_Brella.png/256px-S3_Weapon_Main_Tenta_Sorella_Brella.png', 'https://cdn.wikimg.net/en/splatoonwiki/images/thumb/f/f1/S3_Weapon_Main_Tentatek_Splattershot.png/256px-S3_Weapon_Main_Tentatek_Splattershot.png', 'https://cdn.wikimg.net/en/splatoonwiki/images/thumb/d/dc/S3_Weapon_Main_Tri-Slosher.png/256px-S3_Weapon_Main_Tri-Slosher.png', 'https://cdn.wikimg.net/en/splatoonwiki/images/thumb/7/74/S3_Weapon_Main_Tri-Slosher_Nouveau.png/256px-S3_Weapon_Main_Tri-Slosher_Nouveau.png', 'https://cdn.wikimg.net/en/splatoonwiki/images/thumb/4/49/S3_Weapon_Main_Tri-Stringer.png/256px-S3_Weapon_Main_Tri-Stringer.png', 'https://cdn.wikimg.net/en/splatoonwiki/images/thumb/5/5d/S3_Weapon_Main_Undercover_Brella.png/256px-S3_Weapon_Main_Undercover_Brella.png', 'https://cdn.wikimg.net/en/splatoonwiki/images/thumb/9/95/S3_Weapon_Main_Undercover_Sorella_Brella.png/256px-S3_Weapon_Main_Undercover_Sorella_Brella.png', 'https://cdn.wikimg.net/en/splatoonwiki/images/thumb/3/37/S3_Weapon_Main_Wellstring_V.png/256px-S3_Weapon_Main_Wellstring_V.png', 'https://cdn.wikimg.net/en/splatoonwiki/images/thumb/a/a6/S3_Weapon_Main_Z%2BF_Splat_Charger.png/256px-S3_Weapon_Main_Z%2BF_Splat_Charger.png', 'https://cdn.wikimg.net/en/splatoonwiki/images/thumb/8/86/S3_Weapon_Main_Z%2BF_Splatterscope.png/256px-S3_Weapon_Main_Z%2BF_Splatterscope.png', 'https://cdn.wikimg.net/en/splatoonwiki/images/thumb/0/05/S3_Weapon_Main_Zink_Mini_Splatling.png/256px-S3_Weapon_Main_Zink_Mini_Splatling.png']\n"
     ]
    }
   ],
   "source": [
    "# --------------------------------------------------------------------------------\n",
    "w_names = df_weapons['Name'] # IMPORTANT TO CHANGE IN REAL TO RECEIVE THE WEAPONS DF\n",
    "#print(w_names)\n",
    "# --------------------------------------------------------------------------------\n",
    "extract_main_weapon_images(w_names)"
   ]
  },
  {
   "cell_type": "markdown",
   "id": "1d10baf0",
   "metadata": {},
   "source": [
    "# FIX TO WORK IN TERMINAL"
   ]
  },
  {
   "cell_type": "code",
   "execution_count": 145,
   "id": "7ba2860b",
   "metadata": {},
   "outputs": [],
   "source": [
    "from bs4 import BeautifulSoup\n",
    "import requests\n",
    "import time\n",
    "import pandas as pd\n",
    "from etl.extract.url_request import make_request\n",
    "from tqdm import tqdm\n",
    "\n",
    "HEADERS = {'User-Agent': 'Mozilla/5.0'}\n",
    "\n",
    "ALL_WEAPONS_SITE = 'https://splatoonwiki.org/wiki/List_of_main_weapons_in_Splatoon_3'\n",
    "\n",
    "BASE_PATHS = 'https://splatoonwiki.org' ## Base URL for the Splatoon wiki\n",
    "\n",
    "TEST_MODE = True\n",
    "\n",
    "\n",
    "# function to extract all main wain weapon images as\n",
    "# a list of paths to URLs\n",
    "def extract_main_weapon_images(w_names):\n",
    "    session = start_session()\n",
    "    print(\"\\n\")\n",
    "    print(\"Finding the weapon pages on inkipedia...\")\n",
    "    path_list = find_all_weapon_pages(session,w_names)\n",
    "    print(\"Done!\")\n",
    "    print(\"\\n\")\n",
    "    print(\"Now finding the main weapon images...\")\n",
    "    print(\"-----------------------------------------\")\n",
    "    image_path_list = find_all_weapon_urls(session,path_list, w_names)\n",
    "    print(\"-----------------------------------------\")\n",
    "    print(\"Done!\")\n",
    "    return None\n",
    "\n",
    "\n",
    "# function to find paths to each weapon page\n",
    "def find_all_weapon_pages(session, w_names): \n",
    "    response = session.get(ALL_WEAPONS_SITE, timeout=10)  \n",
    "    soup = BeautifulSoup(response.text, 'html.parser')\n",
    "    \n",
    "    path_list = []\n",
    "    weapons = soup.find_all('td')\n",
    "    weapons = list(dict.fromkeys(weapons))\n",
    "    if TEST_MODE is True:\n",
    "        weapons = weapons[:100]\n",
    "\n",
    "    for w in weapons:\n",
    "        if w.find('a') is not None:\n",
    "            if w.find('a')['href'] is not None:\n",
    "                path_list = find_weapon_path(w, path_list)\n",
    "    path_list = list(dict.fromkeys(path_list))\n",
    "    path_list.sort()\n",
    "    time.sleep(2)\n",
    "    return path_list\n",
    "\n",
    "\n",
    "# function to find the path for each weapon and add to the list\n",
    "def find_weapon_path(w, path_list):\n",
    "    w_href =  w.find('a')['href']\n",
    "    w_href_edit = w_href.split('/')[-1] # Split the URL to get the last part, which is the weapon name\n",
    "    w_href_edit = fix_names(w_href_edit)\n",
    "    # check if w_href_edit matches a weapon in the weapon list\n",
    "    if w_href_edit in w_names.values:\n",
    "        time.sleep(0.02)\n",
    "        # make a list of the urls with a weapon name\n",
    "        path_list.append(BASE_PATHS + w_href)     \n",
    "    return path_list\n",
    "\n",
    "\n",
    "# fix weapon names to match the format with the ones if the dataframe\n",
    "def fix_names(name):\n",
    "    # Replace underscores with spaces to match the original weapon names\n",
    "    name = name.replace('_', ' ') \n",
    "    # Making changes to certain names to be in the right format:\n",
    "    name = name.replace('Z%2BF', 'Z+F') \n",
    "    name = name.replace('%2785', \"'85\")\n",
    "    name = name.replace('%2789', \"'89\")\n",
    "    name = name.replace('%2792', \"'92\")\n",
    "    name = name.replace('%2791', \"'91\")   \n",
    "    return name  \n",
    "\n",
    "\n",
    "\n",
    "# function to find the weapon image from each weapon page\n",
    "def find_all_weapon_urls(session,path_list, w_names):\n",
    "    image_path_list = []\n",
    "\n",
    "    count = 0\n",
    "\n",
    "    for weapon_path in path_list:\n",
    "        time.sleep(1)\n",
    "        \n",
    "        response = session.get(weapon_path, timeout=30)\n",
    "        \n",
    "        soup = BeautifulSoup(response.text, 'html.parser')\n",
    "        image_path_list = find_all_images(soup,image_path_list)\n",
    "        count += 1\n",
    "    print(\"\\n\")\n",
    "    print(str(len(image_path_list)) + \"/\" + str(len(w_names)) + \" weapon images found\")\n",
    "    return image_path_list\n",
    "\n",
    "\n",
    "# function to find all the images on the page\n",
    "# then return the correct image of the weapon\n",
    "def find_all_images(soup,image_path_list):\n",
    "    images = soup.find_all('img')\n",
    "    \n",
    "    for img in images:\n",
    "         image_url = find_image(img)\n",
    "         if image_url is not None:\n",
    "            image_path_list.append(image_url) \n",
    "            break\n",
    "    return image_path_list\n",
    "\n",
    "\n",
    "# function to find and return the correct image\n",
    "def find_image(img):\n",
    "    src = img.get('src', '')\n",
    "    alt = img.get('alt', '')\n",
    "    \n",
    "    if '256px-S3' in src:\n",
    "        image_url = 'https:' + src\n",
    "        print(\"Found the image: \" +  alt)\n",
    "        #print(image_url)\n",
    "        #image_path_list.append(image_url) \n",
    "        return image_url\n",
    "    else:\n",
    "        return None \n",
    "\n",
    "# function to create the session object\n",
    "def start_session():\n",
    "    session = requests.Session()\n",
    "    session.headers.update(HEADERS)\n",
    "    return session\n",
    "\n",
    "\n",
    "\n",
    "\n",
    "\n",
    "\n",
    "\n"
   ]
  },
  {
   "cell_type": "code",
   "execution_count": null,
   "id": "e7bcb819",
   "metadata": {},
   "outputs": [
    {
     "name": "stdout",
     "output_type": "stream",
     "text": [
      "\n",
      "\n",
      "Finding the weapon pages on inkipedia...\n",
      "Done!\n",
      "\n",
      "\n",
      "Now finding the main weapon images...\n",
      "-----------------------------------------\n",
      "Found the image: .52 Gal\n",
      "Found the image: .52 Gal Deco\n",
      "Found the image: Aerospray MG\n",
      "Found the image: Aerospray RG\n",
      "Found the image: Custom Splattershot Jr.\n",
      "Found the image: Forge Splattershot Pro\n",
      "Found the image: Hero Shot Replica\n",
      "Found the image: N-ZAP '85\n",
      "Found the image: N-ZAP '89\n",
      "Found the image: Neo Splash-o-matic\n",
      "Found the image: Neo Sploosh-o-matic\n",
      "Found the image: Octo Shot Replica\n",
      "Found the image: Order Shot Replica\n",
      "Found the image: Splash-o-matic\n",
      "Found the image: Splattershot\n",
      "Found the image: Splattershot Jr.\n",
      "Found the image: Splattershot Pro\n",
      "Found the image: Sploosh-o-matic\n",
      "Found the image: Tentatek Splattershot\n",
      "\n",
      "\n",
      "19/143 weapon images found\n",
      "-----------------------------------------\n",
      "Done!\n"
     ]
    }
   ],
   "source": [
    "# --------------------------------------------------------------------------------\n",
    "w_names = df_weapons['Name'] # IMPORTANT TO CHANGE IN REAL TO RECEIVE THE WEAPONS DF\n",
    "#print(w_names)\n",
    "# --------------------------------------------------------------------------------\n",
    "extract_main_weapon_images(w_names)"
   ]
  },
  {
   "cell_type": "code",
   "execution_count": 147,
   "id": "912214dd",
   "metadata": {},
   "outputs": [],
   "source": [
    "# adding progress bars:"
   ]
  },
  {
   "cell_type": "code",
   "execution_count": 204,
   "id": "8c52556c",
   "metadata": {},
   "outputs": [],
   "source": [
    "from bs4 import BeautifulSoup\n",
    "import requests\n",
    "import time\n",
    "import pandas as pd\n",
    "from etl.extract.url_request import make_request\n",
    "from tqdm import tqdm\n",
    "\n",
    "HEADERS = {'User-Agent': 'Mozilla/5.0'}\n",
    "\n",
    "ALL_WEAPONS_SITE = 'https://splatoonwiki.org/wiki/List_of_main_weapons_in_Splatoon_3'\n",
    "\n",
    "BASE_PATHS = 'https://splatoonwiki.org' ## Base URL for the Splatoon wiki\n",
    "\n",
    "TEST_MODE = True\n",
    "\n",
    "\n",
    "# function to extract all main wain weapon images as\n",
    "# a list of paths to URLs\n",
    "def extract_main_weapon_images(w_names):\n",
    "    session = start_session()\n",
    "    print(\"\\n\")\n",
    "    print(\"Finding the weapon pages on inkipedia...\")\n",
    "    path_list = find_all_weapon_pages(session,w_names)\n",
    "    print(\"Done!\")\n",
    "    print(\"\\n\")\n",
    "    print(\"Now finding the main weapon images...\")\n",
    "    print(\"-----------------------------------------\")\n",
    "    image_path_list = find_all_weapon_urls(session,path_list, w_names)\n",
    "    print(\"-----------------------------------------\")\n",
    "    print(\"Done!\")\n",
    "    return None\n",
    "\n",
    "\n",
    "# function to find paths to each weapon page\n",
    "def find_all_weapon_pages(session, w_names): \n",
    "    response = session.get(ALL_WEAPONS_SITE, timeout=10)  \n",
    "    soup = BeautifulSoup(response.text, 'html.parser')\n",
    "    \n",
    "    path_list = []\n",
    "    weapons = soup.find_all('td')\n",
    "    weapons = list(dict.fromkeys(weapons))\n",
    "    if TEST_MODE is True:\n",
    "        weapons = weapons[:100]\n",
    "\n",
    "    for w in tqdm(weapons, desc=\"Finding weapon pages\", unit=\"weapon\"):\n",
    "        if w.find('a') is not None:\n",
    "            if w.find('a')['href'] is not None:\n",
    "                path_list = find_weapon_path(w, path_list)\n",
    "    path_list = list(dict.fromkeys(path_list))\n",
    "    path_list.sort()\n",
    "    time.sleep(2)\n",
    "    return path_list\n",
    "\n",
    "\n",
    "# function to find the path for each weapon and add to the list\n",
    "def find_weapon_path(w, path_list):\n",
    "    w_href =  w.find('a')['href']\n",
    "    w_href_edit = w_href.split('/')[-1] # Split the URL to get the last part, which is the weapon name\n",
    "    w_href_edit = fix_names(w_href_edit)\n",
    "    # check if w_href_edit matches a weapon in the weapon list\n",
    "    if w_href_edit in w_names.values:\n",
    "        time.sleep(0.02)\n",
    "        # make a list of the urls with a weapon name\n",
    "        path_list.append(BASE_PATHS + w_href)     \n",
    "    return path_list\n",
    "\n",
    "\n",
    "# fix weapon names to match the format with the ones if the dataframe\n",
    "def fix_names(name):\n",
    "    # Replace underscores with spaces to match the original weapon names\n",
    "    name = name.replace('_', ' ') \n",
    "    # Making changes to certain names to be in the right format:\n",
    "    name = name.replace('Z%2BF', 'Z+F') \n",
    "    name = name.replace('%2785', \"'85\")\n",
    "    name = name.replace('%2789', \"'89\")\n",
    "    name = name.replace('%2792', \"'92\")\n",
    "    name = name.replace('%2791', \"'91\")   \n",
    "    return name  \n",
    "\n",
    "\n",
    "\n",
    "# function to find the weapon image from each weapon page\n",
    "def find_all_weapon_urls(session,path_list, w_names):\n",
    "    image_path_list = []\n",
    "\n",
    "    count = 0\n",
    "\n",
    "    for weapon_path in tqdm(path_list, desc=\"Finding weapon images\", unit=\"weapon\"):\n",
    "        time.sleep(1)\n",
    "        \n",
    "        response = session.get(weapon_path, timeout=30)\n",
    "        \n",
    "        soup = BeautifulSoup(response.text, 'html.parser')\n",
    "        image_path_list = find_all_images(soup,image_path_list)\n",
    "        count += 1\n",
    "    print(\"\\n\")\n",
    "    print(str(len(image_path_list)) + \"/\" + str(len(w_names)) + \" weapon images found\")\n",
    "    return image_path_list\n",
    "\n",
    "\n",
    "# function to find all the images on the page\n",
    "# then return the correct image of the weapon\n",
    "def find_all_images(soup,image_path_list):\n",
    "    images = soup.find_all('img')\n",
    "    \n",
    "    for img in images:\n",
    "         image_url = find_image(img)\n",
    "         if image_url is not None:\n",
    "            image_path_list.append(image_url) \n",
    "            break\n",
    "    return image_path_list\n",
    "\n",
    "\n",
    "# function to find and return the correct image\n",
    "def find_image(img):\n",
    "    src = img.get('src', '')\n",
    "    alt = img.get('alt', '')\n",
    "    \n",
    "    if '256px-S3' in src:\n",
    "        image_url = 'https:' + src\n",
    "        print(\"Found the image: \" +  alt)\n",
    "        #print(image_url)\n",
    "        #tqdm.write(f\"Found the image: {alt}\")\n",
    "        #image_path_list.append(image_url) \n",
    "        return image_url\n",
    "    else:\n",
    "        return None \n",
    "\n",
    "# function to create the session object\n",
    "def start_session():\n",
    "    session = requests.Session()\n",
    "    session.headers.update(HEADERS)\n",
    "    return session\n",
    "\n",
    "\n",
    "\n",
    "\n",
    "\n",
    "\n",
    "\n"
   ]
  },
  {
   "cell_type": "code",
   "execution_count": 162,
   "id": "645b4d1e",
   "metadata": {},
   "outputs": [
    {
     "name": "stdout",
     "output_type": "stream",
     "text": [
      "\n",
      "\n",
      "Finding the weapon pages on inkipedia...\n"
     ]
    },
    {
     "name": "stderr",
     "output_type": "stream",
     "text": [
      "Finding weapon pages: 100%|██████████| 100/100 [00:00<00:00, 123.79weapon/s]\n"
     ]
    },
    {
     "name": "stdout",
     "output_type": "stream",
     "text": [
      "Done!\n",
      "\n",
      "\n",
      "Now finding the main weapon images...\n",
      "-----------------------------------------\n"
     ]
    },
    {
     "name": "stderr",
     "output_type": "stream",
     "text": [
      "Finding weapon images:   5%|▌         | 1/19 [00:01<00:23,  1.29s/weapon]"
     ]
    },
    {
     "name": "stdout",
     "output_type": "stream",
     "text": [
      "Found the image: .52 Gal\n"
     ]
    },
    {
     "name": "stderr",
     "output_type": "stream",
     "text": [
      "Finding weapon images:  11%|█         | 2/19 [00:02<00:21,  1.29s/weapon]"
     ]
    },
    {
     "name": "stdout",
     "output_type": "stream",
     "text": [
      "Found the image: .52 Gal Deco\n"
     ]
    },
    {
     "name": "stderr",
     "output_type": "stream",
     "text": [
      "Finding weapon images:  16%|█▌        | 3/19 [00:04<00:22,  1.40s/weapon]"
     ]
    },
    {
     "name": "stdout",
     "output_type": "stream",
     "text": [
      "Found the image: Aerospray MG\n"
     ]
    },
    {
     "name": "stderr",
     "output_type": "stream",
     "text": [
      "Finding weapon images:  21%|██        | 4/19 [00:05<00:20,  1.35s/weapon]"
     ]
    },
    {
     "name": "stdout",
     "output_type": "stream",
     "text": [
      "Found the image: Aerospray RG\n"
     ]
    },
    {
     "name": "stderr",
     "output_type": "stream",
     "text": [
      "Finding weapon images:  26%|██▋       | 5/19 [00:06<00:18,  1.32s/weapon]"
     ]
    },
    {
     "name": "stdout",
     "output_type": "stream",
     "text": [
      "Found the image: Custom Splattershot Jr.\n"
     ]
    },
    {
     "name": "stderr",
     "output_type": "stream",
     "text": [
      "Finding weapon images:  32%|███▏      | 6/19 [00:07<00:16,  1.30s/weapon]"
     ]
    },
    {
     "name": "stdout",
     "output_type": "stream",
     "text": [
      "Found the image: Forge Splattershot Pro\n"
     ]
    },
    {
     "name": "stderr",
     "output_type": "stream",
     "text": [
      "Finding weapon images:  37%|███▋      | 7/19 [00:09<00:15,  1.28s/weapon]"
     ]
    },
    {
     "name": "stdout",
     "output_type": "stream",
     "text": [
      "Found the image: Hero Shot Replica\n"
     ]
    },
    {
     "name": "stderr",
     "output_type": "stream",
     "text": [
      "Finding weapon images:  42%|████▏     | 8/19 [00:10<00:13,  1.27s/weapon]"
     ]
    },
    {
     "name": "stdout",
     "output_type": "stream",
     "text": [
      "Found the image: N-ZAP '85\n"
     ]
    },
    {
     "name": "stderr",
     "output_type": "stream",
     "text": [
      "Finding weapon images:  47%|████▋     | 9/19 [00:11<00:13,  1.35s/weapon]"
     ]
    },
    {
     "name": "stdout",
     "output_type": "stream",
     "text": [
      "Found the image: N-ZAP '89\n"
     ]
    },
    {
     "name": "stderr",
     "output_type": "stream",
     "text": [
      "Finding weapon images:  53%|█████▎    | 10/19 [00:13<00:11,  1.32s/weapon]"
     ]
    },
    {
     "name": "stdout",
     "output_type": "stream",
     "text": [
      "Found the image: Neo Splash-o-matic\n"
     ]
    },
    {
     "name": "stderr",
     "output_type": "stream",
     "text": [
      "Finding weapon images:  58%|█████▊    | 11/19 [00:14<00:10,  1.31s/weapon]"
     ]
    },
    {
     "name": "stdout",
     "output_type": "stream",
     "text": [
      "Found the image: Neo Sploosh-o-matic\n"
     ]
    },
    {
     "name": "stderr",
     "output_type": "stream",
     "text": [
      "Finding weapon images:  63%|██████▎   | 12/19 [00:15<00:09,  1.30s/weapon]"
     ]
    },
    {
     "name": "stdout",
     "output_type": "stream",
     "text": [
      "Found the image: Octo Shot Replica\n"
     ]
    },
    {
     "name": "stderr",
     "output_type": "stream",
     "text": [
      "Finding weapon images:  68%|██████▊   | 13/19 [00:16<00:07,  1.26s/weapon]"
     ]
    },
    {
     "name": "stdout",
     "output_type": "stream",
     "text": [
      "Found the image: Order Shot Replica\n"
     ]
    },
    {
     "name": "stderr",
     "output_type": "stream",
     "text": [
      "Finding weapon images:  74%|███████▎  | 14/19 [00:18<00:06,  1.26s/weapon]"
     ]
    },
    {
     "name": "stdout",
     "output_type": "stream",
     "text": [
      "Found the image: Splash-o-matic\n"
     ]
    },
    {
     "name": "stderr",
     "output_type": "stream",
     "text": [
      "Finding weapon images:  79%|███████▉  | 15/19 [00:19<00:05,  1.40s/weapon]"
     ]
    },
    {
     "name": "stdout",
     "output_type": "stream",
     "text": [
      "Found the image: Splattershot\n"
     ]
    },
    {
     "name": "stderr",
     "output_type": "stream",
     "text": [
      "Finding weapon images:  84%|████████▍ | 16/19 [00:21<00:04,  1.36s/weapon]"
     ]
    },
    {
     "name": "stdout",
     "output_type": "stream",
     "text": [
      "Found the image: Splattershot Jr.\n"
     ]
    },
    {
     "name": "stderr",
     "output_type": "stream",
     "text": [
      "Finding weapon images:  89%|████████▉ | 17/19 [00:22<00:02,  1.33s/weapon]"
     ]
    },
    {
     "name": "stdout",
     "output_type": "stream",
     "text": [
      "Found the image: Splattershot Pro\n"
     ]
    },
    {
     "name": "stderr",
     "output_type": "stream",
     "text": [
      "Finding weapon images:  95%|█████████▍| 18/19 [00:23<00:01,  1.32s/weapon]"
     ]
    },
    {
     "name": "stdout",
     "output_type": "stream",
     "text": [
      "Found the image: Sploosh-o-matic\n"
     ]
    },
    {
     "name": "stderr",
     "output_type": "stream",
     "text": [
      "Finding weapon images: 100%|██████████| 19/19 [00:25<00:00,  1.32s/weapon]"
     ]
    },
    {
     "name": "stdout",
     "output_type": "stream",
     "text": [
      "Found the image: Tentatek Splattershot\n",
      "\n",
      "\n",
      "19/143 weapon images found\n",
      "-----------------------------------------\n",
      "Done!\n"
     ]
    },
    {
     "name": "stderr",
     "output_type": "stream",
     "text": [
      "\n"
     ]
    }
   ],
   "source": [
    "# --------------------------------------------------------------------------------\n",
    "w_names = df_weapons['Name'] # IMPORTANT TO CHANGE IN REAL TO RECEIVE THE WEAPONS DF\n",
    "#print(w_names)\n",
    "# --------------------------------------------------------------------------------\n",
    "extract_main_weapon_images(w_names)"
   ]
  },
  {
   "cell_type": "code",
   "execution_count": null,
   "id": "2449b7da",
   "metadata": {},
   "outputs": [],
   "source": [
    "\n",
    "from bs4 import BeautifulSoup\n",
    "import requests\n",
    "import time\n",
    "import pandas as pd\n",
    "from etl.extract.url_request import make_request\n",
    "from tqdm import tqdm\n",
    "\n",
    "HEADERS = {'User-Agent': 'Mozilla/5.0'}\n",
    "\n",
    "ALL_WEAPONS_SITE = 'https://splatoonwiki.org/wiki/List_of_main_weapons_in_Splatoon_3'\n",
    "\n",
    "BASE_PATHS = 'https://splatoonwiki.org'  # Base URL for the Splatoon wiki\n",
    "\n",
    "TEST_MODE = True\n",
    "\n",
    "\n",
    "def extract_main_weapon_images(w_names):\n",
    "    session = start_session()\n",
    "    print(\"\\nFinding the weapon pages on inkipedia...\")\n",
    "    path_list = find_all_weapon_pages(session, w_names)\n",
    "    print(\"Done!\\n\")\n",
    "    print(\"Now finding the main weapon images...\")\n",
    "    print(\"-----------------------------------------\")\n",
    "    image_path_list = find_all_weapon_urls(session, path_list, w_names)\n",
    "    print(\"-----------------------------------------\")\n",
    "    print(\"Done!\")\n",
    "    return None\n",
    "\n",
    "\n",
    "def find_all_weapon_pages(session, w_names):\n",
    "    response = session.get(ALL_WEAPONS_SITE, timeout=10)\n",
    "    soup = BeautifulSoup(response.text, 'html.parser')\n",
    "    path_list = []\n",
    "    weapons = soup.find_all('td')\n",
    "    weapons = list(dict.fromkeys(weapons))\n",
    "    if TEST_MODE:\n",
    "        weapons = weapons[:100]\n",
    "\n",
    "    for w in weapons:\n",
    "        if w.find('a') is not None and w.find('a')['href'] is not None:\n",
    "            path_list = find_weapon_path(w, path_list)\n",
    "    path_list = list(dict.fromkeys(path_list))\n",
    "    path_list.sort()\n",
    "    time.sleep(2)\n",
    "    return path_list\n",
    "\n",
    "\n",
    "def find_weapon_path(w, path_list):\n",
    "    w_href = w.find('a')['href']\n",
    "    w_href_edit = w_href.split('/')[-1]\n",
    "    w_href_edit = fix_names(w_href_edit)\n",
    "    if w_href_edit in w_names.values:\n",
    "        time.sleep(0.02)\n",
    "        path_list.append(BASE_PATHS + w_href)\n",
    "    return path_list\n",
    "\n",
    "\n",
    "def fix_names(name):\n",
    "    name = name.replace('_', ' ')\n",
    "    name = name.replace('Z%2BF', 'Z+F')\n",
    "    name = name.replace('%2785', \"'85\")\n",
    "    name = name.replace('%2789', \"'89\")\n",
    "    name = name.replace('%2792', \"'92\")\n",
    "    name = name.replace('%2791', \"'91\")\n",
    "    return name\n",
    "\n",
    "\n",
    "def find_all_weapon_urls(session, path_list, w_names):\n",
    "    image_path_list = []\n",
    "    with tqdm(total=len(path_list), desc=\"Finding all weapon images\", unit=\"weapon\") as pbar:\n",
    "        for weapon_path in path_list:\n",
    "            time.sleep(1)\n",
    "            response = session.get(weapon_path, timeout=30)\n",
    "            soup = BeautifulSoup(response.text, 'html.parser')\n",
    "            image_path_list = find_all_images(soup, image_path_list)\n",
    "            if image_path_list:\n",
    "                pbar.set_postfix({'Last found': image_path_list[-1].split('/')[-1]})\n",
    "            pbar.update(1)\n",
    "    print(f\"\\n{len(image_path_list)}/{len(w_names)} weapon images found\")\n",
    "    return image_path_list\n",
    "\n",
    "\n",
    "def find_all_images(soup, image_path_list):\n",
    "    images = soup.find_all('img')\n",
    "    for img in images:\n",
    "        image_url = find_image(img)\n",
    "        if image_url is not None:\n",
    "            image_path_list.append(image_url)\n",
    "            break\n",
    "    return image_path_list\n",
    "\n",
    "\n",
    "def find_image(img):\n",
    "    src = img.get('src', '')\n",
    "    alt = img.get('alt', '')\n",
    "    if '256px-S3' in src:\n",
    "        return 'https:' + src\n",
    "    return None\n",
    "\n",
    "\n",
    "def start_session():\n",
    "    session = requests.Session()\n",
    "    session.headers.update(HEADERS)\n",
    "    return session\n"
   ]
  },
  {
   "cell_type": "code",
   "execution_count": null,
   "id": "262ab875",
   "metadata": {},
   "outputs": [
    {
     "name": "stdout",
     "output_type": "stream",
     "text": [
      "\n",
      "Finding the weapon pages on inkipedia...\n",
      "Done!\n",
      "\n",
      "Now finding the main weapon images...\n",
      "-----------------------------------------\n"
     ]
    },
    {
     "name": "stderr",
     "output_type": "stream",
     "text": [
      "Finding all weapon images: 100%|██████████| 19/19 [00:25<00:00,  1.32s/weapon, Last found=256px-S3_Weapon_Main_Tentatek_Splattershot.png] "
     ]
    },
    {
     "name": "stdout",
     "output_type": "stream",
     "text": [
      "\n",
      "19/143 weapon images found\n",
      "-----------------------------------------\n",
      "Done!\n"
     ]
    },
    {
     "name": "stderr",
     "output_type": "stream",
     "text": [
      "\n"
     ]
    }
   ],
   "source": [
    "# --------------------------------------------------------------------------------\n",
    "w_names = df_weapons['Name'] # IMPORTANT TO CHANGE IN REAL TO RECEIVE THE WEAPONS DF\n",
    "#print(w_names)\n",
    "# --------------------------------------------------------------------------------\n",
    "extract_main_weapon_images(w_names)"
   ]
  },
  {
   "cell_type": "code",
   "execution_count": 210,
   "id": "c97b2812",
   "metadata": {},
   "outputs": [],
   "source": [
    "from bs4 import BeautifulSoup\n",
    "import requests\n",
    "import time\n",
    "import pandas as pd\n",
    "from etl.extract.url_request import make_request\n",
    "from tqdm import tqdm\n",
    "\n",
    "\n",
    "HEADERS = {'User-Agent': 'Mozilla/5.0'}\n",
    "\n",
    "ALL_WEAPONS_SITE = 'https://splatoonwiki.org/wiki/List_of_main_weapons_in_Splatoon_3'\n",
    "\n",
    "BASE_PATHS = 'https://splatoonwiki.org' ## Base URL for the Splatoon wiki\n",
    "\n",
    "TEST_MODE = True\n",
    "\n",
    "# function to extract all main wain weapon images as\n",
    "# a list of paths to URLs\n",
    "def extract_main_weapon_images(w_names):\n",
    "    session = start_session()\n",
    "    print(\"\\n\")\n",
    "    print(\"Finding the weapon pages on inkipedia...\")\n",
    "    path_list = find_all_weapon_pages(session,w_names)\n",
    "    print(\"Done!\\n\")\n",
    "    print(\"Now finding the main weapon images...\")\n",
    "    print(\"-----------------------------------------\")\n",
    "    image_path_list = find_all_weapon_urls(session,path_list, w_names)\n",
    "    print(\"-----------------------------------------\")\n",
    "    print(\"Done!\")\n",
    "    return None\n",
    "\n",
    "\n",
    "# function to find paths to each weapon page\n",
    "def find_all_weapon_pages(session, w_names): \n",
    "    response = session.get(ALL_WEAPONS_SITE, timeout=10)  \n",
    "    soup = BeautifulSoup(response.text, 'html.parser')\n",
    "    \n",
    "    path_list = []\n",
    "    weapons = soup.find_all('td')\n",
    "    weapons = list(dict.fromkeys(weapons))\n",
    "    if TEST_MODE is True:\n",
    "        weapons = weapons[:100]\n",
    "\n",
    "    for w in tqdm(weapons, desc=\"Finding weapon pages\", unit=\"weapon\"):\n",
    "        if w.find('a') is not None:\n",
    "            if w.find('a')['href'] is not None:\n",
    "                path_list = find_weapon_path(w, path_list,w_names)\n",
    "    path_list = list(dict.fromkeys(path_list))\n",
    "    path_list.sort()\n",
    "    time.sleep(2)\n",
    "    return path_list\n",
    "\n",
    "\n",
    "# function to find the path for each weapon and add to the list\n",
    "def find_weapon_path(w, path_list,w_names):\n",
    "    w_href =  w.find('a')['href']\n",
    "    w_href_edit = w_href.split('/')[-1] # Split the URL to get the last part, which is the weapon name\n",
    "    w_href_edit = fix_names(w_href_edit)\n",
    "    # check if w_href_edit matches a weapon in the weapon list\n",
    "    if w_href_edit in w_names.values:\n",
    "        time.sleep(0.02)\n",
    "        # make a list of the urls with a weapon name\n",
    "        path_list.append(BASE_PATHS + w_href)     \n",
    "    return path_list\n",
    "\n",
    "\n",
    "# fix weapon names to match the format with the ones if the dataframe\n",
    "def fix_names(name):\n",
    "    # Replace underscores with spaces to match the original weapon names\n",
    "    name = name.replace('_', ' ') \n",
    "    # Making changes to certain names to be in the right format:\n",
    "    name = name.replace('Z%2BF', 'Z+F') \n",
    "    name = name.replace('%2785', \"'85\")\n",
    "    name = name.replace('%2789', \"'89\")\n",
    "    name = name.replace('%2792', \"'92\")\n",
    "    name = name.replace('%2791', \"'91\")   \n",
    "    return name  \n",
    "\n",
    "\n",
    "\n",
    "# function to find the weapon image from each weapon page\n",
    "def find_all_weapon_urls(session,path_list, w_names):\n",
    "    image_path_list = []\n",
    "\n",
    "    count = 0\n",
    "\n",
    "    if image_path_list:\n",
    "        pbar.set_postfix({'Last found': image_path_list[-1].split('/')[-1]})\n",
    "        \n",
    "    with tqdm(total=len(path_list), desc=\"Finding weapon images\", unit=\"weapon\") as pbar:\n",
    "        for weapon_path in path_list:\n",
    "            time.sleep(1)\n",
    "            response = session.get(weapon_path, timeout=30)\n",
    "            soup = BeautifulSoup(response.text, 'html.parser')\n",
    "            image_path_list = find_all_images(soup, image_path_list)\n",
    "            if image_path_list:\n",
    "                pbar.set_postfix({'Found image': image_path_list[-1].split('/')[-1]})\n",
    "            pbar.update(1)\n",
    "    print(f\"\\n{len(image_path_list)}/{len(w_names)} weapon images found\")\n",
    "    return image_path_list\n",
    "\n",
    "\n",
    "# function to find all the images on the page\n",
    "# then return the correct image of the weapon\n",
    "def find_all_images(soup,image_path_list):\n",
    "    images = soup.find_all('img')\n",
    "    \n",
    "    for img in images:\n",
    "         image_url = find_image(img)\n",
    "         if image_url is not None:\n",
    "            image_path_list.append(image_url) \n",
    "            break\n",
    "    return image_path_list\n",
    "\n",
    "\n",
    "# function to find and return the correct image\n",
    "def find_image(img):\n",
    "    src = img.get('src', '')\n",
    "    alt = img.get('alt', '')\n",
    "    \n",
    "    if '256px-S3' in src:\n",
    "        image_url = 'https:' + src\n",
    "        #print(\"Found the image: \" +  alt)\n",
    "        #print(image_url)\n",
    "        #tqdm.write(f\"Found the image: {alt}\")\n",
    "        #image_path_list.append(image_url) \n",
    "        return image_url\n",
    "    else:\n",
    "        return None \n",
    "\n",
    "# function to create the session object\n",
    "def start_session():\n",
    "    session = requests.Session()\n",
    "    session.headers.update(HEADERS)\n",
    "    return session\n",
    "\n",
    "\n",
    "\n",
    "\n",
    "\n",
    "\n",
    "\n"
   ]
  },
  {
   "cell_type": "code",
   "execution_count": null,
   "id": "50fefe5e",
   "metadata": {},
   "outputs": [
    {
     "name": "stdout",
     "output_type": "stream",
     "text": [
      "\n",
      "\n",
      "Finding the weapon pages on inkipedia...\n"
     ]
    },
    {
     "name": "stderr",
     "output_type": "stream",
     "text": [
      "Finding weapon pages: 100%|██████████| 100/100 [00:00<00:00, 126.51weapon/s]\n"
     ]
    },
    {
     "name": "stdout",
     "output_type": "stream",
     "text": [
      "Done!\n",
      "\n",
      "Now finding the main weapon images...\n",
      "-----------------------------------------\n"
     ]
    },
    {
     "name": "stderr",
     "output_type": "stream",
     "text": [
      "Finding weapon images: 100%|██████████| 19/19 [00:24<00:00,  1.30s/weapon, Found image=256px-S3_Weapon_Main_Tentatek_Splattershot.png] "
     ]
    },
    {
     "name": "stdout",
     "output_type": "stream",
     "text": [
      "\n",
      "19/143 weapon images found\n",
      "-----------------------------------------\n",
      "Done!\n"
     ]
    },
    {
     "name": "stderr",
     "output_type": "stream",
     "text": [
      "\n"
     ]
    }
   ],
   "source": [
    "# --------------------------------------------------------------------------------\n",
    "w_names = df_weapons['Name'] # IMPORTANT TO CHANGE IN REAL TO RECEIVE THE WEAPONS DF\n",
    "#print(w_names)\n",
    "# --------------------------------------------------------------------------------\n",
    "extract_main_weapon_images(w_names)"
   ]
  },
  {
   "cell_type": "code",
   "execution_count": 212,
   "id": "f3a3a89d",
   "metadata": {},
   "outputs": [],
   "source": [
    "from bs4 import BeautifulSoup\n",
    "import requests\n",
    "import time\n",
    "# import pandas as pd\n",
    "# from etl.extract.url_request import make_request\n",
    "from tqdm import tqdm\n",
    "\n",
    "\n",
    "HEADERS = {'User-Agent': 'Mozilla/5.0'}\n",
    "\n",
    "ALL_WEAPONS_SITE = (\n",
    "    \"https://splatoonwiki.org/wiki/List_of_main_weapons_in_Splatoon_3\"\n",
    ")\n",
    "\n",
    "BASE_PATHS = 'https://splatoonwiki.org'  # Base URL for the Splatoon wiki\n",
    "\n",
    "TEST_MODE = True\n",
    "\n",
    "\n",
    "# function to extract all main wain weapon images as\n",
    "# a list of paths to URLs\n",
    "# this function takes in weapon names from the weapon\n",
    "# details dataframe created in extract_inkipedia\n",
    "def extract_main_weapon_images(w_names):\n",
    "    # create a session object to make requests with\n",
    "    session = start_session()\n",
    "    print(\"\\n\")\n",
    "    print(\"Finding the weapon pages on inkipedia...\")\n",
    "    # calls a function that returns a list of paths to each weapon page\n",
    "    path_list = find_all_weapon_pages(session, w_names)\n",
    "    print(\"Done!\\n\")\n",
    "    print(\"Now finding the main weapon images...\")\n",
    "    print(\"-----------------------------------------\")\n",
    "    # calls a function that returns the image urls as a \n",
    "    image_path_list = find_all_weapon_urls(session, path_list, w_names)\n",
    "    print(\"-----------------------------------------\")\n",
    "    print(\"Done!\")\n",
    "    # return the list off images found\n",
    "    return image_path_list\n",
    "\n",
    "\n",
    "# function to find paths to each weapon page\n",
    "def find_all_weapon_pages(session, w_names):\n",
    "    # using the session to make requests to the site\n",
    "    response = session.get(ALL_WEAPONS_SITE, timeout=10)\n",
    "    soup = BeautifulSoup(response.text, 'html.parser')\n",
    "    path_list = []  # empty list\n",
    "    # find all 'td' objects on the page with all weapons listed\n",
    "    # these are individual cells in the table\n",
    "    weapons = soup.find_all('td')\n",
    "    weapons = list(dict.fromkeys(weapons))\n",
    "    if TEST_MODE is True:\n",
    "        weapons = weapons[:100]\n",
    "\n",
    "    for w in tqdm(weapons, desc=\"Finding weapon pages\", unit=\"weapon\"):\n",
    "        if w.find('a') is not None:\n",
    "            if w.find('a')['href'] is not None:\n",
    "                path_list = find_weapon_path(w, path_list, w_names)\n",
    "    path_list = list(dict.fromkeys(path_list))\n",
    "    path_list.sort()\n",
    "    time.sleep(2)\n",
    "    return path_list\n",
    "\n",
    "\n",
    "# function to find the path for each weapon and add to the list\n",
    "def find_weapon_path(w, path_list, w_names):\n",
    "    w_href = w.find('a')['href']\n",
    "    # Split the URL to get the last part, which is the weapon name\n",
    "    w_href_edit = w_href.split('/')[-1]\n",
    "    w_href_edit = fix_names(w_href_edit)\n",
    "    # check if w_href_edit matches a weapon in the weapon list\n",
    "    if w_href_edit in w_names.values:\n",
    "        time.sleep(0.02)\n",
    "        # make a list of the urls with a weapon name\n",
    "        path_list.append(BASE_PATHS + w_href)\n",
    "    return path_list\n",
    "\n",
    "\n",
    "# fix weapon names to match the format with the ones if the dataframe\n",
    "def fix_names(name):\n",
    "    # Replace underscores with spaces to match the original weapon names\n",
    "    name = name.replace('_', ' ')\n",
    "    # Making changes to certain names to be in the right format:\n",
    "    name = name.replace('Z%2BF', 'Z+F')\n",
    "    name = name.replace('%2785', \"'85\")\n",
    "    name = name.replace('%2789', \"'89\")\n",
    "    name = name.replace('%2792', \"'92\")\n",
    "    name = name.replace('%2791', \"'91\")\n",
    "    return name\n",
    "\n",
    "\n",
    "# function to find the weapon image from each weapon page\n",
    "def find_all_weapon_urls(session, path_list, w_names):\n",
    "    image_path_list = []\n",
    "    # count = 0\n",
    "    with tqdm(\n",
    "        total=len(path_list),\n",
    "        desc=\"Finding weapon images\",\n",
    "        unit=\"weapon\"\n",
    "    ) as pbar:\n",
    "        for weapon_path in path_list:\n",
    "            time.sleep(1)\n",
    "            response = session.get(weapon_path, timeout=30)\n",
    "            soup = BeautifulSoup(response.text, 'html.parser')\n",
    "            image_path_list = find_all_images(soup, image_path_list)\n",
    "            if image_path_list:\n",
    "                pbar.set_postfix({'Found image': (\n",
    "                    image_path_list[-1].split('/')[-1]\n",
    "                )})\n",
    "            pbar.update(1)\n",
    "    print(f\"\\n{len(image_path_list)}/{len(w_names)} weapon images found\")\n",
    "    return image_path_list\n",
    "\n",
    "\n",
    "# function to find all the images on the page\n",
    "# then return the correct image of the weapon\n",
    "def find_all_images(soup,  image_path_list):\n",
    "    images = soup.find_all('img')\n",
    "    for img in images:\n",
    "        image_url = find_image(img)\n",
    "        if image_url is not None:\n",
    "            image_path_list.append(image_url)\n",
    "            break\n",
    "    return image_path_list\n",
    "\n",
    "\n",
    "# function to find and return the correct image\n",
    "def find_image(img):\n",
    "    src = img.get('src', '')\n",
    "    # alt = img.get('alt', '')\n",
    "    if '256px-S3' in src:\n",
    "        image_url = 'https:' + src\n",
    "        # print(\"Found the image: \" +  alt)\n",
    "        # print(image_url)\n",
    "        # tqdm.write(f\"Found the image: {alt}\")\n",
    "        # image_path_list.append(image_url)\n",
    "        return image_url\n",
    "    else:\n",
    "        return None\n",
    "\n",
    "\n",
    "# function to create the session object\n",
    "def start_session():\n",
    "    session = requests.Session()\n",
    "    session.headers.update(HEADERS)\n",
    "    return session\n"
   ]
  },
  {
   "cell_type": "code",
   "execution_count": null,
   "id": "4fa8fbb3",
   "metadata": {},
   "outputs": [
    {
     "name": "stdout",
     "output_type": "stream",
     "text": [
      "\n",
      "\n",
      "Finding the weapon pages on inkipedia...\n"
     ]
    },
    {
     "name": "stderr",
     "output_type": "stream",
     "text": [
      "Finding weapon pages: 100%|██████████| 100/100 [00:00<00:00, 125.76weapon/s]\n"
     ]
    },
    {
     "name": "stdout",
     "output_type": "stream",
     "text": [
      "Done!\n",
      "\n",
      "Now finding the main weapon images...\n",
      "-----------------------------------------\n"
     ]
    },
    {
     "name": "stderr",
     "output_type": "stream",
     "text": [
      "Finding weapon images: 100%|██████████| 19/19 [00:25<00:00,  1.33s/weapon, Found image=256px-S3_Weapon_Main_Tentatek_Splattershot.png] "
     ]
    },
    {
     "name": "stdout",
     "output_type": "stream",
     "text": [
      "\n",
      "19/143 weapon images found\n",
      "-----------------------------------------\n",
      "Done!\n"
     ]
    },
    {
     "name": "stderr",
     "output_type": "stream",
     "text": [
      "\n"
     ]
    },
    {
     "data": {
      "text/plain": [
       "['https://cdn.wikimg.net/en/splatoonwiki/images/thumb/e/ed/S3_Weapon_Main_.52_Gal.png/256px-S3_Weapon_Main_.52_Gal.png',\n",
       " 'https://cdn.wikimg.net/en/splatoonwiki/images/thumb/2/26/S3_Weapon_Main_.52_Gal_Deco.png/256px-S3_Weapon_Main_.52_Gal_Deco.png',\n",
       " 'https://cdn.wikimg.net/en/splatoonwiki/images/thumb/c/c5/S3_Weapon_Main_Aerospray_MG.png/256px-S3_Weapon_Main_Aerospray_MG.png',\n",
       " 'https://cdn.wikimg.net/en/splatoonwiki/images/thumb/2/2b/S3_Weapon_Main_Aerospray_RG.png/256px-S3_Weapon_Main_Aerospray_RG.png',\n",
       " 'https://cdn.wikimg.net/en/splatoonwiki/images/thumb/d/df/S3_Weapon_Main_Custom_Splattershot_Jr..png/256px-S3_Weapon_Main_Custom_Splattershot_Jr..png',\n",
       " 'https://cdn.wikimg.net/en/splatoonwiki/images/thumb/d/d8/S3_Weapon_Main_Forge_Splattershot_Pro.png/256px-S3_Weapon_Main_Forge_Splattershot_Pro.png',\n",
       " 'https://cdn.wikimg.net/en/splatoonwiki/images/thumb/2/24/S3_Weapon_Main_Hero_Shot_Replica.png/256px-S3_Weapon_Main_Hero_Shot_Replica.png',\n",
       " 'https://cdn.wikimg.net/en/splatoonwiki/images/thumb/f/f6/S3_Weapon_Main_N-ZAP_%2785.png/256px-S3_Weapon_Main_N-ZAP_%2785.png',\n",
       " 'https://cdn.wikimg.net/en/splatoonwiki/images/thumb/9/98/S3_Weapon_Main_N-ZAP_%2789.png/256px-S3_Weapon_Main_N-ZAP_%2789.png',\n",
       " 'https://cdn.wikimg.net/en/splatoonwiki/images/thumb/b/b8/S3_Weapon_Main_Neo_Splash-o-matic.png/256px-S3_Weapon_Main_Neo_Splash-o-matic.png',\n",
       " 'https://cdn.wikimg.net/en/splatoonwiki/images/thumb/c/c3/S3_Weapon_Main_Neo_Sploosh-o-matic.png/256px-S3_Weapon_Main_Neo_Sploosh-o-matic.png',\n",
       " 'https://cdn.wikimg.net/en/splatoonwiki/images/thumb/2/2c/S3_Weapon_Main_Octo_Shot_Replica.png/256px-S3_Weapon_Main_Octo_Shot_Replica.png',\n",
       " 'https://cdn.wikimg.net/en/splatoonwiki/images/thumb/e/e6/S3_Weapon_Main_Order_Shot_Replica.png/256px-S3_Weapon_Main_Order_Shot_Replica.png',\n",
       " 'https://cdn.wikimg.net/en/splatoonwiki/images/thumb/7/7b/S3_Weapon_Main_Splash-o-matic.png/256px-S3_Weapon_Main_Splash-o-matic.png',\n",
       " 'https://cdn.wikimg.net/en/splatoonwiki/images/thumb/b/bf/S3_Weapon_Main_Splattershot.png/256px-S3_Weapon_Main_Splattershot.png',\n",
       " 'https://cdn.wikimg.net/en/splatoonwiki/images/thumb/1/1e/S3_Weapon_Main_Splattershot_Jr..png/256px-S3_Weapon_Main_Splattershot_Jr..png',\n",
       " 'https://cdn.wikimg.net/en/splatoonwiki/images/thumb/7/77/S3_Weapon_Main_Splattershot_Pro.png/256px-S3_Weapon_Main_Splattershot_Pro.png',\n",
       " 'https://cdn.wikimg.net/en/splatoonwiki/images/thumb/5/59/S3_Weapon_Main_Sploosh-o-matic.png/256px-S3_Weapon_Main_Sploosh-o-matic.png',\n",
       " 'https://cdn.wikimg.net/en/splatoonwiki/images/thumb/f/f1/S3_Weapon_Main_Tentatek_Splattershot.png/256px-S3_Weapon_Main_Tentatek_Splattershot.png']"
      ]
     },
     "execution_count": 214,
     "metadata": {},
     "output_type": "execute_result"
    }
   ],
   "source": [
    "# --------------------------------------------------------------------------------\n",
    "w_names = df_weapons['Name'] # IMPORTANT TO CHANGE IN REAL TO RECEIVE THE WEAPONS DF\n",
    "#print(w_names)\n",
    "# --------------------------------------------------------------------------------\n",
    "extract_main_weapon_images(w_names)"
   ]
  },
  {
   "cell_type": "code",
   "execution_count": null,
   "id": "c48c0d86",
   "metadata": {},
   "outputs": [],
   "source": [
    "# FINAL CODE"
   ]
  },
  {
   "cell_type": "code",
   "execution_count": 218,
   "id": "58b3c13d",
   "metadata": {},
   "outputs": [],
   "source": [
    "from bs4 import BeautifulSoup\n",
    "import requests\n",
    "import time\n",
    "# import pandas as pd\n",
    "# from etl.extract.url_request import make_request\n",
    "from tqdm import tqdm\n",
    "\n",
    "\n",
    "HEADERS = {'User-Agent': 'Mozilla/5.0'}\n",
    "\n",
    "ALL_WEAPONS_SITE = (\n",
    "    \"https://splatoonwiki.org/wiki/List_of_main_weapons_in_Splatoon_3\"\n",
    ")\n",
    "\n",
    "BASE_PATHS = 'https://splatoonwiki.org'  # Base URL for the Splatoon wiki\n",
    "\n",
    "TEST_MODE = False\n",
    "\n",
    "\n",
    "# function to extract all main wain weapon images as\n",
    "# a list of paths to URLs\n",
    "# this function takes in weapon names from the weapon\n",
    "# details dataframe created in extract_inkipedia\n",
    "def extract_main_weapon_images(w_names):\n",
    "    # create a session object to make requests with\n",
    "    session = start_session()\n",
    "    print(\"\\n\")\n",
    "    print(\"Finding the weapon pages on inkipedia...\")\n",
    "    # calls a function that returns a list of paths to each weapon page\n",
    "    path_list = find_all_weapon_pages(session, w_names)\n",
    "    print(\"Done!\\n\")\n",
    "    print(\"Now finding the main weapon images...\")\n",
    "    print(\"-----------------------------------------\")\n",
    "    # calls a function that returns the image urls as a\n",
    "    image_path_list = find_all_weapon_urls(session, path_list, w_names)\n",
    "    print(\"-----------------------------------------\")\n",
    "    print(\"Done!\")\n",
    "    # return the list off images found\n",
    "    return image_path_list\n",
    "\n",
    "\n",
    "# function to find paths to each weapon page\n",
    "def find_all_weapon_pages(session, w_names):\n",
    "    # using the session to make requests to the site\n",
    "    response = session.get(ALL_WEAPONS_SITE, timeout=10)\n",
    "    soup = BeautifulSoup(response.text, 'html.parser')\n",
    "    path_list = []  # empty list\n",
    "    # find all 'td' objects on the page with all weapons listed\n",
    "    # these are individual cells in the table\n",
    "    weapons = soup.find_all('td')\n",
    "    # remove any repeats to improve speed\n",
    "    weapons = list(dict.fromkeys(weapons))\n",
    "    # --------------------------------------\n",
    "    # for testing do this\n",
    "    if TEST_MODE is True:\n",
    "        weapons = weapons[:100]\n",
    "    # --------------------------------------\n",
    "    # looping through the list of paths (with a progress bar)\n",
    "    for w in tqdm(weapons, desc=\"Finding weapon pages\", unit=\"weapon\"):\n",
    "        # check if the path has a link with a href attribute\n",
    "        if w.find('a') is not None:\n",
    "            if w.find('a')['href'] is not None:\n",
    "                # function to obtain the path and match it with\n",
    "                # the weapon names we have\n",
    "                # if match add to the list of paths\n",
    "                path_list = find_weapon_path(w, path_list, w_names)\n",
    "    # remove duplicates\n",
    "    path_list = list(dict.fromkeys(path_list))\n",
    "    # sort alphabetically\n",
    "    path_list.sort()\n",
    "    # pause\n",
    "    time.sleep(2)\n",
    "    return path_list\n",
    "\n",
    "\n",
    "# function to find the path for each weapon and add to the list\n",
    "def find_weapon_path(w, path_list, w_names):\n",
    "    w_href = w.find('a')['href']\n",
    "    # Split the URL to get the last part, which is the weapon name\n",
    "    w_href_edit = w_href.split('/')[-1]\n",
    "    w_href_edit = fix_names(w_href_edit)\n",
    "    # check if w_href_edit matches a weapon in the weapon list\n",
    "    if w_href_edit in w_names.values:\n",
    "        time.sleep(0.02)\n",
    "        # make a list of the urls with a weapon name\n",
    "        path_list.append(BASE_PATHS + w_href)\n",
    "    return path_list\n",
    "\n",
    "\n",
    "# fix weapon names to match the format with the ones if the dataframe\n",
    "def fix_names(name):\n",
    "    # Replace underscores with spaces to match the original weapon names\n",
    "    name = name.replace('_', ' ')\n",
    "    # Making changes to certain names to be in the right format:\n",
    "    name = name.replace('Z%2BF', 'Z+F')\n",
    "    name = name.replace('%2785', \"'85\")\n",
    "    name = name.replace('%2789', \"'89\")\n",
    "    name = name.replace('%2792', \"'92\")\n",
    "    name = name.replace('%2791', \"'91\")\n",
    "    # return the edited name\n",
    "    return name\n",
    "\n",
    "\n",
    "# function to find the weapon image from each weapon page\n",
    "def find_all_weapon_urls(session, path_list, w_names):\n",
    "    image_path_list = []  # empty list to store urls\n",
    "    # count = 0\n",
    "    # use a progress bar to track how many urls found\n",
    "    with tqdm(\n",
    "        total=len(path_list),           # total number of urls to find\n",
    "        desc=\"Finding weapon images\",   # printed next to bar\n",
    "        unit=\"weapon\"\n",
    "    ) as pbar:\n",
    "        # loop through each path in the list\n",
    "        for weapon_path in path_list:\n",
    "            # pause (this part would often cause errors without)\n",
    "            time.sleep(1)\n",
    "            # using the same session make requests\n",
    "            response = session.get(weapon_path, timeout=30)\n",
    "            soup = BeautifulSoup(response.text, 'html.parser')\n",
    "            # call function to find the right image from all images\n",
    "            image_path_list = find_all_images(soup, image_path_list)\n",
    "            # when at least one image has been found\n",
    "            if image_path_list:\n",
    "                # display the name of the image file found\n",
    "                pbar.set_postfix({'Found image': (\n",
    "                    image_path_list[-1].split('/')[-1]\n",
    "                )})\n",
    "            # update the progress bar\n",
    "            pbar.update(1)\n",
    "    # print a message when done to show how many images where found\n",
    "    # compared to how many we need\n",
    "    print(\n",
    "        \"\\n\" + str(len(image_path_list)) + \"/\" + str(len(w_names))\n",
    "        + \" weapon images found\"\n",
    "    )\n",
    "    # return the complete list\n",
    "    return image_path_list\n",
    "\n",
    "\n",
    "# function to find all the images on the page\n",
    "# then return the correct image of the weapon\n",
    "def find_all_images(soup,  image_path_list):\n",
    "    # find image objects from the page\n",
    "    images = soup.find_all('img')\n",
    "    # loop through each until we find the right one\n",
    "    for img in images:\n",
    "        # call a function to see if the image is correct\n",
    "        # returns None otherwise\n",
    "        image_url = find_image(img)\n",
    "        # if the right one has been found\n",
    "        if image_url is not None:\n",
    "            # add to the list\n",
    "            image_path_list.append(image_url)\n",
    "            # stop searching\n",
    "            break\n",
    "    # return the full list of images\n",
    "    return image_path_list\n",
    "\n",
    "\n",
    "# function to find and return the correct image\n",
    "def find_image(img):\n",
    "    # find the URL of the image\n",
    "    src = img.get('src', '')\n",
    "    # if the URL includes this\n",
    "    # it is the right one!\n",
    "    if '256px-S3' in src:\n",
    "        # add this to make it usable\n",
    "        image_url = 'https:' + src\n",
    "        # return the full url\n",
    "        return image_url\n",
    "    else:\n",
    "        # otherwise return None\n",
    "        return None\n",
    "\n",
    "\n",
    "# function to create the session object\n",
    "def start_session():\n",
    "    # creating new session object using requests\n",
    "    session = requests.Session()\n",
    "    # using the headers\n",
    "    session.headers.update(HEADERS)\n",
    "    # return it\n",
    "    return session\n",
    "\n",
    "# --- Assistance from ChatGPT -----------------\n",
    "# code for progress bar created using tqdm\n",
    "# ---------------------------------------------\n"
   ]
  },
  {
   "cell_type": "code",
   "execution_count": 219,
   "id": "302bc562",
   "metadata": {},
   "outputs": [
    {
     "name": "stdout",
     "output_type": "stream",
     "text": [
      "\n",
      "\n",
      "Finding the weapon pages on inkipedia...\n"
     ]
    },
    {
     "name": "stderr",
     "output_type": "stream",
     "text": [
      "Finding weapon pages: 100%|██████████| 516/516 [00:05<00:00, 86.15weapon/s] \n"
     ]
    },
    {
     "name": "stdout",
     "output_type": "stream",
     "text": [
      "Done!\n",
      "\n",
      "Now finding the main weapon images...\n",
      "-----------------------------------------\n"
     ]
    },
    {
     "name": "stderr",
     "output_type": "stream",
     "text": [
      "Finding weapon images: 100%|██████████| 143/143 [03:21<00:00,  1.41s/weapon, Found image=256px-S3_Weapon_Main_Zink_Mini_Splatling.png]        "
     ]
    },
    {
     "name": "stdout",
     "output_type": "stream",
     "text": [
      "\n",
      "143/143 weapon images found\n",
      "-----------------------------------------\n",
      "Done!\n"
     ]
    },
    {
     "name": "stderr",
     "output_type": "stream",
     "text": [
      "\n"
     ]
    },
    {
     "data": {
      "text/plain": [
       "['https://cdn.wikimg.net/en/splatoonwiki/images/thumb/e/ed/S3_Weapon_Main_.52_Gal.png/256px-S3_Weapon_Main_.52_Gal.png',\n",
       " 'https://cdn.wikimg.net/en/splatoonwiki/images/thumb/2/26/S3_Weapon_Main_.52_Gal_Deco.png/256px-S3_Weapon_Main_.52_Gal_Deco.png',\n",
       " 'https://cdn.wikimg.net/en/splatoonwiki/images/thumb/5/55/S3_Weapon_Main_.96_Gal.png/256px-S3_Weapon_Main_.96_Gal.png',\n",
       " 'https://cdn.wikimg.net/en/splatoonwiki/images/thumb/8/8b/S3_Weapon_Main_.96_Gal_Deco.png/256px-S3_Weapon_Main_.96_Gal_Deco.png',\n",
       " 'https://cdn.wikimg.net/en/splatoonwiki/images/thumb/c/c5/S3_Weapon_Main_Aerospray_MG.png/256px-S3_Weapon_Main_Aerospray_MG.png',\n",
       " 'https://cdn.wikimg.net/en/splatoonwiki/images/thumb/2/2b/S3_Weapon_Main_Aerospray_RG.png/256px-S3_Weapon_Main_Aerospray_RG.png',\n",
       " 'https://cdn.wikimg.net/en/splatoonwiki/images/thumb/c/c5/S3_Weapon_Main_Annaki_Splattershot_Nova.png/256px-S3_Weapon_Main_Annaki_Splattershot_Nova.png',\n",
       " 'https://cdn.wikimg.net/en/splatoonwiki/images/thumb/f/f9/S3_Weapon_Main_Ballpoint_Splatling.png/256px-S3_Weapon_Main_Ballpoint_Splatling.png',\n",
       " 'https://cdn.wikimg.net/en/splatoonwiki/images/thumb/b/b1/S3_Weapon_Main_Ballpoint_Splatling_Nouveau.png/256px-S3_Weapon_Main_Ballpoint_Splatling_Nouveau.png',\n",
       " 'https://cdn.wikimg.net/en/splatoonwiki/images/thumb/6/6d/S3_Weapon_Main_Bamboozler_14_Mk_I.png/256px-S3_Weapon_Main_Bamboozler_14_Mk_I.png',\n",
       " 'https://cdn.wikimg.net/en/splatoonwiki/images/thumb/9/9f/S3_Weapon_Main_Bamboozler_14_Mk_II.png/256px-S3_Weapon_Main_Bamboozler_14_Mk_II.png',\n",
       " 'https://cdn.wikimg.net/en/splatoonwiki/images/thumb/8/8e/S3_Weapon_Main_Big_Swig_Roller.png/256px-S3_Weapon_Main_Big_Swig_Roller.png',\n",
       " 'https://cdn.wikimg.net/en/splatoonwiki/images/thumb/f/f7/S3_Weapon_Main_Big_Swig_Roller_Express.png/256px-S3_Weapon_Main_Big_Swig_Roller_Express.png',\n",
       " 'https://cdn.wikimg.net/en/splatoonwiki/images/thumb/a/a7/S3_Weapon_Main_Blaster.png/256px-S3_Weapon_Main_Blaster.png',\n",
       " 'https://cdn.wikimg.net/en/splatoonwiki/images/thumb/4/41/S3_Weapon_Main_Bloblobber.png/256px-S3_Weapon_Main_Bloblobber.png',\n",
       " 'https://cdn.wikimg.net/en/splatoonwiki/images/thumb/9/93/S3_Weapon_Main_Bloblobber_Deco.png/256px-S3_Weapon_Main_Bloblobber_Deco.png',\n",
       " 'https://cdn.wikimg.net/en/splatoonwiki/images/thumb/2/21/S3_Weapon_Main_Carbon_Roller.png/256px-S3_Weapon_Main_Carbon_Roller.png',\n",
       " 'https://cdn.wikimg.net/en/splatoonwiki/images/thumb/7/72/S3_Weapon_Main_Carbon_Roller_Deco.png/256px-S3_Weapon_Main_Carbon_Roller_Deco.png',\n",
       " 'https://cdn.wikimg.net/en/splatoonwiki/images/thumb/5/52/S3_Weapon_Main_Charcoal_Decavitator.png/256px-S3_Weapon_Main_Charcoal_Decavitator.png',\n",
       " 'https://cdn.wikimg.net/en/splatoonwiki/images/thumb/2/2f/S3_Weapon_Main_Clash_Blaster.png/256px-S3_Weapon_Main_Clash_Blaster.png',\n",
       " 'https://cdn.wikimg.net/en/splatoonwiki/images/thumb/1/10/S3_Weapon_Main_Clash_Blaster_Neo.png/256px-S3_Weapon_Main_Clash_Blaster_Neo.png',\n",
       " 'https://cdn.wikimg.net/en/splatoonwiki/images/thumb/3/3c/S3_Weapon_Main_Classic_Squiffer.png/256px-S3_Weapon_Main_Classic_Squiffer.png',\n",
       " 'https://cdn.wikimg.net/en/splatoonwiki/images/thumb/4/44/S3_Weapon_Main_Custom_Blaster.png/256px-S3_Weapon_Main_Custom_Blaster.png',\n",
       " 'https://cdn.wikimg.net/en/splatoonwiki/images/thumb/f/f6/S3_Weapon_Main_Custom_Douser_Dualies_FF.png/256px-S3_Weapon_Main_Custom_Douser_Dualies_FF.png',\n",
       " 'https://cdn.wikimg.net/en/splatoonwiki/images/thumb/9/9d/S3_Weapon_Main_Custom_Dualie_Squelchers.png/256px-S3_Weapon_Main_Custom_Dualie_Squelchers.png',\n",
       " 'https://cdn.wikimg.net/en/splatoonwiki/images/thumb/e/e6/S3_Weapon_Main_Custom_E-liter_4K.png/256px-S3_Weapon_Main_Custom_E-liter_4K.png',\n",
       " 'https://cdn.wikimg.net/en/splatoonwiki/images/thumb/7/7c/S3_Weapon_Main_Custom_E-liter_4K_Scope.png/256px-S3_Weapon_Main_Custom_E-liter_4K_Scope.png',\n",
       " 'https://cdn.wikimg.net/en/splatoonwiki/images/thumb/6/6e/S3_Weapon_Main_Custom_Explosher.png/256px-S3_Weapon_Main_Custom_Explosher.png',\n",
       " 'https://cdn.wikimg.net/en/splatoonwiki/images/thumb/9/91/S3_Weapon_Main_Custom_Goo_Tuber.png/256px-S3_Weapon_Main_Custom_Goo_Tuber.png',\n",
       " 'https://cdn.wikimg.net/en/splatoonwiki/images/thumb/f/f6/S3_Weapon_Main_Custom_Hydra_Splatling.png/256px-S3_Weapon_Main_Custom_Hydra_Splatling.png',\n",
       " 'https://cdn.wikimg.net/en/splatoonwiki/images/thumb/e/ed/S3_Weapon_Main_Custom_Jet_Squelcher.png/256px-S3_Weapon_Main_Custom_Jet_Squelcher.png',\n",
       " 'https://cdn.wikimg.net/en/splatoonwiki/images/thumb/c/ce/S3_Weapon_Main_Custom_Range_Blaster.png/256px-S3_Weapon_Main_Custom_Range_Blaster.png',\n",
       " 'https://cdn.wikimg.net/en/splatoonwiki/images/thumb/d/df/S3_Weapon_Main_Custom_Splattershot_Jr..png/256px-S3_Weapon_Main_Custom_Splattershot_Jr..png',\n",
       " 'https://cdn.wikimg.net/en/splatoonwiki/images/thumb/4/40/S3_Weapon_Main_Custom_Wellstring_V.png/256px-S3_Weapon_Main_Custom_Wellstring_V.png',\n",
       " 'https://cdn.wikimg.net/en/splatoonwiki/images/thumb/5/54/S3_Weapon_Main_Dapple_Dualies.png/256px-S3_Weapon_Main_Dapple_Dualies.png',\n",
       " 'https://cdn.wikimg.net/en/splatoonwiki/images/thumb/e/e1/S3_Weapon_Main_Dapple_Dualies_Nouveau.png/256px-S3_Weapon_Main_Dapple_Dualies_Nouveau.png',\n",
       " 'https://cdn.wikimg.net/en/splatoonwiki/images/thumb/c/c9/S3_Weapon_Main_Dark_Tetra_Dualies.png/256px-S3_Weapon_Main_Dark_Tetra_Dualies.png',\n",
       " 'https://cdn.wikimg.net/en/splatoonwiki/images/thumb/2/2c/S3_Weapon_Main_Douser_Dualies_FF.png/256px-S3_Weapon_Main_Douser_Dualies_FF.png',\n",
       " 'https://cdn.wikimg.net/en/splatoonwiki/images/thumb/6/6c/S3_Weapon_Main_Dread_Wringer.png/256px-S3_Weapon_Main_Dread_Wringer.png',\n",
       " 'https://cdn.wikimg.net/en/splatoonwiki/images/thumb/d/d2/S3_Weapon_Main_Dread_Wringer_D.png/256px-S3_Weapon_Main_Dread_Wringer_D.png',\n",
       " 'https://cdn.wikimg.net/en/splatoonwiki/images/thumb/5/5a/S3_Weapon_Main_Dualie_Squelchers.png/256px-S3_Weapon_Main_Dualie_Squelchers.png',\n",
       " 'https://cdn.wikimg.net/en/splatoonwiki/images/thumb/5/5e/S3_Weapon_Main_Dynamo_Roller.png/256px-S3_Weapon_Main_Dynamo_Roller.png',\n",
       " 'https://cdn.wikimg.net/en/splatoonwiki/images/thumb/1/10/S3_Weapon_Main_E-liter_4K.png/256px-S3_Weapon_Main_E-liter_4K.png',\n",
       " 'https://cdn.wikimg.net/en/splatoonwiki/images/thumb/e/eb/S3_Weapon_Main_E-liter_4K_Scope.png/256px-S3_Weapon_Main_E-liter_4K_Scope.png',\n",
       " 'https://cdn.wikimg.net/en/splatoonwiki/images/thumb/4/46/S3_Weapon_Main_Enperry_Splat_Dualies.png/256px-S3_Weapon_Main_Enperry_Splat_Dualies.png',\n",
       " 'https://cdn.wikimg.net/en/splatoonwiki/images/thumb/d/de/S3_Weapon_Main_Explosher.png/256px-S3_Weapon_Main_Explosher.png',\n",
       " 'https://cdn.wikimg.net/en/splatoonwiki/images/thumb/d/d2/S3_Weapon_Main_Flingza_Roller.png/256px-S3_Weapon_Main_Flingza_Roller.png',\n",
       " 'https://cdn.wikimg.net/en/splatoonwiki/images/thumb/8/8c/S3_Weapon_Main_Foil_Flingza_Roller.png/256px-S3_Weapon_Main_Foil_Flingza_Roller.png',\n",
       " 'https://cdn.wikimg.net/en/splatoonwiki/images/thumb/4/49/S3_Weapon_Main_Foil_Squeezer.png/256px-S3_Weapon_Main_Foil_Squeezer.png',\n",
       " 'https://cdn.wikimg.net/en/splatoonwiki/images/thumb/d/d8/S3_Weapon_Main_Forge_Splattershot_Pro.png/256px-S3_Weapon_Main_Forge_Splattershot_Pro.png',\n",
       " 'https://cdn.wikimg.net/en/splatoonwiki/images/thumb/9/99/S3_Weapon_Main_Glooga_Dualies.png/256px-S3_Weapon_Main_Glooga_Dualies.png',\n",
       " 'https://cdn.wikimg.net/en/splatoonwiki/images/thumb/5/56/S3_Weapon_Main_Glooga_Dualies_Deco.png/256px-S3_Weapon_Main_Glooga_Dualies_Deco.png',\n",
       " 'https://cdn.wikimg.net/en/splatoonwiki/images/thumb/f/f8/S3_Weapon_Main_Gold_Dynamo_Roller.png/256px-S3_Weapon_Main_Gold_Dynamo_Roller.png',\n",
       " 'https://cdn.wikimg.net/en/splatoonwiki/images/thumb/8/8a/S3_Weapon_Main_Goo_Tuber.png/256px-S3_Weapon_Main_Goo_Tuber.png',\n",
       " 'https://cdn.wikimg.net/en/splatoonwiki/images/thumb/5/5a/S3_Weapon_Main_H-3_Nozzlenose.png/256px-S3_Weapon_Main_H-3_Nozzlenose.png',\n",
       " 'https://cdn.wikimg.net/en/splatoonwiki/images/thumb/3/31/S3_Weapon_Main_H-3_Nozzlenose_D.png/256px-S3_Weapon_Main_H-3_Nozzlenose_D.png',\n",
       " 'https://cdn.wikimg.net/en/splatoonwiki/images/thumb/2/24/S3_Weapon_Main_Heavy_Edit_Splatling.png/256px-S3_Weapon_Main_Heavy_Edit_Splatling.png',\n",
       " 'https://cdn.wikimg.net/en/splatoonwiki/images/thumb/a/aa/S3_Weapon_Main_Heavy_Edit_Splatling_Nouveau.png/256px-S3_Weapon_Main_Heavy_Edit_Splatling_Nouveau.png',\n",
       " 'https://cdn.wikimg.net/en/splatoonwiki/images/thumb/5/5e/S3_Weapon_Main_Heavy_Splatling.png/256px-S3_Weapon_Main_Heavy_Splatling.png',\n",
       " 'https://cdn.wikimg.net/en/splatoonwiki/images/thumb/f/fc/S3_Weapon_Main_Heavy_Splatling_Deco.png/256px-S3_Weapon_Main_Heavy_Splatling_Deco.png',\n",
       " 'https://cdn.wikimg.net/en/splatoonwiki/images/thumb/2/24/S3_Weapon_Main_Hero_Shot_Replica.png/256px-S3_Weapon_Main_Hero_Shot_Replica.png',\n",
       " 'https://cdn.wikimg.net/en/splatoonwiki/images/thumb/d/d1/S3_Weapon_Main_Hydra_Splatling.png/256px-S3_Weapon_Main_Hydra_Splatling.png',\n",
       " 'https://cdn.wikimg.net/en/splatoonwiki/images/thumb/4/4a/S3_Weapon_Main_Inkbrush.png/256px-S3_Weapon_Main_Inkbrush.png',\n",
       " 'https://cdn.wikimg.net/en/splatoonwiki/images/thumb/2/2e/S3_Weapon_Main_Inkbrush_Nouveau.png/256px-S3_Weapon_Main_Inkbrush_Nouveau.png',\n",
       " 'https://cdn.wikimg.net/en/splatoonwiki/images/thumb/f/f4/S3_Weapon_Main_Inkline_Tri-Stringer.png/256px-S3_Weapon_Main_Inkline_Tri-Stringer.png',\n",
       " 'https://cdn.wikimg.net/en/splatoonwiki/images/thumb/6/69/S3_Weapon_Main_Jet_Squelcher.png/256px-S3_Weapon_Main_Jet_Squelcher.png',\n",
       " 'https://cdn.wikimg.net/en/splatoonwiki/images/thumb/6/60/S3_Weapon_Main_Krak-On_Splat_Roller.png/256px-S3_Weapon_Main_Krak-On_Splat_Roller.png',\n",
       " 'https://cdn.wikimg.net/en/splatoonwiki/images/thumb/2/2c/S3_Weapon_Main_L-3_Nozzlenose.png/256px-S3_Weapon_Main_L-3_Nozzlenose.png',\n",
       " 'https://cdn.wikimg.net/en/splatoonwiki/images/thumb/f/ff/S3_Weapon_Main_L-3_Nozzlenose_D.png/256px-S3_Weapon_Main_L-3_Nozzlenose_D.png',\n",
       " 'https://cdn.wikimg.net/en/splatoonwiki/images/thumb/8/86/S3_Weapon_Main_Light_Tetra_Dualies.png/256px-S3_Weapon_Main_Light_Tetra_Dualies.png',\n",
       " 'https://cdn.wikimg.net/en/splatoonwiki/images/thumb/5/59/S3_Weapon_Main_Luna_Blaster.png/256px-S3_Weapon_Main_Luna_Blaster.png',\n",
       " 'https://cdn.wikimg.net/en/splatoonwiki/images/thumb/1/11/S3_Weapon_Main_Luna_Blaster_Neo.png/256px-S3_Weapon_Main_Luna_Blaster_Neo.png',\n",
       " 'https://cdn.wikimg.net/en/splatoonwiki/images/thumb/8/86/S3_Weapon_Main_Mini_Splatling.png/256px-S3_Weapon_Main_Mini_Splatling.png',\n",
       " 'https://cdn.wikimg.net/en/splatoonwiki/images/thumb/c/c9/S3_Weapon_Main_Mint_Decavitator.png/256px-S3_Weapon_Main_Mint_Decavitator.png',\n",
       " 'https://cdn.wikimg.net/en/splatoonwiki/images/thumb/f/f6/S3_Weapon_Main_N-ZAP_%2785.png/256px-S3_Weapon_Main_N-ZAP_%2785.png',\n",
       " 'https://cdn.wikimg.net/en/splatoonwiki/images/thumb/9/98/S3_Weapon_Main_N-ZAP_%2789.png/256px-S3_Weapon_Main_N-ZAP_%2789.png',\n",
       " 'https://cdn.wikimg.net/en/splatoonwiki/images/thumb/8/81/S3_Weapon_Main_Nautilus_47.png/256px-S3_Weapon_Main_Nautilus_47.png',\n",
       " 'https://cdn.wikimg.net/en/splatoonwiki/images/thumb/8/81/S3_Weapon_Main_Nautilus_79.png/256px-S3_Weapon_Main_Nautilus_79.png',\n",
       " 'https://cdn.wikimg.net/en/splatoonwiki/images/thumb/b/b8/S3_Weapon_Main_Neo_Splash-o-matic.png/256px-S3_Weapon_Main_Neo_Splash-o-matic.png',\n",
       " 'https://cdn.wikimg.net/en/splatoonwiki/images/thumb/c/c3/S3_Weapon_Main_Neo_Sploosh-o-matic.png/256px-S3_Weapon_Main_Neo_Sploosh-o-matic.png',\n",
       " 'https://cdn.wikimg.net/en/splatoonwiki/images/thumb/8/80/S3_Weapon_Main_New_Squiffer.png/256px-S3_Weapon_Main_New_Squiffer.png',\n",
       " 'https://cdn.wikimg.net/en/splatoonwiki/images/thumb/2/2c/S3_Weapon_Main_Octo_Shot_Replica.png/256px-S3_Weapon_Main_Octo_Shot_Replica.png',\n",
       " 'https://cdn.wikimg.net/en/splatoonwiki/images/thumb/3/3d/S3_Weapon_Main_Octobrush.png/256px-S3_Weapon_Main_Octobrush.png',\n",
       " 'https://cdn.wikimg.net/en/splatoonwiki/images/thumb/4/45/S3_Weapon_Main_Octobrush_Nouveau.png/256px-S3_Weapon_Main_Octobrush_Nouveau.png',\n",
       " 'https://cdn.wikimg.net/en/splatoonwiki/images/thumb/7/7b/S3_Weapon_Main_Order_Blaster_Replica.png/256px-S3_Weapon_Main_Order_Blaster_Replica.png',\n",
       " 'https://cdn.wikimg.net/en/splatoonwiki/images/thumb/6/61/S3_Weapon_Main_Order_Brella_Replica.png/256px-S3_Weapon_Main_Order_Brella_Replica.png',\n",
       " 'https://cdn.wikimg.net/en/splatoonwiki/images/thumb/0/00/S3_Weapon_Main_Order_Charger_Replica.png/256px-S3_Weapon_Main_Order_Charger_Replica.png',\n",
       " 'https://cdn.wikimg.net/en/splatoonwiki/images/thumb/5/50/S3_Weapon_Main_Order_Dualie_Replicas.png/256px-S3_Weapon_Main_Order_Dualie_Replicas.png',\n",
       " 'https://cdn.wikimg.net/en/splatoonwiki/images/thumb/4/47/S3_Weapon_Main_Order_Roller_Replica.png/256px-S3_Weapon_Main_Order_Roller_Replica.png',\n",
       " 'https://cdn.wikimg.net/en/splatoonwiki/images/thumb/e/e6/S3_Weapon_Main_Order_Shot_Replica.png/256px-S3_Weapon_Main_Order_Shot_Replica.png',\n",
       " 'https://cdn.wikimg.net/en/splatoonwiki/images/thumb/a/aa/S3_Weapon_Main_Order_Slosher_Replica.png/256px-S3_Weapon_Main_Order_Slosher_Replica.png',\n",
       " 'https://cdn.wikimg.net/en/splatoonwiki/images/thumb/b/b9/S3_Weapon_Main_Order_Splatana_Replica.png/256px-S3_Weapon_Main_Order_Splatana_Replica.png',\n",
       " 'https://cdn.wikimg.net/en/splatoonwiki/images/thumb/c/ce/S3_Weapon_Main_Order_Splatling_Replica.png/256px-S3_Weapon_Main_Order_Splatling_Replica.png',\n",
       " 'https://cdn.wikimg.net/en/splatoonwiki/images/thumb/2/24/S3_Weapon_Main_Order_Stringer_Replica.png/256px-S3_Weapon_Main_Order_Stringer_Replica.png',\n",
       " 'https://cdn.wikimg.net/en/splatoonwiki/images/thumb/0/0a/S3_Weapon_Main_Orderbrush_Replica.png/256px-S3_Weapon_Main_Orderbrush_Replica.png',\n",
       " 'https://cdn.wikimg.net/en/splatoonwiki/images/thumb/7/79/S3_Weapon_Main_Painbrush.png/256px-S3_Weapon_Main_Painbrush.png',\n",
       " 'https://cdn.wikimg.net/en/splatoonwiki/images/thumb/0/09/S3_Weapon_Main_Painbrush_Nouveau.png/256px-S3_Weapon_Main_Painbrush_Nouveau.png',\n",
       " 'https://cdn.wikimg.net/en/splatoonwiki/images/thumb/6/66/S3_Weapon_Main_REEF-LUX_450.png/256px-S3_Weapon_Main_REEF-LUX_450.png',\n",
       " 'https://cdn.wikimg.net/en/splatoonwiki/images/thumb/a/ab/S3_Weapon_Main_REEF-LUX_450_Deco.png/256px-S3_Weapon_Main_REEF-LUX_450_Deco.png',\n",
       " 'https://cdn.wikimg.net/en/splatoonwiki/images/thumb/1/1d/S3_Weapon_Main_Range_Blaster.png/256px-S3_Weapon_Main_Range_Blaster.png',\n",
       " 'https://cdn.wikimg.net/en/splatoonwiki/images/thumb/6/6a/S3_Weapon_Main_Rapid_Blaster.png/256px-S3_Weapon_Main_Rapid_Blaster.png',\n",
       " 'https://cdn.wikimg.net/en/splatoonwiki/images/thumb/c/cb/S3_Weapon_Main_Rapid_Blaster_Deco.png/256px-S3_Weapon_Main_Rapid_Blaster_Deco.png',\n",
       " 'https://cdn.wikimg.net/en/splatoonwiki/images/thumb/c/c6/S3_Weapon_Main_Rapid_Blaster_Pro.png/256px-S3_Weapon_Main_Rapid_Blaster_Pro.png',\n",
       " 'https://cdn.wikimg.net/en/splatoonwiki/images/thumb/e/e4/S3_Weapon_Main_Rapid_Blaster_Pro_Deco.png/256px-S3_Weapon_Main_Rapid_Blaster_Pro_Deco.png',\n",
       " 'https://cdn.wikimg.net/en/splatoonwiki/images/thumb/d/d0/S3_Weapon_Main_Recycled_Brella_24_Mk_I.png/256px-S3_Weapon_Main_Recycled_Brella_24_Mk_I.png',\n",
       " 'https://cdn.wikimg.net/en/splatoonwiki/images/thumb/9/94/S3_Weapon_Main_Recycled_Brella_24_Mk_II.png/256px-S3_Weapon_Main_Recycled_Brella_24_Mk_II.png',\n",
       " 'https://cdn.wikimg.net/en/splatoonwiki/images/thumb/2/2f/S3_Weapon_Main_S-BLAST_%2791.png/256px-S3_Weapon_Main_S-BLAST_%2791.png',\n",
       " 'https://cdn.wikimg.net/en/splatoonwiki/images/thumb/2/2d/S3_Weapon_Main_S-BLAST_%2792.png/256px-S3_Weapon_Main_S-BLAST_%2792.png',\n",
       " 'https://cdn.wikimg.net/en/splatoonwiki/images/thumb/4/42/S3_Weapon_Main_Slosher.png/256px-S3_Weapon_Main_Slosher.png',\n",
       " 'https://cdn.wikimg.net/en/splatoonwiki/images/thumb/a/a5/S3_Weapon_Main_Slosher_Deco.png/256px-S3_Weapon_Main_Slosher_Deco.png',\n",
       " 'https://cdn.wikimg.net/en/splatoonwiki/images/thumb/3/38/S3_Weapon_Main_Sloshing_Machine.png/256px-S3_Weapon_Main_Sloshing_Machine.png',\n",
       " 'https://cdn.wikimg.net/en/splatoonwiki/images/thumb/d/d5/S3_Weapon_Main_Sloshing_Machine_Neo.png/256px-S3_Weapon_Main_Sloshing_Machine_Neo.png',\n",
       " 'https://cdn.wikimg.net/en/splatoonwiki/images/thumb/0/0a/S3_Weapon_Main_Snipewriter_5B.png/256px-S3_Weapon_Main_Snipewriter_5B.png',\n",
       " 'https://cdn.wikimg.net/en/splatoonwiki/images/thumb/3/34/S3_Weapon_Main_Snipewriter_5H.png/256px-S3_Weapon_Main_Snipewriter_5H.png',\n",
       " 'https://cdn.wikimg.net/en/splatoonwiki/images/thumb/8/8b/S3_Weapon_Main_Sorella_Brella.png/256px-S3_Weapon_Main_Sorella_Brella.png',\n",
       " 'https://cdn.wikimg.net/en/splatoonwiki/images/thumb/7/7b/S3_Weapon_Main_Splash-o-matic.png/256px-S3_Weapon_Main_Splash-o-matic.png',\n",
       " 'https://cdn.wikimg.net/en/splatoonwiki/images/thumb/2/27/S3_Weapon_Main_Splat_Brella.png/256px-S3_Weapon_Main_Splat_Brella.png',\n",
       " 'https://cdn.wikimg.net/en/splatoonwiki/images/thumb/4/41/S3_Weapon_Main_Splat_Charger.png/256px-S3_Weapon_Main_Splat_Charger.png',\n",
       " 'https://cdn.wikimg.net/en/splatoonwiki/images/thumb/e/e8/S3_Weapon_Main_Splat_Dualies.png/256px-S3_Weapon_Main_Splat_Dualies.png',\n",
       " 'https://cdn.wikimg.net/en/splatoonwiki/images/thumb/c/c7/S3_Weapon_Main_Splat_Roller.png/256px-S3_Weapon_Main_Splat_Roller.png',\n",
       " 'https://cdn.wikimg.net/en/splatoonwiki/images/thumb/4/4d/S3_Weapon_Main_Splatana_Stamper.png/256px-S3_Weapon_Main_Splatana_Stamper.png',\n",
       " 'https://cdn.wikimg.net/en/splatoonwiki/images/thumb/7/71/S3_Weapon_Main_Splatana_Stamper_Nouveau.png/256px-S3_Weapon_Main_Splatana_Stamper_Nouveau.png',\n",
       " 'https://cdn.wikimg.net/en/splatoonwiki/images/thumb/e/e5/S3_Weapon_Main_Splatana_Wiper.png/256px-S3_Weapon_Main_Splatana_Wiper.png',\n",
       " 'https://cdn.wikimg.net/en/splatoonwiki/images/thumb/4/4a/S3_Weapon_Main_Splatana_Wiper_Deco.png/256px-S3_Weapon_Main_Splatana_Wiper_Deco.png',\n",
       " 'https://cdn.wikimg.net/en/splatoonwiki/images/thumb/b/b2/S3_Weapon_Main_Splatterscope.png/256px-S3_Weapon_Main_Splatterscope.png',\n",
       " 'https://cdn.wikimg.net/en/splatoonwiki/images/thumb/b/bf/S3_Weapon_Main_Splattershot.png/256px-S3_Weapon_Main_Splattershot.png',\n",
       " 'https://cdn.wikimg.net/en/splatoonwiki/images/thumb/1/1e/S3_Weapon_Main_Splattershot_Jr..png/256px-S3_Weapon_Main_Splattershot_Jr..png',\n",
       " 'https://cdn.wikimg.net/en/splatoonwiki/images/thumb/1/10/S3_Weapon_Main_Splattershot_Nova.png/256px-S3_Weapon_Main_Splattershot_Nova.png',\n",
       " 'https://cdn.wikimg.net/en/splatoonwiki/images/thumb/7/77/S3_Weapon_Main_Splattershot_Pro.png/256px-S3_Weapon_Main_Splattershot_Pro.png',\n",
       " 'https://cdn.wikimg.net/en/splatoonwiki/images/thumb/5/59/S3_Weapon_Main_Sploosh-o-matic.png/256px-S3_Weapon_Main_Sploosh-o-matic.png',\n",
       " 'https://cdn.wikimg.net/en/splatoonwiki/images/thumb/c/cb/S3_Weapon_Main_Squeezer.png/256px-S3_Weapon_Main_Squeezer.png',\n",
       " 'https://cdn.wikimg.net/en/splatoonwiki/images/thumb/1/1e/S3_Weapon_Main_Tenta_Brella.png/256px-S3_Weapon_Main_Tenta_Brella.png',\n",
       " 'https://cdn.wikimg.net/en/splatoonwiki/images/thumb/3/3f/S3_Weapon_Main_Tenta_Sorella_Brella.png/256px-S3_Weapon_Main_Tenta_Sorella_Brella.png',\n",
       " 'https://cdn.wikimg.net/en/splatoonwiki/images/thumb/f/f1/S3_Weapon_Main_Tentatek_Splattershot.png/256px-S3_Weapon_Main_Tentatek_Splattershot.png',\n",
       " 'https://cdn.wikimg.net/en/splatoonwiki/images/thumb/d/dc/S3_Weapon_Main_Tri-Slosher.png/256px-S3_Weapon_Main_Tri-Slosher.png',\n",
       " 'https://cdn.wikimg.net/en/splatoonwiki/images/thumb/7/74/S3_Weapon_Main_Tri-Slosher_Nouveau.png/256px-S3_Weapon_Main_Tri-Slosher_Nouveau.png',\n",
       " 'https://cdn.wikimg.net/en/splatoonwiki/images/thumb/4/49/S3_Weapon_Main_Tri-Stringer.png/256px-S3_Weapon_Main_Tri-Stringer.png',\n",
       " 'https://cdn.wikimg.net/en/splatoonwiki/images/thumb/5/5d/S3_Weapon_Main_Undercover_Brella.png/256px-S3_Weapon_Main_Undercover_Brella.png',\n",
       " 'https://cdn.wikimg.net/en/splatoonwiki/images/thumb/9/95/S3_Weapon_Main_Undercover_Sorella_Brella.png/256px-S3_Weapon_Main_Undercover_Sorella_Brella.png',\n",
       " 'https://cdn.wikimg.net/en/splatoonwiki/images/thumb/3/37/S3_Weapon_Main_Wellstring_V.png/256px-S3_Weapon_Main_Wellstring_V.png',\n",
       " 'https://cdn.wikimg.net/en/splatoonwiki/images/thumb/a/a6/S3_Weapon_Main_Z%2BF_Splat_Charger.png/256px-S3_Weapon_Main_Z%2BF_Splat_Charger.png',\n",
       " 'https://cdn.wikimg.net/en/splatoonwiki/images/thumb/8/86/S3_Weapon_Main_Z%2BF_Splatterscope.png/256px-S3_Weapon_Main_Z%2BF_Splatterscope.png',\n",
       " 'https://cdn.wikimg.net/en/splatoonwiki/images/thumb/0/05/S3_Weapon_Main_Zink_Mini_Splatling.png/256px-S3_Weapon_Main_Zink_Mini_Splatling.png']"
      ]
     },
     "execution_count": 219,
     "metadata": {},
     "output_type": "execute_result"
    }
   ],
   "source": [
    "# --------------------------------------------------------------------------------\n",
    "w_names = df_weapons['Name'] # IMPORTANT TO CHANGE IN REAL TO RECEIVE THE WEAPONS DF\n",
    "#print(w_names)\n",
    "# --------------------------------------------------------------------------------\n",
    "extract_main_weapon_images(w_names)"
   ]
  }
 ],
 "metadata": {
  "kernelspec": {
   "display_name": ".venv",
   "language": "python",
   "name": "python3"
  },
  "language_info": {
   "codemirror_mode": {
    "name": "ipython",
    "version": 3
   },
   "file_extension": ".py",
   "mimetype": "text/x-python",
   "name": "python",
   "nbconvert_exporter": "python",
   "pygments_lexer": "ipython3",
   "version": "3.11.0"
  }
 },
 "nbformat": 4,
 "nbformat_minor": 5
}
