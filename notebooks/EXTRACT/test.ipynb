{
 "cells": [
  {
   "cell_type": "code",
   "execution_count": 6,
   "id": "a70ac88a",
   "metadata": {},
   "outputs": [
    {
     "data": {
      "text/html": [
       "<img src=\"https://cdn.wikimg.net/en/splatoonwiki/images/thumb/e/ed/S3_Weapon_Main_.52_Gal.png/256px-S3_Weapon_Main_.52_Gal.png\"/>"
      ],
      "text/plain": [
       "<IPython.core.display.Image object>"
      ]
     },
     "metadata": {},
     "output_type": "display_data"
    },
    {
     "data": {
      "text/html": [
       "<img src=\"https://cdn.wikimg.net/en/splatoonwiki/images/thumb/2/26/S3_Weapon_Main_.52_Gal_Deco.png/256px-S3_Weapon_Main_.52_Gal_Deco.png\"/>"
      ],
      "text/plain": [
       "<IPython.core.display.Image object>"
      ]
     },
     "metadata": {},
     "output_type": "display_data"
    },
    {
     "data": {
      "text/html": [
       "<img src=\"https://cdn.wikimg.net/en/splatoonwiki/images/thumb/5/55/S3_Weapon_Main_.96_Gal.png/256px-S3_Weapon_Main_.96_Gal.png\"/>"
      ],
      "text/plain": [
       "<IPython.core.display.Image object>"
      ]
     },
     "metadata": {},
     "output_type": "display_data"
    },
    {
     "data": {
      "text/html": [
       "<img src=\"https://cdn.wikimg.net/en/splatoonwiki/images/thumb/8/8b/S3_Weapon_Main_.96_Gal_Deco.png/256px-S3_Weapon_Main_.96_Gal_Deco.png\"/>"
      ],
      "text/plain": [
       "<IPython.core.display.Image object>"
      ]
     },
     "metadata": {},
     "output_type": "display_data"
    },
    {
     "data": {
      "text/html": [
       "<img src=\"https://cdn.wikimg.net/en/splatoonwiki/images/thumb/c/c5/S3_Weapon_Main_Aerospray_MG.png/256px-S3_Weapon_Main_Aerospray_MG.png\"/>"
      ],
      "text/plain": [
       "<IPython.core.display.Image object>"
      ]
     },
     "metadata": {},
     "output_type": "display_data"
    },
    {
     "data": {
      "text/html": [
       "<img src=\"https://cdn.wikimg.net/en/splatoonwiki/images/thumb/2/2b/S3_Weapon_Main_Aerospray_RG.png/256px-S3_Weapon_Main_Aerospray_RG.png\"/>"
      ],
      "text/plain": [
       "<IPython.core.display.Image object>"
      ]
     },
     "metadata": {},
     "output_type": "display_data"
    },
    {
     "data": {
      "text/html": [
       "<img src=\"https://cdn.wikimg.net/en/splatoonwiki/images/thumb/c/c5/S3_Weapon_Main_Annaki_Splattershot_Nova.png/256px-S3_Weapon_Main_Annaki_Splattershot_Nova.png\"/>"
      ],
      "text/plain": [
       "<IPython.core.display.Image object>"
      ]
     },
     "metadata": {},
     "output_type": "display_data"
    },
    {
     "data": {
      "text/html": [
       "<img src=\"https://cdn.wikimg.net/en/splatoonwiki/images/thumb/f/f9/S3_Weapon_Main_Ballpoint_Splatling.png/256px-S3_Weapon_Main_Ballpoint_Splatling.png\"/>"
      ],
      "text/plain": [
       "<IPython.core.display.Image object>"
      ]
     },
     "metadata": {},
     "output_type": "display_data"
    },
    {
     "data": {
      "text/html": [
       "<img src=\"https://cdn.wikimg.net/en/splatoonwiki/images/thumb/b/b1/S3_Weapon_Main_Ballpoint_Splatling_Nouveau.png/256px-S3_Weapon_Main_Ballpoint_Splatling_Nouveau.png\"/>"
      ],
      "text/plain": [
       "<IPython.core.display.Image object>"
      ]
     },
     "metadata": {},
     "output_type": "display_data"
    },
    {
     "data": {
      "text/html": [
       "<img src=\"https://cdn.wikimg.net/en/splatoonwiki/images/thumb/6/6d/S3_Weapon_Main_Bamboozler_14_Mk_I.png/256px-S3_Weapon_Main_Bamboozler_14_Mk_I.png\"/>"
      ],
      "text/plain": [
       "<IPython.core.display.Image object>"
      ]
     },
     "metadata": {},
     "output_type": "display_data"
    },
    {
     "data": {
      "text/html": [
       "<img src=\"https://cdn.wikimg.net/en/splatoonwiki/images/thumb/9/9f/S3_Weapon_Main_Bamboozler_14_Mk_II.png/256px-S3_Weapon_Main_Bamboozler_14_Mk_II.png\"/>"
      ],
      "text/plain": [
       "<IPython.core.display.Image object>"
      ]
     },
     "metadata": {},
     "output_type": "display_data"
    },
    {
     "data": {
      "text/html": [
       "<img src=\"https://cdn.wikimg.net/en/splatoonwiki/images/thumb/8/8e/S3_Weapon_Main_Big_Swig_Roller.png/256px-S3_Weapon_Main_Big_Swig_Roller.png\"/>"
      ],
      "text/plain": [
       "<IPython.core.display.Image object>"
      ]
     },
     "metadata": {},
     "output_type": "display_data"
    },
    {
     "data": {
      "text/html": [
       "<img src=\"https://cdn.wikimg.net/en/splatoonwiki/images/thumb/f/f7/S3_Weapon_Main_Big_Swig_Roller_Express.png/256px-S3_Weapon_Main_Big_Swig_Roller_Express.png\"/>"
      ],
      "text/plain": [
       "<IPython.core.display.Image object>"
      ]
     },
     "metadata": {},
     "output_type": "display_data"
    },
    {
     "data": {
      "text/html": [
       "<img src=\"https://cdn.wikimg.net/en/splatoonwiki/images/thumb/a/a7/S3_Weapon_Main_Blaster.png/256px-S3_Weapon_Main_Blaster.png\"/>"
      ],
      "text/plain": [
       "<IPython.core.display.Image object>"
      ]
     },
     "metadata": {},
     "output_type": "display_data"
    },
    {
     "data": {
      "text/html": [
       "<img src=\"https://cdn.wikimg.net/en/splatoonwiki/images/thumb/4/41/S3_Weapon_Main_Bloblobber.png/256px-S3_Weapon_Main_Bloblobber.png\"/>"
      ],
      "text/plain": [
       "<IPython.core.display.Image object>"
      ]
     },
     "metadata": {},
     "output_type": "display_data"
    },
    {
     "data": {
      "text/html": [
       "<img src=\"https://cdn.wikimg.net/en/splatoonwiki/images/thumb/9/93/S3_Weapon_Main_Bloblobber_Deco.png/256px-S3_Weapon_Main_Bloblobber_Deco.png\"/>"
      ],
      "text/plain": [
       "<IPython.core.display.Image object>"
      ]
     },
     "metadata": {},
     "output_type": "display_data"
    },
    {
     "data": {
      "text/html": [
       "<img src=\"https://cdn.wikimg.net/en/splatoonwiki/images/thumb/e/e4/S3_Weapon_Main_Bulbz_Tri-Stringer.png/256px-S3_Weapon_Main_Bulbz_Tri-Stringer.png\"/>"
      ],
      "text/plain": [
       "<IPython.core.display.Image object>"
      ]
     },
     "metadata": {},
     "output_type": "display_data"
    },
    {
     "data": {
      "text/html": [
       "<img src=\"https://cdn.wikimg.net/en/splatoonwiki/images/thumb/2/21/S3_Weapon_Main_Carbon_Roller.png/256px-S3_Weapon_Main_Carbon_Roller.png\"/>"
      ],
      "text/plain": [
       "<IPython.core.display.Image object>"
      ]
     },
     "metadata": {},
     "output_type": "display_data"
    },
    {
     "data": {
      "text/html": [
       "<img src=\"https://cdn.wikimg.net/en/splatoonwiki/images/thumb/3/31/S3_Weapon_Main_Carbon_Roller_ANG-L.png/256px-S3_Weapon_Main_Carbon_Roller_ANG-L.png\"/>"
      ],
      "text/plain": [
       "<IPython.core.display.Image object>"
      ]
     },
     "metadata": {},
     "output_type": "display_data"
    },
    {
     "data": {
      "text/html": [
       "<img src=\"https://cdn.wikimg.net/en/splatoonwiki/images/thumb/7/72/S3_Weapon_Main_Carbon_Roller_Deco.png/256px-S3_Weapon_Main_Carbon_Roller_Deco.png\"/>"
      ],
      "text/plain": [
       "<IPython.core.display.Image object>"
      ]
     },
     "metadata": {},
     "output_type": "display_data"
    },
    {
     "data": {
      "text/html": [
       "<img src=\"https://cdn.wikimg.net/en/splatoonwiki/images/thumb/5/52/S3_Weapon_Main_Charcoal_Decavitator.png/256px-S3_Weapon_Main_Charcoal_Decavitator.png\"/>"
      ],
      "text/plain": [
       "<IPython.core.display.Image object>"
      ]
     },
     "metadata": {},
     "output_type": "display_data"
    },
    {
     "data": {
      "text/html": [
       "<img src=\"https://cdn.wikimg.net/en/splatoonwiki/images/thumb/2/2f/S3_Weapon_Main_Clash_Blaster.png/256px-S3_Weapon_Main_Clash_Blaster.png\"/>"
      ],
      "text/plain": [
       "<IPython.core.display.Image object>"
      ]
     },
     "metadata": {},
     "output_type": "display_data"
    },
    {
     "data": {
      "text/html": [
       "<img src=\"https://cdn.wikimg.net/en/splatoonwiki/images/thumb/1/10/S3_Weapon_Main_Clash_Blaster_Neo.png/256px-S3_Weapon_Main_Clash_Blaster_Neo.png\"/>"
      ],
      "text/plain": [
       "<IPython.core.display.Image object>"
      ]
     },
     "metadata": {},
     "output_type": "display_data"
    },
    {
     "data": {
      "text/html": [
       "<img src=\"https://cdn.wikimg.net/en/splatoonwiki/images/thumb/3/3c/S3_Weapon_Main_Classic_Squiffer.png/256px-S3_Weapon_Main_Classic_Squiffer.png\"/>"
      ],
      "text/plain": [
       "<IPython.core.display.Image object>"
      ]
     },
     "metadata": {},
     "output_type": "display_data"
    },
    {
     "data": {
      "text/html": [
       "<img src=\"https://cdn.wikimg.net/en/splatoonwiki/images/thumb/7/79/S3_Weapon_Main_Clawz_.96_Gal.png/256px-S3_Weapon_Main_Clawz_.96_Gal.png\"/>"
      ],
      "text/plain": [
       "<IPython.core.display.Image object>"
      ]
     },
     "metadata": {},
     "output_type": "display_data"
    },
    {
     "data": {
      "text/html": [
       "<img src=\"https://cdn.wikimg.net/en/splatoonwiki/images/thumb/a/a2/S3_Weapon_Main_Colorz_Aerospray.png/256px-S3_Weapon_Main_Colorz_Aerospray.png\"/>"
      ],
      "text/plain": [
       "<IPython.core.display.Image object>"
      ]
     },
     "metadata": {},
     "output_type": "display_data"
    },
    {
     "data": {
      "text/html": [
       "<img src=\"https://cdn.wikimg.net/en/splatoonwiki/images/thumb/5/5d/S3_Weapon_Main_Cometz_Octobrush.png/256px-S3_Weapon_Main_Cometz_Octobrush.png\"/>"
      ],
      "text/plain": [
       "<IPython.core.display.Image object>"
      ]
     },
     "metadata": {},
     "output_type": "display_data"
    },
    {
     "data": {
      "text/html": [
       "<img src=\"https://cdn.wikimg.net/en/splatoonwiki/images/thumb/4/44/S3_Weapon_Main_Custom_Blaster.png/256px-S3_Weapon_Main_Custom_Blaster.png\"/>"
      ],
      "text/plain": [
       "<IPython.core.display.Image object>"
      ]
     },
     "metadata": {},
     "output_type": "display_data"
    },
    {
     "data": {
      "text/html": [
       "<img src=\"https://cdn.wikimg.net/en/splatoonwiki/images/thumb/f/f6/S3_Weapon_Main_Custom_Douser_Dualies_FF.png/256px-S3_Weapon_Main_Custom_Douser_Dualies_FF.png\"/>"
      ],
      "text/plain": [
       "<IPython.core.display.Image object>"
      ]
     },
     "metadata": {},
     "output_type": "display_data"
    },
    {
     "data": {
      "text/html": [
       "<img src=\"https://cdn.wikimg.net/en/splatoonwiki/images/thumb/9/9d/S3_Weapon_Main_Custom_Dualie_Squelchers.png/256px-S3_Weapon_Main_Custom_Dualie_Squelchers.png\"/>"
      ],
      "text/plain": [
       "<IPython.core.display.Image object>"
      ]
     },
     "metadata": {},
     "output_type": "display_data"
    },
    {
     "data": {
      "text/html": [
       "<img src=\"https://cdn.wikimg.net/en/splatoonwiki/images/thumb/e/e6/S3_Weapon_Main_Custom_E-liter_4K.png/256px-S3_Weapon_Main_Custom_E-liter_4K.png\"/>"
      ],
      "text/plain": [
       "<IPython.core.display.Image object>"
      ]
     },
     "metadata": {},
     "output_type": "display_data"
    },
    {
     "data": {
      "text/html": [
       "<img src=\"https://cdn.wikimg.net/en/splatoonwiki/images/thumb/7/7c/S3_Weapon_Main_Custom_E-liter_4K_Scope.png/256px-S3_Weapon_Main_Custom_E-liter_4K_Scope.png\"/>"
      ],
      "text/plain": [
       "<IPython.core.display.Image object>"
      ]
     },
     "metadata": {},
     "output_type": "display_data"
    },
    {
     "data": {
      "text/html": [
       "<img src=\"https://cdn.wikimg.net/en/splatoonwiki/images/thumb/6/6e/S3_Weapon_Main_Custom_Explosher.png/256px-S3_Weapon_Main_Custom_Explosher.png\"/>"
      ],
      "text/plain": [
       "<IPython.core.display.Image object>"
      ]
     },
     "metadata": {},
     "output_type": "display_data"
    },
    {
     "data": {
      "text/html": [
       "<img src=\"https://cdn.wikimg.net/en/splatoonwiki/images/thumb/9/91/S3_Weapon_Main_Custom_Goo_Tuber.png/256px-S3_Weapon_Main_Custom_Goo_Tuber.png\"/>"
      ],
      "text/plain": [
       "<IPython.core.display.Image object>"
      ]
     },
     "metadata": {},
     "output_type": "display_data"
    },
    {
     "data": {
      "text/html": [
       "<img src=\"https://cdn.wikimg.net/en/splatoonwiki/images/thumb/f/f6/S3_Weapon_Main_Custom_Hydra_Splatling.png/256px-S3_Weapon_Main_Custom_Hydra_Splatling.png\"/>"
      ],
      "text/plain": [
       "<IPython.core.display.Image object>"
      ]
     },
     "metadata": {},
     "output_type": "display_data"
    },
    {
     "data": {
      "text/html": [
       "<img src=\"https://cdn.wikimg.net/en/splatoonwiki/images/thumb/e/ed/S3_Weapon_Main_Custom_Jet_Squelcher.png/256px-S3_Weapon_Main_Custom_Jet_Squelcher.png\"/>"
      ],
      "text/plain": [
       "<IPython.core.display.Image object>"
      ]
     },
     "metadata": {},
     "output_type": "display_data"
    },
    {
     "data": {
      "text/html": [
       "<img src=\"https://cdn.wikimg.net/en/splatoonwiki/images/thumb/c/ce/S3_Weapon_Main_Custom_Range_Blaster.png/256px-S3_Weapon_Main_Custom_Range_Blaster.png\"/>"
      ],
      "text/plain": [
       "<IPython.core.display.Image object>"
      ]
     },
     "metadata": {},
     "output_type": "display_data"
    },
    {
     "data": {
      "text/html": [
       "<img src=\"https://cdn.wikimg.net/en/splatoonwiki/images/thumb/d/df/S3_Weapon_Main_Custom_Splattershot_Jr..png/256px-S3_Weapon_Main_Custom_Splattershot_Jr..png\"/>"
      ],
      "text/plain": [
       "<IPython.core.display.Image object>"
      ]
     },
     "metadata": {},
     "output_type": "display_data"
    },
    {
     "data": {
      "text/html": [
       "<img src=\"https://cdn.wikimg.net/en/splatoonwiki/images/thumb/4/40/S3_Weapon_Main_Custom_Wellstring_V.png/256px-S3_Weapon_Main_Custom_Wellstring_V.png\"/>"
      ],
      "text/plain": [
       "<IPython.core.display.Image object>"
      ]
     },
     "metadata": {},
     "output_type": "display_data"
    },
    {
     "data": {
      "text/html": [
       "<img src=\"https://cdn.wikimg.net/en/splatoonwiki/images/thumb/5/54/S3_Weapon_Main_Dapple_Dualies.png/256px-S3_Weapon_Main_Dapple_Dualies.png\"/>"
      ],
      "text/plain": [
       "<IPython.core.display.Image object>"
      ]
     },
     "metadata": {},
     "output_type": "display_data"
    },
    {
     "data": {
      "text/html": [
       "<img src=\"https://cdn.wikimg.net/en/splatoonwiki/images/thumb/7/79/S3_Weapon_Main_Dapple_Dualies_NOC-T.png/256px-S3_Weapon_Main_Dapple_Dualies_NOC-T.png\"/>"
      ],
      "text/plain": [
       "<IPython.core.display.Image object>"
      ]
     },
     "metadata": {},
     "output_type": "display_data"
    },
    {
     "data": {
      "text/html": [
       "<img src=\"https://cdn.wikimg.net/en/splatoonwiki/images/thumb/e/e1/S3_Weapon_Main_Dapple_Dualies_Nouveau.png/256px-S3_Weapon_Main_Dapple_Dualies_Nouveau.png\"/>"
      ],
      "text/plain": [
       "<IPython.core.display.Image object>"
      ]
     },
     "metadata": {},
     "output_type": "display_data"
    },
    {
     "data": {
      "text/html": [
       "<img src=\"https://cdn.wikimg.net/en/splatoonwiki/images/thumb/c/c9/S3_Weapon_Main_Dark_Tetra_Dualies.png/256px-S3_Weapon_Main_Dark_Tetra_Dualies.png\"/>"
      ],
      "text/plain": [
       "<IPython.core.display.Image object>"
      ]
     },
     "metadata": {},
     "output_type": "display_data"
    },
    {
     "data": {
      "text/html": [
       "<img src=\"https://cdn.wikimg.net/en/splatoonwiki/images/thumb/2/2c/S3_Weapon_Main_Douser_Dualies_FF.png/256px-S3_Weapon_Main_Douser_Dualies_FF.png\"/>"
      ],
      "text/plain": [
       "<IPython.core.display.Image object>"
      ]
     },
     "metadata": {},
     "output_type": "display_data"
    },
    {
     "data": {
      "text/html": [
       "<img src=\"https://cdn.wikimg.net/en/splatoonwiki/images/thumb/6/6c/S3_Weapon_Main_Dread_Wringer.png/256px-S3_Weapon_Main_Dread_Wringer.png\"/>"
      ],
      "text/plain": [
       "<IPython.core.display.Image object>"
      ]
     },
     "metadata": {},
     "output_type": "display_data"
    },
    {
     "data": {
      "text/html": [
       "<img src=\"https://cdn.wikimg.net/en/splatoonwiki/images/thumb/d/d2/S3_Weapon_Main_Dread_Wringer_D.png/256px-S3_Weapon_Main_Dread_Wringer_D.png\"/>"
      ],
      "text/plain": [
       "<IPython.core.display.Image object>"
      ]
     },
     "metadata": {},
     "output_type": "display_data"
    },
    {
     "data": {
      "text/html": [
       "<img src=\"https://cdn.wikimg.net/en/splatoonwiki/images/thumb/5/5a/S3_Weapon_Main_Dualie_Squelchers.png/256px-S3_Weapon_Main_Dualie_Squelchers.png\"/>"
      ],
      "text/plain": [
       "<IPython.core.display.Image object>"
      ]
     },
     "metadata": {},
     "output_type": "display_data"
    },
    {
     "data": {
      "text/html": [
       "<img src=\"https://cdn.wikimg.net/en/splatoonwiki/images/thumb/5/5e/S3_Weapon_Main_Dynamo_Roller.png/256px-S3_Weapon_Main_Dynamo_Roller.png\"/>"
      ],
      "text/plain": [
       "<IPython.core.display.Image object>"
      ]
     },
     "metadata": {},
     "output_type": "display_data"
    },
    {
     "data": {
      "text/html": [
       "<img src=\"https://cdn.wikimg.net/en/splatoonwiki/images/thumb/1/10/S3_Weapon_Main_E-liter_4K.png/256px-S3_Weapon_Main_E-liter_4K.png\"/>"
      ],
      "text/plain": [
       "<IPython.core.display.Image object>"
      ]
     },
     "metadata": {},
     "output_type": "display_data"
    },
    {
     "data": {
      "text/html": [
       "<img src=\"https://cdn.wikimg.net/en/splatoonwiki/images/thumb/e/eb/S3_Weapon_Main_E-liter_4K_Scope.png/256px-S3_Weapon_Main_E-liter_4K_Scope.png\"/>"
      ],
      "text/plain": [
       "<IPython.core.display.Image object>"
      ]
     },
     "metadata": {},
     "output_type": "display_data"
    },
    {
     "data": {
      "text/html": [
       "<img src=\"https://cdn.wikimg.net/en/splatoonwiki/images/thumb/4/46/S3_Weapon_Main_Enperry_Splat_Dualies.png/256px-S3_Weapon_Main_Enperry_Splat_Dualies.png\"/>"
      ],
      "text/plain": [
       "<IPython.core.display.Image object>"
      ]
     },
     "metadata": {},
     "output_type": "display_data"
    },
    {
     "data": {
      "text/html": [
       "<img src=\"https://cdn.wikimg.net/en/splatoonwiki/images/thumb/d/de/S3_Weapon_Main_Explosher.png/256px-S3_Weapon_Main_Explosher.png\"/>"
      ],
      "text/plain": [
       "<IPython.core.display.Image object>"
      ]
     },
     "metadata": {},
     "output_type": "display_data"
    },
    {
     "data": {
      "text/html": [
       "<img src=\"https://cdn.wikimg.net/en/splatoonwiki/images/thumb/d/d2/S3_Weapon_Main_Flingza_Roller.png/256px-S3_Weapon_Main_Flingza_Roller.png\"/>"
      ],
      "text/plain": [
       "<IPython.core.display.Image object>"
      ]
     },
     "metadata": {},
     "output_type": "display_data"
    },
    {
     "data": {
      "text/html": [
       "<img src=\"https://cdn.wikimg.net/en/splatoonwiki/images/thumb/8/8c/S3_Weapon_Main_Foil_Flingza_Roller.png/256px-S3_Weapon_Main_Foil_Flingza_Roller.png\"/>"
      ],
      "text/plain": [
       "<IPython.core.display.Image object>"
      ]
     },
     "metadata": {},
     "output_type": "display_data"
    },
    {
     "data": {
      "text/html": [
       "<img src=\"https://cdn.wikimg.net/en/splatoonwiki/images/thumb/4/49/S3_Weapon_Main_Foil_Squeezer.png/256px-S3_Weapon_Main_Foil_Squeezer.png\"/>"
      ],
      "text/plain": [
       "<IPython.core.display.Image object>"
      ]
     },
     "metadata": {},
     "output_type": "display_data"
    },
    {
     "data": {
      "text/html": [
       "<img src=\"https://cdn.wikimg.net/en/splatoonwiki/images/thumb/d/d8/S3_Weapon_Main_Forge_Splattershot_Pro.png/256px-S3_Weapon_Main_Forge_Splattershot_Pro.png\"/>"
      ],
      "text/plain": [
       "<IPython.core.display.Image object>"
      ]
     },
     "metadata": {},
     "output_type": "display_data"
    },
    {
     "data": {
      "text/html": [
       "<img src=\"https://cdn.wikimg.net/en/splatoonwiki/images/thumb/6/62/S3_Weapon_Main_Glamorz_Splattershot.png/256px-S3_Weapon_Main_Glamorz_Splattershot.png\"/>"
      ],
      "text/plain": [
       "<IPython.core.display.Image object>"
      ]
     },
     "metadata": {},
     "output_type": "display_data"
    },
    {
     "data": {
      "text/html": [
       "<img src=\"https://cdn.wikimg.net/en/splatoonwiki/images/thumb/f/f1/S3_Weapon_Main_Gleamz_Blaster.png/256px-S3_Weapon_Main_Gleamz_Blaster.png\"/>"
      ],
      "text/plain": [
       "<IPython.core.display.Image object>"
      ]
     },
     "metadata": {},
     "output_type": "display_data"
    },
    {
     "data": {
      "text/html": [
       "<img src=\"https://cdn.wikimg.net/en/splatoonwiki/images/thumb/8/89/S3_Weapon_Main_Glitterz_L-3_Nozzlenose.png/256px-S3_Weapon_Main_Glitterz_L-3_Nozzlenose.png\"/>"
      ],
      "text/plain": [
       "<IPython.core.display.Image object>"
      ]
     },
     "metadata": {},
     "output_type": "display_data"
    },
    {
     "data": {
      "text/html": [
       "<img src=\"https://cdn.wikimg.net/en/splatoonwiki/images/thumb/9/99/S3_Weapon_Main_Glooga_Dualies.png/256px-S3_Weapon_Main_Glooga_Dualies.png\"/>"
      ],
      "text/plain": [
       "<IPython.core.display.Image object>"
      ]
     },
     "metadata": {},
     "output_type": "display_data"
    },
    {
     "data": {
      "text/html": [
       "<img src=\"https://cdn.wikimg.net/en/splatoonwiki/images/thumb/5/56/S3_Weapon_Main_Glooga_Dualies_Deco.png/256px-S3_Weapon_Main_Glooga_Dualies_Deco.png\"/>"
      ],
      "text/plain": [
       "<IPython.core.display.Image object>"
      ]
     },
     "metadata": {},
     "output_type": "display_data"
    },
    {
     "data": {
      "text/html": [
       "<img src=\"https://cdn.wikimg.net/en/splatoonwiki/images/thumb/f/f8/S3_Weapon_Main_Gold_Dynamo_Roller.png/256px-S3_Weapon_Main_Gold_Dynamo_Roller.png\"/>"
      ],
      "text/plain": [
       "<IPython.core.display.Image object>"
      ]
     },
     "metadata": {},
     "output_type": "display_data"
    },
    {
     "data": {
      "text/html": [
       "<img src=\"https://cdn.wikimg.net/en/splatoonwiki/images/thumb/8/8a/S3_Weapon_Main_Goo_Tuber.png/256px-S3_Weapon_Main_Goo_Tuber.png\"/>"
      ],
      "text/plain": [
       "<IPython.core.display.Image object>"
      ]
     },
     "metadata": {},
     "output_type": "display_data"
    },
    {
     "data": {
      "text/html": [
       "<img src=\"https://cdn.wikimg.net/en/splatoonwiki/images/thumb/5/5a/S3_Weapon_Main_H-3_Nozzlenose.png/256px-S3_Weapon_Main_H-3_Nozzlenose.png\"/>"
      ],
      "text/plain": [
       "<IPython.core.display.Image object>"
      ]
     },
     "metadata": {},
     "output_type": "display_data"
    },
    {
     "data": {
      "text/html": [
       "<img src=\"https://cdn.wikimg.net/en/splatoonwiki/images/thumb/3/31/S3_Weapon_Main_H-3_Nozzlenose_D.png/256px-S3_Weapon_Main_H-3_Nozzlenose_D.png\"/>"
      ],
      "text/plain": [
       "<IPython.core.display.Image object>"
      ]
     },
     "metadata": {},
     "output_type": "display_data"
    },
    {
     "data": {
      "text/html": [
       "<img src=\"https://cdn.wikimg.net/en/splatoonwiki/images/thumb/4/45/S3_Weapon_Main_H-3_Nozzlenose_VIP-R.png/256px-S3_Weapon_Main_H-3_Nozzlenose_VIP-R.png\"/>"
      ],
      "text/plain": [
       "<IPython.core.display.Image object>"
      ]
     },
     "metadata": {},
     "output_type": "display_data"
    },
    {
     "data": {
      "text/html": [
       "<img src=\"https://cdn.wikimg.net/en/splatoonwiki/images/thumb/2/24/S3_Weapon_Main_Heavy_Edit_Splatling.png/256px-S3_Weapon_Main_Heavy_Edit_Splatling.png\"/>"
      ],
      "text/plain": [
       "<IPython.core.display.Image object>"
      ]
     },
     "metadata": {},
     "output_type": "display_data"
    },
    {
     "data": {
      "text/html": [
       "<img src=\"https://cdn.wikimg.net/en/splatoonwiki/images/thumb/a/aa/S3_Weapon_Main_Heavy_Edit_Splatling_Nouveau.png/256px-S3_Weapon_Main_Heavy_Edit_Splatling_Nouveau.png\"/>"
      ],
      "text/plain": [
       "<IPython.core.display.Image object>"
      ]
     },
     "metadata": {},
     "output_type": "display_data"
    },
    {
     "data": {
      "text/html": [
       "<img src=\"https://cdn.wikimg.net/en/splatoonwiki/images/thumb/5/5e/S3_Weapon_Main_Heavy_Splatling.png/256px-S3_Weapon_Main_Heavy_Splatling.png\"/>"
      ],
      "text/plain": [
       "<IPython.core.display.Image object>"
      ]
     },
     "metadata": {},
     "output_type": "display_data"
    },
    {
     "data": {
      "text/html": [
       "<img src=\"https://cdn.wikimg.net/en/splatoonwiki/images/thumb/f/fc/S3_Weapon_Main_Heavy_Splatling_Deco.png/256px-S3_Weapon_Main_Heavy_Splatling_Deco.png\"/>"
      ],
      "text/plain": [
       "<IPython.core.display.Image object>"
      ]
     },
     "metadata": {},
     "output_type": "display_data"
    },
    {
     "data": {
      "text/html": [
       "<img src=\"https://cdn.wikimg.net/en/splatoonwiki/images/thumb/2/24/S3_Weapon_Main_Hero_Shot_Replica.png/256px-S3_Weapon_Main_Hero_Shot_Replica.png\"/>"
      ],
      "text/plain": [
       "<IPython.core.display.Image object>"
      ]
     },
     "metadata": {},
     "output_type": "display_data"
    },
    {
     "data": {
      "text/html": [
       "<img src=\"https://cdn.wikimg.net/en/splatoonwiki/images/thumb/5/57/S3_Weapon_Main_Hoofz_Dualie_Squelchers.png/256px-S3_Weapon_Main_Hoofz_Dualie_Squelchers.png\"/>"
      ],
      "text/plain": [
       "<IPython.core.display.Image object>"
      ]
     },
     "metadata": {},
     "output_type": "display_data"
    },
    {
     "data": {
      "text/html": [
       "<img src=\"https://cdn.wikimg.net/en/splatoonwiki/images/thumb/c/cb/S3_Weapon_Main_Hornz_Dread_Wringer.png/256px-S3_Weapon_Main_Hornz_Dread_Wringer.png\"/>"
      ],
      "text/plain": [
       "<IPython.core.display.Image object>"
      ]
     },
     "metadata": {},
     "output_type": "display_data"
    },
    {
     "data": {
      "text/html": [
       "<img src=\"https://cdn.wikimg.net/en/splatoonwiki/images/thumb/d/d1/S3_Weapon_Main_Hydra_Splatling.png/256px-S3_Weapon_Main_Hydra_Splatling.png\"/>"
      ],
      "text/plain": [
       "<IPython.core.display.Image object>"
      ]
     },
     "metadata": {},
     "output_type": "display_data"
    },
    {
     "data": {
      "text/html": [
       "<img src=\"https://cdn.wikimg.net/en/splatoonwiki/images/thumb/4/4a/S3_Weapon_Main_Inkbrush.png/256px-S3_Weapon_Main_Inkbrush.png\"/>"
      ],
      "text/plain": [
       "<IPython.core.display.Image object>"
      ]
     },
     "metadata": {},
     "output_type": "display_data"
    },
    {
     "data": {
      "text/html": [
       "<img src=\"https://cdn.wikimg.net/en/splatoonwiki/images/thumb/2/2e/S3_Weapon_Main_Inkbrush_Nouveau.png/256px-S3_Weapon_Main_Inkbrush_Nouveau.png\"/>"
      ],
      "text/plain": [
       "<IPython.core.display.Image object>"
      ]
     },
     "metadata": {},
     "output_type": "display_data"
    },
    {
     "data": {
      "text/html": [
       "<img src=\"https://cdn.wikimg.net/en/splatoonwiki/images/thumb/f/f4/S3_Weapon_Main_Inkline_Tri-Stringer.png/256px-S3_Weapon_Main_Inkline_Tri-Stringer.png\"/>"
      ],
      "text/plain": [
       "<IPython.core.display.Image object>"
      ]
     },
     "metadata": {},
     "output_type": "display_data"
    },
    {
     "data": {
      "text/html": [
       "<img src=\"https://cdn.wikimg.net/en/splatoonwiki/images/thumb/6/69/S3_Weapon_Main_Jet_Squelcher.png/256px-S3_Weapon_Main_Jet_Squelcher.png\"/>"
      ],
      "text/plain": [
       "<IPython.core.display.Image object>"
      ]
     },
     "metadata": {},
     "output_type": "display_data"
    },
    {
     "data": {
      "text/html": [
       "<img src=\"https://cdn.wikimg.net/en/splatoonwiki/images/thumb/a/a0/S3_Weapon_Main_Jet_Squelcher_COB-R.png/256px-S3_Weapon_Main_Jet_Squelcher_COB-R.png\"/>"
      ],
      "text/plain": [
       "<IPython.core.display.Image object>"
      ]
     },
     "metadata": {},
     "output_type": "display_data"
    },
    {
     "data": {
      "text/html": [
       "<img src=\"https://cdn.wikimg.net/en/splatoonwiki/images/thumb/6/60/S3_Weapon_Main_Krak-On_Splat_Roller.png/256px-S3_Weapon_Main_Krak-On_Splat_Roller.png\"/>"
      ],
      "text/plain": [
       "<IPython.core.display.Image object>"
      ]
     },
     "metadata": {},
     "output_type": "display_data"
    },
    {
     "data": {
      "text/html": [
       "<img src=\"https://cdn.wikimg.net/en/splatoonwiki/images/thumb/2/2c/S3_Weapon_Main_L-3_Nozzlenose.png/256px-S3_Weapon_Main_L-3_Nozzlenose.png\"/>"
      ],
      "text/plain": [
       "<IPython.core.display.Image object>"
      ]
     },
     "metadata": {},
     "output_type": "display_data"
    },
    {
     "data": {
      "text/html": [
       "<img src=\"https://cdn.wikimg.net/en/splatoonwiki/images/thumb/f/ff/S3_Weapon_Main_L-3_Nozzlenose_D.png/256px-S3_Weapon_Main_L-3_Nozzlenose_D.png\"/>"
      ],
      "text/plain": [
       "<IPython.core.display.Image object>"
      ]
     },
     "metadata": {},
     "output_type": "display_data"
    },
    {
     "data": {
      "text/html": [
       "<img src=\"https://cdn.wikimg.net/en/splatoonwiki/images/thumb/8/86/S3_Weapon_Main_Light_Tetra_Dualies.png/256px-S3_Weapon_Main_Light_Tetra_Dualies.png\"/>"
      ],
      "text/plain": [
       "<IPython.core.display.Image object>"
      ]
     },
     "metadata": {},
     "output_type": "display_data"
    },
    {
     "data": {
      "text/html": [
       "<img src=\"https://cdn.wikimg.net/en/splatoonwiki/images/thumb/5/59/S3_Weapon_Main_Luna_Blaster.png/256px-S3_Weapon_Main_Luna_Blaster.png\"/>"
      ],
      "text/plain": [
       "<IPython.core.display.Image object>"
      ]
     },
     "metadata": {},
     "output_type": "display_data"
    },
    {
     "data": {
      "text/html": [
       "<img src=\"https://cdn.wikimg.net/en/splatoonwiki/images/thumb/1/11/S3_Weapon_Main_Luna_Blaster_Neo.png/256px-S3_Weapon_Main_Luna_Blaster_Neo.png\"/>"
      ],
      "text/plain": [
       "<IPython.core.display.Image object>"
      ]
     },
     "metadata": {},
     "output_type": "display_data"
    },
    {
     "data": {
      "text/html": [
       "<img src=\"https://cdn.wikimg.net/en/splatoonwiki/images/thumb/8/86/S3_Weapon_Main_Mini_Splatling.png/256px-S3_Weapon_Main_Mini_Splatling.png\"/>"
      ],
      "text/plain": [
       "<IPython.core.display.Image object>"
      ]
     },
     "metadata": {},
     "output_type": "display_data"
    },
    {
     "data": {
      "text/html": [
       "<img src=\"https://cdn.wikimg.net/en/splatoonwiki/images/thumb/f/fa/S3_Weapon_Main_Mini_Splatling_RTL-R.png/256px-S3_Weapon_Main_Mini_Splatling_RTL-R.png\"/>"
      ],
      "text/plain": [
       "<IPython.core.display.Image object>"
      ]
     },
     "metadata": {},
     "output_type": "display_data"
    },
    {
     "data": {
      "text/html": [
       "<img src=\"https://cdn.wikimg.net/en/splatoonwiki/images/thumb/c/c9/S3_Weapon_Main_Mint_Decavitator.png/256px-S3_Weapon_Main_Mint_Decavitator.png\"/>"
      ],
      "text/plain": [
       "<IPython.core.display.Image object>"
      ]
     },
     "metadata": {},
     "output_type": "display_data"
    },
    {
     "data": {
      "text/html": [
       "<img src=\"https://cdn.wikimg.net/en/splatoonwiki/images/thumb/f/f6/S3_Weapon_Main_N-ZAP_%2785.png/256px-S3_Weapon_Main_N-ZAP_%2785.png\"/>"
      ],
      "text/plain": [
       "<IPython.core.display.Image object>"
      ]
     },
     "metadata": {},
     "output_type": "display_data"
    },
    {
     "data": {
      "text/html": [
       "<img src=\"https://cdn.wikimg.net/en/splatoonwiki/images/thumb/9/98/S3_Weapon_Main_N-ZAP_%2789.png/256px-S3_Weapon_Main_N-ZAP_%2789.png\"/>"
      ],
      "text/plain": [
       "<IPython.core.display.Image object>"
      ]
     },
     "metadata": {},
     "output_type": "display_data"
    },
    {
     "data": {
      "text/html": [
       "<img src=\"https://cdn.wikimg.net/en/splatoonwiki/images/thumb/8/81/S3_Weapon_Main_Nautilus_47.png/256px-S3_Weapon_Main_Nautilus_47.png\"/>"
      ],
      "text/plain": [
       "<IPython.core.display.Image object>"
      ]
     },
     "metadata": {},
     "output_type": "display_data"
    },
    {
     "data": {
      "text/html": [
       "<img src=\"https://cdn.wikimg.net/en/splatoonwiki/images/thumb/8/81/S3_Weapon_Main_Nautilus_79.png/256px-S3_Weapon_Main_Nautilus_79.png\"/>"
      ],
      "text/plain": [
       "<IPython.core.display.Image object>"
      ]
     },
     "metadata": {},
     "output_type": "display_data"
    },
    {
     "data": {
      "text/html": [
       "<img src=\"https://cdn.wikimg.net/en/splatoonwiki/images/thumb/b/b8/S3_Weapon_Main_Neo_Splash-o-matic.png/256px-S3_Weapon_Main_Neo_Splash-o-matic.png\"/>"
      ],
      "text/plain": [
       "<IPython.core.display.Image object>"
      ]
     },
     "metadata": {},
     "output_type": "display_data"
    },
    {
     "data": {
      "text/html": [
       "<img src=\"https://cdn.wikimg.net/en/splatoonwiki/images/thumb/c/c3/S3_Weapon_Main_Neo_Sploosh-o-matic.png/256px-S3_Weapon_Main_Neo_Sploosh-o-matic.png\"/>"
      ],
      "text/plain": [
       "<IPython.core.display.Image object>"
      ]
     },
     "metadata": {},
     "output_type": "display_data"
    },
    {
     "data": {
      "text/html": [
       "<img src=\"https://cdn.wikimg.net/en/splatoonwiki/images/thumb/8/80/S3_Weapon_Main_New_Squiffer.png/256px-S3_Weapon_Main_New_Squiffer.png\"/>"
      ],
      "text/plain": [
       "<IPython.core.display.Image object>"
      ]
     },
     "metadata": {},
     "output_type": "display_data"
    },
    {
     "data": {
      "text/html": [
       "<img src=\"https://cdn.wikimg.net/en/splatoonwiki/images/thumb/2/2c/S3_Weapon_Main_Octo_Shot_Replica.png/256px-S3_Weapon_Main_Octo_Shot_Replica.png\"/>"
      ],
      "text/plain": [
       "<IPython.core.display.Image object>"
      ]
     },
     "metadata": {},
     "output_type": "display_data"
    },
    {
     "data": {
      "text/html": [
       "<img src=\"https://cdn.wikimg.net/en/splatoonwiki/images/thumb/3/3d/S3_Weapon_Main_Octobrush.png/256px-S3_Weapon_Main_Octobrush.png\"/>"
      ],
      "text/plain": [
       "<IPython.core.display.Image object>"
      ]
     },
     "metadata": {},
     "output_type": "display_data"
    },
    {
     "data": {
      "text/html": [
       "<img src=\"https://cdn.wikimg.net/en/splatoonwiki/images/thumb/4/45/S3_Weapon_Main_Octobrush_Nouveau.png/256px-S3_Weapon_Main_Octobrush_Nouveau.png\"/>"
      ],
      "text/plain": [
       "<IPython.core.display.Image object>"
      ]
     },
     "metadata": {},
     "output_type": "display_data"
    },
    {
     "data": {
      "text/html": [
       "<img src=\"https://cdn.wikimg.net/en/splatoonwiki/images/thumb/7/7b/S3_Weapon_Main_Order_Blaster_Replica.png/256px-S3_Weapon_Main_Order_Blaster_Replica.png\"/>"
      ],
      "text/plain": [
       "<IPython.core.display.Image object>"
      ]
     },
     "metadata": {},
     "output_type": "display_data"
    },
    {
     "data": {
      "text/html": [
       "<img src=\"https://cdn.wikimg.net/en/splatoonwiki/images/thumb/6/61/S3_Weapon_Main_Order_Brella_Replica.png/256px-S3_Weapon_Main_Order_Brella_Replica.png\"/>"
      ],
      "text/plain": [
       "<IPython.core.display.Image object>"
      ]
     },
     "metadata": {},
     "output_type": "display_data"
    },
    {
     "data": {
      "text/html": [
       "<img src=\"https://cdn.wikimg.net/en/splatoonwiki/images/thumb/0/00/S3_Weapon_Main_Order_Charger_Replica.png/256px-S3_Weapon_Main_Order_Charger_Replica.png\"/>"
      ],
      "text/plain": [
       "<IPython.core.display.Image object>"
      ]
     },
     "metadata": {},
     "output_type": "display_data"
    },
    {
     "data": {
      "text/html": [
       "<img src=\"https://cdn.wikimg.net/en/splatoonwiki/images/thumb/5/50/S3_Weapon_Main_Order_Dualie_Replicas.png/256px-S3_Weapon_Main_Order_Dualie_Replicas.png\"/>"
      ],
      "text/plain": [
       "<IPython.core.display.Image object>"
      ]
     },
     "metadata": {},
     "output_type": "display_data"
    },
    {
     "data": {
      "text/html": [
       "<img src=\"https://cdn.wikimg.net/en/splatoonwiki/images/thumb/4/47/S3_Weapon_Main_Order_Roller_Replica.png/256px-S3_Weapon_Main_Order_Roller_Replica.png\"/>"
      ],
      "text/plain": [
       "<IPython.core.display.Image object>"
      ]
     },
     "metadata": {},
     "output_type": "display_data"
    },
    {
     "data": {
      "text/html": [
       "<img src=\"https://cdn.wikimg.net/en/splatoonwiki/images/thumb/e/e6/S3_Weapon_Main_Order_Shot_Replica.png/256px-S3_Weapon_Main_Order_Shot_Replica.png\"/>"
      ],
      "text/plain": [
       "<IPython.core.display.Image object>"
      ]
     },
     "metadata": {},
     "output_type": "display_data"
    },
    {
     "data": {
      "text/html": [
       "<img src=\"https://cdn.wikimg.net/en/splatoonwiki/images/thumb/a/aa/S3_Weapon_Main_Order_Slosher_Replica.png/256px-S3_Weapon_Main_Order_Slosher_Replica.png\"/>"
      ],
      "text/plain": [
       "<IPython.core.display.Image object>"
      ]
     },
     "metadata": {},
     "output_type": "display_data"
    },
    {
     "data": {
      "text/html": [
       "<img src=\"https://cdn.wikimg.net/en/splatoonwiki/images/thumb/b/b9/S3_Weapon_Main_Order_Splatana_Replica.png/256px-S3_Weapon_Main_Order_Splatana_Replica.png\"/>"
      ],
      "text/plain": [
       "<IPython.core.display.Image object>"
      ]
     },
     "metadata": {},
     "output_type": "display_data"
    },
    {
     "data": {
      "text/html": [
       "<img src=\"https://cdn.wikimg.net/en/splatoonwiki/images/thumb/c/ce/S3_Weapon_Main_Order_Splatling_Replica.png/256px-S3_Weapon_Main_Order_Splatling_Replica.png\"/>"
      ],
      "text/plain": [
       "<IPython.core.display.Image object>"
      ]
     },
     "metadata": {},
     "output_type": "display_data"
    },
    {
     "data": {
      "text/html": [
       "<img src=\"https://cdn.wikimg.net/en/splatoonwiki/images/thumb/2/24/S3_Weapon_Main_Order_Stringer_Replica.png/256px-S3_Weapon_Main_Order_Stringer_Replica.png\"/>"
      ],
      "text/plain": [
       "<IPython.core.display.Image object>"
      ]
     },
     "metadata": {},
     "output_type": "display_data"
    },
    {
     "data": {
      "text/html": [
       "<img src=\"https://cdn.wikimg.net/en/splatoonwiki/images/thumb/0/0a/S3_Weapon_Main_Orderbrush_Replica.png/256px-S3_Weapon_Main_Orderbrush_Replica.png\"/>"
      ],
      "text/plain": [
       "<IPython.core.display.Image object>"
      ]
     },
     "metadata": {},
     "output_type": "display_data"
    },
    {
     "data": {
      "text/html": [
       "<img src=\"https://cdn.wikimg.net/en/splatoonwiki/images/thumb/7/79/S3_Weapon_Main_Painbrush.png/256px-S3_Weapon_Main_Painbrush.png\"/>"
      ],
      "text/plain": [
       "<IPython.core.display.Image object>"
      ]
     },
     "metadata": {},
     "output_type": "display_data"
    },
    {
     "data": {
      "text/html": [
       "<img src=\"https://cdn.wikimg.net/en/splatoonwiki/images/thumb/5/54/S3_Weapon_Main_Painbrush_BRN-Z.png/256px-S3_Weapon_Main_Painbrush_BRN-Z.png\"/>"
      ],
      "text/plain": [
       "<IPython.core.display.Image object>"
      ]
     },
     "metadata": {},
     "output_type": "display_data"
    },
    {
     "data": {
      "text/html": [
       "<img src=\"https://cdn.wikimg.net/en/splatoonwiki/images/thumb/0/09/S3_Weapon_Main_Painbrush_Nouveau.png/256px-S3_Weapon_Main_Painbrush_Nouveau.png\"/>"
      ],
      "text/plain": [
       "<IPython.core.display.Image object>"
      ]
     },
     "metadata": {},
     "output_type": "display_data"
    },
    {
     "data": {
      "text/html": [
       "<img src=\"https://cdn.wikimg.net/en/splatoonwiki/images/thumb/1/1c/S3_Weapon_Main_Patternz_Undercover_Brella.png/256px-S3_Weapon_Main_Patternz_Undercover_Brella.png\"/>"
      ],
      "text/plain": [
       "<IPython.core.display.Image object>"
      ]
     },
     "metadata": {},
     "output_type": "display_data"
    },
    {
     "data": {
      "text/html": [
       "<img src=\"https://cdn.wikimg.net/en/splatoonwiki/images/thumb/0/06/S3_Weapon_Main_Planetz_Big_Swig_Roller.png/256px-S3_Weapon_Main_Planetz_Big_Swig_Roller.png\"/>"
      ],
      "text/plain": [
       "<IPython.core.display.Image object>"
      ]
     },
     "metadata": {},
     "output_type": "display_data"
    },
    {
     "data": {
      "text/html": [
       "<img src=\"https://cdn.wikimg.net/en/splatoonwiki/images/thumb/6/66/S3_Weapon_Main_REEF-LUX_450.png/256px-S3_Weapon_Main_REEF-LUX_450.png\"/>"
      ],
      "text/plain": [
       "<IPython.core.display.Image object>"
      ]
     },
     "metadata": {},
     "output_type": "display_data"
    },
    {
     "data": {
      "text/html": [
       "<img src=\"https://cdn.wikimg.net/en/splatoonwiki/images/thumb/a/ab/S3_Weapon_Main_REEF-LUX_450_Deco.png/256px-S3_Weapon_Main_REEF-LUX_450_Deco.png\"/>"
      ],
      "text/plain": [
       "<IPython.core.display.Image object>"
      ]
     },
     "metadata": {},
     "output_type": "display_data"
    },
    {
     "data": {
      "text/html": [
       "<img src=\"https://cdn.wikimg.net/en/splatoonwiki/images/thumb/1/18/S3_Weapon_Main_REEF-LUX_450_MIL-K.png/256px-S3_Weapon_Main_REEF-LUX_450_MIL-K.png\"/>"
      ],
      "text/plain": [
       "<IPython.core.display.Image object>"
      ]
     },
     "metadata": {},
     "output_type": "display_data"
    },
    {
     "data": {
      "text/html": [
       "<img src=\"https://cdn.wikimg.net/en/splatoonwiki/images/thumb/1/1d/S3_Weapon_Main_Range_Blaster.png/256px-S3_Weapon_Main_Range_Blaster.png\"/>"
      ],
      "text/plain": [
       "<IPython.core.display.Image object>"
      ]
     },
     "metadata": {},
     "output_type": "display_data"
    },
    {
     "data": {
      "text/html": [
       "<img src=\"https://cdn.wikimg.net/en/splatoonwiki/images/thumb/6/6a/S3_Weapon_Main_Rapid_Blaster.png/256px-S3_Weapon_Main_Rapid_Blaster.png\"/>"
      ],
      "text/plain": [
       "<IPython.core.display.Image object>"
      ]
     },
     "metadata": {},
     "output_type": "display_data"
    },
    {
     "data": {
      "text/html": [
       "<img src=\"https://cdn.wikimg.net/en/splatoonwiki/images/thumb/c/cb/S3_Weapon_Main_Rapid_Blaster_Deco.png/256px-S3_Weapon_Main_Rapid_Blaster_Deco.png\"/>"
      ],
      "text/plain": [
       "<IPython.core.display.Image object>"
      ]
     },
     "metadata": {},
     "output_type": "display_data"
    },
    {
     "data": {
      "text/html": [
       "<img src=\"https://cdn.wikimg.net/en/splatoonwiki/images/thumb/c/c6/S3_Weapon_Main_Rapid_Blaster_Pro.png/256px-S3_Weapon_Main_Rapid_Blaster_Pro.png\"/>"
      ],
      "text/plain": [
       "<IPython.core.display.Image object>"
      ]
     },
     "metadata": {},
     "output_type": "display_data"
    },
    {
     "data": {
      "text/html": [
       "<img src=\"https://cdn.wikimg.net/en/splatoonwiki/images/thumb/e/e4/S3_Weapon_Main_Rapid_Blaster_Pro_Deco.png/256px-S3_Weapon_Main_Rapid_Blaster_Pro_Deco.png\"/>"
      ],
      "text/plain": [
       "<IPython.core.display.Image object>"
      ]
     },
     "metadata": {},
     "output_type": "display_data"
    },
    {
     "data": {
      "text/html": [
       "<img src=\"https://cdn.wikimg.net/en/splatoonwiki/images/thumb/0/0a/S3_Weapon_Main_Rapid_Blaster_Pro_WNT-R.png/256px-S3_Weapon_Main_Rapid_Blaster_Pro_WNT-R.png\"/>"
      ],
      "text/plain": [
       "<IPython.core.display.Image object>"
      ]
     },
     "metadata": {},
     "output_type": "display_data"
    },
    {
     "data": {
      "text/html": [
       "<img src=\"https://cdn.wikimg.net/en/splatoonwiki/images/thumb/d/d0/S3_Weapon_Main_Recycled_Brella_24_Mk_I.png/256px-S3_Weapon_Main_Recycled_Brella_24_Mk_I.png\"/>"
      ],
      "text/plain": [
       "<IPython.core.display.Image object>"
      ]
     },
     "metadata": {},
     "output_type": "display_data"
    },
    {
     "data": {
      "text/html": [
       "<img src=\"https://cdn.wikimg.net/en/splatoonwiki/images/thumb/9/94/S3_Weapon_Main_Recycled_Brella_24_Mk_II.png/256px-S3_Weapon_Main_Recycled_Brella_24_Mk_II.png\"/>"
      ],
      "text/plain": [
       "<IPython.core.display.Image object>"
      ]
     },
     "metadata": {},
     "output_type": "display_data"
    },
    {
     "data": {
      "text/html": [
       "<img src=\"https://cdn.wikimg.net/en/splatoonwiki/images/thumb/2/2f/S3_Weapon_Main_S-BLAST_%2791.png/256px-S3_Weapon_Main_S-BLAST_%2791.png\"/>"
      ],
      "text/plain": [
       "<IPython.core.display.Image object>"
      ]
     },
     "metadata": {},
     "output_type": "display_data"
    },
    {
     "data": {
      "text/html": [
       "<img src=\"https://cdn.wikimg.net/en/splatoonwiki/images/thumb/2/2d/S3_Weapon_Main_S-BLAST_%2792.png/256px-S3_Weapon_Main_S-BLAST_%2792.png\"/>"
      ],
      "text/plain": [
       "<IPython.core.display.Image object>"
      ]
     },
     "metadata": {},
     "output_type": "display_data"
    },
    {
     "data": {
      "text/html": [
       "<img src=\"https://cdn.wikimg.net/en/splatoonwiki/images/thumb/4/42/S3_Weapon_Main_Slosher.png/256px-S3_Weapon_Main_Slosher.png\"/>"
      ],
      "text/plain": [
       "<IPython.core.display.Image object>"
      ]
     },
     "metadata": {},
     "output_type": "display_data"
    },
    {
     "data": {
      "text/html": [
       "<img src=\"https://cdn.wikimg.net/en/splatoonwiki/images/thumb/a/a5/S3_Weapon_Main_Slosher_Deco.png/256px-S3_Weapon_Main_Slosher_Deco.png\"/>"
      ],
      "text/plain": [
       "<IPython.core.display.Image object>"
      ]
     },
     "metadata": {},
     "output_type": "display_data"
    },
    {
     "data": {
      "text/html": [
       "<img src=\"https://cdn.wikimg.net/en/splatoonwiki/images/thumb/3/38/S3_Weapon_Main_Sloshing_Machine.png/256px-S3_Weapon_Main_Sloshing_Machine.png\"/>"
      ],
      "text/plain": [
       "<IPython.core.display.Image object>"
      ]
     },
     "metadata": {},
     "output_type": "display_data"
    },
    {
     "data": {
      "text/html": [
       "<img src=\"https://cdn.wikimg.net/en/splatoonwiki/images/thumb/d/d5/S3_Weapon_Main_Sloshing_Machine_Neo.png/256px-S3_Weapon_Main_Sloshing_Machine_Neo.png\"/>"
      ],
      "text/plain": [
       "<IPython.core.display.Image object>"
      ]
     },
     "metadata": {},
     "output_type": "display_data"
    },
    {
     "data": {
      "text/html": [
       "<img src=\"https://cdn.wikimg.net/en/splatoonwiki/images/thumb/0/0a/S3_Weapon_Main_Snipewriter_5B.png/256px-S3_Weapon_Main_Snipewriter_5B.png\"/>"
      ],
      "text/plain": [
       "<IPython.core.display.Image object>"
      ]
     },
     "metadata": {},
     "output_type": "display_data"
    },
    {
     "data": {
      "text/html": [
       "<img src=\"https://cdn.wikimg.net/en/splatoonwiki/images/thumb/3/34/S3_Weapon_Main_Snipewriter_5H.png/256px-S3_Weapon_Main_Snipewriter_5H.png\"/>"
      ],
      "text/plain": [
       "<IPython.core.display.Image object>"
      ]
     },
     "metadata": {},
     "output_type": "display_data"
    },
    {
     "data": {
      "text/html": [
       "<img src=\"https://cdn.wikimg.net/en/splatoonwiki/images/thumb/8/8b/S3_Weapon_Main_Sorella_Brella.png/256px-S3_Weapon_Main_Sorella_Brella.png\"/>"
      ],
      "text/plain": [
       "<IPython.core.display.Image object>"
      ]
     },
     "metadata": {},
     "output_type": "display_data"
    },
    {
     "data": {
      "text/html": [
       "<img src=\"https://cdn.wikimg.net/en/splatoonwiki/images/thumb/7/7b/S3_Weapon_Main_Splash-o-matic.png/256px-S3_Weapon_Main_Splash-o-matic.png\"/>"
      ],
      "text/plain": [
       "<IPython.core.display.Image object>"
      ]
     },
     "metadata": {},
     "output_type": "display_data"
    },
    {
     "data": {
      "text/html": [
       "<img src=\"https://cdn.wikimg.net/en/splatoonwiki/images/thumb/f/f4/S3_Weapon_Main_Splash-o-matic_GCK-O.png/256px-S3_Weapon_Main_Splash-o-matic_GCK-O.png\"/>"
      ],
      "text/plain": [
       "<IPython.core.display.Image object>"
      ]
     },
     "metadata": {},
     "output_type": "display_data"
    },
    {
     "data": {
      "text/html": [
       "<img src=\"https://cdn.wikimg.net/en/splatoonwiki/images/thumb/2/27/S3_Weapon_Main_Splat_Brella.png/256px-S3_Weapon_Main_Splat_Brella.png\"/>"
      ],
      "text/plain": [
       "<IPython.core.display.Image object>"
      ]
     },
     "metadata": {},
     "output_type": "display_data"
    },
    {
     "data": {
      "text/html": [
       "<img src=\"https://cdn.wikimg.net/en/splatoonwiki/images/thumb/4/41/S3_Weapon_Main_Splat_Charger.png/256px-S3_Weapon_Main_Splat_Charger.png\"/>"
      ],
      "text/plain": [
       "<IPython.core.display.Image object>"
      ]
     },
     "metadata": {},
     "output_type": "display_data"
    },
    {
     "data": {
      "text/html": [
       "<img src=\"https://cdn.wikimg.net/en/splatoonwiki/images/thumb/4/40/S3_Weapon_Main_Splat_Charger_CAM-O.png/256px-S3_Weapon_Main_Splat_Charger_CAM-O.png\"/>"
      ],
      "text/plain": [
       "<IPython.core.display.Image object>"
      ]
     },
     "metadata": {},
     "output_type": "display_data"
    },
    {
     "data": {
      "text/html": [
       "<img src=\"https://cdn.wikimg.net/en/splatoonwiki/images/thumb/e/e8/S3_Weapon_Main_Splat_Dualies.png/256px-S3_Weapon_Main_Splat_Dualies.png\"/>"
      ],
      "text/plain": [
       "<IPython.core.display.Image object>"
      ]
     },
     "metadata": {},
     "output_type": "display_data"
    },
    {
     "data": {
      "text/html": [
       "<img src=\"https://cdn.wikimg.net/en/splatoonwiki/images/thumb/c/c7/S3_Weapon_Main_Splat_Roller.png/256px-S3_Weapon_Main_Splat_Roller.png\"/>"
      ],
      "text/plain": [
       "<IPython.core.display.Image object>"
      ]
     },
     "metadata": {},
     "output_type": "display_data"
    },
    {
     "data": {
      "text/html": [
       "<img src=\"https://cdn.wikimg.net/en/splatoonwiki/images/thumb/4/4d/S3_Weapon_Main_Splatana_Stamper.png/256px-S3_Weapon_Main_Splatana_Stamper.png\"/>"
      ],
      "text/plain": [
       "<IPython.core.display.Image object>"
      ]
     },
     "metadata": {},
     "output_type": "display_data"
    },
    {
     "data": {
      "text/html": [
       "<img src=\"https://cdn.wikimg.net/en/splatoonwiki/images/thumb/7/71/S3_Weapon_Main_Splatana_Stamper_Nouveau.png/256px-S3_Weapon_Main_Splatana_Stamper_Nouveau.png\"/>"
      ],
      "text/plain": [
       "<IPython.core.display.Image object>"
      ]
     },
     "metadata": {},
     "output_type": "display_data"
    },
    {
     "data": {
      "text/html": [
       "<img src=\"https://cdn.wikimg.net/en/splatoonwiki/images/thumb/e/e5/S3_Weapon_Main_Splatana_Wiper.png/256px-S3_Weapon_Main_Splatana_Wiper.png\"/>"
      ],
      "text/plain": [
       "<IPython.core.display.Image object>"
      ]
     },
     "metadata": {},
     "output_type": "display_data"
    },
    {
     "data": {
      "text/html": [
       "<img src=\"https://cdn.wikimg.net/en/splatoonwiki/images/thumb/4/4a/S3_Weapon_Main_Splatana_Wiper_Deco.png/256px-S3_Weapon_Main_Splatana_Wiper_Deco.png\"/>"
      ],
      "text/plain": [
       "<IPython.core.display.Image object>"
      ]
     },
     "metadata": {},
     "output_type": "display_data"
    },
    {
     "data": {
      "text/html": [
       "<img src=\"https://cdn.wikimg.net/en/splatoonwiki/images/thumb/7/79/S3_Weapon_Main_Splatana_Wiper_RUS-T.png/256px-S3_Weapon_Main_Splatana_Wiper_RUS-T.png\"/>"
      ],
      "text/plain": [
       "<IPython.core.display.Image object>"
      ]
     },
     "metadata": {},
     "output_type": "display_data"
    },
    {
     "data": {
      "text/html": [
       "<img src=\"https://cdn.wikimg.net/en/splatoonwiki/images/thumb/b/b2/S3_Weapon_Main_Splatterscope.png/256px-S3_Weapon_Main_Splatterscope.png\"/>"
      ],
      "text/plain": [
       "<IPython.core.display.Image object>"
      ]
     },
     "metadata": {},
     "output_type": "display_data"
    },
    {
     "data": {
      "text/html": [
       "<img src=\"https://cdn.wikimg.net/en/splatoonwiki/images/thumb/0/0f/S3_Weapon_Main_Splatterscope_CAM-O.png/256px-S3_Weapon_Main_Splatterscope_CAM-O.png\"/>"
      ],
      "text/plain": [
       "<IPython.core.display.Image object>"
      ]
     },
     "metadata": {},
     "output_type": "display_data"
    },
    {
     "data": {
      "text/html": [
       "<img src=\"https://cdn.wikimg.net/en/splatoonwiki/images/thumb/b/bf/S3_Weapon_Main_Splattershot.png/256px-S3_Weapon_Main_Splattershot.png\"/>"
      ],
      "text/plain": [
       "<IPython.core.display.Image object>"
      ]
     },
     "metadata": {},
     "output_type": "display_data"
    },
    {
     "data": {
      "text/html": [
       "<img src=\"https://cdn.wikimg.net/en/splatoonwiki/images/thumb/1/1e/S3_Weapon_Main_Splattershot_Jr..png/256px-S3_Weapon_Main_Splattershot_Jr..png\"/>"
      ],
      "text/plain": [
       "<IPython.core.display.Image object>"
      ]
     },
     "metadata": {},
     "output_type": "display_data"
    },
    {
     "data": {
      "text/html": [
       "<img src=\"https://cdn.wikimg.net/en/splatoonwiki/images/thumb/1/10/S3_Weapon_Main_Splattershot_Nova.png/256px-S3_Weapon_Main_Splattershot_Nova.png\"/>"
      ],
      "text/plain": [
       "<IPython.core.display.Image object>"
      ]
     },
     "metadata": {},
     "output_type": "display_data"
    },
    {
     "data": {
      "text/html": [
       "<img src=\"https://cdn.wikimg.net/en/splatoonwiki/images/thumb/7/77/S3_Weapon_Main_Splattershot_Pro.png/256px-S3_Weapon_Main_Splattershot_Pro.png\"/>"
      ],
      "text/plain": [
       "<IPython.core.display.Image object>"
      ]
     },
     "metadata": {},
     "output_type": "display_data"
    },
    {
     "data": {
      "text/html": [
       "<img src=\"https://cdn.wikimg.net/en/splatoonwiki/images/thumb/7/77/S3_Weapon_Main_Splattershot_Pro_FRZ-N.png/256px-S3_Weapon_Main_Splattershot_Pro_FRZ-N.png\"/>"
      ],
      "text/plain": [
       "<IPython.core.display.Image object>"
      ]
     },
     "metadata": {},
     "output_type": "display_data"
    },
    {
     "data": {
      "text/html": [
       "<img src=\"https://cdn.wikimg.net/en/splatoonwiki/images/thumb/5/59/S3_Weapon_Main_Sploosh-o-matic.png/256px-S3_Weapon_Main_Sploosh-o-matic.png\"/>"
      ],
      "text/plain": [
       "<IPython.core.display.Image object>"
      ]
     },
     "metadata": {},
     "output_type": "display_data"
    },
    {
     "data": {
      "text/html": [
       "<img src=\"https://cdn.wikimg.net/en/splatoonwiki/images/thumb/c/cb/S3_Weapon_Main_Squeezer.png/256px-S3_Weapon_Main_Squeezer.png\"/>"
      ],
      "text/plain": [
       "<IPython.core.display.Image object>"
      ]
     },
     "metadata": {},
     "output_type": "display_data"
    },
    {
     "data": {
      "text/html": [
       "<img src=\"https://cdn.wikimg.net/en/splatoonwiki/images/thumb/c/ca/S3_Weapon_Main_Starz_Dynamo_Roller.png/256px-S3_Weapon_Main_Starz_Dynamo_Roller.png\"/>"
      ],
      "text/plain": [
       "<IPython.core.display.Image object>"
      ]
     },
     "metadata": {},
     "output_type": "display_data"
    },
    {
     "data": {
      "text/html": [
       "<img src=\"https://cdn.wikimg.net/en/splatoonwiki/images/thumb/0/0d/S3_Weapon_Main_Stickerz_Splatana_Stamper.png/256px-S3_Weapon_Main_Stickerz_Splatana_Stamper.png\"/>"
      ],
      "text/plain": [
       "<IPython.core.display.Image object>"
      ]
     },
     "metadata": {},
     "output_type": "display_data"
    },
    {
     "data": {
      "text/html": [
       "<img src=\"https://cdn.wikimg.net/en/splatoonwiki/images/thumb/1/1e/S3_Weapon_Main_Tenta_Brella.png/256px-S3_Weapon_Main_Tenta_Brella.png\"/>"
      ],
      "text/plain": [
       "<IPython.core.display.Image object>"
      ]
     },
     "metadata": {},
     "output_type": "display_data"
    },
    {
     "data": {
      "text/html": [
       "<img src=\"https://cdn.wikimg.net/en/splatoonwiki/images/thumb/0/09/S3_Weapon_Main_Tenta_Brella_CRE-M.png/256px-S3_Weapon_Main_Tenta_Brella_CRE-M.png\"/>"
      ],
      "text/plain": [
       "<IPython.core.display.Image object>"
      ]
     },
     "metadata": {},
     "output_type": "display_data"
    },
    {
     "data": {
      "text/html": [
       "<img src=\"https://cdn.wikimg.net/en/splatoonwiki/images/thumb/3/3f/S3_Weapon_Main_Tenta_Sorella_Brella.png/256px-S3_Weapon_Main_Tenta_Sorella_Brella.png\"/>"
      ],
      "text/plain": [
       "<IPython.core.display.Image object>"
      ]
     },
     "metadata": {},
     "output_type": "display_data"
    },
    {
     "data": {
      "text/html": [
       "<img src=\"https://cdn.wikimg.net/en/splatoonwiki/images/thumb/f/f1/S3_Weapon_Main_Tentatek_Splattershot.png/256px-S3_Weapon_Main_Tentatek_Splattershot.png\"/>"
      ],
      "text/plain": [
       "<IPython.core.display.Image object>"
      ]
     },
     "metadata": {},
     "output_type": "display_data"
    },
    {
     "data": {
      "text/html": [
       "<img src=\"https://cdn.wikimg.net/en/splatoonwiki/images/thumb/1/13/S3_Weapon_Main_Torrentz_Hydra_Splatling.png/256px-S3_Weapon_Main_Torrentz_Hydra_Splatling.png\"/>"
      ],
      "text/plain": [
       "<IPython.core.display.Image object>"
      ]
     },
     "metadata": {},
     "output_type": "display_data"
    },
    {
     "data": {
      "text/html": [
       "<img src=\"https://cdn.wikimg.net/en/splatoonwiki/images/thumb/d/dc/S3_Weapon_Main_Tri-Slosher.png/256px-S3_Weapon_Main_Tri-Slosher.png\"/>"
      ],
      "text/plain": [
       "<IPython.core.display.Image object>"
      ]
     },
     "metadata": {},
     "output_type": "display_data"
    },
    {
     "data": {
      "text/html": [
       "<img src=\"https://cdn.wikimg.net/en/splatoonwiki/images/thumb/7/7d/S3_Weapon_Main_Tri-Slosher_ASH-N.png/256px-S3_Weapon_Main_Tri-Slosher_ASH-N.png\"/>"
      ],
      "text/plain": [
       "<IPython.core.display.Image object>"
      ]
     },
     "metadata": {},
     "output_type": "display_data"
    },
    {
     "data": {
      "text/html": [
       "<img src=\"https://cdn.wikimg.net/en/splatoonwiki/images/thumb/7/74/S3_Weapon_Main_Tri-Slosher_Nouveau.png/256px-S3_Weapon_Main_Tri-Slosher_Nouveau.png\"/>"
      ],
      "text/plain": [
       "<IPython.core.display.Image object>"
      ]
     },
     "metadata": {},
     "output_type": "display_data"
    },
    {
     "data": {
      "text/html": [
       "<img src=\"https://cdn.wikimg.net/en/splatoonwiki/images/thumb/4/49/S3_Weapon_Main_Tri-Stringer.png/256px-S3_Weapon_Main_Tri-Stringer.png\"/>"
      ],
      "text/plain": [
       "<IPython.core.display.Image object>"
      ]
     },
     "metadata": {},
     "output_type": "display_data"
    },
    {
     "data": {
      "text/html": [
       "<img src=\"https://cdn.wikimg.net/en/splatoonwiki/images/thumb/f/fd/S3_Weapon_Main_Twinklez_Splat_Dualies.png/256px-S3_Weapon_Main_Twinklez_Splat_Dualies.png\"/>"
      ],
      "text/plain": [
       "<IPython.core.display.Image object>"
      ]
     },
     "metadata": {},
     "output_type": "display_data"
    },
    {
     "data": {
      "text/html": [
       "<img src=\"https://cdn.wikimg.net/en/splatoonwiki/images/thumb/5/5d/S3_Weapon_Main_Undercover_Brella.png/256px-S3_Weapon_Main_Undercover_Brella.png\"/>"
      ],
      "text/plain": [
       "<IPython.core.display.Image object>"
      ]
     },
     "metadata": {},
     "output_type": "display_data"
    },
    {
     "data": {
      "text/html": [
       "<img src=\"https://cdn.wikimg.net/en/splatoonwiki/images/thumb/9/95/S3_Weapon_Main_Undercover_Sorella_Brella.png/256px-S3_Weapon_Main_Undercover_Sorella_Brella.png\"/>"
      ],
      "text/plain": [
       "<IPython.core.display.Image object>"
      ]
     },
     "metadata": {},
     "output_type": "display_data"
    },
    {
     "data": {
      "text/html": [
       "<img src=\"https://cdn.wikimg.net/en/splatoonwiki/images/thumb/3/37/S3_Weapon_Main_Wellstring_V.png/256px-S3_Weapon_Main_Wellstring_V.png\"/>"
      ],
      "text/plain": [
       "<IPython.core.display.Image object>"
      ]
     },
     "metadata": {},
     "output_type": "display_data"
    },
    {
     "data": {
      "text/html": [
       "<img src=\"https://cdn.wikimg.net/en/splatoonwiki/images/thumb/a/a6/S3_Weapon_Main_Z%2BF_Splat_Charger.png/256px-S3_Weapon_Main_Z%2BF_Splat_Charger.png\"/>"
      ],
      "text/plain": [
       "<IPython.core.display.Image object>"
      ]
     },
     "metadata": {},
     "output_type": "display_data"
    },
    {
     "data": {
      "text/html": [
       "<img src=\"https://cdn.wikimg.net/en/splatoonwiki/images/thumb/8/86/S3_Weapon_Main_Z%2BF_Splatterscope.png/256px-S3_Weapon_Main_Z%2BF_Splatterscope.png\"/>"
      ],
      "text/plain": [
       "<IPython.core.display.Image object>"
      ]
     },
     "metadata": {},
     "output_type": "display_data"
    },
    {
     "data": {
      "text/html": [
       "<img src=\"https://cdn.wikimg.net/en/splatoonwiki/images/thumb/0/05/S3_Weapon_Main_Zink_Mini_Splatling.png/256px-S3_Weapon_Main_Zink_Mini_Splatling.png\"/>"
      ],
      "text/plain": [
       "<IPython.core.display.Image object>"
      ]
     },
     "metadata": {},
     "output_type": "display_data"
    }
   ],
   "source": [
    "import pandas as pd\n",
    "df = pd.read_csv('../../data/weapon_img.csv')\n",
    "\n",
    "from IPython.display import Image, display\n",
    "\n",
    "for url in df['Image URL']:\n",
    "    display(Image(url=url))"
   ]
  }
 ],
 "metadata": {
  "kernelspec": {
   "display_name": ".venv",
   "language": "python",
   "name": "python3"
  },
  "language_info": {
   "codemirror_mode": {
    "name": "ipython",
    "version": 3
   },
   "file_extension": ".py",
   "mimetype": "text/x-python",
   "name": "python",
   "nbconvert_exporter": "python",
   "pygments_lexer": "ipython3",
   "version": "3.11.0"
  }
 },
 "nbformat": 4,
 "nbformat_minor": 5
}
